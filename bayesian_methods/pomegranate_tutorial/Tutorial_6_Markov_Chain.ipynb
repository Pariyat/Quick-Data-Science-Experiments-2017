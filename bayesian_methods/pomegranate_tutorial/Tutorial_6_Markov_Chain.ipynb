{
 "cells": [
  {
   "cell_type": "markdown",
   "metadata": {},
   "source": [
    "[src](https://github.com/jmschrei/pomegranate/blob/master/tutorials/Tutorial_6_Markov_Chain.ipynb)"
   ]
  },
  {
   "cell_type": "code",
   "execution_count": 1,
   "metadata": {},
   "outputs": [
    {
     "name": "stdout",
     "output_type": "stream",
     "text": [
      "Populating the interactive namespace from numpy and matplotlib\n"
     ]
    },
    {
     "name": "stderr",
     "output_type": "stream",
     "text": [
      "/usr/local/lib/python2.7/site-packages/IPython/core/magics/pylab.py:161: UserWarning: pylab import has clobbered these variables: ['random', 'log']\n",
      "`%matplotlib` prevents importing * from pylab and numpy\n",
      "  \"\\n`%matplotlib` prevents importing * from pylab and numpy\"\n"
     ]
    }
   ],
   "source": [
    "from pomegranate import *\n",
    "%pylab inline"
   ]
  },
  {
   "cell_type": "code",
   "execution_count": 2,
   "metadata": {
    "collapsed": true
   },
   "outputs": [],
   "source": [
    "\n",
    "d1 = DiscreteDistribution({'A': 0.10, 'C': 0.40, 'G': 0.40, 'T': 0.10})\n",
    "d2 = ConditionalProbabilityTable([['A', 'A', 0.10],\n",
    "                                ['A', 'C', 0.50],\n",
    "                                ['A', 'G', 0.30],\n",
    "                                ['A', 'T', 0.10],\n",
    "                                ['C', 'A', 0.10],\n",
    "                                ['C', 'C', 0.40],\n",
    "                                ['C', 'T', 0.40],\n",
    "                                ['C', 'G', 0.10],\n",
    "                                ['G', 'A', 0.05],\n",
    "                                ['G', 'C', 0.45],\n",
    "                                ['G', 'G', 0.45],\n",
    "                                ['G', 'T', 0.05],\n",
    "                                ['T', 'A', 0.20],\n",
    "                                ['T', 'C', 0.30],\n",
    "                                ['T', 'G', 0.30],\n",
    "                                ['T', 'T', 0.20]], [d1])\n",
    "\n",
    "clf = MarkovChain([d1, d2])"
   ]
  },
  {
   "cell_type": "code",
   "execution_count": 6,
   "metadata": {
    "scrolled": false
   },
   "outputs": [
    {
     "name": "stdout",
     "output_type": "stream",
     "text": [
      "{\n",
      "    \"distributions\" : [\n",
      "        {\n",
      "            \"frozen\" : false,\n",
      "            \"class\" : \"Distribution\",\n",
      "            \"parameters\" : [\n",
      "                {\n",
      "                    \"A\" : 0.1,\n",
      "                    \"C\" : 0.4,\n",
      "                    \"T\" : 0.1,\n",
      "                    \"G\" : 0.4\n",
      "                }\n",
      "            ],\n",
      "            \"name\" : \"DiscreteDistribution\"\n",
      "        },\n",
      "        {\n",
      "            \"table\" : [\n",
      "                [\n",
      "                    \"A\",\n",
      "                    \"A\",\n",
      "                    \"0.1\"\n",
      "                ],\n",
      "                [\n",
      "                    \"A\",\n",
      "                    \"C\",\n",
      "                    \"0.5\"\n",
      "                ],\n",
      "                [\n",
      "                    \"A\",\n",
      "                    \"G\",\n",
      "                    \"0.3\"\n",
      "                ],\n",
      "                [\n",
      "                    \"A\",\n",
      "                    \"T\",\n",
      "                    \"0.1\"\n",
      "                ],\n",
      "                [\n",
      "                    \"C\",\n",
      "                    \"A\",\n",
      "                    \"0.1\"\n",
      "                ],\n",
      "                [\n",
      "                    \"C\",\n",
      "                    \"C\",\n",
      "                    \"0.4\"\n",
      "                ],\n",
      "                [\n",
      "                    \"C\",\n",
      "                    \"T\",\n",
      "                    \"0.4\"\n",
      "                ],\n",
      "                [\n",
      "                    \"C\",\n",
      "                    \"G\",\n",
      "                    \"0.1\"\n",
      "                ],\n",
      "                [\n",
      "                    \"G\",\n",
      "                    \"A\",\n",
      "                    \"0.05\"\n",
      "                ],\n",
      "                [\n",
      "                    \"G\",\n",
      "                    \"C\",\n",
      "                    \"0.45\"\n",
      "                ],\n",
      "                [\n",
      "                    \"G\",\n",
      "                    \"G\",\n",
      "                    \"0.45\"\n",
      "                ],\n",
      "                [\n",
      "                    \"G\",\n",
      "                    \"T\",\n",
      "                    \"0.05\"\n",
      "                ],\n",
      "                [\n",
      "                    \"T\",\n",
      "                    \"A\",\n",
      "                    \"0.2\"\n",
      "                ],\n",
      "                [\n",
      "                    \"T\",\n",
      "                    \"C\",\n",
      "                    \"0.3\"\n",
      "                ],\n",
      "                [\n",
      "                    \"T\",\n",
      "                    \"G\",\n",
      "                    \"0.3\"\n",
      "                ],\n",
      "                [\n",
      "                    \"T\",\n",
      "                    \"T\",\n",
      "                    \"0.2\"\n",
      "                ]\n",
      "            ],\n",
      "            \"parents\" : [\n",
      "                {\n",
      "                    \"frozen\" : false,\n",
      "                    \"class\" : \"Distribution\",\n",
      "                    \"parameters\" : [\n",
      "                        {\n",
      "                            \"A\" : 0.1,\n",
      "                            \"C\" : 0.4,\n",
      "                            \"T\" : 0.1,\n",
      "                            \"G\" : 0.4\n",
      "                        }\n",
      "                    ],\n",
      "                    \"name\" : \"DiscreteDistribution\"\n",
      "                }\n",
      "            ],\n",
      "            \"class\" : \"Distribution\",\n",
      "            \"name\" : \"ConditionalProbabilityTable\"\n",
      "        }\n",
      "    ],\n",
      "    \"class\" : \"MarkovChain\"\n",
      "}\n"
     ]
    }
   ],
   "source": [
    "print clf.to_json()"
   ]
  },
  {
   "cell_type": "code",
   "execution_count": null,
   "metadata": {
    "collapsed": true
   },
   "outputs": [],
   "source": []
  }
 ],
 "metadata": {
  "kernelspec": {
   "display_name": "Python 2",
   "language": "python",
   "name": "python2"
  },
  "language_info": {
   "codemirror_mode": {
    "name": "ipython",
    "version": 2
   },
   "file_extension": ".py",
   "mimetype": "text/x-python",
   "name": "python",
   "nbconvert_exporter": "python",
   "pygments_lexer": "ipython2",
   "version": "2.7.13"
  }
 },
 "nbformat": 4,
 "nbformat_minor": 2
}
