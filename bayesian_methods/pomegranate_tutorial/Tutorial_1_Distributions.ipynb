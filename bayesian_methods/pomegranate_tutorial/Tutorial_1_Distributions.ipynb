{
 "cells": [
  {
   "cell_type": "markdown",
   "metadata": {},
   "source": [
    "[src](https://github.com/jmschrei/pomegranate/blob/master/tutorials/Tutorial_1_Distributions.ipynb)"
   ]
  },
  {
   "cell_type": "code",
   "execution_count": 1,
   "metadata": {},
   "outputs": [
    {
     "name": "stdout",
     "output_type": "stream",
     "text": [
      "Populating the interactive namespace from numpy and matplotlib\n"
     ]
    },
    {
     "name": "stderr",
     "output_type": "stream",
     "text": [
      "/usr/local/lib/python2.7/site-packages/IPython/core/magics/pylab.py:161: UserWarning: pylab import has clobbered these variables: ['random', 'log']\n",
      "`%matplotlib` prevents importing * from pylab and numpy\n",
      "  \"\\n`%matplotlib` prevents importing * from pylab and numpy\"\n"
     ]
    }
   ],
   "source": [
    "from pomegranate import *\n",
    "%pylab inline"
   ]
  },
  {
   "cell_type": "code",
   "execution_count": 2,
   "metadata": {},
   "outputs": [
    {
     "data": {
      "image/png": "[encoded data removed]",
      "text/plain": [
       "<matplotlib.figure.Figure at 0x10da3b650>"
      ]
     },
     "metadata": {},
     "output_type": "display_data"
    }
   ],
   "source": [
    "d = NormalDistribution( 5, 2 )\n",
    "d.plot( n=100000, edgecolor='c', color='c', bins=50 )"
   ]
  },
  {
   "cell_type": "code",
   "execution_count": 3,
   "metadata": {},
   "outputs": [
    {
     "name": "stdout",
     "output_type": "stream",
     "text": [
      "-3.61208571376\n",
      "-1.61208571376\n",
      "-3.61208571376\n"
     ]
    }
   ],
   "source": [
    "print d.log_probability( 1 )\n",
    "print d.log_probability( 5 )\n",
    "print d.log_probability( 9 )"
   ]
  },
  {
   "cell_type": "code",
   "execution_count": 5,
   "metadata": {},
   "outputs": [
    {
     "name": "stdout",
     "output_type": "stream",
     "text": [
      "[8.997891580657793, 0.40074541401247943]\n"
     ]
    },
    {
     "data": {
      "image/png": "[encoded data removed]",
      "text/plain": [
       "<matplotlib.figure.Figure at 0x10b554cd0>"
      ]
     },
     "metadata": {},
     "output_type": "display_data"
    }
   ],
   "source": [
    "data = np.random.randn(10000) * 0.4 + 9\n",
    "d.fit( data )\n",
    "d.plot( n=100000, edgecolor='c', color='c', bins=50 )\n",
    "print d.parameters"
   ]
  },
  {
   "cell_type": "code",
   "execution_count": 6,
   "metadata": {},
   "outputs": [
    {
     "name": "stdout",
     "output_type": "stream",
     "text": [
      "d -- mu: 8.99789158066 sigma 0.400745414012\n",
      "e -- mu: 104.49894579 sigma 0.700372707006\n"
     ]
    }
   ],
   "source": [
    "d = NormalDistribution( 10, 1 )\n",
    "e = NormalDistribution( 200, 1 )\n",
    "\n",
    "d.fit( data, inertia=0.0 ) # The default setting\n",
    "e.fit( data, inertia=0.5 )\n",
    "\n",
    "print \"d -- mu: {} sigma {}\".format( *d.parameters )\n",
    "print \"e -- mu: {} sigma {}\".format( *e.parameters )"
   ]
  },
  {
   "cell_type": "code",
   "execution_count": 9,
   "metadata": {},
   "outputs": [
    {
     "name": "stdout",
     "output_type": "stream",
     "text": [
      "d -- mu: 8.99789158066 sigma 0.400745414013\n"
     ]
    }
   ],
   "source": [
    "d = NormalDistribution( 105, 12 )\n",
    "\n",
    "for i in range(10):\n",
    "    d.summarize( data[i::10] )\n",
    "\n",
    "d.from_summaries()\n",
    "print \"d -- mu: {} sigma {}\".format( *d.parameters )"
   ]
  },
  {
   "cell_type": "code",
   "execution_count": 10,
   "metadata": {},
   "outputs": [
    {
     "data": {
      "text/plain": [
       "(array([    4.,    10.,    21.,    56.,   113.,   186.,   324.,   499.,\n",
       "          676.,   883.,   965.,  1093.,  1165.,   989.,   917.,   767.,\n",
       "          539.,   334.,   231.,   102.,    66.,    35.,    19.,     3.,\n",
       "            3.]),\n",
       " array([  63.22354169,   66.66639517,   70.10924865,   73.55210212,\n",
       "          76.9949556 ,   80.43780907,   83.88066255,   87.32351603,\n",
       "          90.7663695 ,   94.20922298,   97.65207645,  101.09492993,\n",
       "         104.53778341,  107.98063688,  111.42349036,  114.86634383,\n",
       "         118.30919731,  121.75205078,  125.19490426,  128.63775774,\n",
       "         132.08061121,  135.52346469,  138.96631816,  142.40917164,\n",
       "         145.85202512,  149.29487859]),\n",
       " <a list of 25 Patch objects>)"
      ]
     },
     "execution_count": 10,
     "metadata": {},
     "output_type": "execute_result"
    },
    {
     "data": {
      "image/png": "[encoded data removed]",
      "text/plain": [
       "<matplotlib.figure.Figure at 0x10dedefd0>"
      ]
     },
     "metadata": {},
     "output_type": "display_data"
    }
   ],
   "source": [
    "d = NormalDistribution( 105, 12 )\n",
    "samples = [ d.sample() for i in range(10000) ]\n",
    "plt.hist( samples, edgecolor='c', color='c', bins=25 )"
   ]
  },
  {
   "cell_type": "code",
   "execution_count": 11,
   "metadata": {},
   "outputs": [
    {
     "name": "stdout",
     "output_type": "stream",
     "text": [
      "-2.30258509299\n",
      "-0.69314718056\n",
      "-inf\n"
     ]
    }
   ],
   "source": [
    "d = DiscreteDistribution({'A': 0.1, 'C': 0.25, 'G': 0.50, 'T': 0.15})\n",
    "print d.log_probability( 'A' )\n",
    "print d.log_probability( 'G' )\n",
    "print d.log_probability( '????' )"
   ]
  },
  {
   "cell_type": "code",
   "execution_count": 12,
   "metadata": {},
   "outputs": [
    {
     "name": "stdout",
     "output_type": "stream",
     "text": [
      "logp(A) = -0.826678573184\n",
      "logp(C) = -1.85629799037\n",
      "logp(G) = -1.56861591791\n",
      "logp(T) = -1.6199092123\n",
      "[{'A': 0.4375, 'C': 0.15625, 'T': 0.19791666666666666, 'G': 0.20833333333333334}]\n"
     ]
    }
   ],
   "source": [
    "items = list('ACGATACACTGAATGACAGCAGTCACTGACAGTAGTACGAGTAGTAGCAGAGAGTAATAAAGAATTAATATATGACACTACGAAAAAAATGCATCG')\n",
    "d.fit( items )\n",
    "\n",
    "for char in 'ACGT':\n",
    "    print \"logp({}) = {}\".format( char, d.log_probability( char ) )\n",
    "\n",
    "print d.parameters"
   ]
  },
  {
   "cell_type": "code",
   "execution_count": 13,
   "metadata": {},
   "outputs": [
    {
     "data": {
      "text/plain": [
       "{\n",
       "    \"frozen\" :false,\n",
       "    \"class\" :\"Distribution\",\n",
       "    \"parameters\" :[\n",
       "        {\n",
       "            \"A\" :0.4375,\n",
       "            \"C\" :0.15625,\n",
       "            \"T\" :0.19791666666666666,\n",
       "            \"G\" :0.20833333333333334\n",
       "        }\n",
       "    ],\n",
       "    \"name\" :\"DiscreteDistribution\"\n",
       "}"
      ]
     },
     "execution_count": 13,
     "metadata": {},
     "output_type": "execute_result"
    }
   ],
   "source": [
    "d"
   ]
  },
  {
   "cell_type": "code",
   "execution_count": 14,
   "metadata": {},
   "outputs": [
    {
     "data": {
      "image/png": "[encoded data removed]",
      "text/plain": [
       "<matplotlib.figure.Figure at 0x10e190a50>"
      ]
     },
     "metadata": {},
     "output_type": "display_data"
    }
   ],
   "source": [
    "## non parametric\n",
    "d = GaussianKernelDensity( [0.5, 1.2, 4.2, 1.9, 5.4, 3.4], bandwidth=1 )\n",
    "d.plot( n=100000, edgecolor='c', color='c', bins=100 )\n"
   ]
  },
  {
   "cell_type": "code",
   "execution_count": 15,
   "metadata": {},
   "outputs": [
    {
     "data": {
      "image/png": "[encoded data removed]",
      "text/plain": [
       "<matplotlib.figure.Figure at 0x10df272d0>"
      ]
     },
     "metadata": {},
     "output_type": "display_data"
    }
   ],
   "source": [
    "d = GaussianKernelDensity( [0.5, 1.2, 4.2, 1.9, 5.4, 3.4], bandwidth=0.2 )\n",
    "d.plot( n=100000, edgecolor='c', color='c', bins=100 )"
   ]
  },
  {
   "cell_type": "code",
   "execution_count": 16,
   "metadata": {},
   "outputs": [
    {
     "data": {
      "image/png": "[encoded data removed]",
      "text/plain": [
       "<matplotlib.figure.Figure at 0x10e8eee50>"
      ]
     },
     "metadata": {},
     "output_type": "display_data"
    }
   ],
   "source": [
    "d = GaussianKernelDensity( [0.5, 1.2, 4.2, 1.9, 5.4, 3.4], weights=[1, 1, 1, 3, 1, 1], bandwidth=0.2 )\n",
    "d.plot( n=100000, edgecolor='c', color='c', bins=100 )"
   ]
  },
  {
   "cell_type": "code",
   "execution_count": 17,
   "metadata": {},
   "outputs": [
    {
     "data": {
      "image/png": "[encoded data removed]",
      "text/plain": [
       "<matplotlib.figure.Figure at 0x10e908250>"
      ]
     },
     "metadata": {},
     "output_type": "display_data"
    }
   ],
   "source": [
    "d = TriangleKernelDensity( [0.5, 1.2, 4.2, 1.9, 5.4, 3.4], weights=[1, 1, 1, 3, 1, 1], bandwidth=0.5 )\n",
    "d.plot( n=500000, edgecolor='c', color='c', bins=250 )"
   ]
  },
  {
   "cell_type": "code",
   "execution_count": 18,
   "metadata": {},
   "outputs": [
    {
     "name": "stdout",
     "output_type": "stream",
     "text": [
      "-3.61208571376\n"
     ]
    }
   ],
   "source": [
    "d = IndependentComponentsDistribution([ NormalDistribution(10, 1), ExponentialDistribution(0.5) ])\n",
    "print d.log_probability( (11, 3) )"
   ]
  },
  {
   "cell_type": "code",
   "execution_count": 19,
   "metadata": {},
   "outputs": [
    {
     "name": "stdout",
     "output_type": "stream",
     "text": [
      "[ -0.68162749   4.2263806   10.35224745  15.20016092  19.57271049]\n"
     ]
    }
   ],
   "source": [
    "d = MultivariateGaussianDistribution( np.arange(5) * 5, np.eye(5) )\n",
    "print d.sample()"
   ]
  },
  {
   "cell_type": "code",
   "execution_count": 21,
   "metadata": {},
   "outputs": [
    {
     "name": "stdout",
     "output_type": "stream",
     "text": [
      "[[0.010971483603517683, 8.000669087700379, 15.967109510257739, 23.980870169195843, 32.01944776967262], [[1.0287891252184995, 0.05135454622184082, 0.0597130453424702, 0.01578817761564926, -0.08070708974129616], [0.05135454622184082, 0.9839886543226894, -0.023258251013394328, -0.02609811461737263, -0.015533709579671267], [0.05971304534247017, -0.023258251013394328, 0.9874276184084593, 0.034456031542737034, 0.06121479773893952], [0.01578817761564926, -0.02609811461737263, 0.034456031542737034, 0.9852507668029284, 0.01279495774616953], [-0.0807070897412965, -0.015533709579671267, 0.06121479773893952, 0.01279495774616953, 0.9829451551014791]]]\n",
      "{\n",
      "    \"frozen\" :false,\n",
      "    \"class\" :\"Distribution\",\n",
      "    \"parameters\" :[\n",
      "        [\n",
      "            0.010971483603517683,\n",
      "            8.000669087700379,\n",
      "            15.967109510257739,\n",
      "            23.980870169195843,\n",
      "            32.01944776967262\n",
      "        ],\n",
      "        [\n",
      "            [\n",
      "                1.0287891252184995,\n",
      "                0.05135454622184082,\n",
      "                0.0597130453424702,\n",
      "                0.01578817761564926,\n",
      "                -0.08070708974129616\n",
      "            ],\n",
      "            [\n",
      "                0.05135454622184082,\n",
      "                0.9839886543226894,\n",
      "                -0.023258251013394328,\n",
      "                -0.02609811461737263,\n",
      "                -0.015533709579671267\n",
      "            ],\n",
      "            [\n",
      "                0.05971304534247017,\n",
      "                -0.023258251013394328,\n",
      "                0.9874276184084593,\n",
      "                0.034456031542737034,\n",
      "                0.06121479773893952\n",
      "            ],\n",
      "            [\n",
      "                0.01578817761564926,\n",
      "                -0.02609811461737263,\n",
      "                0.034456031542737034,\n",
      "                0.9852507668029284,\n",
      "                0.01279495774616953\n",
      "            ],\n",
      "            [\n",
      "                -0.0807070897412965,\n",
      "                -0.015533709579671267,\n",
      "                0.06121479773893952,\n",
      "                0.01279495774616953,\n",
      "                0.9829451551014791\n",
      "            ]\n",
      "        ]\n",
      "    ],\n",
      "    \"name\" :\"MultivariateGaussianDistribution\"\n",
      "}\n"
     ]
    }
   ],
   "source": [
    "data = np.random.randn(1000, 5) + np.arange(5) * 8\n",
    "\n",
    "d.fit(data)\n",
    "print d.parameters\n",
    "print d"
   ]
  },
  {
   "cell_type": "code",
   "execution_count": null,
   "metadata": {
    "collapsed": true
   },
   "outputs": [],
   "source": []
  }
 ],
 "metadata": {
  "kernelspec": {
   "display_name": "Python 2",
   "language": "python",
   "name": "python2"
  },
  "language_info": {
   "codemirror_mode": {
    "name": "ipython",
    "version": 2
   },
   "file_extension": ".py",
   "mimetype": "text/x-python",
   "name": "python",
   "nbconvert_exporter": "python",
   "pygments_lexer": "ipython2",
   "version": "2.7.13"
  }
 },
 "nbformat": 4,
 "nbformat_minor": 2
}
