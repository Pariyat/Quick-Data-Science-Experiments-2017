{
 "cells": [
  {
   "cell_type": "markdown",
   "metadata": {},
   "source": [
    "* [src](https://github.com/jmschrei/pomegranate/blob/master/tutorials/Tutorial_3_Hidden_Markov_Models.ipynb)\n",
    "* Hidden Markov models are a form of structured prediction method which extend general mixture models to sequences of data, where position in the sequence is relevant. If each point in this sequence is completely independent of the other points, then HMMs are not the right tools and GMMs (or more complicated Bayesian networks) may be a better tool."
   ]
  },
  {
   "cell_type": "code",
   "execution_count": 1,
   "metadata": {},
   "outputs": [
    {
     "name": "stdout",
     "output_type": "stream",
     "text": [
      "Populating the interactive namespace from numpy and matplotlib\n"
     ]
    },
    {
     "name": "stderr",
     "output_type": "stream",
     "text": [
      "/usr/local/lib/python2.7/site-packages/IPython/core/magics/pylab.py:161: UserWarning: pylab import has clobbered these variables: ['random', 'log']\n",
      "`%matplotlib` prevents importing * from pylab and numpy\n",
      "  \"\\n`%matplotlib` prevents importing * from pylab and numpy\"\n"
     ]
    }
   ],
   "source": [
    "\n",
    "from pomegranate import *\n",
    "import numpy as np\n",
    "%pylab inline"
   ]
  },
  {
   "cell_type": "code",
   "execution_count": 2,
   "metadata": {
    "collapsed": true
   },
   "outputs": [],
   "source": [
    "seq = list('CGACTACTGACTACTCGCCGACGCGACTGCCGTCTATACTGCGCATACGGC')\n",
    "\n",
    "d1 = DiscreteDistribution({'A': 0.25, 'C': 0.25, 'G': 0.25, 'T': 0.25})\n",
    "d2 = DiscreteDistribution({'A': 0.10, 'C': 0.40, 'G': 0.40, 'T': 0.10})\n",
    "\n",
    "s1 = State( d1, name='background' )\n",
    "s2 = State( d2, name='CG island' )\n",
    "\n",
    "gmm = GeneralMixtureModel( [d1, d2] )\n",
    "hmm = HiddenMarkovModel()\n",
    "hmm.add_states(s1, s2)\n",
    "hmm.add_transition( hmm.start, s1, 0.5 )\n",
    "hmm.add_transition( hmm.start, s2, 0.5 )\n",
    "hmm.add_transition( s1, s1, 0.5 )\n",
    "hmm.add_transition( s1, s2, 0.5 )\n",
    "hmm.add_transition( s2, s1, 0.5 )\n",
    "hmm.add_transition( s2, s2, 0.5 )\n",
    "hmm.bake()"
   ]
  },
  {
   "cell_type": "code",
   "execution_count": 3,
   "metadata": {},
   "outputs": [
    {
     "name": "stdout",
     "output_type": "stream",
     "text": [
      "sequence: CGACTACTGACTACTCGCCGACGCGACTGCCGTCTATACTGCGCATACGGC\n",
      "gmm pred: 110100101010010111110111101011110100001011110001111\n",
      "hmm pred: 001011010101101000001000010100001011110100001110000\n"
     ]
    }
   ],
   "source": [
    "gmm_predictions = gmm.predict( np.array(seq) )\n",
    "hmm_predictions = hmm.predict( seq )\n",
    "\n",
    "print \"sequence: {}\".format( ''.join( seq ) )\n",
    "print \"gmm pred: {}\".format( ''.join( map( str, gmm_predictions ) ) )\n",
    "print \"hmm pred: {}\".format( ''.join( map( str, hmm_predictions ) ) )"
   ]
  },
  {
   "cell_type": "code",
   "execution_count": 4,
   "metadata": {
    "collapsed": true
   },
   "outputs": [],
   "source": [
    "hmm = HiddenMarkovModel()\n",
    "hmm.add_states(s1, s2)\n",
    "hmm.add_transition( hmm.start, s1, 0.5 )\n",
    "hmm.add_transition( hmm.start, s2, 0.5 )\n",
    "hmm.add_transition( s1, s1, 0.9 )\n",
    "hmm.add_transition( s1, s2, 0.1 )\n",
    "hmm.add_transition( s2, s1, 0.1 )\n",
    "hmm.add_transition( s2, s2, 0.9 )\n",
    "hmm.bake()"
   ]
  },
  {
   "cell_type": "code",
   "execution_count": 5,
   "metadata": {},
   "outputs": [
    {
     "name": "stdout",
     "output_type": "stream",
     "text": [
      "sequence: CGACTACTGACTACTCGCCGACGCGACTGCCGTCTATACTGCGCATACGGC\n",
      "gmm pred: 110100101010010111110111101011110100001011110001111\n",
      "hmm pred: 111111111111111000000000000000011111111111111110000\n",
      "\n",
      "hmm state 0: CG island\n",
      "hmm state 1: background\n"
     ]
    }
   ],
   "source": [
    "hmm_predictions = hmm.predict( seq )\n",
    "\n",
    "print \"sequence: {}\".format( ''.join( seq ) )\n",
    "print \"gmm pred: {}\".format( ''.join( map( str, gmm_predictions ) ) )\n",
    "print \"hmm pred: {}\".format( ''.join( map( str, hmm_predictions ) ) )\n",
    "print\n",
    "print \"hmm state 0: {}\".format( hmm.states[0].name )\n",
    "print \"hmm state 1: {}\".format( hmm.states[1].name )"
   ]
  },
  {
   "cell_type": "code",
   "execution_count": 6,
   "metadata": {
    "collapsed": true
   },
   "outputs": [],
   "source": [
    "hmm = HiddenMarkovModel()\n",
    "hmm.add_states(s1, s2)\n",
    "hmm.add_transition( hmm.start, s1, 0.5 )\n",
    "hmm.add_transition( hmm.start, s2, 0.5 )\n",
    "hmm.add_transition( s1, s1, 0.89 )\n",
    "hmm.add_transition( s1, s2, 0.10 )\n",
    "hmm.add_transition( s1, hmm.end, 0.01 )\n",
    "hmm.add_transition( s2, s1, 0.1 )\n",
    "hmm.add_transition( s2, s2, 0.9 )\n",
    "hmm.bake()"
   ]
  },
  {
   "cell_type": "code",
   "execution_count": 7,
   "metadata": {},
   "outputs": [
    {
     "name": "stdout",
     "output_type": "stream",
     "text": [
      "sequence: CGACTACTGACTACTCGCCGACGCGACTGCCGTCTATACTGCGCATACGGC\n",
      "gmm pred: 110100101010010111110111101011110100001011110001111\n",
      "hmm pred: 111111111111111000000000000000011111111111111111111\n",
      "\n",
      "hmm state 0: CG island\n",
      "hmm state 1: background\n"
     ]
    }
   ],
   "source": [
    "hmm_predictions = hmm.predict( seq )\n",
    "\n",
    "print \"sequence: {}\".format( ''.join( seq ) )\n",
    "print \"gmm pred: {}\".format( ''.join( map( str, gmm_predictions ) ) )\n",
    "print \"hmm pred: {}\".format( ''.join( map( str, hmm_predictions ) ) )\n",
    "print\n",
    "print \"hmm state 0: {}\".format( hmm.states[0].name )\n",
    "print \"hmm state 1: {}\".format( hmm.states[1].name )"
   ]
  },
  {
   "cell_type": "code",
   "execution_count": 8,
   "metadata": {},
   "outputs": [
    {
     "name": "stdout",
     "output_type": "stream",
     "text": [
      "[[ 0.4827054   0.5172946 ]\n",
      " [ 0.42204064  0.57795936]\n",
      " [ 0.28598775  0.71401225]\n",
      " [ 0.25756456  0.74243544]\n",
      " [ 0.16040038  0.83959962]\n",
      " [ 0.13871983  0.86128017]\n",
      " [ 0.17217854  0.82782146]\n",
      " [ 0.14750165  0.85249835]\n",
      " [ 0.18021186  0.81978814]\n",
      " [ 0.15446181  0.84553819]\n",
      " [ 0.18788044  0.81211956]\n",
      " [ 0.16252887  0.83747113]\n",
      " [ 0.19841088  0.80158912]\n",
      " [ 0.32919701  0.67080299]\n",
      " [ 0.38366073  0.61633927]\n",
      " [ 0.58044619  0.41955381]\n",
      " [ 0.69075524  0.30924476]\n",
      " [ 0.74653183  0.25346817]\n",
      " [ 0.76392808  0.23607192]\n",
      " [ 0.7479817   0.2520183 ]\n",
      " [ 0.69407484  0.30592516]\n",
      " [ 0.74761829  0.25238171]\n",
      " [ 0.76321595  0.23678405]\n",
      " [ 0.74538467  0.25461533]\n",
      " [ 0.68896078  0.31103922]\n",
      " [ 0.57760471  0.42239529]\n",
      " [ 0.58391467  0.41608533]\n",
      " [ 0.53953778  0.46046222]\n",
      " [ 0.6030831   0.3969169 ]\n",
      " [ 0.61516689  0.38483311]\n",
      " [ 0.57928847  0.42071153]\n",
      " [ 0.48505793  0.51494207]\n",
      " [ 0.30518744  0.69481256]\n",
      " [ 0.25379428  0.74620572]\n",
      " [ 0.12610747  0.87389253]\n",
      " [ 0.08105965  0.91894035]\n",
      " [ 0.07637934  0.92362066]\n",
      " [ 0.10767468  0.89232532]\n",
      " [ 0.20431225  0.79568775]\n",
      " [ 0.23273876  0.76726124]\n",
      " [ 0.35851961  0.64148039]\n",
      " [ 0.40985726  0.59014274]\n",
      " [ 0.40161837  0.59838163]\n",
      " [ 0.33141706  0.66858294]\n",
      " [ 0.17892403  0.82107597]\n",
      " [ 0.12850549  0.87149451]\n",
      " [ 0.13285026  0.86714974]\n",
      " [ 0.19603531  0.80396469]\n",
      " [ 0.19760431  0.80239569]\n",
      " [ 0.13801161  0.86198839]\n",
      " [ 0.          1.        ]]\n"
     ]
    }
   ],
   "source": [
    "print hmm.predict_proba( seq )\n"
   ]
  },
  {
   "cell_type": "code",
   "execution_count": 9,
   "metadata": {},
   "outputs": [
    {
     "name": "stdout",
     "output_type": "stream",
     "text": [
      "[[ 15.78100555   2.89559314   0.           0.        ]\n",
      " [  2.41288774  28.91051356   0.           1.        ]\n",
      " [  0.4827054    0.5172946    0.           0.        ]\n",
      " [  0.           0.           0.           0.        ]]\n"
     ]
    }
   ],
   "source": [
    "trans, ems = hmm.forward_backward( seq )\n",
    "print trans"
   ]
  },
  {
   "cell_type": "code",
   "execution_count": 10,
   "metadata": {
    "collapsed": true
   },
   "outputs": [],
   "source": [
    "v_logp, v_seq = hmm.viterbi( seq )\n",
    "m_logp, m_seq = hmm.maximum_a_posteriori( seq )"
   ]
  },
  {
   "cell_type": "code",
   "execution_count": null,
   "metadata": {
    "collapsed": true
   },
   "outputs": [],
   "source": []
  }
 ],
 "metadata": {
  "kernelspec": {
   "display_name": "Python 2",
   "language": "python",
   "name": "python2"
  },
  "language_info": {
   "codemirror_mode": {
    "name": "ipython",
    "version": 2
   },
   "file_extension": ".py",
   "mimetype": "text/x-python",
   "name": "python",
   "nbconvert_exporter": "python",
   "pygments_lexer": "ipython2",
   "version": "2.7.13"
  }
 },
 "nbformat": 4,
 "nbformat_minor": 2
}
