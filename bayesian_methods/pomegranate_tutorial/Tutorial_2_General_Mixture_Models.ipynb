{
 "cells": [
  {
   "cell_type": "markdown",
   "metadata": {},
   "source": [
    "[src](https://github.com/jmschrei/pomegranate/blob/master/tutorials/Tutorial_2_General_Mixture_Models.ipynb)"
   ]
  },
  {
   "cell_type": "code",
   "execution_count": 1,
   "metadata": {},
   "outputs": [
    {
     "name": "stdout",
     "output_type": "stream",
     "text": [
      "Populating the interactive namespace from numpy and matplotlib\n"
     ]
    },
    {
     "name": "stderr",
     "output_type": "stream",
     "text": [
      "/usr/local/lib/python2.7/site-packages/IPython/core/magics/pylab.py:161: UserWarning: pylab import has clobbered these variables: ['random', 'log']\n",
      "`%matplotlib` prevents importing * from pylab and numpy\n",
      "  \"\\n`%matplotlib` prevents importing * from pylab and numpy\"\n"
     ]
    }
   ],
   "source": [
    "from pomegranate import *\n",
    "%pylab inline\n",
    "import numpy as np"
   ]
  },
  {
   "cell_type": "code",
   "execution_count": 2,
   "metadata": {},
   "outputs": [
    {
     "data": {
      "text/plain": [
       "(array([   4.,    7.,    5.,   12.,   17.,   29.,   21.,   33.,   31.,\n",
       "          26.,   17.,   18.,   23.,   51.,  105.,  151.,  115.,   62.,\n",
       "          17.,    6.]),\n",
       " array([ -6.01924703,  -5.13625941,  -4.25327179,  -3.37028417,\n",
       "         -2.48729655,  -1.60430893,  -0.72132131,   0.16166631,\n",
       "          1.04465393,   1.92764155,   2.81062917,   3.69361679,\n",
       "          4.57660441,   5.45959203,   6.34257965,   7.22556727,\n",
       "          8.10855489,   8.99154251,   9.87453013,  10.75751775,  11.64050537]),\n",
       " <a list of 20 Patch objects>)"
      ]
     },
     "execution_count": 2,
     "metadata": {},
     "output_type": "execute_result"
    },
    {
     "data": {
      "image/png": "[encoded data removed]",
      "text/plain": [
       "<matplotlib.figure.Figure at 0x11308a290>"
      ]
     },
     "metadata": {},
     "output_type": "display_data"
    }
   ],
   "source": [
    "data = np.concatenate( (np.random.randn(250, 1) * 2.75 + 1.25, np.random.randn(500, 1) * 1.2 + 7.85) )\n",
    "np.random.shuffle(data)\n",
    "plt.hist( data, edgecolor='c', color='c', bins=20 )"
   ]
  },
  {
   "cell_type": "code",
   "execution_count": 13,
   "metadata": {
    "collapsed": true
   },
   "outputs": [],
   "source": [
    "d = GeneralMixtureModel( [NormalDistribution(4, 1), NormalDistribution(4.2, 1)] )\n"
   ]
  },
  {
   "cell_type": "code",
   "execution_count": 4,
   "metadata": {},
   "outputs": [
    {
     "name": "stdout",
     "output_type": "stream",
     "text": [
      "[1 0 1 0 0]\n",
      "513 1 labels, 237 0 labels\n"
     ]
    }
   ],
   "source": [
    "labels = d.predict( data )\n",
    "print labels[:5]\n",
    "print \"{} 1 labels, {} 0 labels\".format( labels.sum(), labels.shape[0] - labels.sum() )"
   ]
  },
  {
   "cell_type": "code",
   "execution_count": 5,
   "metadata": {},
   "outputs": [
    {
     "data": {
      "text/plain": [
       "(array([ 13.,  14.,  25.,  29.,  34.,  45.,  55.,  64.,  39.,  39.,  43.,\n",
       "         47.,  20.,  17.,  11.,   8.,   3.,   5.,   1.,   1.]),\n",
       " array([  5.30476007,   5.62154734,   5.9383346 ,   6.25512186,\n",
       "          6.57190913,   6.88869639,   7.20548366,   7.52227092,\n",
       "          7.83905819,   8.15584545,   8.47263272,   8.78941998,\n",
       "          9.10620725,   9.42299451,   9.73978178,  10.05656904,\n",
       "         10.37335631,  10.69014357,  11.00693084,  11.3237181 ,  11.64050537]),\n",
       " <a list of 20 Patch objects>)"
      ]
     },
     "execution_count": 5,
     "metadata": {},
     "output_type": "execute_result"
    },
    {
     "data": {
      "image/png": "[encoded data removed]",
      "text/plain": [
       "<matplotlib.figure.Figure at 0x11307c710>"
      ]
     },
     "metadata": {},
     "output_type": "display_data"
    }
   ],
   "source": [
    "plt.hist( data[ labels == 0 ], edgecolor='r', color='r', bins=20 )\n",
    "plt.hist( data[ labels == 1 ], edgecolor='c', color='c', bins=20 )"
   ]
  },
  {
   "cell_type": "code",
   "execution_count": 6,
   "metadata": {},
   "outputs": [
    {
     "name": "stdout",
     "output_type": "stream",
     "text": [
      "[[  1.84064174e-02   9.81593583e-01]\n",
      " [  9.99953774e-01   4.62257968e-05]\n",
      " [  1.31906523e-03   9.98680935e-01]\n",
      " [  1.00000000e+00   9.06934308e-11]\n",
      " [  1.00000000e+00   6.43895689e-23]]\n",
      "[ 238.29078508  511.70921492]\n"
     ]
    }
   ],
   "source": [
    "labels = d.predict_proba( data )\n",
    "print labels[:5]\n",
    "print labels.sum(axis=0)"
   ]
  },
  {
   "cell_type": "code",
   "execution_count": 14,
   "metadata": {},
   "outputs": [
    {
     "name": "stdout",
     "output_type": "stream",
     "text": [
      "[1] Improvement: 4704.62983705\tTime (s): 0.00038\n",
      "[2] Improvement: 48.6558389711\tTime (s): 0.0004611\n",
      "[3] Improvement: 67.8956912674\tTime (s): 0.0002801\n",
      "[4] Improvement: 52.5595995989\tTime (s): 0.0002189\n",
      "[5] Improvement: 16.4915687861\tTime (s): 0.0002298\n",
      "[6] Improvement: 3.58410521608\tTime (s): 0.0004301\n",
      "[7] Improvement: 1.28221239665\tTime (s): 0.0002148\n",
      "[8] Improvement: 0.860557394002\tTime (s): 0.000191\n",
      "[9] Improvement: 0.707502005913\tTime (s): 0.000211\n",
      "[10] Improvement: 0.592864122005\tTime (s): 0.0001829\n",
      "[11] Improvement: 0.487044701331\tTime (s): 0.000304\n",
      "[12] Improvement: 0.388858519637\tTime (s): 0.000216\n",
      "[13] Improvement: 0.301083504534\tTime (s): 0.000196\n",
      "[14] Improvement: 0.226156104026\tTime (s): 0.000195\n",
      "[15] Improvement: 0.165097047627\tTime (s): 0.000196\n",
      "[16] Improvement: 0.117445515326\tTime (s): 0.0002639\n",
      "[17] Improvement: 0.0816650066383\tTime (s): 0.000303\n",
      "Total Improvement: 4899.02712721\n",
      "Total Time (s): 0.0062\n"
     ]
    },
    {
     "data": {
      "text/plain": [
       "4899.0271272110895"
      ]
     },
     "execution_count": 14,
     "metadata": {},
     "output_type": "execute_result"
    }
   ],
   "source": [
    "d.fit( data, verbose=True )"
   ]
  },
  {
   "cell_type": "code",
   "execution_count": 15,
   "metadata": {},
   "outputs": [
    {
     "data": {
      "text/plain": [
       "{\n",
       "    \"weights\" : [\n",
       "        -1.1278402492954325,\n",
       "        -0.3911653610790885\n",
       "    ],\n",
       "    \"distributions\" : [\n",
       "        {\n",
       "            \"frozen\" : false,\n",
       "            \"class\" : \"Distribution\",\n",
       "            \"parameters\" : [\n",
       "                0.8772013936302435,\n",
       "                2.8391274060802068\n",
       "            ],\n",
       "            \"name\" : \"NormalDistribution\"\n",
       "        },\n",
       "        {\n",
       "            \"frozen\" : false,\n",
       "            \"class\" : \"Distribution\",\n",
       "            \"parameters\" : [\n",
       "                7.793796729253542,\n",
       "                1.2302672352520636\n",
       "            ],\n",
       "            \"name\" : \"NormalDistribution\"\n",
       "        }\n",
       "    ],\n",
       "    \"class\" : \"GeneralMixtureModel\"\n",
       "}"
      ]
     },
     "execution_count": 15,
     "metadata": {},
     "output_type": "execute_result"
    }
   ],
   "source": [
    "d"
   ]
  },
  {
   "cell_type": "code",
   "execution_count": 16,
   "metadata": {
    "collapsed": true
   },
   "outputs": [],
   "source": [
    "mu = np.arange(5)\n",
    "cov = np.eye(5)\n",
    "\n",
    "mgs = [ MultivariateGaussianDistribution( mu*i, cov ) for i in range(5) ]\n",
    "gmm = GeneralMixtureModel( mgs )"
   ]
  },
  {
   "cell_type": "code",
   "execution_count": 17,
   "metadata": {
    "collapsed": true
   },
   "outputs": [],
   "source": [
    "data = numpy.random.randn(1000, 5) * 5\n",
    "for i in range(5):\n",
    "    data[i::5] += np.arange(5)*i"
   ]
  },
  {
   "cell_type": "code",
   "execution_count": 18,
   "metadata": {},
   "outputs": [
    {
     "name": "stdout",
     "output_type": "stream",
     "text": [
      "Point 0: logp [-172.36993997]\n",
      "Point 1: logp [-46.24215348]\n",
      "Point 2: logp [-71.22246526]\n",
      "Point 3: logp [-45.85900746]\n",
      "Point 4: logp [-122.42306335]\n",
      "Point 5: logp [-32.63991077]\n",
      "Point 6: logp [-160.65949574]\n",
      "Point 7: logp [-50.33368762]\n",
      "Point 8: logp [-24.14626289]\n",
      "Point 9: logp [-66.76328476]\n"
     ]
    }
   ],
   "source": [
    "for i in range(10):\n",
    "    print \"Point {}: logp {}\".format( i, gmm.log_probability(data[i]) )"
   ]
  },
  {
   "cell_type": "code",
   "execution_count": 19,
   "metadata": {},
   "outputs": [
    {
     "name": "stdout",
     "output_type": "stream",
     "text": [
      "[1] Improvement: 43072.4710903\tTime (s): 0.00167\n",
      "[2] Improvement: 28.2046501326\tTime (s): 0.001663\n",
      "[3] Improvement: 10.444926581\tTime (s): 0.001626\n",
      "[4] Improvement: 5.6259734228\tTime (s): 0.001538\n",
      "[5] Improvement: 3.49468356669\tTime (s): 0.001512\n",
      "[6] Improvement: 2.30789867571\tTime (s): 0.001401\n",
      "[7] Improvement: 1.58293609469\tTime (s): 0.001647\n",
      "[8] Improvement: 1.12898353582\tTime (s): 0.001504\n",
      "[9] Improvement: 0.847347950828\tTime (s): 0.001508\n",
      "Total Improvement: 43126.1084903\n",
      "Total Time (s): 0.0160\n"
     ]
    },
    {
     "data": {
      "text/plain": [
       "43126.10849027851"
      ]
     },
     "execution_count": 19,
     "metadata": {},
     "output_type": "execute_result"
    }
   ],
   "source": [
    "gmm.fit(data, verbose=True, stop_threshold=1)\n"
   ]
  },
  {
   "cell_type": "code",
   "execution_count": 20,
   "metadata": {},
   "outputs": [
    {
     "name": "stdout",
     "output_type": "stream",
     "text": [
      "Point 0: logp [-20.74394146]\n",
      "Point 1: logp [-14.65973898]\n",
      "Point 2: logp [-15.85992395]\n",
      "Point 3: logp [-14.9133265]\n",
      "Point 4: logp [-17.86015508]\n",
      "Point 5: logp [-15.05826329]\n",
      "Point 6: logp [-20.10478322]\n",
      "Point 7: logp [-15.30377613]\n",
      "Point 8: logp [-14.09150487]\n",
      "Point 9: logp [-16.021724]\n"
     ]
    }
   ],
   "source": [
    "for i in range(10):\n",
    "    print \"Point {}: logp {}\".format( i, gmm.log_probability(data[i]) )"
   ]
  },
  {
   "cell_type": "code",
   "execution_count": 21,
   "metadata": {
    "collapsed": true
   },
   "outputs": [],
   "source": [
    "## discrete\n",
    "d1 = DiscreteDistribution( {'A' : 0.25, 'C': 0.25, 'G' : 0.25, 'T': 0.25 } ) # Background\n",
    "d2 = DiscreteDistribution( {'A' : 0.05, 'C': 0.45, 'G' : 0.45, 'T': 0.05 } ) # CG rich regions\n",
    "gmm = GeneralMixtureModel( [d1, d2] )"
   ]
  },
  {
   "cell_type": "code",
   "execution_count": 22,
   "metadata": {},
   "outputs": [
    {
     "data": {
      "text/plain": [
       "3.4766541840931495"
      ]
     },
     "execution_count": 22,
     "metadata": {},
     "output_type": "execute_result"
    }
   ],
   "source": [
    "seq = numpy.array(list('CGACATCTGACTACGGCGCGCCTACTACTTGATCGATACGGCGTCAGCGACGACGATGATCGGCATCAGTCACTAC'))\n",
    "gmm.fit(seq)"
   ]
  },
  {
   "cell_type": "code",
   "execution_count": 24,
   "metadata": {},
   "outputs": [
    {
     "name": "stdout",
     "output_type": "stream",
     "text": [
      "[ {\n",
      "    \"frozen\" :false,\n",
      "    \"class\" :\"Distribution\",\n",
      "    \"parameters\" :[\n",
      "        {\n",
      "            \"A\" :0.3500000000000001,\n",
      "            \"C\" :0.19999999999999993,\n",
      "            \"T\" :0.29166666666666674,\n",
      "            \"G\" :0.15833333333333327\n",
      "        }\n",
      "    ],\n",
      "    \"name\" :\"DiscreteDistribution\"\n",
      "}\n",
      " {\n",
      "    \"frozen\" :false,\n",
      "    \"class\" :\"Distribution\",\n",
      "    \"parameters\" :[\n",
      "        {\n",
      "            \"A\" :0.0905172413793103,\n",
      "            \"C\" :0.46551724137931033,\n",
      "            \"T\" :0.07543103448275859,\n",
      "            \"G\" :0.3685344827586208\n",
      "        }\n",
      "    ],\n",
      "    \"name\" :\"DiscreteDistribution\"\n",
      "}]\n",
      "\n",
      "[ 0.56390977  0.43609023]\n",
      "{\n",
      "    \"weights\" : [\n",
      "        -0.5728610146854433,\n",
      "        -0.8299061176753344\n",
      "    ],\n",
      "    \"distributions\" : [\n",
      "        {\n",
      "            \"frozen\" : false,\n",
      "            \"class\" : \"Distribution\",\n",
      "            \"parameters\" : [\n",
      "                {\n",
      "                    \"A\" : 0.3500000000000001,\n",
      "                    \"C\" : 0.19999999999999993,\n",
      "                    \"T\" : 0.29166666666666674,\n",
      "                    \"G\" : 0.15833333333333327\n",
      "                }\n",
      "            ],\n",
      "            \"name\" : \"DiscreteDistribution\"\n",
      "        },\n",
      "        {\n",
      "            \"frozen\" : false,\n",
      "            \"class\" : \"Distribution\",\n",
      "            \"parameters\" : [\n",
      "                {\n",
      "                    \"A\" : 0.0905172413793103,\n",
      "                    \"C\" : 0.46551724137931033,\n",
      "                    \"T\" : 0.07543103448275859,\n",
      "                    \"G\" : 0.3685344827586208\n",
      "                }\n",
      "            ],\n",
      "            \"name\" : \"DiscreteDistribution\"\n",
      "        }\n",
      "    ],\n",
      "    \"class\" : \"GeneralMixtureModel\"\n",
      "}\n"
     ]
    }
   ],
   "source": [
    "print gmm.distributions\n",
    "print\n",
    "print numpy.exp(gmm.weights)\n",
    "print gmm"
   ]
  },
  {
   "cell_type": "code",
   "execution_count": null,
   "metadata": {
    "collapsed": true
   },
   "outputs": [],
   "source": []
  }
 ],
 "metadata": {
  "kernelspec": {
   "display_name": "Python 2",
   "language": "python",
   "name": "python2"
  },
  "language_info": {
   "codemirror_mode": {
    "name": "ipython",
    "version": 2
   },
   "file_extension": ".py",
   "mimetype": "text/x-python",
   "name": "python",
   "nbconvert_exporter": "python",
   "pygments_lexer": "ipython2",
   "version": "2.7.13"
  }
 },
 "nbformat": 4,
 "nbformat_minor": 2
}
