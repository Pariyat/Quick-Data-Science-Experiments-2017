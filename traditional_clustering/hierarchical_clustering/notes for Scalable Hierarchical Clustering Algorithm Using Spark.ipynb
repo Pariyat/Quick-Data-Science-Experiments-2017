{
 "cells": [
  {
   "cell_type": "markdown",
   "metadata": {},
   "source": [
    "[source](http://users.eecs.northwestern.edu/~cji970/pub/cjinBigDataService2015.pdf)"
   ]
  },
  {
   "cell_type": "markdown",
   "metadata": {},
   "source": [
    "### overview:\n",
    "* single-linkage\n",
    "* minimum spanning tree algorithm\n",
    "* reduce the single-linkage hierarchical clustering problem to the minimum spanning tree"
   ]
  },
  {
   "cell_type": "markdown",
   "metadata": {},
   "source": [
    "# The SHAS algorithm"
   ]
  },
  {
   "cell_type": "markdown",
   "metadata": {},
   "source": [
    "### Hierarchical clustering\n",
    "* divisive or agglomerative\n",
    "* single-linkage hierarchical clustering (SHC) is agglomerative\n",
    "* \"chaining effect\" - bad side effect of SHC\n",
    "    * a sequence of close observations in different groups cause early merges of these groups\n",
    "\n",
    "### Problem decomposition\n",
    "* Spark philosophy: \n",
    "    * divide the original problem into a set of non-overlapped subproblems, solve each subproblem and then merge the sub-solutions into an overall solution\n",
    "* SHC dendrogram of a dataset is equivalent to finding the Minimum Spanning Tree (MST) of a complete weighted graph, where the vertices are the data points and the edge weights are the distances between any two points\n",
    "* divide up a dataset D into D1 and D2, build a graph for D1, D2 and a bipartite graph for (D1, D2)\n",
    "    * note: [bipartite](http://mathworld.wolfram.com/BipartiteGraph.html)\n",
    "* can be extended to s splits instead of 2\n",
    "    * s complete graphs\n",
    "    * ${C \\choose 2}$ bipartite graphs\n",
    "\n",
    "### Algo\n",
    "* use Prim's to solve MST (note: Kruskal is also one)\n",
    "* once done, merge sub-MSTs and bipartites to get the final\n",
    "* subgraph\n",
    "    * just use prim's normally\n",
    "* bipartite \n",
    "    * omg... just normal bipartite graph stuff...\n"
   ]
  },
  {
   "cell_type": "code",
   "execution_count": null,
   "metadata": {
    "collapsed": true
   },
   "outputs": [],
   "source": []
  }
 ],
 "metadata": {
  "kernelspec": {
   "display_name": "Python 2",
   "language": "python",
   "name": "python2"
  },
  "language_info": {
   "codemirror_mode": {
    "name": "ipython",
    "version": 2
   },
   "file_extension": ".py",
   "mimetype": "text/x-python",
   "name": "python",
   "nbconvert_exporter": "python",
   "pygments_lexer": "ipython2",
   "version": "2.7.12"
  }
 },
 "nbformat": 4,
 "nbformat_minor": 2
}
