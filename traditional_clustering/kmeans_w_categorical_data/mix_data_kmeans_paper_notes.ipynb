{
 "cells": [
  {
   "cell_type": "markdown",
   "metadata": {},
   "source": [
    "[paper](http://edu.cs.uni-magdeburg.de/EC/lehre/sommersemester-2013/wissenschaftliches-schreiben-in-der-informatik/publikationen-fuer-studentische-vortraege/kMeansMixedCatNum.pdf)"
   ]
  },
  {
   "cell_type": "markdown",
   "metadata": {},
   "source": [
    "# to do:\n",
    "* pure categorical clustering algorithm"
   ]
  },
  {
   "cell_type": "markdown",
   "metadata": {},
   "source": [
    "# Overview of Clustering Algorithms\n",
    "\n",
    "* (I noticed that clustering belongs in DATA MINING more than pure ML or statistics)\n",
    "\n",
    "* Cluster can be divided into: Partitional and Hierarchical \n",
    "* Partitional:\n",
    "    * Partitional clustering algorithms employ an iterative approach to group the data into a pre-determined k number of clusters by minimizing a cost function f of the type\n",
    "    * K-means, DBSCAN, fuzzy c-means...etc.\n",
    "* Hierarchical:\n",
    "    * hierarchical algorithms use the distance matrix as input and create a hierarchical set of clusters\n",
    "    * Agglomerative (bottom up) or Divisive (top down)\n",
    "    \n",
    "\n",
    "### some concepts:\n",
    "* nominal - just labels \n",
    "* For mixed data, can either convert nominal data to numerical, or numerical data to nominal"
   ]
  },
  {
   "cell_type": "markdown",
   "metadata": {},
   "source": [
    "# Cost Fn\n",
    "\n",
    "### Huang's:\n",
    "* There are M features, $M^r$ reals and $M^c$ categoricals\n",
    "* $V(d_i, C_j) = \\sum_t^{M_r} (d_{it}^r - C^r_{jt})^2 + \\gamma_j \\sum_t^{M_c} \\delta(d^c_{it}, C^c_{jt}) $\n",
    "* $C^c_{jt}$ is the most common categorical value for the field t in the cluster, $C^r_{jt}$ is the mean\n",
    "* $\\delta(p, q) = 0$ for p = q, $\\delta(p, q) = 1$ for $p \\neq q$\n",
    "* $\\gamma_j$ is a weight specific to the cluster j\n",
    "* cons:\n",
    "    * categorical centroids are represented by the mode, so there is a loss of information\n",
    "    * $\\delta(p, q) = 1$ for $p \\neq q$ isn't always the case, need more flexibility in the cost\n",
    "    * need to define $\\gamma_j$\n"
   ]
  },
  {
   "cell_type": "markdown",
   "metadata": {},
   "source": [
    "### paper's algo:\n",
    "* $\\delta(p,q)$ is computed as a function of their co-occurrence with other attribute values\n",
    "* The significance of an attribute, which determines the contribution of an attribute towards clustering\n",
    "* $V(d_i, C_j) = \\sum_t^{M_r} [w_t (d_{it}^r - C^r_{jt})]^2 + \\sum_t^{M_c} \\Omega(d^c_{it}, C^c_{jt})^2 $\n",
    "\n",
    "#### diffs\n",
    "1. Added $w_t$ to denote the significance of $t \\in set(M_r)$, and not user given, but computed from dataset\n",
    "2. the distance between two categorical attribute values is computed as a function of their overall distribution and co-occurrence with other attributes\n",
    "    * $C_j$ is represented by a proportional distribution of all its values in the cluster"
   ]
  },
  {
   "cell_type": "markdown",
   "metadata": {},
   "source": [
    "# Wt computation\n",
    "* .... to do"
   ]
  },
  {
   "cell_type": "code",
   "execution_count": null,
   "metadata": {
    "collapsed": true
   },
   "outputs": [],
   "source": []
  }
 ],
 "metadata": {
  "kernelspec": {
   "display_name": "Python 2",
   "language": "python",
   "name": "python2"
  },
  "language_info": {
   "codemirror_mode": {
    "name": "ipython",
    "version": 2
   },
   "file_extension": ".py",
   "mimetype": "text/x-python",
   "name": "python",
   "nbconvert_exporter": "python",
   "pygments_lexer": "ipython2",
   "version": "2.7.12"
  }
 },
 "nbformat": 4,
 "nbformat_minor": 2
}
