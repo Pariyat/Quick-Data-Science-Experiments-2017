{
 "cells": [
  {
   "cell_type": "code",
   "execution_count": 2,
   "metadata": {
    "collapsed": false
   },
   "outputs": [],
   "source": [
    "df <- read.csv(\"~/Downloads/databank/occupancy_data//datatest.txt\")"
   ]
  },
  {
   "cell_type": "code",
   "execution_count": 3,
   "metadata": {
    "collapsed": false
   },
   "outputs": [
    {
     "data": {
      "text/plain": [
       "                  date       Temperature       Humidity         Light       \n",
       " 2015-02-02 14:19:00:   1   Min.   :20.20   Min.   :22.10   Min.   :   0.0  \n",
       " 2015-02-02 14:19:59:   1   1st Qu.:20.65   1st Qu.:23.26   1st Qu.:   0.0  \n",
       " 2015-02-02 14:21:00:   1   Median :20.89   Median :25.00   Median :   0.0  \n",
       " 2015-02-02 14:22:00:   1   Mean   :21.43   Mean   :25.35   Mean   : 193.2  \n",
       " 2015-02-02 14:23:00:   1   3rd Qu.:22.36   3rd Qu.:26.86   3rd Qu.: 442.5  \n",
       " 2015-02-02 14:23:59:   1   Max.   :24.41   Max.   :31.47   Max.   :1697.2  \n",
       " (Other)            :2659                                                   \n",
       "      CO2         HumidityRatio        Occupancy     \n",
       " Min.   : 427.5   Min.   :0.003303   Min.   :0.0000  \n",
       " 1st Qu.: 466.0   1st Qu.:0.003529   1st Qu.:0.0000  \n",
       " Median : 580.5   Median :0.003815   Median :0.0000  \n",
       " Mean   : 717.9   Mean   :0.004027   Mean   :0.3647  \n",
       " 3rd Qu.: 956.3   3rd Qu.:0.004532   3rd Qu.:1.0000  \n",
       " Max.   :1402.2   Max.   :0.005378   Max.   :1.0000  \n",
       "                                                     "
      ]
     },
     "metadata": {},
     "output_type": "display_data"
    }
   ],
   "source": [
    "summary(df)"
   ]
  },
  {
   "cell_type": "code",
   "execution_count": null,
   "metadata": {
    "collapsed": true
   },
   "outputs": [],
   "source": []
  }
 ],
 "metadata": {
  "kernelspec": {
   "display_name": "R",
   "language": "R",
   "name": "ir"
  },
  "language_info": {
   "codemirror_mode": "r",
   "file_extension": ".r",
   "mimetype": "text/x-r-source",
   "name": "R",
   "pygments_lexer": "r",
   "version": "3.2.2"
  }
 },
 "nbformat": 4,
 "nbformat_minor": 0
}
