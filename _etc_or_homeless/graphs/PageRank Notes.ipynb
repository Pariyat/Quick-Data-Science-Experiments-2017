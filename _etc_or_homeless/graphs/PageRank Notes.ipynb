{
 "cells": [
  {
   "cell_type": "markdown",
   "metadata": {},
   "source": [
    "* random walk as a markov chain\n",
    "* stationary probability vector $x_{t+1} = x_t P$ (doesn't change)\n",
    "    * also the eigen vector of P with an eigen val of 1\n",
    "        * remember that eigenvectors are $Av = \\lambda v$\n",
    "* the page rank stochastic transition matrix sums to 1 for each row, since it redistributes the weights\n",
    "* so say $x \\in R^5$ and sums to 1, $P \\in R^{5,5}$ and each row sums to 1\n",
    "* eventually we get the steady state distribution $xP^n$ and $x_{t+1} = x_t P$"
   ]
  },
  {
   "cell_type": "code",
   "execution_count": 10,
   "metadata": {
    "collapsed": true
   },
   "outputs": [],
   "source": [
    "import numpy as np\n",
    "x = np.array([1.0, 0.0])\n",
    "x = x.reshape(1,2)\n",
    "P = np.array([[0.3, 0.6], [0.5, 0.5]])"
   ]
  },
  {
   "cell_type": "code",
   "execution_count": 14,
   "metadata": {},
   "outputs": [
    {
     "name": "stdout",
     "output_type": "stream",
     "text": [
      "(1, 2) (2, 2)\n",
      "[[ 0.3  0.6]]\n",
      "[[ 0.39  0.48]]\n",
      "[[ 0.357  0.474]]\n",
      "[[ 0.3441  0.4512]]\n",
      "[[ 0.32883  0.43206]]\n"
     ]
    }
   ],
   "source": [
    "print x.shape, P.shape\n",
    "print x.dot(P)\n",
    "print x.dot(P).dot(P)\n",
    "print x.dot(P).dot(P).dot(P)\n",
    "print x.dot(P).dot(P).dot(P).dot(P)\n",
    "print x.dot(P).dot(P).dot(P).dot(P).dot(P)"
   ]
  },
  {
   "cell_type": "markdown",
   "metadata": {},
   "source": [
    "* there's a proof that shows that graphs that are \"well-behaved\" will always converge to a stead state distribution\n",
    "* properties of \"well-behaved\" graphs\n",
    "    * irreducible (there's a path from every node to every other node) (solved by the random jump mechanism)\n",
    "    * aperiodic (greatest common divisor of all cycle lengths is 1)\n",
    "        * each cycle is a node to itself, so a 3 node graph that's clockwise is periodic since the GCD is 3, but one with a self loop is not, since there's a 1\n",
    "* Perron-Frobenius Theorem proves it\n"
   ]
  },
  {
   "cell_type": "markdown",
   "metadata": {},
   "source": [
    "### page rank\n",
    "* have a query\n",
    "* use the query to match a short list of candidate web pages\n",
    "* rank the candidates via the stead state distribution\n",
    "\n",
    "### page rank math\n",
    "* $P = (1 - \\alpha) P + \\alpha I(1/n)$\n",
    "* e.g. 85% chance of hyperlink matrix + 15% chance of identity matrix"
   ]
  },
  {
   "cell_type": "markdown",
   "metadata": {},
   "source": []
  },
  {
   "cell_type": "markdown",
   "metadata": {},
   "source": []
  },
  {
   "cell_type": "markdown",
   "metadata": {},
   "source": []
  },
  {
   "cell_type": "markdown",
   "metadata": {},
   "source": []
  }
 ],
 "metadata": {
  "kernelspec": {
   "display_name": "Python 2",
   "language": "python",
   "name": "python2"
  },
  "language_info": {
   "codemirror_mode": {
    "name": "ipython",
    "version": 2
   },
   "file_extension": ".py",
   "mimetype": "text/x-python",
   "name": "python",
   "nbconvert_exporter": "python",
   "pygments_lexer": "ipython2",
   "version": "2.7.13"
  }
 },
 "nbformat": 4,
 "nbformat_minor": 2
}
