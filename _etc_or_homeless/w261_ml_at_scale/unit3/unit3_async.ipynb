{
 "cells": [
  {
   "cell_type": "markdown",
   "metadata": {},
   "source": [
    "### shuffle\n",
    "* partition\n",
    "* sort\n",
    "* combine\n",
    "\n",
    "### partition\n",
    "* hash\n",
    "\n",
    "### sort\n",
    "* merge sort basically\n",
    "\n",
    "### combine\n",
    "* combine outputs from mapper, and amongst mappers on a node\n",
    "* need to be associative, meaning that $(a + b) + c = a + (b + c) $"
   ]
  },
  {
   "cell_type": "markdown",
   "metadata": {},
   "source": [
    "### Applications\n",
    "* co-occurence matrix\n",
    "    * pairs - mappers emit pairs\n",
    "    * stripes - mappers emit a [b:1, c:1, d:1]\n",
    "        * more efficient but need to worry about memory"
   ]
  },
  {
   "cell_type": "code",
   "execution_count": null,
   "metadata": {
    "collapsed": true
   },
   "outputs": [],
   "source": []
  }
 ],
 "metadata": {
  "kernelspec": {
   "display_name": "Python 2",
   "language": "python",
   "name": "python2"
  },
  "language_info": {
   "codemirror_mode": {
    "name": "ipython",
    "version": 2
   },
   "file_extension": ".py",
   "mimetype": "text/x-python",
   "name": "python",
   "nbconvert_exporter": "python",
   "pygments_lexer": "ipython2",
   "version": "2.7.13"
  }
 },
 "nbformat": 4,
 "nbformat_minor": 2
}
