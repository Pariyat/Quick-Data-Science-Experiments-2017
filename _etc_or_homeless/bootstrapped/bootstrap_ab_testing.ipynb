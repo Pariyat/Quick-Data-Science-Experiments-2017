{
 "cells": [
  {
   "cell_type": "code",
   "execution_count": 4,
   "metadata": {
    "collapsed": true
   },
   "outputs": [],
   "source": [
    "%matplotlib inline\n",
    "import matplotlib.pyplot as plt\n",
    "import pandas as pd\n",
    "import numpy as np"
   ]
  },
  {
   "cell_type": "code",
   "execution_count": 2,
   "metadata": {
    "collapsed": true
   },
   "outputs": [],
   "source": [
    "import bootstrapped.bootstrap as bs\n",
    "import bootstrapped.compare_functions as bs_compare\n",
    "import bootstrapped.stats_functions as bs_stats"
   ]
  },
  {
   "cell_type": "code",
   "execution_count": 3,
   "metadata": {
    "collapsed": true
   },
   "outputs": [],
   "source": [
    "# little a/b test\n",
    "# score in test are 10% greater than ctrl (per record)\n",
    "# ctrl has 5x the number of records as test\n",
    "\n",
    "# 10% lift in test\n",
    "lift = 1.1\n",
    "test = np.random.binomial(100, p=0.2 * lift, size=10000) * 1.0\n",
    "ctrl = np.random.binomial(100, p=0.2, size=50000) * 1.0"
   ]
  },
  {
   "cell_type": "code",
   "execution_count": 5,
   "metadata": {
    "collapsed": false
   },
   "outputs": [
    {
     "data": {
      "text/plain": [
       "<matplotlib.legend.Legend at 0x108c00450>"
      ]
     },
     "execution_count": 5,
     "metadata": {},
     "output_type": "execute_result"
    },
    {
     "data": {
      "image/png": "[encoded data removed]",
      "text/plain": [
       "<matplotlib.figure.Figure at 0x108db9790>"
      ]
     },
     "metadata": {},
     "output_type": "display_data"
    }
   ],
   "source": [
    "bins = np.linspace(0, 40, 20)\n",
    "\n",
    "plt.hist(ctrl, bins=bins, label='Control')\n",
    "plt.hist(test, bins=bins, label='Test', color='orange')\n",
    "plt.title('Test/Ctrl Data')\n",
    "plt.legend()"
   ]
  },
  {
   "cell_type": "code",
   "execution_count": 6,
   "metadata": {
    "collapsed": false
   },
   "outputs": [
    {
     "name": "stdout",
     "output_type": "stream",
     "text": [
      "9.8881745178\n",
      "9.8881745178    (9.43668599094, 10.3396424979)\n"
     ]
    }
   ],
   "source": [
    "# run an a/b test simulation ignoring the lengths of the series (average)\n",
    "# just what is the 'typical' value\n",
    "# use percent change to compare test and control\n",
    "\n",
    "print(bs_compare.percent_change(test.mean(), ctrl.mean()))\n",
    "\n",
    "print(bs.bootstrap_ab(test, ctrl, bs_stats.mean, bs_compare.percent_change))"
   ]
  },
  {
   "cell_type": "code",
   "execution_count": null,
   "metadata": {
    "collapsed": true
   },
   "outputs": [],
   "source": []
  }
 ],
 "metadata": {
  "kernelspec": {
   "display_name": "Python 2",
   "language": "python",
   "name": "python2"
  },
  "language_info": {
   "codemirror_mode": {
    "name": "ipython",
    "version": 2
   },
   "file_extension": ".py",
   "mimetype": "text/x-python",
   "name": "python",
   "nbconvert_exporter": "python",
   "pygments_lexer": "ipython2",
   "version": "2.7.12"
  }
 },
 "nbformat": 4,
 "nbformat_minor": 2
}
