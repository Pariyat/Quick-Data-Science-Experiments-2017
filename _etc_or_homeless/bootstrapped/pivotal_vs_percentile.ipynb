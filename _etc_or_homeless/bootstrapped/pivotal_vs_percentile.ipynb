{
 "cells": [
  {
   "cell_type": "markdown",
   "metadata": {},
   "source": [
    "# Pivotal vs Percentile\n",
    "In this notebook we will explore the difference between the pivotal and percentile bootstrapping methods.\n",
    "tldr -\n",
    "\n",
    "* The percentile method generates a bunch of re-samples and esimates confidence intervals based on the percentile values of those re-samples.\n",
    "* The pivotal method is similar to percentile but does a correction for the fact that your input sample may not be a good representation of your population. Bootstrapped uses this as the default.\n",
    "\n",
    "\n",
    "We will show that the pviotal method has generally better power. This does come at a cost - the pivotal method can warp the confidence interval to give non-sencical interval values."
   ]
  },
  {
   "cell_type": "code",
   "execution_count": 2,
   "metadata": {
    "collapsed": true
   },
   "outputs": [],
   "source": [
    "%matplotlib inline\n",
    "import matplotlib.pyplot as plt\n",
    "\n",
    "import pandas as pd\n",
    "import numpy as np\n",
    "import numpy.random as npr"
   ]
  },
  {
   "cell_type": "code",
   "execution_count": 3,
   "metadata": {
    "collapsed": true
   },
   "outputs": [],
   "source": [
    "import bootstrapped.bootstrap as bs\n",
    "import bootstrapped.stats_functions as bs_stats\n",
    "import bootstrapped.power as bs_power"
   ]
  },
  {
   "cell_type": "markdown",
   "metadata": {},
   "source": [
    "## Setup\n",
    "\n",
    "The bootstrap is based on a sample of your larger population. A sample is only as good as how representitave it is. If you happen to be unlucky in your sample then you are going to make some very bad inferences!\n",
    "\n",
    "\n",
    "We pick the exponential distribution because it should differentiate the difference between the two methods somewhat. We will also look at an extreme case."
   ]
  },
  {
   "cell_type": "markdown",
   "metadata": {},
   "source": [
    "### pivotal CI\n",
    "* pick a pivot e.g. $\\hat{\\theta}$\n",
    "* calculate p-val under t-distribution"
   ]
  },
  {
   "cell_type": "code",
   "execution_count": 4,
   "metadata": {
    "collapsed": false
   },
   "outputs": [
    {
     "data": {
      "text/plain": [
       "<matplotlib.text.Text at 0x109326690>"
      ]
     },
     "execution_count": 4,
     "metadata": {},
     "output_type": "execute_result"
    },
    {
     "data": {
      "image/png": "[encoded data removed]",
      "text/plain": [
       "<matplotlib.figure.Figure at 0x1088e9f90>"
      ]
     },
     "metadata": {},
     "output_type": "display_data"
    }
   ],
   "source": [
    "population = np.random.exponential(scale=1000, size=500000)\n",
    "\n",
    "# Plot the population\n",
    "count, bins, ignored = plt.hist(population, 30, normed=True)\n",
    "\n",
    "plt.title('Distribution of the population')"
   ]
  },
  {
   "cell_type": "code",
   "execution_count": 5,
   "metadata": {
    "collapsed": true
   },
   "outputs": [],
   "source": [
    "population = pd.Series(population)\n"
   ]
  },
  {
   "cell_type": "code",
   "execution_count": 6,
   "metadata": {
    "collapsed": true
   },
   "outputs": [],
   "source": [
    "# Do a bunch of simpulations and track the percent of the time the error bars overlap the true mean\n",
    "def bootstrap_vs_pop_mean(population, num_samples, is_pivotal, num_loops=3000):\n",
    "    population_mean = population.mean()\n",
    "    pop_results = []\n",
    "\n",
    "    for _ in range(num_loops):\n",
    "        samples = population.sample(num_samples)\n",
    "        result = bs.bootstrap(samples.values, stat_func=bs_stats.mean, is_pivotal=is_pivotal)\n",
    "\n",
    "        # we want to 0 center this for our power plotting below\n",
    "        # we want our error bars to overlap zero\n",
    "        result = result - population_mean\n",
    "\n",
    "        pop_results.append(result)\n",
    "    return pop_results"
   ]
  },
  {
   "cell_type": "code",
   "execution_count": 7,
   "metadata": {
    "collapsed": true
   },
   "outputs": [],
   "source": [
    "def bounds_squared_distance(results):\n",
    "    '''The squared distance from zero for both the lower and the upper bound\n",
    "    This is a rough measure of how 'good' the confidence intervals are in terms of near misses vs extreme misses.\n",
    "    \n",
    "    It is minimized when (1) the confidence interval is symmetric over zero and (2) when it is narrow.\n",
    "    '''\n",
    "    return np.sum([r.upper_bound**2 for r in results]) + np.sum([r.lower_bound**2 for r in results])\n",
    "\n",
    "def squared_dist_ratio(x, y):\n",
    "    'Compare bounds_squared_distance for two sets of bootstrap results'\n",
    "    return bounds_squared_distance(x) / bounds_squared_distance(y)"
   ]
  },
  {
   "cell_type": "markdown",
   "metadata": {},
   "source": [
    "## Pivotal vs Percentile for very small input sample size - 10 elements"
   ]
  },
  {
   "cell_type": "code",
   "execution_count": null,
   "metadata": {
    "collapsed": true
   },
   "outputs": [],
   "source": [
    "pivotal_tiny_sample_count = bootstrap_vs_pop_mean(population, num_samples=10, is_pivotal=True)\n",
    "percentile_tiny_sample_count = bootstrap_vs_pop_mean(population, num_samples=10, is_pivotal=False)"
   ]
  },
  {
   "cell_type": "code",
   "execution_count": null,
   "metadata": {
    "collapsed": true
   },
   "outputs": [],
   "source": [
    "squared_dist_ratio(pivotal_tiny_sample_count, percentile_tiny_sample_count)"
   ]
  },
  {
   "cell_type": "code",
   "execution_count": null,
   "metadata": {
    "collapsed": true
   },
   "outputs": [],
   "source": []
  }
 ],
 "metadata": {
  "kernelspec": {
   "display_name": "Python 2",
   "language": "python",
   "name": "python2"
  },
  "language_info": {
   "codemirror_mode": {
    "name": "ipython",
    "version": 2
   },
   "file_extension": ".py",
   "mimetype": "text/x-python",
   "name": "python",
   "nbconvert_exporter": "python",
   "pygments_lexer": "ipython2",
   "version": "2.7.12"
  }
 },
 "nbformat": 4,
 "nbformat_minor": 2
}
