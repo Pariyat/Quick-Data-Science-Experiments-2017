{
 "cells": [
  {
   "cell_type": "markdown",
   "metadata": {},
   "source": [
    "[lec](http://www.cs.cornell.edu/courses/cs578/2007fa/CS578_knn_lecture.pdf)"
   ]
  },
  {
   "cell_type": "markdown",
   "metadata": {},
   "source": [
    "### Distance weighted KNN\n",
    "\n",
    "* instead of averaging k class labels, weigh the k via their distance\n",
    "* $\\frac{\\sum_i^k w_i class_i}{\\sum_i^k w_i}$, where $w_i = \\frac{1}{dist(x, x_i)}$"
   ]
  },
  {
   "cell_type": "markdown",
   "metadata": {},
   "source": [
    "### Locally weighted averaging\n",
    "\n",
    "* let $w_i = kernel(x, x_i)$\n",
    "* think about RBF regression"
   ]
  },
  {
   "cell_type": "markdown",
   "metadata": {},
   "source": [
    "## Euclidean distance assumptions and cons\n",
    "\n",
    "#### assumptions\n",
    "* give all attributes equal weight\n",
    "* assumes spherical classes\n",
    "\n",
    "#### weaknesses\n",
    "* some attributes are more / less important\n",
    "* some attributes have more / less noise\n",
    "\n",
    "### Weighted Euclidean Distance\n",
    "* $\\sqrt{\\sum_i w_i (c1_i - c2_i)^2 }$\n",
    "* ways to come up with $w_i$\n",
    "    * prior knowledge\n",
    "    * numerical optimization\n",
    "    * information gain of attribute\n",
    "* Information gain\n",
    "    * entropy is $\\sum_{d \\in classes} p_d log p_d$\n",
    "    * IG is $entropy(s) - \\sum_{v \\in valuesof(v)} \\frac{|s_v|}{|s|} entropy(s_v)$\n",
    "    * $|s|$ is the # of samples\n",
    "* Gain ratio (function of gain, weighted, see 4th slide on pg5)\n",
    "* gain-ratio weighted Euclidean distance"
   ]
  },
  {
   "cell_type": "code",
   "execution_count": null,
   "metadata": {
    "collapsed": true
   },
   "outputs": [],
   "source": []
  }
 ],
 "metadata": {
  "kernelspec": {
   "display_name": "Python 2",
   "language": "python",
   "name": "python2"
  },
  "language_info": {
   "codemirror_mode": {
    "name": "ipython",
    "version": 2
   },
   "file_extension": ".py",
   "mimetype": "text/x-python",
   "name": "python",
   "nbconvert_exporter": "python",
   "pygments_lexer": "ipython2",
   "version": "2.7.12"
  }
 },
 "nbformat": 4,
 "nbformat_minor": 2
}
