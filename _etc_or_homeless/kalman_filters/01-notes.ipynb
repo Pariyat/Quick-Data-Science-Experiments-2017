{
 "cells": [
  {
   "cell_type": "markdown",
   "metadata": {},
   "source": [
    "https://hub.binder-beta.omgwtf.in/user/91f90d7f-d8ee-4130-b853-65575517237c/notebooks/01-g-h-filter.ipynb"
   ]
  },
  {
   "cell_type": "markdown",
   "metadata": {},
   "source": [
    "𝚗𝚎𝚠⎯𝚎𝚜𝚝𝚒𝚖𝚊𝚝𝚎=𝚙𝚛𝚎𝚍𝚒𝚌𝚝𝚒𝚘𝚗+410(𝚖𝚎𝚊𝚜𝚞𝚛𝚎𝚖𝚎𝚗𝚝−𝚙𝚛𝚎𝚍𝚒𝚌𝚝𝚒𝚘𝚗)\n",
    "new_estimate=prediction+410(measurement−prediction)\n",
    " \n",
    "$y^{hat}_{t+1} = y^{hat}_t + \\frac{4}{10} (y_t - y^{hat}_t)$"
   ]
  },
  {
   "cell_type": "markdown",
   "metadata": {},
   "source": [
    "### g-h filter\n",
    "* g is the scaling we used for the measurement (weight in our example)\n",
    "* h is the scaling for the change in measurement over time (lbs/day in our example)."
   ]
  },
  {
   "cell_type": "markdown",
   "metadata": {},
   "source": []
  },
  {
   "cell_type": "markdown",
   "metadata": {},
   "source": []
  },
  {
   "cell_type": "markdown",
   "metadata": {},
   "source": []
  }
 ],
 "metadata": {
  "kernelspec": {
   "display_name": "Python 2",
   "language": "python",
   "name": "python2"
  },
  "language_info": {
   "codemirror_mode": {
    "name": "ipython",
    "version": 2
   },
   "file_extension": ".py",
   "mimetype": "text/x-python",
   "name": "python",
   "nbconvert_exporter": "python",
   "pygments_lexer": "ipython2",
   "version": "2.7.13"
  }
 },
 "nbformat": 4,
 "nbformat_minor": 2
}
