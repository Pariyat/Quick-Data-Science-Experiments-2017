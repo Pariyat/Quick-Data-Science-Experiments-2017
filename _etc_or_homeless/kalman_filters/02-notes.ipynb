{
 "cells": [
  {
   "cell_type": "markdown",
   "metadata": {},
   "source": [
    "https://hub.binder-beta.omgwtf.in/user/91f90d7f-d8ee-4130-b853-65575517237c/notebooks/02-Discrete-Bayes.ipynb"
   ]
  },
  {
   "cell_type": "markdown",
   "metadata": {},
   "source": [
    "* prior has to sum to 1 (e.g. 10x 10%s)"
   ]
  },
  {
   "cell_type": "markdown",
   "metadata": {},
   "source": [
    "### terminology\n",
    "* system - what we are trying to model - e.g. dog\n",
    "* state - current configuration - e.g. dog's location\n",
    "* The prediction is our new prior, $\\bar{x}$\n",
    "* $\\bar{x}_{k+1} = f_k() + x_k$\n",
    "    * $f_k()$ is the state propagation function for x\n",
    "    *  It describes how much the  xkxk  changes over one time step\n",
    "    * for instance, $f_x(v_s, t) = v_k * t$\n",
    "* "
   ]
  },
  {
   "cell_type": "code",
   "execution_count": 3,
   "metadata": {},
   "outputs": [
    {
     "name": "stdout",
     "output_type": "stream",
     "text": [
      "[ 0.   0.   0.   0.   0.1  0.8  0.1  0.   0.   0. ]\n"
     ]
    }
   ],
   "source": [
    "import numpy as np\n",
    "def predict_move(belief, move, p_under, p_correct, p_over):\n",
    "    n = len(belief)\n",
    "    prior = np.zeros(n)\n",
    "    for i in range(n):\n",
    "        prior[i] = (\n",
    "            belief[(i-move) % n]   * p_correct +\n",
    "            belief[(i-move-1) % n] * p_over +\n",
    "            belief[(i-move+1) % n] * p_under)      \n",
    "    return prior\n",
    "\n",
    "belief = [0., 0., 0., 1., 0., 0., 0., 0., 0., 0.]\n",
    "prior = predict_move(belief, 2, .1, .8, .1)\n",
    "print prior"
   ]
  },
  {
   "cell_type": "markdown",
   "metadata": {},
   "source": [
    "* convolution\n",
    "* $ (f \\ast g) (t) = \\int_0^t f(\\tau) \\, g(t-\\tau) \\, \\mathrm{d}\\tau$\n",
    "* "
   ]
  },
  {
   "cell_type": "code",
   "execution_count": null,
   "metadata": {
    "collapsed": true
   },
   "outputs": [],
   "source": []
  }
 ],
 "metadata": {
  "kernelspec": {
   "display_name": "Python 2",
   "language": "python",
   "name": "python2"
  },
  "language_info": {
   "codemirror_mode": {
    "name": "ipython",
    "version": 2
   },
   "file_extension": ".py",
   "mimetype": "text/x-python",
   "name": "python",
   "nbconvert_exporter": "python",
   "pygments_lexer": "ipython2",
   "version": "2.7.13"
  }
 },
 "nbformat": 4,
 "nbformat_minor": 2
}
