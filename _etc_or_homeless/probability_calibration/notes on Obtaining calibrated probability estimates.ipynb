{
 "cells": [
  {
   "cell_type": "markdown",
   "metadata": {},
   "source": [
    "[src](http://cseweb.ucsd.edu/~elkan/calibrated.pdf)"
   ]
  },
  {
   "cell_type": "markdown",
   "metadata": {},
   "source": [
    "### motivation\n",
    "* calibrated probability estimates are especially needed when a cost-sensitive decision must be made\n",
    "* e.g. if it costs 0.68 dollar to ask for a donation from x, and the prob of donation is $p(d | x)$ and the amount is $y(x)$\n",
    "* then we need to find $p(d | x) y(x) > 0.68$"
   ]
  },
  {
   "cell_type": "markdown",
   "metadata": {},
   "source": [
    "### decision trees need calibration\n",
    "* predicts $p = \\frac{k}{n}$\n",
    "* high bias and high variance\n",
    "    * high bias - the splits try to make the leaves more homogenous, so the prob \n",
    "    * high variance - # of training example in leaves are small\n",
    "* we can smooth the DT predictions\n",
    "* from a bayesian point of view, a conditional probability estimate should be smoothed towards the corresponding unconditional probability (called m-estimation)\n",
    "    * e.g. $\\frac{k + 0.7}{n + 1}$, so when n is small, its smoothed towards 0.7"
   ]
  },
  {
   "cell_type": "markdown",
   "metadata": {},
   "source": [
    "### histogram calibration\n",
    "* sort the training examples according to their scores and divide the sorted set into b subsets of equal size called bins"
   ]
  },
  {
   "cell_type": "markdown",
   "metadata": {},
   "source": []
  },
  {
   "cell_type": "markdown",
   "metadata": {},
   "source": []
  },
  {
   "cell_type": "markdown",
   "metadata": {},
   "source": []
  }
 ],
 "metadata": {
  "kernelspec": {
   "display_name": "Python 2",
   "language": "python",
   "name": "python2"
  },
  "language_info": {
   "codemirror_mode": {
    "name": "ipython",
    "version": 2
   },
   "file_extension": ".py",
   "mimetype": "text/x-python",
   "name": "python",
   "nbconvert_exporter": "python",
   "pygments_lexer": "ipython2",
   "version": "2.7.12"
  }
 },
 "nbformat": 4,
 "nbformat_minor": 2
}
