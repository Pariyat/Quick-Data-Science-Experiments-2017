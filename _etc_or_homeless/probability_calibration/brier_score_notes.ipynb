{
 "cells": [
  {
   "cell_type": "markdown",
   "metadata": {},
   "source": [
    "[src](http://www.statisticshowto.com/brier-score/)\n",
    "[implementation](https://github.com/scikit-learn/scikit-learn/blob/14031f6/sklearn/metrics/classification.py#L1878)"
   ]
  },
  {
   "cell_type": "markdown",
   "metadata": {},
   "source": [
    "**brier**: the average gap (mean squared difference) between forecast probabilities and actual outcomes"
   ]
  },
  {
   "cell_type": "markdown",
   "metadata": {},
   "source": [
    "* $BS = \\frac{1}{N} \\sum_i^N (p_i - o_i)^2$\n",
    "* MSE(predicted - actual)\n",
    "* on average, how off am I?"
   ]
  },
  {
   "cell_type": "markdown",
   "metadata": {},
   "source": [
    "### Thoughts\n",
    "* this has nothing to do with prob calibration???\n",
    "* what does this have to offer that logloss doesn't? besides not having a log..."
   ]
  },
  {
   "cell_type": "code",
   "execution_count": null,
   "metadata": {
    "collapsed": true
   },
   "outputs": [],
   "source": []
  }
 ],
 "metadata": {
  "kernelspec": {
   "display_name": "Python 2",
   "language": "python",
   "name": "python2"
  },
  "language_info": {
   "codemirror_mode": {
    "name": "ipython",
    "version": 2
   },
   "file_extension": ".py",
   "mimetype": "text/x-python",
   "name": "python",
   "nbconvert_exporter": "python",
   "pygments_lexer": "ipython2",
   "version": "2.7.12"
  }
 },
 "nbformat": 4,
 "nbformat_minor": 2
}
