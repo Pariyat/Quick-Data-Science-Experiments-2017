{
 "cells": [
  {
   "cell_type": "markdown",
   "metadata": {},
   "source": [
    "[src](http://www.datascienceassn.org/sites/default/files/Predicting%20good%20probabilities%20with%20supervised%20learning.pdf)"
   ]
  },
  {
   "cell_type": "markdown",
   "metadata": {},
   "source": [
    "### Abstract\n",
    "* maximum margin methods such as boosted trees and boosted stumps push probability mass **away** from 0 and 1\n",
    "* Naive Bayes, which make unrealistic independence assumptions, push probabilities **toward** 0 and 1\n",
    "\n",
    "### Intro\n",
    "* Platt Scaling is effective when the distortion is sigmoid-shaped\n",
    "* Isotonic Regression can correct any monotonic distortion (but more prone to overfit)"
   ]
  },
  {
   "cell_type": "markdown",
   "metadata": {},
   "source": [
    "### Platt's\n",
    "* to avoid overfitting, $y_{+} = \\frac{N_{+} + 1}{N_{-} + 2}$ and $y_{-} = \\frac{1}{N_{-} + 2}$ are used"
   ]
  },
  {
   "cell_type": "markdown",
   "metadata": {},
   "source": [
    "### Boosted trees\n",
    "* see histogram and reliability diagram on pg4\n",
    "* tends to push away from 0, 1\n",
    "* **generating a reliability diagram is important** a straight line is desired, just need to discretize the probability space to achieve that"
   ]
  },
  {
   "cell_type": "markdown",
   "metadata": {},
   "source": [
    "### Bagged trees\n",
    "* since bagged trees are well calibrated, we can say that decision trees are well-calibrated on expectation\n",
    "* trees are typically not well calibrated due to high variance in a single tree instance "
   ]
  },
  {
   "cell_type": "markdown",
   "metadata": {},
   "source": [
    "Platt's is better for small to medium dataset, because it prevents overfitting"
   ]
  },
  {
   "cell_type": "code",
   "execution_count": null,
   "metadata": {
    "collapsed": true
   },
   "outputs": [],
   "source": []
  }
 ],
 "metadata": {
  "kernelspec": {
   "display_name": "Python 2",
   "language": "python",
   "name": "python2"
  },
  "language_info": {
   "codemirror_mode": {
    "name": "ipython",
    "version": 2
   },
   "file_extension": ".py",
   "mimetype": "text/x-python",
   "name": "python",
   "nbconvert_exporter": "python",
   "pygments_lexer": "ipython2",
   "version": "2.7.12"
  }
 },
 "nbformat": 4,
 "nbformat_minor": 2
}
