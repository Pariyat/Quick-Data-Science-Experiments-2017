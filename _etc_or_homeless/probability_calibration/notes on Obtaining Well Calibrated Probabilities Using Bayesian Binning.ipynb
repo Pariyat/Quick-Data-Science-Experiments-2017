{
 "cells": [
  {
   "cell_type": "markdown",
   "metadata": {},
   "source": [
    "[src](https://www.ncbi.nlm.nih.gov/pmc/articles/PMC4410090/)"
   ]
  },
  {
   "cell_type": "markdown",
   "metadata": {},
   "source": [
    "### motivation\n",
    "* a rational agent maximizes its utility, need to develop an accurate probabilistic prediction model"
   ]
  },
  {
   "cell_type": "markdown",
   "metadata": {},
   "source": [
    "* reliability curve is good"
   ]
  },
  {
   "cell_type": "markdown",
   "metadata": {},
   "source": [
    "* weakness of histogram is that - by considering only one fixed bin discretization. one may not be able to guess correctly the optimal bin width\n",
    "* bayesian binning basically considers multiple different binnings and their combination"
   ]
  },
  {
   "cell_type": "markdown",
   "metadata": {},
   "source": [
    "### bayesian binning\n",
    "* basically try a bunch of bin sizes, M {B, pa, theta}\n",
    "* $Score(M) = P(M) P(D | M)$\n",
    "* $P(M)$ is a prioer sampled uniformly\n",
    "* $P(D | M)$ is a complicated marginal likelihood function that requires some bayesian network knowledge (see this again when you are better)\n",
    "* $P(z = 1 | y) = \\sum_{i=1}^T \\frac{Score(M_i)}{\\sum_j^T Score(M_j)} P(z=1 | y, M_i)$"
   ]
  },
  {
   "cell_type": "markdown",
   "metadata": {},
   "source": [
    "### calibration measures\n",
    "* expected calibration error (ECE)\n",
    "    * $ECE = \\sum_i^K P(i) \\| o_i - e_i \\| $\n",
    "* maximum calibration error"
   ]
  },
  {
   "cell_type": "markdown",
   "metadata": {},
   "source": []
  },
  {
   "cell_type": "code",
   "execution_count": null,
   "metadata": {
    "collapsed": true
   },
   "outputs": [],
   "source": []
  }
 ],
 "metadata": {
  "kernelspec": {
   "display_name": "Python 2",
   "language": "python",
   "name": "python2"
  },
  "language_info": {
   "codemirror_mode": {
    "name": "ipython",
    "version": 2
   },
   "file_extension": ".py",
   "mimetype": "text/x-python",
   "name": "python",
   "nbconvert_exporter": "python",
   "pygments_lexer": "ipython2",
   "version": "2.7.12"
  }
 },
 "nbformat": 4,
 "nbformat_minor": 2
}
