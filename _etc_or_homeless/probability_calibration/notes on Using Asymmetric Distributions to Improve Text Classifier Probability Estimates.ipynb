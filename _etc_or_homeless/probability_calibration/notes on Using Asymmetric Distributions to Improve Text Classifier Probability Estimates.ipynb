{
 "cells": [
  {
   "cell_type": "markdown",
   "metadata": {},
   "source": [
    "[src](https://pdfs.semanticscholar.org/0ad0/d7431ca1b49617e6e5199c0ab5fcec18564f.pdf)"
   ]
  },
  {
   "cell_type": "markdown",
   "metadata": {},
   "source": [
    "### motivation\n",
    "* when the scores outputted by the clf is bad, the distribution of scores for pos and neg classes can look very different"
   ]
  },
  {
   "cell_type": "markdown",
   "metadata": {},
   "source": [
    "### method\n",
    "* apply bayes rule $p(s | +) = \\frac{p(s | +)p(+)}{p(s)}$\n",
    "* we can model $p(s | +)$ and $p(s | -)$ via symmetric functions, however, they are often not symmetric"
   ]
  },
  {
   "cell_type": "markdown",
   "metadata": {},
   "source": [
    "### asymmetric methods\n",
    "* laplace $f(x | \\mu, \\theta) = \\frac{1}{2b} exp(- \\frac{|x - \\mu|}{b})$\n",
    "* we can make laplace asymmetric to represent $p(s | +)$ and $p(s | -)$\n",
    "* if x <= $\\theta$, $\\frac{\\beta \\gamma}{\\beta + \\gamma} exp(-\\beta(\\theta - x)) $\n",
    "* else $\\frac{\\beta \\gamma}{\\beta + \\gamma} exp(-\\theta(x - \\theta)) $"
   ]
  },
  {
   "cell_type": "code",
   "execution_count": null,
   "metadata": {
    "collapsed": true
   },
   "outputs": [],
   "source": []
  },
  {
   "cell_type": "code",
   "execution_count": null,
   "metadata": {
    "collapsed": true
   },
   "outputs": [],
   "source": []
  }
 ],
 "metadata": {
  "kernelspec": {
   "display_name": "Python 2",
   "language": "python",
   "name": "python2"
  },
  "language_info": {
   "codemirror_mode": {
    "name": "ipython",
    "version": 2
   },
   "file_extension": ".py",
   "mimetype": "text/x-python",
   "name": "python",
   "nbconvert_exporter": "python",
   "pygments_lexer": "ipython2",
   "version": "2.7.12"
  }
 },
 "nbformat": 4,
 "nbformat_minor": 2
}
