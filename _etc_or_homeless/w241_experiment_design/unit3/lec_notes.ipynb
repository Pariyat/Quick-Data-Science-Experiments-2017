{
 "cells": [
  {
   "cell_type": "markdown",
   "metadata": {},
   "source": [
    "- Reading and Async Talk: \n",
    "  - RI\n",
    "  - Sharp Null\n",
    "  - (Standard Error?) \n",
    "  - Power\n",
    "\n",
    "- Questions? \n",
    "  - sssssharp null. \n",
    "  - confidence interval \n",
    "  - p-values for RI \n",
    "  - power \n"
   ]
  },
  {
   "cell_type": "markdown",
   "metadata": {},
   "source": [
    "### randomization inference\n",
    "* calculate all permutations e.g. 6 choose 1 + 6 choose 2...etc.\n",
    "* can calulate a p-val by counting treatment "
   ]
  },
  {
   "cell_type": "markdown",
   "metadata": {},
   "source": [
    "### sharp null\n",
    "* $Y_1 = Y_0$ --> no treatment effect\n",
    "\n",
    "* sample repeatedly regardless of if a subject went into the control or treatment\n",
    "* sharp null says that there's no difference between control and treatment\n",
    "    * so if you have 10 control an 10 treatment, then if you sample randomly and get the average treamtnet effect ATE\n",
    "    * if there's no treatment effect, you'd get 0 mean as the ATE"
   ]
  },
  {
   "cell_type": "markdown",
   "metadata": {},
   "source": [
    "- Lewis and Rao\n",
    "  - On the topic of statistical power, several questions:\n",
    "    - What is statistical power?\n",
    "    - How can we fail to detect the profitability of a profitable campaign, even with millions of observations?\n",
    "    - Which two attributes of data reduce the statistical uncertainty of estimates?\n",
    "    - Why is it harder to show that a campaign is profitable than to show that its effects are statistically significant?\n",
    "- Breakout Problems #1\n",
    "    FE 3.1, a-c, e\n",
    "\n",
    "- Breakout Coding #1\n",
    "\n",
    "gg <- read.csv(\"http://hdl.handle.net/10079/ghx3frr\")\n",
    "\n",
    "  - Setup: \n",
    "    - Data: ./data/GerberGreenBook_Chapter3_Donations.csv \n",
    "    - Code: ./code/week3shell.R\n",
    "  - TODO: \n",
    "    - Compute the ATE\n",
    "    - Compute the p-value under RI\n",
    "    - Visualize the sampling distribution with a histogram\n",
    "    - Why is the distribution bimodal?\n",
    "    - Why does RI provide a /better/ concept of uncertainty than,\n",
    "      say, asymptotics, in this case? \n",
    "\n",
    "- Coding Problem for Tuesday OH\n",
    "  1. FE 3.5: a,b,d,e \n"
   ]
  },
  {
   "cell_type": "code",
   "execution_count": null,
   "metadata": {
    "collapsed": true
   },
   "outputs": [],
   "source": []
  },
  {
   "cell_type": "code",
   "execution_count": null,
   "metadata": {
    "collapsed": true
   },
   "outputs": [],
   "source": []
  },
  {
   "cell_type": "code",
   "execution_count": null,
   "metadata": {
    "collapsed": true
   },
   "outputs": [],
   "source": []
  }
 ],
 "metadata": {
  "kernelspec": {
   "display_name": "Python 2",
   "language": "python",
   "name": "python2"
  },
  "language_info": {
   "codemirror_mode": {
    "name": "ipython",
    "version": 2
   },
   "file_extension": ".py",
   "mimetype": "text/x-python",
   "name": "python",
   "nbconvert_exporter": "python",
   "pygments_lexer": "ipython2",
   "version": "2.7.13"
  }
 },
 "nbformat": 4,
 "nbformat_minor": 2
}
