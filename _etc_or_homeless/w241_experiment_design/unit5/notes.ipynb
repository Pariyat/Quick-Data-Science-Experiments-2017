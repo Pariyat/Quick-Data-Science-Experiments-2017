{
 "cells": [
  {
   "cell_type": "markdown",
   "metadata": {},
   "source": [
    "- Questions from PS2?\n",
    "- Questions on Reading/Async\n",
    "- RI => Regression Pivot\n",
    "  - Covariate Balance Check: Randomization\n",
    "  - Logic of Covariates\n",
    "  - Small Covariate Example \n",
    "  - Coding India Incentives\n",
    "  - D-in-D\n",
    "    - Coding \n",
    "  - O-Power\n",
    "- Forming Teams \n",
    "\n",
    "* Questions: \n",
    "\n",
    "\n",
    "* Old Questions: \n",
    "  - Covariates and SEs. \n",
    "  - DinD: Can we use _anything?_ What's the difference if we're just using *some* variable measured pre-treatment? \n",
    "  - Experimental Data vs. Predictive Data? Are we going to overfit? \n",
    "  - Is this the same thing as a matched data t-test? \n",
    "    \n"
   ]
  },
  {
   "cell_type": "code",
   "execution_count": null,
   "metadata": {
    "collapsed": true
   },
   "outputs": [],
   "source": []
  },
  {
   "cell_type": "markdown",
   "metadata": {},
   "source": [
    "* $\\hat{B} = B^\\star + OVB $\n",
    "* $\\hat{B} = B^\\star + B_{RO} * B_{OY}$\n",
    "    * So beta_OY is the correlation you get betwen the outcome and the omitted variable\n",
    "    * \"the regression coefficient in the regression of O on Y\"\n",
    "    * randomized trial makes $B_{RO} = 0$"
   ]
  },
  {
   "cell_type": "code",
   "execution_count": null,
   "metadata": {
    "collapsed": true
   },
   "outputs": [],
   "source": []
  }
 ],
 "metadata": {
  "kernelspec": {
   "display_name": "Python 2",
   "language": "python",
   "name": "python2"
  },
  "language_info": {
   "codemirror_mode": {
    "name": "ipython",
    "version": 2
   },
   "file_extension": ".py",
   "mimetype": "text/x-python",
   "name": "python",
   "nbconvert_exporter": "python",
   "pygments_lexer": "ipython2",
   "version": "2.7.13"
  }
 },
 "nbformat": 4,
 "nbformat_minor": 2
}
