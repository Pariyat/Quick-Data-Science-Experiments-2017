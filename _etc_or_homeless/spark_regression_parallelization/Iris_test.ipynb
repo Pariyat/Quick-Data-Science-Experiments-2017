{
 "cells": [
  {
   "cell_type": "code",
   "execution_count": 1,
   "metadata": {
    "collapsed": true
   },
   "outputs": [],
   "source": [
    "from sklearn.datasets import load_iris\n",
    "import numpy as np"
   ]
  },
  {
   "cell_type": "code",
   "execution_count": 2,
   "metadata": {},
   "outputs": [
    {
     "data": {
      "text/plain": [
       "[[5.1, 3.5, 0.0],\n",
       " [4.9, 3.0, 0.0],\n",
       " [4.7, 3.2, 0.0],\n",
       " [4.6, 3.1, 0.0],\n",
       " [5.0, 3.6, 0.0],\n",
       " [5.4, 3.9, 0.0],\n",
       " [4.6, 3.4, 0.0],\n",
       " [5.0, 3.4, 0.0],\n",
       " [4.4, 2.9, 0.0],\n",
       " [4.9, 3.1, 0.0]]"
      ]
     },
     "execution_count": 2,
     "metadata": {},
     "output_type": "execute_result"
    }
   ],
   "source": [
    "data = load_iris()\n",
    "X = data.data[:,0:2]\n",
    "y = data.target.reshape(-1, 1)\n",
    "X = np.concatenate((X, y), axis=1)\n",
    "X = X.tolist()\n",
    "X[:10] # the 3rd column is the class of flowers {0,1,2}"
   ]
  },
  {
   "cell_type": "code",
   "execution_count": 3,
   "metadata": {
    "collapsed": true
   },
   "outputs": [],
   "source": [
    "rdd = sc.parallelize(X)"
   ]
  },
  {
   "cell_type": "code",
   "execution_count": 4,
   "metadata": {},
   "outputs": [
    {
     "data": {
      "text/plain": [
       "[[5.1, 3.5, 0.0],\n",
       " [4.9, 3.0, 0.0],\n",
       " [4.7, 3.2, 0.0],\n",
       " [4.6, 3.1, 0.0],\n",
       " [5.0, 3.6, 0.0]]"
      ]
     },
     "execution_count": 4,
     "metadata": {},
     "output_type": "execute_result"
    }
   ],
   "source": [
    "rdd.take(5)"
   ]
  },
  {
   "cell_type": "code",
   "execution_count": 5,
   "metadata": {
    "collapsed": true
   },
   "outputs": [],
   "source": [
    "mapping = {0.0:0, 1.0:1, 2.0:2}\n",
    "\n",
    "def partitioner(x):\n",
    "    return mapping[x]"
   ]
  },
  {
   "cell_type": "code",
   "execution_count": 6,
   "metadata": {
    "collapsed": true
   },
   "outputs": [],
   "source": [
    "rdd = rdd.map(lambda row: (row[-1], row)).partitionBy(len(mapping), partitioner)"
   ]
  },
  {
   "cell_type": "code",
   "execution_count": 7,
   "metadata": {},
   "outputs": [
    {
     "data": {
      "text/plain": [
       "[(0.0, [5.1, 3.5, 0.0])]"
      ]
     },
     "execution_count": 7,
     "metadata": {},
     "output_type": "execute_result"
    }
   ],
   "source": [
    "rdd.take(1) # each partition in the rdd has data with the same id"
   ]
  },
  {
   "cell_type": "code",
   "execution_count": 15,
   "metadata": {
    "collapsed": true
   },
   "outputs": [],
   "source": [
    "def regression(iter):\n",
    "    X = []\n",
    "    Y = []\n",
    "    myid = -1\n",
    "    for i, (x, y, _) in iter:\n",
    "        myid = i\n",
    "        X += [x]\n",
    "        Y += [y]\n",
    "    X = np.array(X)\n",
    "    Y = np.array(Y)\n",
    "    ## do my linear regression here, with the X and Y\n",
    "    mycoef = [3.3333333]\n",
    "    return [(myid, mycoef)]"
   ]
  },
  {
   "cell_type": "code",
   "execution_count": 16,
   "metadata": {},
   "outputs": [
    {
     "data": {
      "text/plain": [
       "[(0.0, [3.3333333]), (1.0, [3.3333333]), (2.0, [3.3333333])]"
      ]
     },
     "execution_count": 16,
     "metadata": {},
     "output_type": "execute_result"
    }
   ],
   "source": [
    "rdd.mapPartitions(regression).collect()"
   ]
  },
  {
   "cell_type": "code",
   "execution_count": null,
   "metadata": {
    "collapsed": true
   },
   "outputs": [],
   "source": []
  }
 ],
 "metadata": {
  "kernelspec": {
   "display_name": "Python 2",
   "language": "python",
   "name": "python2"
  },
  "language_info": {
   "codemirror_mode": {
    "name": "ipython",
    "version": 2
   },
   "file_extension": ".py",
   "mimetype": "text/x-python",
   "name": "python",
   "nbconvert_exporter": "python",
   "pygments_lexer": "ipython2",
   "version": "2.7.13"
  }
 },
 "nbformat": 4,
 "nbformat_minor": 2
}
