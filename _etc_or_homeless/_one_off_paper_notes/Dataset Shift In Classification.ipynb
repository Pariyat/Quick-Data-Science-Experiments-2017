{
 "cells": [
  {
   "cell_type": "markdown",
   "metadata": {},
   "source": [
    "[slides](http://iwann.ugr.es/2011/pdf/InvitedTalk-FHerrera-IWANN11.pdf)"
   ]
  },
  {
   "cell_type": "markdown",
   "metadata": {},
   "source": [
    "* Dataset shift: when training and test distributions are different"
   ]
  },
  {
   "cell_type": "markdown",
   "metadata": {},
   "source": [
    "# 1. The Problem of Dataset Shift The Problem of Dataset Shift"
   ]
  },
  {
   "cell_type": "markdown",
   "metadata": {},
   "source": [
    "* There is a change in data distribution between training and test sets (Dataset shift) training and test sets (Dataset shift)\n",
    "    * Train a new classifier for the test set\n",
    "    * Adapt the classifier\n",
    "    * Modify the data in the test set"
   ]
  },
  {
   "cell_type": "markdown",
   "metadata": {},
   "source": [
    "# 2. Data Shift: Literature Review"
   ]
  },
  {
   "cell_type": "markdown",
   "metadata": {},
   "source": [
    "Dataset shift: when training and test joint distributions are different distributions are different. \n",
    "\n",
    "$P_{train}(X, y) \\neq P_{test}(X, y) $"
   ]
  },
  {
   "cell_type": "markdown",
   "metadata": {},
   "source": [
    "# 3. Characterizing the change Types of Dataset Shift"
   ]
  },
  {
   "cell_type": "markdown",
   "metadata": {},
   "source": [
    "### types:\n",
    "1. Covariate shift\n",
    "2. Prior probability shift\n",
    "3. Concept shift\n",
    "\n",
    "The **joint distribution** $P(X, Y)$ is important in many type of modeling problems.\n",
    "\n",
    "The joint can be written as 2 types:\n",
    "* X -> Y problem: $P(y|x) P(x)$\n",
    "    * This is a type of prediction problem: given x, give me y\n",
    "* Y -> X problem: $P(x|y) P(y)$\n",
    "    * Given y, give me x\n",
    "\n",
    "\n",
    "### Covariate shift:\n",
    "* changes in the distribution of the input variables x\n",
    "* appears in $X \\rightarrow Y$ problems\n",
    "* if data is generated via $P(y|x) P(x)$, but the distribution of X changes\n",
    "* $P_{train}(x) \\neq P_{test}(x)$ and $P_{train}(y|x) = P_{test}(y|x)$\n",
    "* extrapolation can be a main cause (e.g. trained on $10 <= x <= 20$ but tested on $20 <= x <= 25$)\n",
    "\n",
    "### Prior probability shift\n",
    "* changes in the distribution of the class variable class variable y\n",
    "* appears in $Y \\rightarrow X$ problems\n",
    "* $P_{train}(y) \\neq P_{test}(y)$ and $P_{train}(x|y) = P_{test}(x|y)$\n",
    "* e.g. $P_{train}(y) = 0.5$ and $P_{test}(y) = 0.8$\n",
    "\n",
    "### Concept shift\n",
    "* when the relationship between the input and class variables change\n",
    "* hardest to deal with\n",
    "* $P_{train}(x | y) \\neq P_{test}(x | y)$ or $P_{train}(y | x) \\neq P_{test}(y | x)$\n"
   ]
  },
  {
   "cell_type": "markdown",
   "metadata": {},
   "source": [
    "# 4. Causes of Dataset Shift"
   ]
  },
  {
   "cell_type": "markdown",
   "metadata": {},
   "source": [
    "* Sample selection bias\n",
    "    * training examples have been obtained through a biased method\n",
    "    * systematic flaw in the process of data collection\n",
    "    * Let s be a binary selection variable, where $s=1$ means selected and $s=0$ means rejected\n",
    "    * $P_{train} = P(s=1|x,y) P(y | x) P(x)$\n",
    "    \n",
    "  \n",
    "\n",
    "* Non-stationary environments\n",
    "    * training and test environments are different\n",
    "    * temporal or spatial changes \n",
    "    * temporal example: stock market for today vs yesterday  \n",
    "    * spatial example: detecting faces of people in suits vs people in vacation clothing\n",
    "    \n"
   ]
  },
  {
   "cell_type": "markdown",
   "metadata": {
    "collapsed": true
   },
   "source": [
    "* Solutions for sample selection bias\n",
    "    * reweight the source domain (training) data\n",
    "        * Kernel Mean Match (KMM) can estimate $\\frac{P_{test}(X)}{P_{train}(X)}$ directly [more reading](http://icml.cc/2012/papers/330.pdf)\n",
    "        \n",
    "* Non-stationary environments\n",
    "    * occurs often for adversarial classification problems (e.g. spam, network-intrusion)\n",
    "        * adversary tries to work around the system"
   ]
  },
  {
   "cell_type": "markdown",
   "metadata": {
    "collapsed": true
   },
   "source": [
    "# 5. Dataset Shift: Some approaches"
   ]
  },
  {
   "cell_type": "markdown",
   "metadata": {},
   "source": [
    "* Methods for determining the existence Dataset Shift between two datasets\n",
    "* Dataset shift solvers\n",
    "* Prior probability shift analysis"
   ]
  },
  {
   "cell_type": "markdown",
   "metadata": {},
   "source": [
    "### Methods for determining datashift\n",
    "* Correspondence tracing [paper](https://www.cs.sfu.ca/~wangk/pub/sdm03b1.pdf)\n",
    "    * create rules\n",
    "* Conceptual equivalence [paper](https://pdfs.semanticscholar.org/5f69/1bd987c4562198d9677401254c847d9460b2.pdf)\n",
    "    * learn a representation of each group's concept,\n",
    "* Statistical framework [paper](http://comp.social.gatech.edu/papers/Streaming-Twitter-Stats.pdf)\n",
    "    * generate probabilities for data and do statistical tests"
   ]
  },
  {
   "cell_type": "markdown",
   "metadata": {},
   "source": [
    "* covariate shift solvers [slides 51 - 55] REALLY GOOD!\n",
    "* "
   ]
  },
  {
   "cell_type": "code",
   "execution_count": null,
   "metadata": {
    "collapsed": true
   },
   "outputs": [],
   "source": []
  }
 ],
 "metadata": {
  "kernelspec": {
   "display_name": "Python 2",
   "language": "python",
   "name": "python2"
  },
  "language_info": {
   "codemirror_mode": {
    "name": "ipython",
    "version": 2
   },
   "file_extension": ".py",
   "mimetype": "text/x-python",
   "name": "python",
   "nbconvert_exporter": "python",
   "pygments_lexer": "ipython2",
   "version": "2.7.12"
  }
 },
 "nbformat": 4,
 "nbformat_minor": 2
}
