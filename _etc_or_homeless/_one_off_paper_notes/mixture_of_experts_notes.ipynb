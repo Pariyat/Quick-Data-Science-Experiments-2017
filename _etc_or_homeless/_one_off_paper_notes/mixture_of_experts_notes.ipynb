{
 "cells": [
  {
   "cell_type": "markdown",
   "metadata": {},
   "source": [
    "[src](https://people.cs.pitt.edu/~milos/courses/cs2750-Spring04/lectures/class22.pdf)"
   ]
  },
  {
   "cell_type": "markdown",
   "metadata": {},
   "source": [
    "### Mixture of Experts Model\n",
    "* covers different input regions with different learners\n",
    "* \"soft switching\" between learners\n",
    "* k learners + a gating network that combines the k predictions\n",
    "* gating function gives probabilities\n",
    "    * $\\sum_i^k g(x) = 1$, note: it does the gating off the input, not the predictions "
   ]
  },
  {
   "cell_type": "markdown",
   "metadata": {},
   "source": [
    "### softmax gating network\n",
    "* assume expert is linear, and predicts a gaussian $u_i = \\theta_i^T x$\n",
    "* gating network $g_i(x) = \\frac{exp(\\eta_i^T x)}{\\sum_j^k exp(\\eta_j^T x)} = P(\\omega_i | x, \\eta)$\n",
    "* likelihood of y is $P(y | x, \\Theta, \\eta) = \\sum_i^k P(\\omega_i | x, \\eta) P(y | x, \\omega, \\Theta) $\n",
    "* gradient descent update: $\\theta_{ij} <- \\theta_{ij} + \\alpha_{ij} h_i (y - u)x_i$, where $h_i$ is the responsibility of this learn\n",
    "    * $h_i = \\frac{g_i(x) p(y | x, \\omega_i, \\theta)}{\\sum_j^k g_j(x) p(y | x, \\omega_j, \\theta)}$, this is the responsibility\n",
    "* can also be solved via EM"
   ]
  },
  {
   "cell_type": "markdown",
   "metadata": {},
   "source": [
    "### hierarchical mixture of experts\n",
    "* multiple levels of gating network?"
   ]
  },
  {
   "cell_type": "markdown",
   "metadata": {},
   "source": []
  },
  {
   "cell_type": "code",
   "execution_count": null,
   "metadata": {
    "collapsed": true
   },
   "outputs": [],
   "source": []
  }
 ],
 "metadata": {
  "kernelspec": {
   "display_name": "Python 2",
   "language": "python",
   "name": "python2"
  },
  "language_info": {
   "codemirror_mode": {
    "name": "ipython",
    "version": 2
   },
   "file_extension": ".py",
   "mimetype": "text/x-python",
   "name": "python",
   "nbconvert_exporter": "python",
   "pygments_lexer": "ipython2",
   "version": "2.7.12"
  }
 },
 "nbformat": 4,
 "nbformat_minor": 2
}
