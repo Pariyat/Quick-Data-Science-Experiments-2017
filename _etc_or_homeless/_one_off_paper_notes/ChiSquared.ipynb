{
 "cells": [
  {
   "cell_type": "markdown",
   "metadata": {},
   "source": [
    "[src](http://www.radford.edu/rsheehy/Gen_flash/Tutorials/Chi-Square_tutorial/x2-tut.htm)"
   ]
  },
  {
   "cell_type": "markdown",
   "metadata": {},
   "source": [
    "## Introduction\n",
    "* chisquare is used to test the goodness of fit of data to a model\n",
    "* They estimate the probability of observing your results (or results that are less likely) given your underlying hypothesis."
   ]
  },
  {
   "cell_type": "markdown",
   "metadata": {},
   "source": [
    "## Chisquare distribution\n",
    "* complicated math formula, like F and t\n",
    "* but for different DF, have critical value $\\alpha$ and p-value"
   ]
  },
  {
   "cell_type": "markdown",
   "metadata": {},
   "source": [
    "## A Simple Goodness-of-Fit Chi-square Test\n",
    "* $\\sum_i \\frac{(obs_i - exp_i)^2}{exp_i}$"
   ]
  },
  {
   "cell_type": "markdown",
   "metadata": {},
   "source": [
    "# Chisquare for feature selection\n",
    "* [src](https://nlp.stanford.edu/IR-book/html/htmledition/feature-selectionchi2-feature-selection-1.html)"
   ]
  },
  {
   "cell_type": "markdown",
   "metadata": {},
   "source": [
    "* events A and B are said to be independent if $P(AB) = P(A)P(B)$ or $P(A|B) = P(A)$\n",
    "* for instance if A and B are both binary variables\n",
    "    * $N_{a=i,b=j}$ is the observed\n",
    "    * $E_{a=i,b=j} = N * P(a=i) * P(b=j)$ is the expected"
   ]
  }
 ],
 "metadata": {
  "kernelspec": {
   "display_name": "Python 2",
   "language": "python",
   "name": "python2"
  },
  "language_info": {
   "codemirror_mode": {
    "name": "ipython",
    "version": 2
   },
   "file_extension": ".py",
   "mimetype": "text/x-python",
   "name": "python",
   "nbconvert_exporter": "python",
   "pygments_lexer": "ipython2",
   "version": "2.7.13"
  }
 },
 "nbformat": 4,
 "nbformat_minor": 2
}
