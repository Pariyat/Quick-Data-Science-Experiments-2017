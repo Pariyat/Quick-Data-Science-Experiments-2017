{
 "cells": [
  {
   "cell_type": "markdown",
   "metadata": {},
   "source": [
    "* [verbose intro](http://wpe.info/vault/wood07/Wood07.pdf)\n",
    "* [psu online](https://onlinecourses.science.psu.edu/stat509/node/162) (note: this seems like a good PSU course)"
   ]
  },
  {
   "cell_type": "markdown",
   "metadata": {},
   "source": [
    "### Cohen's Kappa (chance-corrected proportion of agreement)"
   ]
  },
  {
   "cell_type": "markdown",
   "metadata": {},
   "source": [
    "### problem\n",
    "\n",
    "* If 2 raters both rate 20 observations, with 19 0s and 1 1s, then even if the 1s are totally random, there is a high accuracy \n",
    "* $ \\dfrac{agreeement}{total} = \\dfrac{18}{20} = 0.90 $\n",
    "* Cohen's Kappa tries to correct this by calculating $ \\kappa = \\dfrac{Observed - Expected}{1 - Expected}$"
   ]
  },
  {
   "cell_type": "markdown",
   "metadata": {},
   "source": [
    "### calculations\n",
    "* related to Pearson's r (why?)\n",
    "* $ -1 <= \\kappa <= 1$\n",
    "* Observed $ \\dfrac{\\text{# agreement 0-0 and 1-1}}{total} = \\frac{1}{n} \\sum_i^{g} f_{ii} $\n",
    "* Expected $ \\frac{1}{n^2} \\sum_i^{g} f_{+i} f_{i+} $, this is sort of like an independence test\n",
    "\n",
    "$$ \\kappa = \\frac{P(X = Y) - P(X = Y | \\text{independence}) }{1 - P(X = Y | \\text{independence})} $$"
   ]
  },
  {
   "cell_type": "markdown",
   "metadata": {},
   "source": [
    "### example\n",
    "\n",
    "|   | 0  | 1 |\n",
    "| - |:--:| -:|\n",
    "| 0 | 18 | 1 |\n",
    "| 1 | 1  | 0 |\n",
    "\n",
    "* $ o = \\frac{18}{20} + \\frac{0}{20} = 0.9$\n",
    "* $ e = f_{0+} f_{+0} + f_{1+} f_{+1} = 0.95 * 0.95 + 0.05 * 0.05 = 0.905 $\n",
    "* $ \\kappa = \\frac{0.9 - 0.905}{1 - 0.905} = -0.000475$\n",
    "* $|\\kappa| > 0.5 $ can be thought of as significant, so in this case it's not"
   ]
  },
  {
   "cell_type": "code",
   "execution_count": 12,
   "metadata": {
    "collapsed": true
   },
   "outputs": [],
   "source": [
    "import numpy as np \n",
    "from sklearn.metrics import cohen_kappa_score\n",
    "from scipy.stats import pearsonr"
   ]
  },
  {
   "cell_type": "code",
   "execution_count": 13,
   "metadata": {
    "collapsed": false
   },
   "outputs": [
    {
     "name": "stdout",
     "output_type": "stream",
     "text": [
      "[ 0.  1.  0.  0.  0.  0.  0.  0.  0.  0.  0.  0.  0.  0.  0.  0.  0.  0.\n",
      "  0.  0.]\n",
      "[ 0.  0.  0.  0.  0.  0.  0.  0.  0.  0.  0.  0.  0.  1.  0.  0.  0.  0.\n",
      "  0.  0.]\n",
      "-0.0526315789474\n",
      "(-0.052631578947368411, 0.82558145045592934)\n"
     ]
    }
   ],
   "source": [
    "a = np.zeros(20)\n",
    "b = np.zeros(20)\n",
    "a[1] = 1\n",
    "b[13] = 1\n",
    "print a\n",
    "print b\n",
    "print cohen_kappa_score(a, b)\n",
    "print pearsonr(a, b)"
   ]
  },
  {
   "cell_type": "markdown",
   "metadata": {},
   "source": [
    "Note the similarity between $\\kappa$ and $r$"
   ]
  },
  {
   "cell_type": "code",
   "execution_count": null,
   "metadata": {
    "collapsed": true
   },
   "outputs": [],
   "source": []
  }
 ],
 "metadata": {
  "kernelspec": {
   "display_name": "Python 2",
   "language": "python",
   "name": "python2"
  },
  "language_info": {
   "codemirror_mode": {
    "name": "ipython",
    "version": 2
   },
   "file_extension": ".py",
   "mimetype": "text/x-python",
   "name": "python",
   "nbconvert_exporter": "python",
   "pygments_lexer": "ipython2",
   "version": "2.7.12"
  }
 },
 "nbformat": 4,
 "nbformat_minor": 2
}
