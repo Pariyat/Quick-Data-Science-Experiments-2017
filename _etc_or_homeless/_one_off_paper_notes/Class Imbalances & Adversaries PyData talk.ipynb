{
 "cells": [
  {
   "cell_type": "markdown",
   "metadata": {},
   "source": [
    "[src](https://www.youtube.com/watch?v=u72FD79tsxA&list=PLGVZCDnMOq0qLoYpkeySVtfdbQg1A_GiB&index=8)"
   ]
  },
  {
   "cell_type": "markdown",
   "metadata": {},
   "source": [
    "### observation weighting\n",
    "* weights include: uniform weight, observation age, random down-sampling\n",
    "* decay weight - as samples get older, the weight decays like a half-life\n",
    "* SMOTE (synthetic minority over-sampling technique) \n",
    "    * majority class - downsample\n",
    "    * minority class - create synthetic observations (identify minority, select neighbor, create new point)"
   ]
  },
  {
   "cell_type": "markdown",
   "metadata": {},
   "source": [
    "### features\n",
    "* outliar detection \n",
    "    * use PCA or autoencoders to figure out when something is an outliar (large error)\n",
    "* label propagation\n",
    "* GLRM (low rank models)\n",
    "* LDA topic modeling"
   ]
  },
  {
   "cell_type": "markdown",
   "metadata": {},
   "source": [
    "### modeling\n",
    "* grid search\n",
    "* NN \n",
    "* ensemble\n",
    "* GA???? "
   ]
  },
  {
   "cell_type": "markdown",
   "metadata": {},
   "source": []
  }
 ],
 "metadata": {
  "kernelspec": {
   "display_name": "Python 2",
   "language": "python",
   "name": "python2"
  },
  "language_info": {
   "codemirror_mode": {
    "name": "ipython",
    "version": 2
   },
   "file_extension": ".py",
   "mimetype": "text/x-python",
   "name": "python",
   "nbconvert_exporter": "python",
   "pygments_lexer": "ipython2",
   "version": "2.7.13"
  }
 },
 "nbformat": 4,
 "nbformat_minor": 2
}
