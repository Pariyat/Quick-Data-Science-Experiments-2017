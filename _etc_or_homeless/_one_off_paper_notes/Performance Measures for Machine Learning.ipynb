{
 "cells": [
  {
   "cell_type": "markdown",
   "metadata": {},
   "source": [
    "[src](https://www.cs.cornell.edu/courses/cs578/2003fa/performance_measures.pdf)"
   ]
  },
  {
   "cell_type": "markdown",
   "metadata": {},
   "source": [
    "### Measures\n",
    "* accuracy\n",
    "    * weighted accuracy\n",
    "* lift\n",
    "* precision / recall\n",
    "    * F\n",
    "    * breakeven pt\n",
    "* ROC"
   ]
  },
  {
   "cell_type": "markdown",
   "metadata": {},
   "source": [
    "### Accuracy\n",
    "* assumes equal cost\n",
    "* is 99% or 10% accuracy good? imbalanced.\n",
    "* baserate = predicting predominant class"
   ]
  },
  {
   "cell_type": "markdown",
   "metadata": {},
   "source": [
    "### Lift\n",
    "* cut at a threshold, and get % better than random guessing?\n",
    "* e.g. 3.5x lift when cutting at the 80% threshold\n"
   ]
  },
  {
   "cell_type": "markdown",
   "metadata": {},
   "source": [
    "### Precision Recall\n",
    "* BreakEvenPoint = Precision = Recall\n",
    "* BreakEvenPoint is correlated w/ F1 score"
   ]
  },
  {
   "cell_type": "markdown",
   "metadata": {},
   "source": []
  }
 ],
 "metadata": {
  "kernelspec": {
   "display_name": "Python 2",
   "language": "python",
   "name": "python2"
  },
  "language_info": {
   "codemirror_mode": {
    "name": "ipython",
    "version": 2
   },
   "file_extension": ".py",
   "mimetype": "text/x-python",
   "name": "python",
   "nbconvert_exporter": "python",
   "pygments_lexer": "ipython2",
   "version": "2.7.12"
  }
 },
 "nbformat": 4,
 "nbformat_minor": 2
}
