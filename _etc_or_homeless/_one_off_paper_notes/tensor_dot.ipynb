{
 "cells": [
  {
   "cell_type": "markdown",
   "metadata": {},
   "source": [
    "[src](https://docs.scipy.org/doc/numpy/reference/generated/numpy.tensordot.html)"
   ]
  },
  {
   "cell_type": "code",
   "execution_count": 1,
   "metadata": {
    "collapsed": true
   },
   "outputs": [],
   "source": [
    "import numpy as np"
   ]
  },
  {
   "cell_type": "code",
   "execution_count": 3,
   "metadata": {},
   "outputs": [
    {
     "name": "stdout",
     "output_type": "stream",
     "text": [
      "[[[  0.   1.   2.   3.   4.]\n",
      "  [  5.   6.   7.   8.   9.]\n",
      "  [ 10.  11.  12.  13.  14.]\n",
      "  [ 15.  16.  17.  18.  19.]]\n",
      "\n",
      " [[ 20.  21.  22.  23.  24.]\n",
      "  [ 25.  26.  27.  28.  29.]\n",
      "  [ 30.  31.  32.  33.  34.]\n",
      "  [ 35.  36.  37.  38.  39.]]\n",
      "\n",
      " [[ 40.  41.  42.  43.  44.]\n",
      "  [ 45.  46.  47.  48.  49.]\n",
      "  [ 50.  51.  52.  53.  54.]\n",
      "  [ 55.  56.  57.  58.  59.]]]\n"
     ]
    }
   ],
   "source": [
    "a = np.arange(60.).reshape(3,4,5)\n",
    "print a"
   ]
  },
  {
   "cell_type": "code",
   "execution_count": 4,
   "metadata": {},
   "outputs": [
    {
     "name": "stdout",
     "output_type": "stream",
     "text": [
      "[[[  0.   1.]\n",
      "  [  2.   3.]\n",
      "  [  4.   5.]]\n",
      "\n",
      " [[  6.   7.]\n",
      "  [  8.   9.]\n",
      "  [ 10.  11.]]\n",
      "\n",
      " [[ 12.  13.]\n",
      "  [ 14.  15.]\n",
      "  [ 16.  17.]]\n",
      "\n",
      " [[ 18.  19.]\n",
      "  [ 20.  21.]\n",
      "  [ 22.  23.]]]\n"
     ]
    }
   ],
   "source": [
    "b = np.arange(24.).reshape(4,3,2)\n",
    "print b"
   ]
  },
  {
   "cell_type": "code",
   "execution_count": 6,
   "metadata": {},
   "outputs": [
    {
     "name": "stdout",
     "output_type": "stream",
     "text": [
      "(3, 4, 5) (4, 3, 2)\n",
      "(5, 2)\n"
     ]
    }
   ],
   "source": [
    "c = np.tensordot(a,b, axes=([1,0],[0,1]))\n",
    "print a.shape, b.shape # a [1,0] -> [4, 3] # b [0, 1] -> [4, 3]\n",
    "print c.shape"
   ]
  },
  {
   "cell_type": "code",
   "execution_count": null,
   "metadata": {
    "collapsed": true
   },
   "outputs": [],
   "source": []
  }
 ],
 "metadata": {
  "kernelspec": {
   "display_name": "Python 2",
   "language": "python",
   "name": "python2"
  },
  "language_info": {
   "codemirror_mode": {
    "name": "ipython",
    "version": 2
   },
   "file_extension": ".py",
   "mimetype": "text/x-python",
   "name": "python",
   "nbconvert_exporter": "python",
   "pygments_lexer": "ipython2",
   "version": "2.7.13"
  }
 },
 "nbformat": 4,
 "nbformat_minor": 2
}
