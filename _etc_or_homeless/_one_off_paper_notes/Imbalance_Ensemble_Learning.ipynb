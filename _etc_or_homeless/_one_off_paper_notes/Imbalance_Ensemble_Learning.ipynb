{
 "cells": [
  {
   "cell_type": "markdown",
   "metadata": {},
   "source": [
    "[src](https://cs.nju.edu.cn/zhouzh/zhouzh.files/publication/tsmcb09.pdf)"
   ]
  },
  {
   "cell_type": "markdown",
   "metadata": {},
   "source": [
    "### abstract\n",
    "* EasyEnsemble samples several subsets from the majority class, trains a learner using each of them, and combines the outputs of those learners\n",
    "* BalanceCascade trains the learners sequentially, where in each step the majority class examples which are correctly classified by the current trained learners are removed from further consideration."
   ]
  },
  {
   "cell_type": "markdown",
   "metadata": {},
   "source": [
    "### intro\n",
    "* 2 ways of dealing with class imbalance - sampling (adjusting samples) or cost sensitive learning (adjusting cost)"
   ]
  },
  {
   "cell_type": "markdown",
   "metadata": {},
   "source": []
  },
  {
   "cell_type": "markdown",
   "metadata": {},
   "source": []
  }
 ],
 "metadata": {
  "kernelspec": {
   "display_name": "Python 2",
   "language": "python",
   "name": "python2"
  },
  "language_info": {
   "codemirror_mode": {
    "name": "ipython",
    "version": 2
   },
   "file_extension": ".py",
   "mimetype": "text/x-python",
   "name": "python",
   "nbconvert_exporter": "python",
   "pygments_lexer": "ipython2",
   "version": "2.7.13"
  }
 },
 "nbformat": 4,
 "nbformat_minor": 2
}
