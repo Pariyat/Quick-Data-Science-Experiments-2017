{
 "cells": [
  {
   "cell_type": "markdown",
   "metadata": {},
   "source": [
    "[src](https://cs.nju.edu.cn/zhouzh/zhouzh.files/publication/tsmcb09.pdf)"
   ]
  },
  {
   "cell_type": "markdown",
   "metadata": {},
   "source": [
    "### abstract\n",
    "* EasyEnsemble samples several subsets from the majority class, trains a learner using each of them, and combines the outputs of those learners\n",
    "* BalanceCascade trains the learners sequentially, where in each step the majority class examples which are correctly classified by the current trained learners are removed from further consideration."
   ]
  },
  {
   "cell_type": "markdown",
   "metadata": {},
   "source": [
    "### intro\n",
    "* 2 ways of dealing with class imbalance - sampling (adjusting samples) or cost sensitive learning (adjusting cost)"
   ]
  },
  {
   "cell_type": "markdown",
   "metadata": {},
   "source": [
    "### related words\n",
    "* existing processes manipulate these 4:\n",
    "    * training set size\n",
    "    * class prior\n",
    "    * cost matrix\n",
    "    * placement of decision boundary\n",
    "* Undersampling requires shorter training time, at the cost of ignoring potentially useful data\n",
    "* Over-sampling increases the training set size, and thus requires longer training time & overfitting\n",
    "* SMOTE added new synthetic minority class examples by randomly interpolating pairs of closest neighbors in the minority class"
   ]
  },
  {
   "cell_type": "markdown",
   "metadata": {},
   "source": [
    "### EasyEnsemble & BalancedCascade\n",
    "\n",
    "* Boosting mainly reduces bias while Bagging mainly reduces variance\n",
    "* BalanceCascade - for each iteration, throw out the ones in the majority class that we classified correctly, so we only train on stuff that we got wrong from the majority class"
   ]
  },
  {
   "cell_type": "code",
   "execution_count": null,
   "metadata": {
    "collapsed": true
   },
   "outputs": [],
   "source": []
  },
  {
   "cell_type": "code",
   "execution_count": null,
   "metadata": {
    "collapsed": true
   },
   "outputs": [],
   "source": []
  }
 ],
 "metadata": {
  "kernelspec": {
   "display_name": "Python 2",
   "language": "python",
   "name": "python2"
  },
  "language_info": {
   "codemirror_mode": {
    "name": "ipython",
    "version": 2
   },
   "file_extension": ".py",
   "mimetype": "text/x-python",
   "name": "python",
   "nbconvert_exporter": "python",
   "pygments_lexer": "ipython2",
   "version": "2.7.13"
  }
 },
 "nbformat": 4,
 "nbformat_minor": 2
}
