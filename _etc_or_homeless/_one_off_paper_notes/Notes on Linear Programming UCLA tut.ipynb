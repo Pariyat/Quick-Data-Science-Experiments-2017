{
 "cells": [
  {
   "cell_type": "markdown",
   "metadata": {},
   "source": [
    "[src](https://www.math.ucla.edu/~tom/LP.pdf)"
   ]
  },
  {
   "cell_type": "markdown",
   "metadata": {},
   "source": [
    "## 1. Introduction\n",
    "* linear programming is...\n",
    "    * minimizing a linear function, subject to...\n",
    "    * linear constraints that can be equalities or inequalities (e.g. <=)\n",
    "* each constraint is either a plane or a line (e.g. x + y <= 3)\n",
    "* standard minimum problem - a special case where all variables are constrained to be nonneg, and all constraints are inequalities\n",
    "    * given a m-vector $\\mathbf{b} = (b_1, b_2, ...b_m)^T$, and a n-vector $\\mathbf{c} = (c_1, c_2... c_n)^T$\n",
    "* **see actual notes**"
   ]
  },
  {
   "cell_type": "markdown",
   "metadata": {},
   "source": []
  },
  {
   "cell_type": "markdown",
   "metadata": {},
   "source": []
  },
  {
   "cell_type": "markdown",
   "metadata": {},
   "source": []
  },
  {
   "cell_type": "markdown",
   "metadata": {},
   "source": []
  },
  {
   "cell_type": "markdown",
   "metadata": {},
   "source": []
  },
  {
   "cell_type": "markdown",
   "metadata": {},
   "source": []
  }
 ],
 "metadata": {
  "kernelspec": {
   "display_name": "Python 2",
   "language": "python",
   "name": "python2"
  },
  "language_info": {
   "codemirror_mode": {
    "name": "ipython",
    "version": 2
   },
   "file_extension": ".py",
   "mimetype": "text/x-python",
   "name": "python",
   "nbconvert_exporter": "python",
   "pygments_lexer": "ipython2",
   "version": "2.7.13"
  }
 },
 "nbformat": 4,
 "nbformat_minor": 2
}
