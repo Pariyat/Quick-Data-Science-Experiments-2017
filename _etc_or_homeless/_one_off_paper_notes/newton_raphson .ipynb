{
 "cells": [
  {
   "cell_type": "markdown",
   "metadata": {},
   "source": [
    "[src](http://www.sosmath.com/calculus/diff/der07/der07.html)\n",
    "\n",
    "* find zero of an arbitrary equation $f(x) = 0$"
   ]
  },
  {
   "cell_type": "markdown",
   "metadata": {},
   "source": [
    "* prob - find $\\sqrt{2}$\n",
    "    * $f(x) = x^2 - 2 = 0$\n",
    "    * $f'(x) = 2x$\n",
    "* start with $x_1 = 1.5$\n",
    "* $x_2 = x_1 - \\frac{f(x_1)}{f'(x_1)}$\n",
    "* $x_n$ gets closer to $f(x) = 0$"
   ]
  },
  {
   "cell_type": "code",
   "execution_count": 3,
   "metadata": {},
   "outputs": [
    {
     "name": "stdout",
     "output_type": "stream",
     "text": [
      "0 1023.00024414\n",
      "1 255.251036645\n",
      "2 63.3166464147\n",
      "3 15.3444716365\n",
      "4 3.39377316787\n",
      "5 0.53384226387\n",
      "6 0.0281181238822\n",
      "7 9.74584371272e-05\n",
      "8 1.18721077413e-09\n",
      "9 -4.4408920985e-16\n"
     ]
    }
   ],
   "source": [
    "def f(x): \n",
    "    return x * x - 2\n",
    "\n",
    "def dfdx(x):\n",
    "    return 2 * x\n",
    "\n",
    "curr_x = 64.0\n",
    "## showing convergence property\n",
    "for i in range(10):\n",
    "    curr_x = curr_x - f(curr_x) / dfdx(curr_x)\n",
    "    print i, f(curr_x)"
   ]
  },
  {
   "cell_type": "markdown",
   "metadata": {},
   "source": [
    "## note:\n",
    "* newton raphson can help find when $f'(x) = 0$ (or when the derivative is 0, aka local minima)\n",
    "* then we do $x_{n+1} = x_n - \\frac{f''(x)}{f'(x)}$\n",
    "* **in reality, this isn't used much, because the Hessian is hard to inverse **"
   ]
  },
  {
   "cell_type": "code",
   "execution_count": null,
   "metadata": {
    "collapsed": true
   },
   "outputs": [],
   "source": []
  }
 ],
 "metadata": {
  "kernelspec": {
   "display_name": "Python 2",
   "language": "python",
   "name": "python2"
  },
  "language_info": {
   "codemirror_mode": {
    "name": "ipython",
    "version": 2
   },
   "file_extension": ".py",
   "mimetype": "text/x-python",
   "name": "python",
   "nbconvert_exporter": "python",
   "pygments_lexer": "ipython2",
   "version": "2.7.13"
  }
 },
 "nbformat": 4,
 "nbformat_minor": 2
}
