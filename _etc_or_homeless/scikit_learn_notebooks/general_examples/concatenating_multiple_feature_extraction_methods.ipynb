{
 "cells": [
  {
   "cell_type": "code",
   "execution_count": 1,
   "metadata": {
    "collapsed": true
   },
   "outputs": [],
   "source": [
    "%matplotlib inline\n",
    "\n",
    "from sklearn.pipeline import Pipeline, FeatureUnion\n",
    "from sklearn.model_selection import GridSearchCV\n",
    "from sklearn.svm import SVC\n",
    "from sklearn.datasets import load_iris\n",
    "from sklearn.decomposition import PCA\n",
    "from sklearn.feature_selection import SelectKBest"
   ]
  },
  {
   "cell_type": "code",
   "execution_count": 2,
   "metadata": {
    "collapsed": true
   },
   "outputs": [],
   "source": [
    "iris = load_iris()\n",
    "\n",
    "X, y = iris.data, iris.target\n",
    "\n",
    "# This dataset is way too high-dimensional. Better do PCA:\n",
    "pca = PCA(n_components=2)\n",
    "\n",
    "# Maybe some original features where good, too?\n",
    "selection = SelectKBest(k=1)"
   ]
  },
  {
   "cell_type": "code",
   "execution_count": 3,
   "metadata": {
    "collapsed": true
   },
   "outputs": [],
   "source": [
    "combined_features = FeatureUnion([(\"pca\", pca), (\"univ_select\", selection)])\n",
    "\n",
    "# Use combined features to transform dataset:\n",
    "X_features = combined_features.fit(X, y).transform(X)"
   ]
  },
  {
   "cell_type": "code",
   "execution_count": 5,
   "metadata": {
    "collapsed": false,
    "scrolled": false
   },
   "outputs": [
    {
     "data": {
      "text/plain": [
       "array([[-2.68420713,  0.32660731,  1.4       ],\n",
       "       [-2.71539062, -0.16955685,  1.4       ],\n",
       "       [-2.88981954, -0.13734561,  1.3       ],\n",
       "       [-2.7464372 , -0.31112432,  1.5       ],\n",
       "       [-2.72859298,  0.33392456,  1.4       ]])"
      ]
     },
     "execution_count": 5,
     "metadata": {},
     "output_type": "execute_result"
    }
   ],
   "source": [
    "X_features[:5,] # notice how the first 2 colns are prob PCA, the last last col is the raw IRIS val"
   ]
  },
  {
   "cell_type": "code",
   "execution_count": 7,
   "metadata": {
    "collapsed": false,
    "scrolled": false
   },
   "outputs": [
    {
     "name": "stdout",
     "output_type": "stream",
     "text": [
      "Fitting 3 folds for each of 18 candidates, totalling 54 fits\n",
      "[CV] features__pca__n_components=1, svm__C=0.1, features__univ_select__k=1 \n",
      "[CV]  features__pca__n_components=1, svm__C=0.1, features__univ_select__k=1, score=0.960784, total=   0.0s\n",
      "[CV] features__pca__n_components=1, svm__C=0.1, features__univ_select__k=1 \n",
      "[CV]  features__pca__n_components=1, svm__C=0.1, features__univ_select__k=1, score=0.901961, total=   0.0s\n",
      "[CV] features__pca__n_components=1, svm__C=0.1, features__univ_select__k=1 \n",
      "[CV]  features__pca__n_components=1, svm__C=0.1, features__univ_select__k=1, score=0.979167, total=   0.0s\n",
      "[CV] features__pca__n_components=1, svm__C=1, features__univ_select__k=1 \n",
      "[CV]  features__pca__n_components=1, svm__C=1, features__univ_select__k=1, score=0.941176, total=   0.0s\n",
      "[CV] features__pca__n_components=1, svm__C=1, features__univ_select__k=1 \n",
      "[CV]  features__pca__n_components=1, svm__C=1, features__univ_select__k=1, score=0.921569, total=   0.0s\n",
      "[CV] features__pca__n_components=1, svm__C=1, features__univ_select__k=1 \n",
      "[CV]  features__pca__n_components=1, svm__C=1, features__univ_select__k=1, score=0.979167, total=   0.0s\n",
      "[CV] features__pca__n_components=1, svm__C=10, features__univ_select__k=1 \n",
      "[CV]  features__pca__n_components=1, svm__C=10, features__univ_select__k=1, score=0.960784, total=   0.0s\n",
      "[CV] features__pca__n_components=1, svm__C=10, features__univ_select__k=1 \n",
      "[CV]  features__pca__n_components=1, svm__C=10, features__univ_select__k=1, score=0.921569, total=   0.0s\n",
      "[CV] features__pca__n_components=1, svm__C=10, features__univ_select__k=1 \n",
      "[CV]  features__pca__n_components=1, svm__C=10, features__univ_select__k=1, score=0.979167, total=   0.0s\n",
      "[CV] features__pca__n_components=1, svm__C=0.1, features__univ_select__k=2 \n",
      "[CV]  features__pca__n_components=1, svm__C=0.1, features__univ_select__k=2, score=0.960784, total=   0.0s\n",
      "[CV] features__pca__n_components=1, svm__C=0.1, features__univ_select__k=2 \n",
      "[CV]  features__pca__n_components=1, svm__C=0.1, features__univ_select__k=2, score=0.921569, total=   0.0s\n"
     ]
    },
    {
     "name": "stderr",
     "output_type": "stream",
     "text": [
      "[Parallel(n_jobs=1)]: Done   1 out of   1 | elapsed:    0.0s remaining:    0.0s\n",
      "[Parallel(n_jobs=1)]: Done   2 out of   2 | elapsed:    0.1s remaining:    0.0s\n",
      "[Parallel(n_jobs=1)]: Done   3 out of   3 | elapsed:    0.1s remaining:    0.0s\n",
      "[Parallel(n_jobs=1)]: Done   4 out of   4 | elapsed:    0.1s remaining:    0.0s\n",
      "[Parallel(n_jobs=1)]: Done   5 out of   5 | elapsed:    0.1s remaining:    0.0s\n",
      "[Parallel(n_jobs=1)]: Done   6 out of   6 | elapsed:    0.1s remaining:    0.0s\n",
      "[Parallel(n_jobs=1)]: Done   7 out of   7 | elapsed:    0.1s remaining:    0.0s\n",
      "[Parallel(n_jobs=1)]: Done   8 out of   8 | elapsed:    0.2s remaining:    0.0s\n",
      "[Parallel(n_jobs=1)]: Done   9 out of   9 | elapsed:    0.2s remaining:    0.0s\n"
     ]
    },
    {
     "name": "stdout",
     "output_type": "stream",
     "text": [
      "[CV] features__pca__n_components=1, svm__C=0.1, features__univ_select__k=2 \n",
      "[CV]  features__pca__n_components=1, svm__C=0.1, features__univ_select__k=2, score=0.979167, total=   0.0s\n",
      "[CV] features__pca__n_components=1, svm__C=1, features__univ_select__k=2 \n",
      "[CV]  features__pca__n_components=1, svm__C=1, features__univ_select__k=2, score=0.960784, total=   0.0s\n",
      "[CV] features__pca__n_components=1, svm__C=1, features__univ_select__k=2 \n",
      "[CV]  features__pca__n_components=1, svm__C=1, features__univ_select__k=2, score=0.921569, total=   0.0s\n",
      "[CV] features__pca__n_components=1, svm__C=1, features__univ_select__k=2 \n",
      "[CV]  features__pca__n_components=1, svm__C=1, features__univ_select__k=2, score=1.000000, total=   0.0s\n",
      "[CV] features__pca__n_components=1, svm__C=10, features__univ_select__k=2 \n",
      "[CV]  features__pca__n_components=1, svm__C=10, features__univ_select__k=2, score=0.980392, total=   0.0s\n",
      "[CV] features__pca__n_components=1, svm__C=10, features__univ_select__k=2 \n",
      "[CV]  features__pca__n_components=1, svm__C=10, features__univ_select__k=2, score=0.901961, total=   0.0s\n",
      "[CV] features__pca__n_components=1, svm__C=10, features__univ_select__k=2 \n",
      "[CV]  features__pca__n_components=1, svm__C=10, features__univ_select__k=2, score=1.000000, total=   0.0s\n",
      "[CV] features__pca__n_components=2, svm__C=0.1, features__univ_select__k=1 \n",
      "[CV]  features__pca__n_components=2, svm__C=0.1, features__univ_select__k=1, score=0.960784, total=   0.0s\n",
      "[CV] features__pca__n_components=2, svm__C=0.1, features__univ_select__k=1 \n",
      "[CV]  features__pca__n_components=2, svm__C=0.1, features__univ_select__k=1, score=0.901961, total=   0.0s\n",
      "[CV] features__pca__n_components=2, svm__C=0.1, features__univ_select__k=1 \n",
      "[CV]  features__pca__n_components=2, svm__C=0.1, features__univ_select__k=1, score=0.979167, total=   0.0s\n",
      "[CV] features__pca__n_components=2, svm__C=1, features__univ_select__k=1 \n",
      "[CV]  features__pca__n_components=2, svm__C=1, features__univ_select__k=1, score=0.980392, total=   0.0s\n",
      "[CV] features__pca__n_components=2, svm__C=1, features__univ_select__k=1 \n",
      "[CV]  features__pca__n_components=2, svm__C=1, features__univ_select__k=1, score=0.941176, total=   0.0s\n",
      "[CV] features__pca__n_components=2, svm__C=1, features__univ_select__k=1 \n",
      "[CV]  features__pca__n_components=2, svm__C=1, features__univ_select__k=1, score=0.979167, total=   0.0s\n",
      "[CV] features__pca__n_components=2, svm__C=10, features__univ_select__k=1 \n",
      "[CV]  features__pca__n_components=2, svm__C=10, features__univ_select__k=1, score=0.980392, total=   0.0s\n",
      "[CV] features__pca__n_components=2, svm__C=10, features__univ_select__k=1 \n",
      "[CV]  features__pca__n_components=2, svm__C=10, features__univ_select__k=1, score=0.941176, total=   0.0s\n",
      "[CV] features__pca__n_components=2, svm__C=10, features__univ_select__k=1 \n",
      "[CV]  features__pca__n_components=2, svm__C=10, features__univ_select__k=1, score=0.979167, total=   0.0s\n",
      "[CV] features__pca__n_components=2, svm__C=0.1, features__univ_select__k=2 \n",
      "[CV]  features__pca__n_components=2, svm__C=0.1, features__univ_select__k=2, score=0.980392, total=   0.0s\n",
      "[CV] features__pca__n_components=2, svm__C=0.1, features__univ_select__k=2 \n",
      "[CV]  features__pca__n_components=2, svm__C=0.1, features__univ_select__k=2, score=0.941176, total=   0.0s\n",
      "[CV] features__pca__n_components=2, svm__C=0.1, features__univ_select__k=2 \n",
      "[CV]  features__pca__n_components=2, svm__C=0.1, features__univ_select__k=2, score=0.979167, total=   0.0s\n",
      "[CV] features__pca__n_components=2, svm__C=1, features__univ_select__k=2 \n",
      "[CV]  features__pca__n_components=2, svm__C=1, features__univ_select__k=2, score=1.000000, total=   0.0s\n",
      "[CV] features__pca__n_components=2, svm__C=1, features__univ_select__k=2 \n",
      "[CV]  features__pca__n_components=2, svm__C=1, features__univ_select__k=2, score=0.960784, total=   0.0s\n",
      "[CV] features__pca__n_components=2, svm__C=1, features__univ_select__k=2 \n",
      "[CV]  features__pca__n_components=2, svm__C=1, features__univ_select__k=2, score=0.979167, total=   0.0s\n",
      "[CV] features__pca__n_components=2, svm__C=10, features__univ_select__k=2 \n",
      "[CV]  features__pca__n_components=2, svm__C=10, features__univ_select__k=2, score=0.980392, total=   0.0s\n",
      "[CV] features__pca__n_components=2, svm__C=10, features__univ_select__k=2 \n",
      "[CV]  features__pca__n_components=2, svm__C=10, features__univ_select__k=2, score=0.921569, total=   0.0s\n",
      "[CV] features__pca__n_components=2, svm__C=10, features__univ_select__k=2 \n",
      "[CV]  features__pca__n_components=2, svm__C=10, features__univ_select__k=2, score=1.000000, total=   0.0s\n",
      "[CV] features__pca__n_components=3, svm__C=0.1, features__univ_select__k=1 \n",
      "[CV]  features__pca__n_components=3, svm__C=0.1, features__univ_select__k=1, score=0.980392, total=   0.0s\n",
      "[CV] features__pca__n_components=3, svm__C=0.1, features__univ_select__k=1 \n",
      "[CV]  features__pca__n_components=3, svm__C=0.1, features__univ_select__k=1, score=0.941176, total=   0.0s\n",
      "[CV] features__pca__n_components=3, svm__C=0.1, features__univ_select__k=1 \n",
      "[CV]  features__pca__n_components=3, svm__C=0.1, features__univ_select__k=1, score=0.979167, total=   0.0s\n",
      "[CV] features__pca__n_components=3, svm__C=1, features__univ_select__k=1 \n",
      "[CV]  features__pca__n_components=3, svm__C=1, features__univ_select__k=1, score=1.000000, total=   0.0s\n",
      "[CV] features__pca__n_components=3, svm__C=1, features__univ_select__k=1 \n",
      "[CV]  features__pca__n_components=3, svm__C=1, features__univ_select__k=1, score=0.941176, total=   0.0s\n",
      "[CV] features__pca__n_components=3, svm__C=1, features__univ_select__k=1 \n",
      "[CV]  features__pca__n_components=3, svm__C=1, features__univ_select__k=1, score=0.979167, total=   0.0s\n",
      "[CV] features__pca__n_components=3, svm__C=10, features__univ_select__k=1 \n",
      "[CV]  features__pca__n_components=3, svm__C=10, features__univ_select__k=1, score=1.000000, total=   0.0s\n",
      "[CV] features__pca__n_components=3, svm__C=10, features__univ_select__k=1 \n",
      "[CV]  features__pca__n_components=3, svm__C=10, features__univ_select__k=1, score=0.921569, total=   0.0s\n",
      "[CV] features__pca__n_components=3, svm__C=10, features__univ_select__k=1 \n",
      "[CV]  features__pca__n_components=3, svm__C=10, features__univ_select__k=1, score=1.000000, total=   0.0s\n",
      "[CV] features__pca__n_components=3, svm__C=0.1, features__univ_select__k=2 \n",
      "[CV]  features__pca__n_components=3, svm__C=0.1, features__univ_select__k=2, score=0.980392, total=   0.0s\n",
      "[CV] features__pca__n_components=3, svm__C=0.1, features__univ_select__k=2 \n",
      "[CV]  features__pca__n_components=3, svm__C=0.1, features__univ_select__k=2, score=0.941176, total=   0.0s\n",
      "[CV] features__pca__n_components=3, svm__C=0.1, features__univ_select__k=2 \n",
      "[CV]  features__pca__n_components=3, svm__C=0.1, features__univ_select__k=2, score=0.979167, total=   0.0s\n",
      "[CV] features__pca__n_components=3, svm__C=1, features__univ_select__k=2 \n",
      "[CV]  features__pca__n_components=3, svm__C=1, features__univ_select__k=2, score=1.000000, total=   0.0s\n",
      "[CV] features__pca__n_components=3, svm__C=1, features__univ_select__k=2 \n",
      "[CV]  features__pca__n_components=3, svm__C=1, features__univ_select__k=2, score=0.960784, total=   0.0s\n",
      "[CV] features__pca__n_components=3, svm__C=1, features__univ_select__k=2 \n",
      "[CV]  features__pca__n_components=3, svm__C=1, features__univ_select__k=2, score=0.979167, total=   0.0s\n",
      "[CV] features__pca__n_components=3, svm__C=10, features__univ_select__k=2 \n",
      "[CV]  features__pca__n_components=3, svm__C=10, features__univ_select__k=2, score=1.000000, total=   0.0s\n",
      "[CV] features__pca__n_components=3, svm__C=10, features__univ_select__k=2 \n",
      "[CV]  features__pca__n_components=3, svm__C=10, features__univ_select__k=2, score=0.921569, total=   0.0s\n",
      "[CV] features__pca__n_components=3, svm__C=10, features__univ_select__k=2 \n",
      "[CV]  features__pca__n_components=3, svm__C=10, features__univ_select__k=2, score=1.000000, total=   0.0s\n"
     ]
    },
    {
     "name": "stderr",
     "output_type": "stream",
     "text": [
      "[Parallel(n_jobs=1)]: Done  54 out of  54 | elapsed:    1.2s finished\n"
     ]
    },
    {
     "data": {
      "text/plain": [
       "GridSearchCV(cv=None, error_score='raise',\n",
       "       estimator=Pipeline(steps=[('features', FeatureUnion(n_jobs=1,\n",
       "       transformer_list=[('pca', PCA(copy=True, iterated_power='auto', n_components=2, random_state=None,\n",
       "  svd_solver='auto', tol=0.0, whiten=False)), ('univ_select', SelectKBest(k=1, score_func=<function f_classif at 0x10995b230>))],\n",
       "       transformer_we...,\n",
       "  max_iter=-1, probability=False, random_state=None, shrinking=True,\n",
       "  tol=0.001, verbose=False))]),\n",
       "       fit_params={}, iid=True, n_jobs=1,\n",
       "       param_grid={'features__pca__n_components': [1, 2, 3], 'svm__C': [0.1, 1, 10], 'features__univ_select__k': [1, 2]},\n",
       "       pre_dispatch='2*n_jobs', refit=True, return_train_score=True,\n",
       "       scoring=None, verbose=10)"
      ]
     },
     "execution_count": 7,
     "metadata": {},
     "output_type": "execute_result"
    }
   ],
   "source": [
    "svm = SVC(kernel=\"linear\")\n",
    "\n",
    "# Do grid search over k, n_components and C:\n",
    "\n",
    "pipeline = Pipeline([(\"features\", combined_features), (\"svm\", svm)])\n",
    "\n",
    "param_grid = dict(features__pca__n_components=[1, 2, 3],\n",
    "                  features__univ_select__k=[1, 2],\n",
    "                  svm__C=[0.1, 1, 10])\n",
    "\n",
    "grid_search = GridSearchCV(pipeline, param_grid=param_grid, verbose=10)\n",
    "grid_search.fit(X, y)"
   ]
  },
  {
   "cell_type": "code",
   "execution_count": 9,
   "metadata": {
    "collapsed": false
   },
   "outputs": [
    {
     "data": {
      "text/plain": [
       "Pipeline(steps=[('features', FeatureUnion(n_jobs=1,\n",
       "       transformer_list=[('pca', PCA(copy=True, iterated_power='auto', n_components=2, random_state=None,\n",
       "  svd_solver='auto', tol=0.0, whiten=False)), ('univ_select', SelectKBest(k=2, score_func=<function f_classif at 0x10995b230>))],\n",
       "       transformer_we...,\n",
       "  max_iter=-1, probability=False, random_state=None, shrinking=True,\n",
       "  tol=0.001, verbose=False))])"
      ]
     },
     "execution_count": 9,
     "metadata": {},
     "output_type": "execute_result"
    }
   ],
   "source": [
    "grid_search.best_estimator_"
   ]
  },
  {
   "cell_type": "code",
   "execution_count": null,
   "metadata": {
    "collapsed": true
   },
   "outputs": [],
   "source": []
  }
 ],
 "metadata": {
  "kernelspec": {
   "display_name": "Python 2",
   "language": "python",
   "name": "python2"
  },
  "language_info": {
   "codemirror_mode": {
    "name": "ipython",
    "version": 2
   },
   "file_extension": ".py",
   "mimetype": "text/x-python",
   "name": "python",
   "nbconvert_exporter": "python",
   "pygments_lexer": "ipython2",
   "version": "2.7.12"
  }
 },
 "nbformat": 4,
 "nbformat_minor": 2
}
