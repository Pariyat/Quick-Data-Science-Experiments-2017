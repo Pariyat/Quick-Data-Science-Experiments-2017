{
 "cells": [
  {
   "cell_type": "markdown",
   "metadata": {},
   "source": [
    "[src](http://www.cs.mcgill.ca/~dprecup/courses/ML/Lectures/ml-lecture06.pdf)"
   ]
  },
  {
   "cell_type": "markdown",
   "metadata": {},
   "source": [
    "### polynomial kernel\n",
    "* $K(x, z) = (x * z)^d = (\\sum_i x_i z_i)^d$\n",
    "* dual view regression $a = (K + \\lambda I_m)^{-1} y$\n",
    "* making predictions\n",
    "    * $h(x) = w^T \\phi (x) = a^T \\Phi \\phi(x) = k(x)^T (K + \\lambda I_m)^{-1} y$\n",
    "\n",
    "### logistic regression\n",
    "* $h(x) = \\frac{1}{1 + e^{\\sum_i \\alpha_i K(x_i, x) + w_0}}$\n",
    "* Kernel matrix K is symmetric and postiive semidefinite\n",
    "* positive semidefinite proof $z^T K z = \\sum_i \\sum_j z_i K_{ij} z_j = \\sum_i \\sum_j z_i (\\phi(x_i) * \\phi(x_j)) z_j$\n",
    "    * $=\\sum_i \\sum_j z_i (\\sum_k \\phi_k (x_i) \\phi_k(x_j)) z_j$\n",
    "    * $=\\sum_k (\\sum_i z_i \\phi_k(x_i))^2 >= 0$\n",
    "\n",
    "\n"
   ]
  },
  {
   "cell_type": "markdown",
   "metadata": {},
   "source": [
    "### svm regression\n",
    "* $\\sum_i | y_i - (w * x_i + w_0)  |$\n",
    "* epsilon insensitive loss - 0 if loss is smaller than $\\epsilon$\n",
    "* "
   ]
  },
  {
   "cell_type": "markdown",
   "metadata": {},
   "source": []
  },
  {
   "cell_type": "markdown",
   "metadata": {},
   "source": []
  }
 ],
 "metadata": {
  "kernelspec": {
   "display_name": "Python 2",
   "language": "python",
   "name": "python2"
  },
  "language_info": {
   "codemirror_mode": {
    "name": "ipython",
    "version": 2
   },
   "file_extension": ".py",
   "mimetype": "text/x-python",
   "name": "python",
   "nbconvert_exporter": "python",
   "pygments_lexer": "ipython2",
   "version": "2.7.13"
  }
 },
 "nbformat": 4,
 "nbformat_minor": 2
}
