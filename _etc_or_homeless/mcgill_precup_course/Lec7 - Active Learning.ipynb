{
 "cells": [
  {
   "cell_type": "markdown",
   "metadata": {},
   "source": [
    "[src](http://www.cs.mcgill.ca/~dprecup/courses/ML/Lectures/ml-lecture07.pdf)"
   ]
  },
  {
   "cell_type": "markdown",
   "metadata": {},
   "source": [
    "### active learning\n",
    "* learner can query a point\n",
    "* applications: e.g. document classification, document tagging, image tagging, chemistry (need to do real experiments), robotics\n",
    "\n",
    "### advs of active learning\n",
    "* better accuracy at the same number of points\n",
    "* queries may indicate problematic examples\n",
    "\n",
    "### relationship to supervised learning\n",
    "* wrapper around a supervised algorithm\n",
    "\n",
    "### pool based sampling\n",
    "* active learner is given a pool of data points\n",
    "* picks the best one to query\n",
    "\n",
    "### query strategies\n",
    "* ask about instances that it is uncertain about\n",
    "* heuresitics\n",
    "    * uncertainty sampling\n",
    "    * query-by-committee\n",
    "    * expected impact of instance on decision boundary\n",
    "\n",
    "### 1. uncertainty sampling strategies\n",
    "* classification:\n",
    "    1. ask for an instance that the the most likely class is very uncertain $x^* = \\argmax_x (1 - \\max_{y_i} P(y_i | x))$\n",
    "    2. ask about an instance that has the highest entropy $x^* = \\argmax_x (-\\sum_{y_i} P(y_i | x) log P(y_i | x) )$\n",
    "    3. ask for instance where the 2 top classes have close probability\n",
    "* regression: ask for instance with the highest variance\n",
    "\n",
    "### 2. query by committee\n",
    "* examples that have a lot of disagreement is a good query\n",
    "* hypotheses can be trained on different combination of covariates\n",
    "\n",
    "### 3. expected error reduction / maximum information gain\n",
    "\n",
    "### 4. density based sampling\n",
    "* query for instances where there's not a lot of data points"
   ]
  },
  {
   "cell_type": "markdown",
   "metadata": {},
   "source": []
  },
  {
   "cell_type": "markdown",
   "metadata": {},
   "source": []
  },
  {
   "cell_type": "markdown",
   "metadata": {},
   "source": []
  },
  {
   "cell_type": "markdown",
   "metadata": {},
   "source": []
  }
 ],
 "metadata": {
  "kernelspec": {
   "display_name": "Python 2",
   "language": "python",
   "name": "python2"
  },
  "language_info": {
   "codemirror_mode": {
    "name": "ipython",
    "version": 2
   },
   "file_extension": ".py",
   "mimetype": "text/x-python",
   "name": "python",
   "nbconvert_exporter": "python",
   "pygments_lexer": "ipython2",
   "version": "2.7.13"
  }
 },
 "nbformat": 4,
 "nbformat_minor": 2
}
