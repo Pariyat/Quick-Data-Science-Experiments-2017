{
 "cells": [
  {
   "cell_type": "markdown",
   "metadata": {},
   "source": [
    "[src](http://www.cs.mcgill.ca/~dprecup/courses/ML/Lectures/ml-lecture02.pdf)"
   ]
  },
  {
   "cell_type": "markdown",
   "metadata": {},
   "source": [
    "* $J(w) = J_D(w) + \\lambda J_{pen}(w)$\n",
    "* L2 - $\\frac{1}{2}(X W - y)^T (X W - y) + \\frac{\\lambda}{2} W^T W$\n",
    "    * $=\\frac{1}{2} (W^T (X^T X + \\lambda I) W - W^T X^T y - y^T X W + y^T y)$\n",
    "    * $w = (X^T X + \\lambda I)^{-1} X^T y$"
   ]
  },
  {
   "cell_type": "markdown",
   "metadata": {},
   "source": [
    "* l1 reg - if $\\lambda$ is big enough, likely to intersect diamond at the corners"
   ]
  },
  {
   "cell_type": "markdown",
   "metadata": {},
   "source": [
    "### good bayesian links\n",
    "* [link](https://stats.stackexchange.com/questions/252577/bayes-regression-how-is-it-done-in-comparison-to-standard-regression) how to formulate bayesian LR\n",
    "\n",
    "\n",
    "### bayesian view of regularization\n",
    "* start with a prior over hypothesis\n",
    "* when data comes in, compute posterior distribution\n",
    "* conjugate priors - \n",
    "* L2 - gaussian prior\n",
    "* L1 - double exponential prior\n",
    "* uncertainty decreases with more data points\n",
    "\n",
    "### bias variance decomposition\n",
    "* $var(x) = E(x^2) - E(x)^2$ --> $E(x^2) = var(x) + E(x)^2$\n",
    "* $E[ (y-h(x))^2 | x] = E[(h(x))^2 - 2yh(x) + y^2 | x]$\n",
    "    * $E[(h(x))^2 | x] + E[y^2|x] - 2 E[y|x] E[h(x)|x]$ <-- makes sense because y and $h(x)$ are independent given x\n",
    "    * note: $E[(h(x))^2|x] = E[(h(x) - \\bar{h(x)}) | x] + (\\bar{h(x)})^2$\n",
    "    * note: $E[y|x] = E[f(x) + \\epsilon | x] = f(x)$\n",
    "    * note: $E[y^2|x] = E[(y-f(x))^2|x] + f(x)^2$\n",
    "* $=E[(h(x) - \\bar{h(x)})^2 | x] + (f(x) - \\bar{h(x)})^2 + =E[(y - f(x))^2 | x]$\n",
    "    * first term is the variance of hypothesis\n",
    "    * second term is the squared bias\n",
    "    * third term is noise\n",
    "* simple hypothesis have high bias - high at many x\n",
    "* complex hypothesis have high variance - hypothesis is very dependent on the dataset\n",
    "\n",
    "#### notes:\n",
    "* MLE - unbiased, high variance\n",
    "* bayesian - biased, low variance"
   ]
  },
  {
   "cell_type": "markdown",
   "metadata": {},
   "source": []
  },
  {
   "cell_type": "markdown",
   "metadata": {},
   "source": []
  },
  {
   "cell_type": "markdown",
   "metadata": {},
   "source": []
  }
 ],
 "metadata": {
  "kernelspec": {
   "display_name": "Python 2",
   "language": "python",
   "name": "python2"
  },
  "language_info": {
   "codemirror_mode": {
    "name": "ipython",
    "version": 2
   },
   "file_extension": ".py",
   "mimetype": "text/x-python",
   "name": "python",
   "nbconvert_exporter": "python",
   "pygments_lexer": "ipython2",
   "version": "2.7.13"
  }
 },
 "nbformat": 4,
 "nbformat_minor": 2
}
