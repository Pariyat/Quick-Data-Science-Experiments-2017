{
 "cells": [
  {
   "cell_type": "markdown",
   "metadata": {},
   "source": [
    "[src](http://www.cs.mcgill.ca/~dprecup/courses/ML/Lectures/ml-lecture08.pdf)"
   ]
  },
  {
   "cell_type": "markdown",
   "metadata": {},
   "source": [
    "### Bayes Net\n",
    "* nodes are random variables\n",
    "* arcs are influences\n",
    "\n",
    "### Factorization\n",
    "* $P(x_1, x_2, ..., x_n) = \\prod_i^n p(x_i | x_{\\pi_i})$\n",
    "* $P(X_i | X_{\\pi_i})$ is called the local probability model, or conditional probability distribution\n",
    "* $P(X, Y, Z) = P(X) P(Y|X) P(Z|Y)$, if the markov chain looks like X -> Y -> Z\n",
    "    * $P(Z | X, Y) = \\frac{P(X, Y, Z)}{P(X, Y)} = \\frac{P(X)P(Y|X)P(Z|Y)}{P(X)P(Y|X)} = P(Z|Y)$\n",
    "* \n",
    "\n"
   ]
  },
  {
   "cell_type": "markdown",
   "metadata": {},
   "source": []
  },
  {
   "cell_type": "markdown",
   "metadata": {},
   "source": []
  },
  {
   "cell_type": "markdown",
   "metadata": {},
   "source": []
  },
  {
   "cell_type": "markdown",
   "metadata": {},
   "source": []
  },
  {
   "cell_type": "markdown",
   "metadata": {},
   "source": []
  }
 ],
 "metadata": {
  "kernelspec": {
   "display_name": "Python 2",
   "language": "python",
   "name": "python2"
  },
  "language_info": {
   "codemirror_mode": {
    "name": "ipython",
    "version": 2
   },
   "file_extension": ".py",
   "mimetype": "text/x-python",
   "name": "python",
   "nbconvert_exporter": "python",
   "pygments_lexer": "ipython2",
   "version": "2.7.13"
  }
 },
 "nbformat": 4,
 "nbformat_minor": 2
}
