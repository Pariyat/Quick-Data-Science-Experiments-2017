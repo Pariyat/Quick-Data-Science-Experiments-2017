{
 "cells": [
  {
   "cell_type": "markdown",
   "metadata": {},
   "source": [
    "[src](https://medium.com/crypto-currently/lets-make-the-tiniest-blockchain-bigger-ac360a328f4d)"
   ]
  },
  {
   "cell_type": "code",
   "execution_count": 1,
   "metadata": {},
   "outputs": [
    {
     "name": "stdout",
     "output_type": "stream",
     "text": [
      "Block #1 has been added to the blockchain!\n",
      "Hash: 8ced2bbe33a921b378a71c91ace065edd7d12e3d786825862bb3898205032d0d\n",
      "\n",
      "Block #2 has been added to the blockchain!\n",
      "Hash: 636ebfea08d07d2f912587c085b12bc26355a0ffda5d05a5a765b6bc2600846a\n",
      "\n",
      "Block #3 has been added to the blockchain!\n",
      "Hash: f0b6d04c209f1372bd517498b91ae060d1139c3a82b067cdb34a7cf6a371eafd\n",
      "\n",
      "Block #4 has been added to the blockchain!\n",
      "Hash: 8101dcdce1755ef19f4c51766dc8e674489f6c19593d33607a8b473da9ec9ef9\n",
      "\n",
      "Block #5 has been added to the blockchain!\n",
      "Hash: 609c5a4f67a1cc319ec4156d92c9e7923a9b6ad97c9059df874b4fce557e8be4\n",
      "\n",
      "Block #6 has been added to the blockchain!\n",
      "Hash: 420afbcfdcc19e5336518b2bf348012c0615c84c5113a620806ac6f613429b3f\n",
      "\n",
      "Block #7 has been added to the blockchain!\n",
      "Hash: 8234a6dd140c854758eef94bdb68611813d2fa60db8446f8fc42000d90ed8275\n",
      "\n",
      "Block #8 has been added to the blockchain!\n",
      "Hash: fba4d3a3ebcf1cd30e761e5bc7e876cede295f212e1f4c5535957d2c859425f5\n",
      "\n",
      "Block #9 has been added to the blockchain!\n",
      "Hash: a04655635fcf103c0dc546622685e587d0bce94a3a114c91469cccbd359bcc1b\n",
      "\n",
      "Block #10 has been added to the blockchain!\n",
      "Hash: 83ce03a73d60aae3c5d843495a33b2cee22dc2db2e6cd7d57d02fbe373f056ff\n",
      "\n",
      "Block #11 has been added to the blockchain!\n",
      "Hash: c0f480640cf9cad2dc28f9fa93de8e568ec9416757e085a191f530e69a3f3b7b\n",
      "\n",
      "Block #12 has been added to the blockchain!\n",
      "Hash: 080939f25fe34d38dca6574bad8020e6941414a3899c1dc3886009f6ec2f9dfd\n",
      "\n",
      "Block #13 has been added to the blockchain!\n",
      "Hash: 7f898e44450a70a4eab1a0fdc4ba2eee879fbeb390f7fb5c4b2f52a5145b2c0f\n",
      "\n",
      "Block #14 has been added to the blockchain!\n",
      "Hash: 000a6ae7fb5c00f02e5f32d3793ac8a36de8c1ef31c2c62d5d987ae342b3f536\n",
      "\n",
      "Block #15 has been added to the blockchain!\n",
      "Hash: b77f6361cddbd35e41816e999fd5dc1bdf9086ebfb00d20d9d91e988db3df746\n",
      "\n",
      "Block #16 has been added to the blockchain!\n",
      "Hash: 4694037219eeedaf4f3905824450d14d752ed903ff335f8a65079ec6447449a7\n",
      "\n",
      "Block #17 has been added to the blockchain!\n",
      "Hash: 39e59f974003195bee1855feb674ad6affd65d4f5b68f886f7f6b6cd83b691c9\n",
      "\n",
      "Block #18 has been added to the blockchain!\n",
      "Hash: 9dd21e8c59e2906a78d9dfea0f51863dacc6eeabee160c599ef13049ccd7e687\n",
      "\n",
      "Block #19 has been added to the blockchain!\n",
      "Hash: cfaad6a32073b27fd6d00457c628e9f672d50ad945cc7393ea2d1206f87d34b3\n",
      "\n",
      "Block #20 has been added to the blockchain!\n",
      "Hash: 01b75d9c534e72d24e8c6b0093e0368d7b604f164af35f5eafa9cff9b4d6d90d\n",
      "\n"
     ]
    }
   ],
   "source": [
    "import hashlib as hasher\n",
    "import datetime as date\n",
    "\n",
    "# Define what a Snakecoin block is\n",
    "class Block:\n",
    "  def __init__(self, index, timestamp, data, previous_hash):\n",
    "    self.index = index\n",
    "    self.timestamp = timestamp\n",
    "    self.data = data\n",
    "    self.previous_hash = previous_hash\n",
    "    self.hash = self.hash_block()\n",
    "  \n",
    "  def hash_block(self):\n",
    "    sha = hasher.sha256()\n",
    "    sha.update(str(self.index) + str(self.timestamp) + str(self.data) + str(self.previous_hash))\n",
    "    return sha.hexdigest()\n",
    "\n",
    "# Generate genesis block\n",
    "def create_genesis_block():\n",
    "  # Manually construct a block with\n",
    "  # index zero and arbitrary previous hash\n",
    "  return Block(0, date.datetime.now(), \"Genesis Block\", \"0\")\n",
    "\n",
    "# Generate all later blocks in the blockchain\n",
    "def next_block(last_block):\n",
    "  this_index = last_block.index + 1\n",
    "  this_timestamp = date.datetime.now()\n",
    "  this_data = \"Hey! I'm block \" + str(this_index)\n",
    "  this_hash = last_block.hash\n",
    "  return Block(this_index, this_timestamp, this_data, this_hash)\n",
    "\n",
    "# Create the blockchain and add the genesis block\n",
    "blockchain = [create_genesis_block()]\n",
    "previous_block = blockchain[0]\n",
    "\n",
    "# How many blocks should we add to the chain\n",
    "# after the genesis block\n",
    "num_of_blocks_to_add = 20\n",
    "\n",
    "# Add blocks to the chain\n",
    "for i in range(0, num_of_blocks_to_add):\n",
    "  block_to_add = next_block(previous_block)\n",
    "  blockchain.append(block_to_add)\n",
    "  previous_block = block_to_add\n",
    "  # Tell everyone about it!\n",
    "  print \"Block #{} has been added to the blockchain!\".format(block_to_add.index)\n",
    "  print \"Hash: {}\\n\".format(block_to_add.hash) "
   ]
  },
  {
   "cell_type": "markdown",
   "metadata": {},
   "source": [
    "[tut](https://gist.github.com/aunyks/47d157f8bc7d1829a729c2a6a919c173)"
   ]
  },
  {
   "cell_type": "code",
   "execution_count": null,
   "metadata": {
    "collapsed": true
   },
   "outputs": [],
   "source": []
  }
 ],
 "metadata": {
  "kernelspec": {
   "display_name": "Python 2",
   "language": "python",
   "name": "python2"
  },
  "language_info": {
   "codemirror_mode": {
    "name": "ipython",
    "version": 2
   },
   "file_extension": ".py",
   "mimetype": "text/x-python",
   "name": "python",
   "nbconvert_exporter": "python",
   "pygments_lexer": "ipython2",
   "version": "2.7.13"
  }
 },
 "nbformat": 4,
 "nbformat_minor": 2
}
