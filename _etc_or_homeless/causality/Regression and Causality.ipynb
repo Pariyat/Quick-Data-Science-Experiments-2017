{
 "cells": [
  {
   "cell_type": "markdown",
   "metadata": {},
   "source": [
    "[src](http://www.soderbom.net/metrix2/lec3.pdf)"
   ]
  },
  {
   "cell_type": "markdown",
   "metadata": {},
   "source": [
    "### terminology\n",
    "* $Y_i = Y_{0i} + (Y_{1i} - Y_{0i}) C_i$\n",
    "* $E[Y_i | C_i = 1] - E[Y_i | C_i = 0] = E[Y_{1i} | C_i = 1] + (- E[Y_{0i} | C_i = 1] + E[Y_{0i} | C_i = 1]) - E[Y_{01} | C_i = 0] $\n",
    "    * the average treatment effect on the treated (ATT) + selection bias\n",
    "* conditional independence assumption\n",
    "    * ${Y_{01}, Y_{1i}}$ independent of $C_i$ given $X_i$\n",
    "    * leads to $E[Y_i | X_i, C_i = 1] - E[Y_i | X_i, C_i = 0] = E[Y_{1i} - Y_{0i}| X_i]$\n",
    "* we can also do this for continuous variables / not binary variables\n",
    "* $Y_{si} = f_i (S)$\n",
    "* effect of one additional year of schooling is $E[f_i (S) - f_i (S - 1) | X_i]$"
   ]
  },
  {
   "cell_type": "markdown",
   "metadata": {},
   "source": [
    "### regression\n",
    "* $f_i(S) = \\alpha + \\rho S + \\eta_i$\n",
    "* further supposed that $\\eta_i = X_i \\gamma + v_i$\n",
    "* \n"
   ]
  },
  {
   "cell_type": "markdown",
   "metadata": {},
   "source": []
  },
  {
   "cell_type": "markdown",
   "metadata": {},
   "source": []
  }
 ],
 "metadata": {
  "kernelspec": {
   "display_name": "Python 2",
   "language": "python",
   "name": "python2"
  },
  "language_info": {
   "codemirror_mode": {
    "name": "ipython",
    "version": 2
   },
   "file_extension": ".py",
   "mimetype": "text/x-python",
   "name": "python",
   "nbconvert_exporter": "python",
   "pygments_lexer": "ipython2",
   "version": "2.7.13"
  }
 },
 "nbformat": 4,
 "nbformat_minor": 2
}
