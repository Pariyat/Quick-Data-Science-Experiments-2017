{
 "cells": [
  {
   "cell_type": "code",
   "execution_count": 57,
   "metadata": {
    "collapsed": true
   },
   "outputs": [],
   "source": [
    "%matplotlib inline\n",
    "import numpy as np\n",
    "import pandas as pd "
   ]
  },
  {
   "cell_type": "code",
   "execution_count": 58,
   "metadata": {
    "collapsed": false
   },
   "outputs": [],
   "source": [
    "start_date='2017-03-01'\n",
    "end_date='2017-04-01'\n",
    "dates=pd.date_range(start_date, end_date)"
   ]
  },
  {
   "cell_type": "code",
   "execution_count": 59,
   "metadata": {
    "collapsed": false
   },
   "outputs": [
    {
     "data": {
      "text/html": [
       "<div>\n",
       "<table border=\"1\" class=\"dataframe\">\n",
       "  <thead>\n",
       "    <tr style=\"text-align: right;\">\n",
       "      <th></th>\n",
       "    </tr>\n",
       "  </thead>\n",
       "  <tbody>\n",
       "    <tr>\n",
       "      <th>2017-03-01</th>\n",
       "    </tr>\n",
       "    <tr>\n",
       "      <th>2017-03-02</th>\n",
       "    </tr>\n",
       "    <tr>\n",
       "      <th>2017-03-03</th>\n",
       "    </tr>\n",
       "    <tr>\n",
       "      <th>2017-03-04</th>\n",
       "    </tr>\n",
       "    <tr>\n",
       "      <th>2017-03-05</th>\n",
       "    </tr>\n",
       "  </tbody>\n",
       "</table>\n",
       "</div>"
      ],
      "text/plain": [
       "Empty DataFrame\n",
       "Columns: []\n",
       "Index: [2017-03-01 00:00:00, 2017-03-02 00:00:00, 2017-03-03 00:00:00, 2017-03-04 00:00:00, 2017-03-05 00:00:00]"
      ]
     },
     "execution_count": 59,
     "metadata": {},
     "output_type": "execute_result"
    }
   ],
   "source": [
    "df1 = pd.DataFrame(index=dates)\n",
    "df1.head()"
   ]
  },
  {
   "cell_type": "code",
   "execution_count": 60,
   "metadata": {
    "collapsed": false
   },
   "outputs": [
    {
     "data": {
      "text/html": [
       "<div>\n",
       "<table border=\"1\" class=\"dataframe\">\n",
       "  <thead>\n",
       "    <tr style=\"text-align: right;\">\n",
       "      <th></th>\n",
       "      <th>AAPL</th>\n",
       "      <th>HCP</th>\n",
       "    </tr>\n",
       "  </thead>\n",
       "  <tbody>\n",
       "    <tr>\n",
       "      <th>2017-03-01</th>\n",
       "      <td>139.789993</td>\n",
       "      <td>32.200001</td>\n",
       "    </tr>\n",
       "    <tr>\n",
       "      <th>2017-03-02</th>\n",
       "      <td>138.960007</td>\n",
       "      <td>32.110001</td>\n",
       "    </tr>\n",
       "    <tr>\n",
       "      <th>2017-03-03</th>\n",
       "      <td>139.779999</td>\n",
       "      <td>32.200001</td>\n",
       "    </tr>\n",
       "    <tr>\n",
       "      <th>2017-03-06</th>\n",
       "      <td>139.339996</td>\n",
       "      <td>31.500000</td>\n",
       "    </tr>\n",
       "    <tr>\n",
       "      <th>2017-03-07</th>\n",
       "      <td>139.520004</td>\n",
       "      <td>31.299999</td>\n",
       "    </tr>\n",
       "  </tbody>\n",
       "</table>\n",
       "</div>"
      ],
      "text/plain": [
       "                  AAPL        HCP\n",
       "2017-03-01  139.789993  32.200001\n",
       "2017-03-02  138.960007  32.110001\n",
       "2017-03-03  139.779999  32.200001\n",
       "2017-03-06  139.339996  31.500000\n",
       "2017-03-07  139.520004  31.299999"
      ]
     },
     "execution_count": 60,
     "metadata": {},
     "output_type": "execute_result"
    }
   ],
   "source": [
    "for symb in ['AAPL', 'HCP']:\n",
    "    df_temp = pd.read_csv(\"../data/%s.csv\" % symb, index_col=\"Date\", parse_dates=True, \\\n",
    "                    usecols=[\"Date\", \"Adj Close\"], na_values=['nan'])\n",
    "    df_temp = df_temp.rename(columns={\"Adj Close\": symb})\n",
    "#     print df_temp.head()\n",
    "    df1 = df1.join(df_temp, lsuffix=\"1\", rsuffix=\"2\")\n",
    "\n",
    "df1 = df1.dropna(how=\"any\")\n",
    "df1.head()"
   ]
  },
  {
   "cell_type": "code",
   "execution_count": 61,
   "metadata": {
    "collapsed": false
   },
   "outputs": [
    {
     "data": {
      "text/html": [
       "<div>\n",
       "<table border=\"1\" class=\"dataframe\">\n",
       "  <thead>\n",
       "    <tr style=\"text-align: right;\">\n",
       "      <th></th>\n",
       "      <th>AAPL</th>\n",
       "      <th>HCP</th>\n",
       "    </tr>\n",
       "  </thead>\n",
       "  <tbody>\n",
       "    <tr>\n",
       "      <th>2017-03-27</th>\n",
       "      <td>140.880005</td>\n",
       "      <td>30.790001</td>\n",
       "    </tr>\n",
       "    <tr>\n",
       "      <th>2017-03-28</th>\n",
       "      <td>143.800003</td>\n",
       "      <td>31.000000</td>\n",
       "    </tr>\n",
       "    <tr>\n",
       "      <th>2017-03-29</th>\n",
       "      <td>144.119995</td>\n",
       "      <td>31.020000</td>\n",
       "    </tr>\n",
       "  </tbody>\n",
       "</table>\n",
       "</div>"
      ],
      "text/plain": [
       "                  AAPL        HCP\n",
       "2017-03-27  140.880005  30.790001\n",
       "2017-03-28  143.800003  31.000000\n",
       "2017-03-29  144.119995  31.020000"
      ]
     },
     "execution_count": 61,
     "metadata": {},
     "output_type": "execute_result"
    }
   ],
   "source": [
    "df1.ix['2017-03-25': '2017-03-29']"
   ]
  },
  {
   "cell_type": "code",
   "execution_count": 63,
   "metadata": {
    "collapsed": false
   },
   "outputs": [
    {
     "data": {
      "text/html": [
       "<div>\n",
       "<table border=\"1\" class=\"dataframe\">\n",
       "  <thead>\n",
       "    <tr style=\"text-align: right;\">\n",
       "      <th></th>\n",
       "      <th>AAPL</th>\n",
       "    </tr>\n",
       "  </thead>\n",
       "  <tbody>\n",
       "    <tr>\n",
       "      <th>2017-03-20</th>\n",
       "      <td>141.460007</td>\n",
       "    </tr>\n",
       "    <tr>\n",
       "      <th>2017-03-21</th>\n",
       "      <td>139.839996</td>\n",
       "    </tr>\n",
       "    <tr>\n",
       "      <th>2017-03-22</th>\n",
       "      <td>141.419998</td>\n",
       "    </tr>\n",
       "    <tr>\n",
       "      <th>2017-03-23</th>\n",
       "      <td>140.919998</td>\n",
       "    </tr>\n",
       "    <tr>\n",
       "      <th>2017-03-24</th>\n",
       "      <td>140.639999</td>\n",
       "    </tr>\n",
       "  </tbody>\n",
       "</table>\n",
       "</div>"
      ],
      "text/plain": [
       "                  AAPL\n",
       "2017-03-20  141.460007\n",
       "2017-03-21  139.839996\n",
       "2017-03-22  141.419998\n",
       "2017-03-23  140.919998\n",
       "2017-03-24  140.639999"
      ]
     },
     "execution_count": 63,
     "metadata": {},
     "output_type": "execute_result"
    }
   ],
   "source": [
    "df1.ix['2017-03-20':'2017-03-25', ['AAPL']]"
   ]
  },
  {
   "cell_type": "code",
   "execution_count": 66,
   "metadata": {
    "collapsed": false
   },
   "outputs": [
    {
     "data": {
      "text/plain": [
       "<matplotlib.axes._subplots.AxesSubplot at 0x10816c150>"
      ]
     },
     "execution_count": 66,
     "metadata": {},
     "output_type": "execute_result"
    },
    {
     "data": {
      "image/png": "[encoded data removed]",
      "text/plain": [
       "<matplotlib.figure.Figure at 0x108161ed0>"
      ]
     },
     "metadata": {},
     "output_type": "display_data"
    }
   ],
   "source": [
    "df1.plot(title=\"stockzz\")"
   ]
  },
  {
   "cell_type": "code",
   "execution_count": 70,
   "metadata": {
    "collapsed": false
   },
   "outputs": [
    {
     "data": {
      "text/plain": [
       "<matplotlib.axes._subplots.AxesSubplot at 0x108213790>"
      ]
     },
     "execution_count": 70,
     "metadata": {},
     "output_type": "execute_result"
    },
    {
     "data": {
      "image/png": "[encoded data removed]",
      "text/plain": [
       "<matplotlib.figure.Figure at 0x10816cbd0>"
      ]
     },
     "metadata": {},
     "output_type": "display_data"
    }
   ],
   "source": [
    "df_normed = df1 / df1.ix[0,:]\n",
    "df_normed.plot()"
   ]
  },
  {
   "cell_type": "code",
   "execution_count": null,
   "metadata": {
    "collapsed": true
   },
   "outputs": [],
   "source": []
  }
 ],
 "metadata": {
  "kernelspec": {
   "display_name": "Python 2",
   "language": "python",
   "name": "python2"
  },
  "language_info": {
   "codemirror_mode": {
    "name": "ipython",
    "version": 2
   },
   "file_extension": ".py",
   "mimetype": "text/x-python",
   "name": "python",
   "nbconvert_exporter": "python",
   "pygments_lexer": "ipython2",
   "version": "2.7.5"
  }
 },
 "nbformat": 4,
 "nbformat_minor": 0
}
