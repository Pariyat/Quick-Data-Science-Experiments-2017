{
 "cells": [
  {
   "cell_type": "code",
   "execution_count": 1,
   "metadata": {
    "collapsed": true
   },
   "outputs": [],
   "source": [
    "%matplotlib inline\n",
    "import numpy as np\n",
    "import pandas as pd \n",
    "import matplotlib.pyplot as plt"
   ]
  },
  {
   "cell_type": "code",
   "execution_count": 2,
   "metadata": {
    "collapsed": true
   },
   "outputs": [],
   "source": [
    "start_date='2017-01-01'\n",
    "end_date='2017-04-01'\n",
    "dates=pd.date_range(start_date, end_date)\n",
    "df1 = pd.DataFrame(index=dates)\n",
    "for symb in ['AAPL', 'HCP', 'ADBE', 'IBM']:\n",
    "    df_temp = pd.read_csv(\"../data/%s.csv\" % symb, index_col=\"Date\", parse_dates=True, \\\n",
    "                    usecols=[\"Date\", \"Adj Close\"], na_values=['nan'])\n",
    "    df_temp = df_temp.rename(columns={\"Adj Close\": symb})\n",
    "#     print df_temp.head()\n",
    "    df1 = df1.join(df_temp, lsuffix=\"1\", rsuffix=\"2\")\n",
    "df1 = df1.dropna(how=\"any\")"
   ]
  },
  {
   "cell_type": "code",
   "execution_count": 4,
   "metadata": {
    "collapsed": false
   },
   "outputs": [
    {
     "data": {
      "text/html": [
       "<div>\n",
       "<table border=\"1\" class=\"dataframe\">\n",
       "  <thead>\n",
       "    <tr style=\"text-align: right;\">\n",
       "      <th></th>\n",
       "      <th>AAPL</th>\n",
       "      <th>HCP</th>\n",
       "      <th>ADBE</th>\n",
       "      <th>IBM</th>\n",
       "    </tr>\n",
       "  </thead>\n",
       "  <tbody>\n",
       "    <tr>\n",
       "      <th>2017-03-06</th>\n",
       "      <td>139.339996</td>\n",
       "      <td>31.500000</td>\n",
       "      <td>120.150002</td>\n",
       "      <td>180.470001</td>\n",
       "    </tr>\n",
       "    <tr>\n",
       "      <th>2017-03-07</th>\n",
       "      <td>139.520004</td>\n",
       "      <td>31.299999</td>\n",
       "      <td>119.980003</td>\n",
       "      <td>180.380005</td>\n",
       "    </tr>\n",
       "    <tr>\n",
       "      <th>2017-03-08</th>\n",
       "      <td>139.000000</td>\n",
       "      <td>30.360001</td>\n",
       "      <td>119.599998</td>\n",
       "      <td>179.449997</td>\n",
       "    </tr>\n",
       "    <tr>\n",
       "      <th>2017-03-09</th>\n",
       "      <td>138.679993</td>\n",
       "      <td>29.750000</td>\n",
       "      <td>119.910004</td>\n",
       "      <td>177.179993</td>\n",
       "    </tr>\n",
       "    <tr>\n",
       "      <th>2017-03-10</th>\n",
       "      <td>139.139999</td>\n",
       "      <td>29.760000</td>\n",
       "      <td>121.089996</td>\n",
       "      <td>177.830002</td>\n",
       "    </tr>\n",
       "  </tbody>\n",
       "</table>\n",
       "</div>"
      ],
      "text/plain": [
       "                  AAPL        HCP        ADBE         IBM\n",
       "2017-03-06  139.339996  31.500000  120.150002  180.470001\n",
       "2017-03-07  139.520004  31.299999  119.980003  180.380005\n",
       "2017-03-08  139.000000  30.360001  119.599998  179.449997\n",
       "2017-03-09  138.679993  29.750000  119.910004  177.179993\n",
       "2017-03-10  139.139999  29.760000  121.089996  177.830002"
      ]
     },
     "execution_count": 4,
     "metadata": {},
     "output_type": "execute_result"
    }
   ],
   "source": [
    "df1.head()"
   ]
  },
  {
   "cell_type": "code",
   "execution_count": 5,
   "metadata": {
    "collapsed": true
   },
   "outputs": [],
   "source": [
    "daily_returns = df1.copy()\n",
    "daily_returns[1:] = (df1[1:] / df1[:-1].values) - 1 \n",
    "daily_returns.ix[0,:] = 0"
   ]
  },
  {
   "cell_type": "code",
   "execution_count": 11,
   "metadata": {
    "collapsed": false
   },
   "outputs": [
    {
     "name": "stdout",
     "output_type": "stream",
     "text": [
      "AAPL    0.001652\n",
      "HCP     0.000027\n",
      "ADBE    0.004567\n",
      "IBM    -0.001939\n",
      "dtype: float64\n",
      "AAPL    0.007480\n",
      "HCP     0.011484\n",
      "ADBE    0.009824\n",
      "IBM     0.005710\n",
      "dtype: float64\n"
     ]
    }
   ],
   "source": [
    "daily_returns = daily_returns[1:] # remove the first one\n",
    "mean_daily_returns = daily_returns.mean()\n",
    "std_daily_returns = daily_returns.std()\n",
    "print mean_daily_returns\n",
    "print std_daily_returns\n",
    "# we can also do cumulative...etc."
   ]
  },
  {
   "cell_type": "code",
   "execution_count": null,
   "metadata": {
    "collapsed": true
   },
   "outputs": [],
   "source": []
  },
  {
   "cell_type": "markdown",
   "metadata": {},
   "source": [
    "### sharpe_ratio\n",
    "* The value of a portfolio is directly proportional to the return it generates over some baseline (here risk-free rate), and inversely proportional to its volatility.\n",
    "* $R_p$ - portfolio return\n",
    "* $R_f$ - risk free rate of return\n",
    "* $\\sigma_p$ - std of portfolio return\n",
    "* $\\frac{R_p - R_f}{\\sigma_p}$ (yea... just like Wald's CI)\n",
    "* formula: $S = \\frac{E(R_p - R_f)}{\\sigma(R_p - R_f)}$\n",
    "    * can drop $R_f$ from denom\n",
    "\n",
    "### converting SR to different freq\n",
    "* $SR_{annualized} = K * SR_{daily}$\n",
    "* $K = \\sqrt{\\text{# samples per year}}$\n",
    "    * daily - $\\sqrt{252}$ if we are using daily_returns\n",
    "    * weekly - $\\sqrt{52}$ if we are using weekly_returns\n",
    "    * monthly - $\\sqrt{12}$"
   ]
  },
  {
   "cell_type": "markdown",
   "metadata": {},
   "source": [
    "### standard ways to evaluate a portfolio\n",
    "* cumulative returns\n",
    "* avg daily returns\n",
    "* risk (std daily returns)\n",
    "* sharpe ratio"
   ]
  },
  {
   "cell_type": "code",
   "execution_count": null,
   "metadata": {
    "collapsed": true
   },
   "outputs": [],
   "source": []
  }
 ],
 "metadata": {
  "kernelspec": {
   "display_name": "Python 2",
   "language": "python",
   "name": "python2"
  },
  "language_info": {
   "codemirror_mode": {
    "name": "ipython",
    "version": 2
   },
   "file_extension": ".py",
   "mimetype": "text/x-python",
   "name": "python",
   "nbconvert_exporter": "python",
   "pygments_lexer": "ipython2",
   "version": "2.7.12"
  }
 },
 "nbformat": 4,
 "nbformat_minor": 0
}
