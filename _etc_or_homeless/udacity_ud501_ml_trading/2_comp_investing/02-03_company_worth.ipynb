{
 "cells": [
  {
   "cell_type": "code",
   "execution_count": 1,
   "metadata": {
    "collapsed": true
   },
   "outputs": [],
   "source": [
    "from IPython.display import Image"
   ]
  },
  {
   "cell_type": "markdown",
   "metadata": {},
   "source": [
    "### If a company can generate 1 dollar every year, what is it worth?\n",
    "* between 10 and 25 varying due to interest rate\n",
    "\n",
    "### how to tell the worth\n",
    "* intrinsic value\n",
    "* book value\n",
    "* market cap\n",
    "\n",
    "### value of a dollar\n",
    "* $PV = \\frac{FV}{(1 + IR)^i}$\n"
   ]
  },
  {
   "cell_type": "markdown",
   "metadata": {},
   "source": [
    "### Intrinsic value\n",
    "* $\\sum_i^\\inf \\frac{FV}{(1 + IR)^i} = \\frac{FV}{IR}$\n",
    "* see [geometric series](https://www.varsitytutors.com/hotmath/hotmath_help/topics/geometric-series)\n",
    "    * $S = \\frac{a_0}{1 - r}$\n",
    "    * $r = \\frac{1}{1 + IR}$\n",
    "    * $1 - r = \\frac{IR}{1 + IR}$\n",
    "    * $S = \\frac{a_0 * (1 + IR)}{IR} = \\frac{a_1}{IR}$"
   ]
  },
  {
   "cell_type": "markdown",
   "metadata": {},
   "source": [
    "### Book value\n",
    "* total asset - (intangible asset + liabilities)\n",
    "* basically tangible asset - liabilities"
   ]
  },
  {
   "cell_type": "markdown",
   "metadata": {},
   "source": [
    "### Market capitalization\n",
    "* num shares * price"
   ]
  },
  {
   "cell_type": "markdown",
   "metadata": {},
   "source": [
    "* if the market capitalization is lower than book value, you can buy right away, and just sell all the assets to make $"
   ]
  },
  {
   "cell_type": "markdown",
   "metadata": {},
   "source": []
  },
  {
   "cell_type": "markdown",
   "metadata": {},
   "source": []
  },
  {
   "cell_type": "code",
   "execution_count": null,
   "metadata": {
    "collapsed": true
   },
   "outputs": [],
   "source": []
  }
 ],
 "metadata": {
  "kernelspec": {
   "display_name": "Python 2",
   "language": "python",
   "name": "python2"
  },
  "language_info": {
   "codemirror_mode": {
    "name": "ipython",
    "version": 2
   },
   "file_extension": ".py",
   "mimetype": "text/x-python",
   "name": "python",
   "nbconvert_exporter": "python",
   "pygments_lexer": "ipython2",
   "version": "2.7.12"
  }
 },
 "nbformat": 4,
 "nbformat_minor": 2
}
