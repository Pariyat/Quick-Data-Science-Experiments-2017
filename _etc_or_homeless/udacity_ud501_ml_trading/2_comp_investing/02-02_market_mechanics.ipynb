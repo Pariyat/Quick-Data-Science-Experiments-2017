{
 "cells": [
  {
   "cell_type": "code",
   "execution_count": 1,
   "metadata": {
    "collapsed": true
   },
   "outputs": [],
   "source": [
    "from IPython.display import Image"
   ]
  },
  {
   "cell_type": "markdown",
   "metadata": {},
   "source": [
    "### Order\n",
    "* e.g. on ETrade, click buy shares plz\n",
    "* components:\n",
    "    * buy or sell\n",
    "    * symbol\n",
    "    * num shares\n",
    "    * limit or market (market - willing to accept Market price) (limit - not any worse than $)\n",
    "    * price\n",
    "* e.g. [BUY,IBM,100,LIMIT,99.95]\n",
    "* e.g. [SELL,GOOG,150,MARKET]"
   ]
  },
  {
   "cell_type": "markdown",
   "metadata": {},
   "source": [
    "### Exchange  / Order Book\n",
    "* imagine [BUY,IBM,100,LIMIT,99.95] & [SELL,IBM,1000,LIMIT,100] & [SELL,IBM,100,LIMIT,101]\n",
    "* won't have transactions, because the market doesn't match\n",
    "* if a [BUY,IBM,100,MARKET] comes in, we will sell the IBM at 100, not 101, because we sell the lowest in market\n",
    "\n",
    "### How hedge funds exploit market mechanics\n",
    "* imagine a HF is right next to the exchange, while buyers are far away\n",
    "* A. order book exploit\n",
    "    * 1. HF observes order book\n",
    "    * 2. HF buys stock\n",
    "    * 3. you click buy\n",
    "    * 4. meanwhile stock goes up\n",
    "    * 5. HF sells to you at higher price\n",
    "* B. geographic arbitrage\n",
    "    * NYSE is lower than London\n",
    "    * HF has servers at both places\n",
    "    * HF immediately buys a few at NYSE, and sells a few at Londn\n",
    "    * can pull it off because of resources\n"
   ]
  },
  {
   "cell_type": "markdown",
   "metadata": {},
   "source": [
    "### Additional types of orders\n",
    "* exchange\n",
    "    * buy / sell\n",
    "    * market limit\n",
    "* broker (holds onto your order, until the conditions are met)\n",
    "    * stop loss (buy when reach a price)\n",
    "    * stop gain (sell when reach a price)\n",
    "    * trailing stop (follow the market price, e.g. only sell at .2 cents lower than price)\n",
    "    * selling short (take a negative position on the stock, if you think it will go down, that you don't own)"
   ]
  },
  {
   "cell_type": "markdown",
   "metadata": {},
   "source": [
    "### Mechanics of short selling\n",
    "##### 1. Joe has 100 IBM, 2. I want to short 100 IBM 3. Lisa wants to buy 100 IBM at $100\n",
    "\n",
    "* shorting lets me borrow 100 from Joe, to sell to Lisa at $100\n",
    "\n",
    "* I get $100 * 100, but I owe Joe 100 IBM\n",
    "\n",
    "* when IBM becomes 90, I can buy 100, and give back to Joe, meaning I get 1000"
   ]
  },
  {
   "cell_type": "markdown",
   "metadata": {},
   "source": []
  },
  {
   "cell_type": "markdown",
   "metadata": {},
   "source": []
  },
  {
   "cell_type": "markdown",
   "metadata": {},
   "source": []
  }
 ],
 "metadata": {
  "kernelspec": {
   "display_name": "Python 2",
   "language": "python",
   "name": "python2"
  },
  "language_info": {
   "codemirror_mode": {
    "name": "ipython",
    "version": 2
   },
   "file_extension": ".py",
   "mimetype": "text/x-python",
   "name": "python",
   "nbconvert_exporter": "python",
   "pygments_lexer": "ipython2",
   "version": "2.7.12"
  }
 },
 "nbformat": 4,
 "nbformat_minor": 2
}
