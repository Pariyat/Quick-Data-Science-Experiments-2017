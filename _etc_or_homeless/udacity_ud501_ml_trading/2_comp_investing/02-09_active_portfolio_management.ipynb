{
 "cells": [
  {
   "cell_type": "code",
   "execution_count": 1,
   "metadata": {
    "collapsed": true
   },
   "outputs": [],
   "source": [
    "from IPython.display import Image"
   ]
  },
  {
   "cell_type": "markdown",
   "metadata": {},
   "source": [
    "### grinold's fundamental law:\n",
    "* performance\n",
    "* skill\n",
    "* breadth\n",
    "* $p = s * \\sqrt b$"
   ]
  },
  {
   "cell_type": "markdown",
   "metadata": {},
   "source": [
    "### coinflipping casino\n",
    "* biased coin 51 / 49 \n",
    "* 1000 tables, 1000 chips\n",
    "* gain N chips if you win, lose N chips if you lose\n",
    "\n",
    "#### expectation\n",
    "* single bet - 1000 * 0.51 + (-1000) * 0.49 = 20\n",
    "* multi bet - [1 * 0.51 + (-1) * 0.49] * 1000 = 20\n",
    "\n",
    "#### risk (to lose it all)\n",
    "* single bet - 49%\n",
    "* multi bet - 49 ^ 1000 = small #\n",
    "\n",
    "#### risk (std of all bets)\n",
    "* multi bet \n",
    "    * (1, -1, 1, -1...)\n",
    "    * std = 1 (because you only get 1 or -1 and your mean is 0)\n",
    "* single bet\n",
    "    * (1000 or -1000, 0 ... 0) \n",
    "    * std = 36.1\n",
    "\n",
    "#### reward / risk\n",
    "* just like sharpe ratio\n",
    "* single bet - 20 / 36.1 = 0.63\n",
    "* multi bet - 20 / 1 = 20\n",
    "* multi bet sharpe ratio is much lower\n",
    "\n",
    "#### grinold's law\n",
    "* 20 = 0.63 * sqrt(1000)\n",
    "* so it follows the law\n",
    "* it says that you can either improve your skill at making a single pick, or have more breadth"
   ]
  },
  {
   "cell_type": "markdown",
   "metadata": {},
   "source": [
    "### IR, IC and breadth\n",
    "* recall CAPM - $r_p = \\beta r_m + \\alpha$, where $\\beta r_m$ is the market and $\\alpha$ is the skill\n",
    "* $IR = \\frac{E(\\alpha_p(t))}{std(\\alpha_p(t))}$\n",
    "* IR is basically like the sharpe ratio for the skill\n",
    "* IC - information coefficient - correlation of forecasts to return (**note: just pearson ratio!!**)\n",
    "* breath - # of opportunities to execute the IC\n",
    "* $IR = IC * \\sqrt{breath}$"
   ]
  },
  {
   "cell_type": "markdown",
   "metadata": {},
   "source": []
  },
  {
   "cell_type": "markdown",
   "metadata": {},
   "source": []
  }
 ],
 "metadata": {
  "kernelspec": {
   "display_name": "Python 2",
   "language": "python",
   "name": "python2"
  },
  "language_info": {
   "codemirror_mode": {
    "name": "ipython",
    "version": 2
   },
   "file_extension": ".py",
   "mimetype": "text/x-python",
   "name": "python",
   "nbconvert_exporter": "python",
   "pygments_lexer": "ipython2",
   "version": "2.7.12"
  }
 },
 "nbformat": 4,
 "nbformat_minor": 2
}
