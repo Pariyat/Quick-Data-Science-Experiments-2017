{
 "cells": [
  {
   "cell_type": "code",
   "execution_count": 1,
   "metadata": {
    "collapsed": true
   },
   "outputs": [],
   "source": [
    "from IPython.display import Image"
   ]
  },
  {
   "cell_type": "markdown",
   "metadata": {},
   "source": [
    "### Characteristics\n",
    "* only historical prices and volume (not fundamental analysis - the worth of a company)\n",
    "* compute statistics called indicators\n",
    "\n",
    "### When is technical analysis effective?\n",
    "* individual indicators are weak (when a stock isn't defined by a single statistic that everyone uses)\n",
    "* combinations are stronger\n",
    "* look for contrasts (stock vs market)\n",
    "* shorter time periods\n",
    "* **note: indicators are heuristics**"
   ]
  },
  {
   "cell_type": "markdown",
   "metadata": {},
   "source": [
    "### [indicator] momentum\n",
    "* $m_t = p_t / p_{t-n} - 1$\n",
    "* just seeing if a price rose or dropped\n",
    "\n",
    "### [indicator] simple moving average\n",
    "* n-day look back, proxy for value\n",
    "* e.g. when price crosses moving average\n",
    "* e.g. combine MA with momentum as a strategy\n",
    "\n",
    "### [indicator] bollinger band\n",
    "* SMA +- 2SD\n",
    "* look for crosses from top to inside (meaning sell) \n",
    "* from bottom to inside (meaning buy)\n",
    "* $BB_t = \\frac{p_t - sma_t}{2 std_t}$\n",
    "* note from inside to outside, isn't a good indicator, because we don't know if it will move back"
   ]
  },
  {
   "cell_type": "markdown",
   "metadata": {},
   "source": [
    "### Normalization\n",
    "* note the 4 indicators have different types of values, so need to norm it"
   ]
  },
  {
   "cell_type": "markdown",
   "metadata": {},
   "source": []
  },
  {
   "cell_type": "markdown",
   "metadata": {},
   "source": []
  },
  {
   "cell_type": "markdown",
   "metadata": {},
   "source": []
  }
 ],
 "metadata": {
  "kernelspec": {
   "display_name": "Python 2",
   "language": "python",
   "name": "python2"
  },
  "language_info": {
   "codemirror_mode": {
    "name": "ipython",
    "version": 2
   },
   "file_extension": ".py",
   "mimetype": "text/x-python",
   "name": "python",
   "nbconvert_exporter": "python",
   "pygments_lexer": "ipython2",
   "version": "2.7.12"
  }
 },
 "nbformat": 4,
 "nbformat_minor": 2
}
