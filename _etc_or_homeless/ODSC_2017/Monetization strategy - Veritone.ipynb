{
 "cells": [
  {
   "cell_type": "markdown",
   "metadata": {},
   "source": [
    "* ANI - artificial narrow intelligence\n",
    "* AGI - general\n",
    "* ASI - super"
   ]
  },
  {
   "cell_type": "markdown",
   "metadata": {},
   "source": [
    "### distribution models\n",
    "* 1 to 1 - b2c, b2b, inside / direct sales\n",
    "* 1:N - SaaS, ressellers, partners, embedding distributiin channels\n",
    "* N:N - platforms, ecosystems"
   ]
  },
  {
   "cell_type": "markdown",
   "metadata": {},
   "source": [
    "* Veritone wants to the OS for AI\n",
    "    * ecosystem of ML services\n",
    "    * e.g. recognition, sentiment...etc.\n",
    "\n",
    "### applications\n",
    "* cognitive engines -  bv\n",
    "* applications \n",
    "* data products\n",
    "* APIs"
   ]
  },
  {
   "cell_type": "markdown",
   "metadata": {},
   "source": [
    "### focuses on Enterprise and Gov\n",
    "* a lot of data sharing  and compliance requirements\n",
    "* e.g. can't persist this!!!\n",
    "* AWS devoted a special market just to serve govs"
   ]
  },
  {
   "cell_type": "code",
   "execution_count": null,
   "metadata": {
    "collapsed": true
   },
   "outputs": [],
   "source": []
  }
 ],
 "metadata": {
  "kernelspec": {
   "display_name": "Python 2",
   "language": "python",
   "name": "python2"
  },
  "language_info": {
   "codemirror_mode": {
    "name": "ipython",
    "version": 2
   },
   "file_extension": ".py",
   "mimetype": "text/x-python",
   "name": "python",
   "nbconvert_exporter": "python",
   "pygments_lexer": "ipython2",
   "version": "2.7.13"
  }
 },
 "nbformat": 4,
 "nbformat_minor": 2
}
