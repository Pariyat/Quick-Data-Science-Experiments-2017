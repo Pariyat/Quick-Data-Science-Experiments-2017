{
 "cells": [
  {
   "cell_type": "markdown",
   "metadata": {},
   "source": [
    "# SVD to PCA\n",
    "\n",
    "### SVD properties\n",
    "* $X = UDV^T$\n",
    "* U and V are orthogonal matrix meaning that $U^T U = I$ and $V^T V = I$\n",
    "* S is a diagonal, where S**2 is the variance explained\n",
    "\n",
    "### application to PCA (pg 535 ESL)\n",
    "* pca is formulated $f(\\lambda) = V_q \\lambda$ where $\\lambda$ is the transformed\n",
    "* $min_{V_q} \\sum_i^N \\| x_i - V_q \\lambda_i \\|^2$\n",
    "* $min_{V_q} \\sum_i^N \\| x_i - V_q V_q^T x_i \\|^2$\n",
    "* after applying PCA, $UD$ are the principal components (the transformed)\n",
    "* $V_q$ is the linear transformation, and $X V_q$ is also the principal component"
   ]
  },
  {
   "cell_type": "markdown",
   "metadata": {},
   "source": [
    "### how is PCA implemented\n",
    "* [pca](https://github.com/scikit-learn/scikit-learn/blob/14031f6/sklearn/decomposition/pca.py#L372)\n",
    "* [base pca](https://github.com/scikit-learn/scikit-learn/blob/14031f65d144e3966113d3daec836e443c6d7a5b/sklearn/decomposition/base.py#L130)"
   ]
  },
  {
   "cell_type": "code",
   "execution_count": null,
   "metadata": {
    "collapsed": true
   },
   "outputs": [],
   "source": []
  },
  {
   "cell_type": "code",
   "execution_count": null,
   "metadata": {
    "collapsed": true
   },
   "outputs": [],
   "source": []
  },
  {
   "cell_type": "code",
   "execution_count": 36,
   "metadata": {
    "collapsed": true
   },
   "outputs": [],
   "source": [
    "%matplotlib inline\n",
    "import numpy as np\n",
    "from scipy import linalg\n",
    "from sklearn.utils.extmath import svd_flip"
   ]
  },
  {
   "cell_type": "code",
   "execution_count": 90,
   "metadata": {
    "collapsed": false
   },
   "outputs": [
    {
     "name": "stdout",
     "output_type": "stream",
     "text": [
      "(9, 6) [  0.00000000e+00  -2.46716228e-17  -2.46716228e-17  -4.62592927e-17\n",
      "   4.93432455e-17  -3.70074342e-17]\n"
     ]
    }
   ],
   "source": [
    "a = np.random.randn(9, 6)\n",
    "a = a - np.mean(a,axis=0)\n",
    "print a.shape, np.mean(a, axis=0)"
   ]
  },
  {
   "cell_type": "code",
   "execution_count": 145,
   "metadata": {
    "collapsed": true
   },
   "outputs": [],
   "source": [
    "U, s, Vh = linalg.svd(a, full_matrices=False) # the full matrix false, makes it so that U is Nxp\n",
    "# note that Vh is V transposed"
   ]
  },
  {
   "cell_type": "code",
   "execution_count": 144,
   "metadata": {
    "collapsed": false
   },
   "outputs": [
    {
     "data": {
      "text/plain": [
       "((9, 6), (6, 6), (6,))"
      ]
     },
     "execution_count": 144,
     "metadata": {},
     "output_type": "execute_result"
    }
   ],
   "source": [
    "U.shape, Vh.shape, s.shape"
   ]
  },
  {
   "cell_type": "code",
   "execution_count": 93,
   "metadata": {
    "collapsed": false
   },
   "outputs": [],
   "source": [
    "S = linalg.diagsvd(s, 6, 6)"
   ]
  },
  {
   "cell_type": "code",
   "execution_count": 94,
   "metadata": {
    "collapsed": false
   },
   "outputs": [
    {
     "data": {
      "text/plain": [
       "array([ 0.60647006, -0.24558807,  0.84208774,  0.01716088,  1.62191761,\n",
       "        1.11562508])"
      ]
     },
     "execution_count": 94,
     "metadata": {},
     "output_type": "execute_result"
    }
   ],
   "source": [
    "a[0]"
   ]
  },
  {
   "cell_type": "code",
   "execution_count": 95,
   "metadata": {
    "collapsed": false
   },
   "outputs": [
    {
     "data": {
      "text/plain": [
       "array([ 0.60647006, -0.24558807,  0.84208774,  0.01716088,  1.62191761,\n",
       "        1.11562508])"
      ]
     },
     "execution_count": 95,
     "metadata": {},
     "output_type": "execute_result"
    }
   ],
   "source": [
    "U.dot(S).dot(Vh)[0]"
   ]
  },
  {
   "cell_type": "markdown",
   "metadata": {},
   "source": [
    "## PCA example\n",
    "\n",
    "* Vh is the transposed matrix"
   ]
  },
  {
   "cell_type": "code",
   "execution_count": 113,
   "metadata": {
    "collapsed": true
   },
   "outputs": [],
   "source": [
    "def rss(m0, m1):\n",
    "    return np.sum((m0 - m1)**2)"
   ]
  },
  {
   "cell_type": "code",
   "execution_count": 121,
   "metadata": {
    "collapsed": false
   },
   "outputs": [
    {
     "data": {
      "text/plain": [
       "array([ 0.31984305,  0.28146664,  0.1737282 ,  0.16005849,  0.05110582,\n",
       "        0.01379781])"
      ]
     },
     "execution_count": 121,
     "metadata": {},
     "output_type": "execute_result"
    }
   ],
   "source": [
    "# % var explained\n",
    "s ** 2 / np.sum(s ** 2)"
   ]
  },
  {
   "cell_type": "code",
   "execution_count": 128,
   "metadata": {
    "collapsed": false
   },
   "outputs": [
    {
     "name": "stdout",
     "output_type": "stream",
     "text": [
      "total var 61.9086\n",
      "1 principal components, 42.11 RSS\n",
      "2 principal components, 24.68 RSS\n",
      "3 principal components, 13.93 RSS\n",
      "4 principal components, 4.02 RSS\n",
      "5 principal components, 0.85 RSS\n",
      "6 principal components, 0.00 RSS\n"
     ]
    }
   ],
   "source": [
    "print \"total var %.4f\" % np.sum(a ** 2)\n",
    "\n",
    "for i in range(1, a.shape[1] + 1):\n",
    "    Vq = Vh.T[:,:i]\n",
    "    reconstructed = Vq.dot(Vq.T).dot(a.T).T\n",
    "    error = rss(a, reconstructed)\n",
    "    print \"%d principal components, %.2f RSS\" % (i, error)"
   ]
  },
  {
   "cell_type": "code",
   "execution_count": null,
   "metadata": {
    "collapsed": true
   },
   "outputs": [],
   "source": []
  },
  {
   "cell_type": "code",
   "execution_count": null,
   "metadata": {
    "collapsed": true
   },
   "outputs": [],
   "source": []
  },
  {
   "cell_type": "code",
   "execution_count": 139,
   "metadata": {
    "collapsed": false
   },
   "outputs": [
    {
     "data": {
      "text/plain": [
       "1.3627629915591311e-28"
      ]
     },
     "execution_count": 139,
     "metadata": {},
     "output_type": "execute_result"
    }
   ],
   "source": [
    "# demonstrating how the transformation works\n",
    "transformed = a.dot(Vh.T)\n",
    "fit_a = transformed.dot(Vh) # 14.49 pg 535 ESL\n",
    "rss(a, fit_a)"
   ]
  },
  {
   "cell_type": "code",
   "execution_count": 143,
   "metadata": {
    "collapsed": false
   },
   "outputs": [
    {
     "data": {
      "text/plain": [
       "4.0015640223178823e-29"
      ]
     },
     "execution_count": 143,
     "metadata": {},
     "output_type": "execute_result"
    }
   ],
   "source": [
    "# demonstrating that UD is the transformed =)\n",
    "rss(U.dot(S), transformed)"
   ]
  },
  {
   "cell_type": "code",
   "execution_count": null,
   "metadata": {
    "collapsed": true
   },
   "outputs": [],
   "source": []
  }
 ],
 "metadata": {
  "kernelspec": {
   "display_name": "Python 2",
   "language": "python",
   "name": "python2"
  },
  "language_info": {
   "codemirror_mode": {
    "name": "ipython",
    "version": 2
   },
   "file_extension": ".py",
   "mimetype": "text/x-python",
   "name": "python",
   "nbconvert_exporter": "python",
   "pygments_lexer": "ipython2",
   "version": "2.7.12"
  }
 },
 "nbformat": 4,
 "nbformat_minor": 2
}
