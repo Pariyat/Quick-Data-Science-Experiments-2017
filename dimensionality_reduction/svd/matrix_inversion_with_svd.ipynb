{
 "cells": [
  {
   "cell_type": "markdown",
   "metadata": {},
   "source": [
    "# SVD Matrix Inversion\n",
    "* $X = USV^T$\n",
    "* note that $U$ and $V$ are orthogonal, meaning that $U^TU = I$, which also means that $U^T = U^{-1}$\n",
    "* To inverse $X$, we can simply calculate $(USV^T)^{-1} = (V^T)^{-1} S^{-1} U^{-1} = VS^{-1}U^T$"
   ]
  },
  {
   "cell_type": "code",
   "execution_count": 4,
   "metadata": {
    "collapsed": true
   },
   "outputs": [],
   "source": [
    "import numpy as np\n",
    "from scipy.linalg import svd\n",
    "from scipy import linalg"
   ]
  },
  {
   "cell_type": "code",
   "execution_count": 24,
   "metadata": {
    "collapsed": false
   },
   "outputs": [],
   "source": [
    "X = np.random.randn(6, 6)\n",
    "U, s, Vh = linalg.svd(X, full_matrices=False)\n",
    "S = linalg.diagsvd(s, 6, 6)"
   ]
  },
  {
   "cell_type": "markdown",
   "metadata": {},
   "source": [
    "### Showing orthogonality of U and V"
   ]
  },
  {
   "cell_type": "code",
   "execution_count": 25,
   "metadata": {
    "collapsed": false
   },
   "outputs": [
    {
     "name": "stdout",
     "output_type": "stream",
     "text": [
      "[[  1.00000000e+00   1.47745607e-16   6.29117256e-16  -1.35144768e-16\n",
      "    1.15655052e-16   3.35416364e-17]\n",
      " [  1.47745607e-16   1.00000000e+00  -5.68508778e-16  -9.44009216e-16\n",
      "    5.23364034e-16   2.89972171e-16]\n",
      " [  6.29117256e-16  -5.68508778e-16   1.00000000e+00   4.98970893e-16\n",
      "    5.23574902e-17   2.31784979e-17]\n",
      " [ -1.35144768e-16  -9.44009216e-16   4.98970893e-16   1.00000000e+00\n",
      "    2.76059478e-16   1.87916452e-18]\n",
      " [  1.15655052e-16   5.23364034e-16   5.23574902e-17   2.76059478e-16\n",
      "    1.00000000e+00  -2.77555756e-16]\n",
      " [  3.35416364e-17   2.89972171e-16   2.31784979e-17   1.87916452e-18\n",
      "   -2.77555756e-16   1.00000000e+00]]\n"
     ]
    }
   ],
   "source": [
    "print U.T.dot(U)"
   ]
  },
  {
   "cell_type": "code",
   "execution_count": 26,
   "metadata": {
    "collapsed": false
   },
   "outputs": [
    {
     "name": "stdout",
     "output_type": "stream",
     "text": [
      "[[  1.00000000e+00   1.50385157e-16   1.52679312e-16   7.20375037e-17\n",
      "   -8.17922310e-17  -6.05072840e-17]\n",
      " [  1.50385157e-16   1.00000000e+00  -1.24614461e-16  -2.64199945e-16\n",
      "    2.83513513e-17   5.31136213e-18]\n",
      " [  1.52679312e-16  -1.24614461e-16   1.00000000e+00   1.15490578e-16\n",
      "   -1.17340176e-16   4.24379240e-17]\n",
      " [  7.20375037e-17  -2.64199945e-16   1.15490578e-16   1.00000000e+00\n",
      "    1.17000229e-16  -6.95319553e-17]\n",
      " [ -8.17922310e-17   2.83513513e-17  -1.17340176e-16   1.17000229e-16\n",
      "    1.00000000e+00  -4.16333634e-17]\n",
      " [ -6.05072840e-17   5.31136213e-18   4.24379240e-17  -6.95319553e-17\n",
      "   -4.16333634e-17   1.00000000e+00]]\n"
     ]
    }
   ],
   "source": [
    "print Vh.dot(Vh.T)"
   ]
  },
  {
   "cell_type": "markdown",
   "metadata": {},
   "source": [
    "### Calculating the inverse of X"
   ]
  },
  {
   "cell_type": "code",
   "execution_count": 27,
   "metadata": {
    "collapsed": false
   },
   "outputs": [
    {
     "data": {
      "text/plain": [
       "array([[ 3.95205678,  0.        ,  0.        ,  0.        ,  0.        ,\n",
       "         0.        ],\n",
       "       [ 0.        ,  2.93910987,  0.        ,  0.        ,  0.        ,\n",
       "         0.        ],\n",
       "       [ 0.        ,  0.        ,  2.09528709,  0.        ,  0.        ,\n",
       "         0.        ],\n",
       "       [ 0.        ,  0.        ,  0.        ,  1.66419366,  0.        ,\n",
       "         0.        ],\n",
       "       [ 0.        ,  0.        ,  0.        ,  0.        ,  0.77628427,\n",
       "         0.        ],\n",
       "       [ 0.        ,  0.        ,  0.        ,  0.        ,  0.        ,\n",
       "         0.17697411]])"
      ]
     },
     "execution_count": 27,
     "metadata": {},
     "output_type": "execute_result"
    }
   ],
   "source": [
    "S"
   ]
  },
  {
   "cell_type": "code",
   "execution_count": 28,
   "metadata": {
    "collapsed": false
   },
   "outputs": [
    {
     "data": {
      "text/plain": [
       "array([[ 0.2530328 ,  0.        ,  0.        ,  0.        ,  0.        ,\n",
       "         0.        ],\n",
       "       [ 0.        ,  0.34023907,  0.        ,  0.        ,  0.        ,\n",
       "         0.        ],\n",
       "       [ 0.        ,  0.        ,  0.47726157,  0.        ,  0.        ,\n",
       "         0.        ],\n",
       "       [ 0.        ,  0.        ,  0.        ,  0.60089161,  0.        ,\n",
       "         0.        ],\n",
       "       [ 0.        ,  0.        ,  0.        ,  0.        ,  1.2881879 ,\n",
       "         0.        ],\n",
       "       [ 0.        ,  0.        ,  0.        ,  0.        ,  0.        ,\n",
       "         5.65054407]])"
      ]
     },
     "execution_count": 28,
     "metadata": {},
     "output_type": "execute_result"
    }
   ],
   "source": [
    "S_inverse = linalg.diagsvd(1/ s, 6, 6)\n",
    "S_inverse"
   ]
  },
  {
   "cell_type": "code",
   "execution_count": 29,
   "metadata": {
    "collapsed": true
   },
   "outputs": [],
   "source": [
    "X_inverse = Vh.T.dot(S_inverse).dot(U.T)"
   ]
  },
  {
   "cell_type": "code",
   "execution_count": 31,
   "metadata": {
    "collapsed": false
   },
   "outputs": [
    {
     "data": {
      "text/plain": [
       "True"
      ]
     },
     "execution_count": 31,
     "metadata": {},
     "output_type": "execute_result"
    }
   ],
   "source": [
    "np.allclose(X_inverse.dot(X), np.identity(X.shape[0]))"
   ]
  },
  {
   "cell_type": "code",
   "execution_count": null,
   "metadata": {
    "collapsed": true
   },
   "outputs": [],
   "source": []
  }
 ],
 "metadata": {
  "kernelspec": {
   "display_name": "Python 2",
   "language": "python",
   "name": "python2"
  },
  "language_info": {
   "codemirror_mode": {
    "name": "ipython",
    "version": 2
   },
   "file_extension": ".py",
   "mimetype": "text/x-python",
   "name": "python",
   "nbconvert_exporter": "python",
   "pygments_lexer": "ipython2",
   "version": "2.7.12"
  }
 },
 "nbformat": 4,
 "nbformat_minor": 2
}
