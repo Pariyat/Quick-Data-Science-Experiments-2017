{
 "cells": [
  {
   "cell_type": "markdown",
   "metadata": {},
   "source": [
    "* [problem](http://corysimon.github.io/articles/simpsons-paradox/)\n",
    "* [sol](https://www.decodedscience.org/detecting-avoiding-yule-simpson-paradox/55771)\n",
    "* [problem in ab testing context](http://blog.analytics-toolkit.com/2014/segmenting-data-web-analytics-simpsons-paradox/)"
   ]
  },
  {
   "cell_type": "markdown",
   "metadata": {},
   "source": [
    "Simpson’s Paradox, a non-intuitive phenomena where a correlation that is present in several groups is the opposite of what is found when the groups are amalgamated together."
   ]
  },
  {
   "cell_type": "markdown",
   "metadata": {},
   "source": [
    "* For e.g. on aggregrate Berkeley might accept a higher percent of Males than Females\n",
    "* However, at a department level, it could be that a lot more males are applying to a noncompetitive department\n",
    "* It creates the illusion..."
   ]
  },
  {
   "cell_type": "markdown",
   "metadata": {},
   "source": [
    "A Yule-Simpson Paradox reveals itself when a statistical trend that holds true for all partitioned subpopulations, is reversed in the overall population."
   ]
  },
  {
   "cell_type": "markdown",
   "metadata": {},
   "source": [
    "**Be care of this in AB testing**"
   ]
  },
  {
   "cell_type": "code",
   "execution_count": null,
   "metadata": {
    "collapsed": true
   },
   "outputs": [],
   "source": []
  }
 ],
 "metadata": {
  "kernelspec": {
   "display_name": "Python 2",
   "language": "python",
   "name": "python2"
  },
  "language_info": {
   "codemirror_mode": {
    "name": "ipython",
    "version": 2
   },
   "file_extension": ".py",
   "mimetype": "text/x-python",
   "name": "python",
   "nbconvert_exporter": "python",
   "pygments_lexer": "ipython2",
   "version": "2.7.12"
  }
 },
 "nbformat": 4,
 "nbformat_minor": 2
}
