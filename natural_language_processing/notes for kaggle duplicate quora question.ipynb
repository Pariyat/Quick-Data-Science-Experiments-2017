{
 "cells": [
  {
   "cell_type": "markdown",
   "metadata": {},
   "source": [
    "* [notes from Abhishek Thakur](https://www.linkedin.com/pulse/duplicate-quora-question-abhishek-thakur)\n",
    "* [quora research notes on semantic DL approach](https://engineering.quora.com/Semantic-Question-Matching-with-Deep-Learning)"
   ]
  },
  {
   "cell_type": "markdown",
   "metadata": {},
   "source": [
    "### methods\n",
    "* normal features (e.g. char length, character length, # word)\n",
    "* simple TF-IDF\n",
    "* Singular Value Decomposition\n",
    "* Fuzzy Features\n",
    "* Word2Vec features\n",
    "* GloVe features\n",
    "* LSTMs\n",
    "* 1D CNN"
   ]
  },
  {
   "cell_type": "markdown",
   "metadata": {},
   "source": [
    "### Fuzzy Features\n",
    "* fuzzywuzzy --> Levenshtein distance\n",
    "* fuzzywuzzy generates a list of fuzzy features for string matching\n",
    "    * QRatio\n",
    "    * WRatio\n",
    "    * Partial ratio\n",
    "    * Partial token set ratio\n",
    "    * Partial token sort ratio\n",
    "    * Token set ratio\n",
    "    * Token sort ratio"
   ]
  },
  {
   "cell_type": "markdown",
   "metadata": {},
   "source": [
    "### TF-IDF + SVD\n",
    "\n",
    "![different tf-idf and svd pipelines](https://media.licdn.com/mpr/mpr/AAEAAQAAAAAAAAyLAAAAJGRmZjE2MWRiLTBiOWQtNDBiMy04NTllLTBjNTc2YzIzMGI4Ng.png)"
   ]
  },
  {
   "cell_type": "markdown",
   "metadata": {},
   "source": [
    "Note: SVD basically does PCA to low dim, see [SVD documentation](http://scikit-learn.org/stable/modules/generated/sklearn.decomposition.TruncatedSVD.html)"
   ]
  },
  {
   "cell_type": "markdown",
   "metadata": {},
   "source": [
    "### Word2Vec\n",
    "* I am sure doc2vec would work???\n",
    "* features:\n",
    "    * [word moving distance](http://jmlr.org/proceedings/papers/v37/kusnerb15.pdf)\n",
    "    * normalized word mover distance\n",
    "    * Cosine distance \n",
    "    * Manhattan distance\n",
    "    * Jaccard similarity\n",
    "    * Canberra distance\n",
    "    * Euclidean distance\n",
    "    * Minkowski distance\n",
    "    * Braycurtis distance\n",
    "    * skew and kurtosis of the vectors"
   ]
  },
  {
   "cell_type": "markdown",
   "metadata": {},
   "source": [
    "### DeepLearning\n",
    "* Embedding layer + LSTM\n",
    "* ..."
   ]
  },
  {
   "cell_type": "markdown",
   "metadata": {},
   "source": [
    "### modeling \n",
    "* For Logistic Regression, need to use z-score scaling"
   ]
  },
  {
   "cell_type": "markdown",
   "metadata": {},
   "source": []
  }
 ],
 "metadata": {
  "kernelspec": {
   "display_name": "Python 2",
   "language": "python",
   "name": "python2"
  },
  "language_info": {
   "codemirror_mode": {
    "name": "ipython",
    "version": 2
   },
   "file_extension": ".py",
   "mimetype": "text/x-python",
   "name": "python",
   "nbconvert_exporter": "python",
   "pygments_lexer": "ipython2",
   "version": "2.7.12"
  }
 },
 "nbformat": 4,
 "nbformat_minor": 2
}
