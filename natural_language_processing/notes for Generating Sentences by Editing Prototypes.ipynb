{
 "cells": [
  {
   "cell_type": "markdown",
   "metadata": {},
   "source": [
    "[src](https://arxiv.org/pdf/1709.08878.pdf)"
   ]
  },
  {
   "cell_type": "markdown",
   "metadata": {},
   "source": [
    "### abstract\n",
    "* generate sentence via sampling a prototype then edit into new sentence\n",
    "* the model gives rise to a latent edit vector that captures interpretable semantics such as sentence similarity and sentence-level analogies"
   ]
  },
  {
   "cell_type": "markdown",
   "metadata": {},
   "source": [
    "### problem statement\n",
    "1. prototype select - randomly pick $x' \\sim p(x')$\n",
    "2. neural editor\n",
    "    * draw $z \\sim p(z)$\n",
    "    * draw $p_{edit}(x | x', z)$\n",
    "    * likelihood of a sentence is $p(x) = \\sum_{x' \\in X} p(x | x') p(x')$\n",
    "    * $p(x|x') = \\int_z p_{edit} (x | x', z) p(z) dz$"
   ]
  },
  {
   "cell_type": "markdown",
   "metadata": {},
   "source": [
    "### approach\n",
    "* model z as a variational autoencoder\n",
    "\n",
    "### 3.1 approximate sum on prototypes $x'$\n",
    "* approximate the marginal distribution over prototypes by only considering the prototypes x' with high lexical overlap with x\n",
    "* lexical similar neighborhood $N(x) = {x' \\in X : d_J(x, x') < 0.5}$\n",
    "* can be approximated via locality sensitive hashing (LSH)\n",
    "\n",
    "### 3.2 approximate integration on edit vector z\n",
    "* Evidence Lower Bound \n",
    "    * $log(p(x|x') = log \\int_z p_{edit} (x | x', z) p(z) dz$\n",
    "    * $>= l(x,x') = E_{z \\sim q(z|x, x')} [log p_{edit} (x|x',z)] - D_{KL} (q(z | x, x') || p(z))$\n",
    "* objecrtive fn is $L_{lex} > L_{ELBO} = \\sum_{x \\in X} \\sum_{x' \\in N(x)} l(x, x')$"
   ]
  },
  {
   "cell_type": "markdown",
   "metadata": {},
   "source": []
  },
  {
   "cell_type": "markdown",
   "metadata": {},
   "source": []
  },
  {
   "cell_type": "markdown",
   "metadata": {},
   "source": []
  },
  {
   "cell_type": "markdown",
   "metadata": {},
   "source": []
  }
 ],
 "metadata": {
  "kernelspec": {
   "display_name": "Python 2",
   "language": "python",
   "name": "python2"
  },
  "language_info": {
   "codemirror_mode": {
    "name": "ipython",
    "version": 2
   },
   "file_extension": ".py",
   "mimetype": "text/x-python",
   "name": "python",
   "nbconvert_exporter": "python",
   "pygments_lexer": "ipython2",
   "version": "2.7.13"
  }
 },
 "nbformat": 4,
 "nbformat_minor": 2
}
