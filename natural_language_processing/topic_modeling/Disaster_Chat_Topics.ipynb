{
 "cells": [
  {
   "cell_type": "markdown",
   "metadata": {},
   "source": [
    "Dataset by @Krista.Mar"
   ]
  },
  {
   "cell_type": "code",
   "execution_count": 90,
   "metadata": {
    "collapsed": true
   },
   "outputs": [],
   "source": [
    "import pandas as pd\n",
    "import numpy as np\n",
    "import re\n",
    "import glob\n",
    "from sklearn.feature_extraction.text import TfidfVectorizer, CountVectorizer\n",
    "from sklearn.decomposition import NMF, LatentDirichletAllocation\n",
    "%matplotlib inline"
   ]
  },
  {
   "cell_type": "markdown",
   "metadata": {},
   "source": [
    "### Notes:\n",
    "* What if you only grabbed stuff that had more retweets / favorites?"
   ]
  },
  {
   "cell_type": "code",
   "execution_count": 93,
   "metadata": {},
   "outputs": [
    {
     "data": {
      "text/plain": [
       "75"
      ]
     },
     "execution_count": 93,
     "metadata": {},
     "output_type": "execute_result"
    },
    {
     "data": {
      "image/png": "[encoded data removed]",
      "text/plain": [
       "<matplotlib.figure.Figure at 0x10fa75290>"
      ]
     },
     "metadata": {},
     "output_type": "display_data"
    }
   ],
   "source": [
    "pd.read_csv(\"/Users/jasonxie/Downloads/data/data_Houston/2017-09-11.csv\", delimiter=\";\")[\"favorites\"].hist()\n",
    "np.sum(pd.read_csv(\"/Users/jasonxie/Downloads/data/data_Houston/2017-09-11.csv\", delimiter=\";\")[\"favorites\"] > 0)"
   ]
  },
  {
   "cell_type": "code",
   "execution_count": 118,
   "metadata": {
    "collapsed": true
   },
   "outputs": [],
   "source": [
    "pattern = \"http\""
   ]
  },
  {
   "cell_type": "code",
   "execution_count": 248,
   "metadata": {},
   "outputs": [
    {
     "name": "stdout",
     "output_type": "stream",
     "text": [
      "expected string or buffer\n",
      "Error tokenizing data. C error: Expected 10 fields in line 70, saw 11\n",
      "\n",
      "expected string or buffer\n",
      "expected string or buffer\n",
      "expected string or buffer\n",
      "expected string or buffer\n",
      "expected string or buffer\n",
      "expected string or buffer\n",
      "expected string or buffer\n",
      "Error tokenizing data. C error: Expected 10 fields in line 489, saw 11\n",
      "\n",
      "expected string or buffer\n",
      "expected string or buffer\n",
      "expected string or buffer\n",
      "expected string or buffer\n",
      "expected string or buffer\n"
     ]
    }
   ],
   "source": [
    "dirs = glob.glob(\"/Users/jasonxie/Downloads/data/data_Houston/*.csv\")\n",
    "sentences = []\n",
    "for dir_ in dirs:\n",
    "    try:\n",
    "        df = pd.read_csv(dir_, delimiter=\";\")\n",
    "#         df = df[~df.text.str.contains(pattern)]\n",
    "        new_sentences = list(df['text'].values)\n",
    "        for sentence in new_sentences:\n",
    "#             regex = re.compile('[^a-zA-Z]')\n",
    "#             sentence = regex.sub(sentence, regex)\n",
    "            sentence = re.sub(r'^https?:\\/\\/.*[\\r\\n]*', '', sentence, flags=re.MULTILINE)\n",
    "            sentence = re.sub(\" \\d+\", '', sentence)\n",
    "            sentence = re.sub(r'\\w*\\d\\w*', '', sentence)\n",
    "        \n",
    "            sentences.append(sentence)\n",
    "    except Exception as e:\n",
    "        print e"
   ]
  },
  {
   "cell_type": "code",
   "execution_count": 249,
   "metadata": {},
   "outputs": [
    {
     "name": "stdout",
     "output_type": "stream",
     "text": [
      "13760\n"
     ]
    }
   ],
   "source": [
    "print len(sentences)"
   ]
  },
  {
   "cell_type": "code",
   "execution_count": 250,
   "metadata": {
    "scrolled": false
   },
   "outputs": [
    {
     "data": {
      "text/plain": [
       "[' D, Houston, TX, $, beds,. baths http:// bubly.us/ZRdB',\n",
       " 'Accident cleared in #WestSide on I- katy Fwy Outbound after Bingle Rd, stop and go traffic back to Wirt, delay of mins #traffic',\n",
       " \"In the beginning I thought I was doing something now I'm straight beast mode for now @Northeast\\xe2\\x80\\xa6 https://www. instagram.com/p//\",\n",
       " 'Woman killed after striking-wheeler in Humble http:// bubly.us/ZRfW',\n",
       " ' Bosphorus St, Houston, TX, $, beds, baths http:// bubly.us/ZRcq',\n",
       " 'Just posted a photo @Meyerland, Houston https://www. instagram.com/p/BXRTySMFRQP/',\n",
       " ' Touchstone St, Houston, TX, $, beds, bath http:// bubly.us/ZRfR',\n",
       " \"'Young Sheldon' is a genius, but Jim... http:// bubly.us/ZRfQ\",\n",
       " \"Gotta try Torchy's Tacos for #tacotuesday #roadlife #Houston #TexMex @Torchy's Tacos https://www. instagram.com/p//\",\n",
       " 'Catch Me Live At @ To Bless The Stage For The Homie  Behind The\\xe2\\x80\\xa6 https://www. instagram.com/p//',\n",
       " ' Avalon Pl, Houston, TX, $, beds,. baths http:// bubly.us/ZRfI',\n",
       " ' Cleveland St, Houston, TX, $, beds, baths http:// bubly.us/ZRfH',\n",
       " '\\xe2\\x80\\x9c @LorettaLynnMX : Challen Tennent wins A Moto!\\xe2\\x80\\x9dyewwwww',\n",
       " 'News of a Katy location means I need Mala takeout tonite... (Yellow Rose) http:// untp.beer/s/',\n",
       " 'Good morning vibes . . Loc: Ranu Kumbolo, Gunung Semeru, Kab.\\xe2\\x80\\xa6 https://www. instagram.com/p/ -DNw--/ \\xe2\\x80\\xa6',\n",
       " ' Lauren Ln, Pearland, TX, $, beds,. baths http:// bubly.us/ZRev',\n",
       " ' Boulder Creek Ct, Pearland, TX, $, beds,. baths http:// bubly.us/ZReu',\n",
       " ' Football Preview: Tons of turnover in the tough District- http:// bubly.us/ZRet',\n",
       " 'Just posted a photo @Meyerland, Houston https://www. instagram.com/p//',\n",
       " 'Pasadena firefighters rescue kitten... http:// bubly.us/ZRep']"
      ]
     },
     "execution_count": 250,
     "metadata": {},
     "output_type": "execute_result"
    }
   ],
   "source": [
    "sentences[:20]"
   ]
  },
  {
   "cell_type": "code",
   "execution_count": 252,
   "metadata": {},
   "outputs": [],
   "source": [
    "tfidf_vectorizer = TfidfVectorizer(max_df=0.5, min_df=10,\n",
    "                                   max_features=10**5,\n",
    "                                   stop_words='english',\n",
    "                                   strip_accents=\"ascii\"\n",
    "                                  )\n",
    "tfidf = tfidf_vectorizer.fit_transform(sentences)"
   ]
  },
  {
   "cell_type": "code",
   "execution_count": 253,
   "metadata": {},
   "outputs": [
    {
     "data": {
      "text/plain": [
       "[u'prices',\n",
       " u'hanging',\n",
       " u'hermann',\n",
       " u'bringing',\n",
       " u'probiotic',\n",
       " u'wednesday',\n",
       " u'cooking',\n",
       " u'kids',\n",
       " u'controversy',\n",
       " u'music']"
      ]
     },
     "execution_count": 253,
     "metadata": {},
     "output_type": "execute_result"
    }
   ],
   "source": [
    "tfidf_vectorizer.vocabulary_.keys()[:10]"
   ]
  },
  {
   "cell_type": "code",
   "execution_count": 254,
   "metadata": {},
   "outputs": [
    {
     "name": "stdout",
     "output_type": "stream",
     "text": [
      "(13760, 1562)\n"
     ]
    }
   ],
   "source": [
    "print tfidf.shape"
   ]
  },
  {
   "cell_type": "markdown",
   "metadata": {},
   "source": [
    "### get rid of dups"
   ]
  },
  {
   "cell_type": "code",
   "execution_count": 255,
   "metadata": {},
   "outputs": [],
   "source": [
    "tfidf = tfidf.todense()\n",
    "tfidf = np.unique(tfidf, axis=0)"
   ]
  },
  {
   "cell_type": "code",
   "execution_count": 256,
   "metadata": {},
   "outputs": [
    {
     "name": "stdout",
     "output_type": "stream",
     "text": [
      "(10336, 1562)\n"
     ]
    }
   ],
   "source": [
    "print tfidf.shape\n",
    "from scipy import sparse\n",
    "tfidf = sparse.csr_matrix(tfidf)"
   ]
  },
  {
   "cell_type": "code",
   "execution_count": null,
   "metadata": {
    "collapsed": true
   },
   "outputs": [],
   "source": []
  },
  {
   "cell_type": "code",
   "execution_count": 257,
   "metadata": {
    "collapsed": true
   },
   "outputs": [],
   "source": [
    "def print_top_words(model, feature_names, n_top_words):\n",
    "    for topic_idx, topic in enumerate(model.components_):\n",
    "        message = \"Topic #%d: \" % topic_idx\n",
    "        message += \" \".join([feature_names[i]\n",
    "                             for i in topic.argsort()[:-n_top_words - 1:-1]])\n",
    "        print(message)\n",
    "    print()"
   ]
  },
  {
   "cell_type": "code",
   "execution_count": 258,
   "metadata": {},
   "outputs": [
    {
     "name": "stdout",
     "output_type": "stream",
     "text": [
      "Topic #0: traffic stop fwy accident delay mins right bit ly downtown cleared westside outbound lp lanes left sam water blocks hwy\n",
      "Topic #1: houston texas city family htown god way real town ward north museum hot ya university heart southeast arts south pray\n",
      "Topic #2: http bubly tx beds baths pearland st pasadena dr school place oak ln son bath district green ct porte crowd\n",
      "Topic #3: beer untp drinking http photo better white world light ipa art summer ve heights style brewing pretty byb color super\n",
      "Topic #4: swarmapp tx houston bar center food house dinner favorite restaurant club lunch george grill airport time kitchen pizza sugar pic\n",
      "Topic #5: twitter like don home pic know got new make life tour love check say look want did looking lol getting\n",
      "Topic #6: just posted photo video fitness stadium galleria la studio casa lounge nrg shop girl southwest store eat village rice stolt\n",
      "Topic #7: day today tonight time come night happy love great ready week new thanks tomorrow live friday storm saturday thank sunday\n",
      "Topic #8: park astros minute maid game houstonstrong dlvr west buffalo pic bayou baseball deer view twitter mlb memorial houston earnit apartments\n",
      "Topic #9: repost harvey hurricaneharvey hurricane en help get_repost el houston people que htx need prayforhouston safe relief la link bio mi\n",
      "()\n"
     ]
    }
   ],
   "source": [
    "n_components = 10\n",
    "nmf = NMF(n_components=n_components, random_state=1,\n",
    "          beta_loss='kullback-leibler', solver='mu', max_iter=1000, alpha=.1,\n",
    "          l1_ratio=.5).fit(tfidf)\n",
    "\n",
    "tfidf_feature_names = tfidf_vectorizer.get_feature_names()\n",
    "print_top_words(nmf, tfidf_feature_names, n_top_words=20)"
   ]
  },
  {
   "cell_type": "markdown",
   "metadata": {},
   "source": [
    "## eyeballing topics\n",
    "* 0 traffic\n",
    "* 1 stuff about the city\n",
    "* 4 food\n",
    "* 6 teenagers\n",
    "* 7 time and weather\n",
    "* 9 disaster stuff"
   ]
  },
  {
   "cell_type": "code",
   "execution_count": 263,
   "metadata": {},
   "outputs": [],
   "source": [
    "topic_distributions = nmf.fit_transform(tfidf)"
   ]
  },
  {
   "cell_type": "code",
   "execution_count": 264,
   "metadata": {},
   "outputs": [
    {
     "data": {
      "text/plain": [
       "(10336, 10)"
      ]
     },
     "execution_count": 264,
     "metadata": {},
     "output_type": "execute_result"
    }
   ],
   "source": [
    "topic_distributions.shape"
   ]
  },
  {
   "cell_type": "code",
   "execution_count": 266,
   "metadata": {
    "scrolled": false
   },
   "outputs": [
    {
     "name": "stdout",
     "output_type": "stream",
     "text": [
      "==== for topic 0 ====\n",
      "wb stop shoulder sam right pkwy northside ly lanes http houston ella blvd blocks bit accident\n",
      "westside westpark wb traffic tollway stop st rd mins left lane fondren delay blocked accident\n",
      "traffic swside sw stop stall right outbound mins lp lane kirby fwy dr delay blocks\n",
      "traffic sw stopped sb right rd old mins lp lane katy fwy delay blocked accident\n",
      "traffic sam right pkwy nb ly lane http houston fwy emergency eastside crews block bit baytown\n",
      "traffic sb sam pkwy ly left lane http houston fwy emergency eastside crews block bit baytown\n",
      "wb water traffic toll rd ly lanes hwy http high harris hardy frontage bit beltway affecting\n",
      "traffic tollway toll stop stall sam plz nb mins left lane houston forest delay briar blocks\n",
      "tomball tollway stop sam pkwy outbound northside ly left lane hwy http houston blocks bit accident\n",
      "york westside traffic tollway toll stop sam plz nb mins little hwy houston delay cleared accident\n",
      "wb vehicle traffic tollway telephone stop southside sam right rd lane houston gulf fwy disabled blocked\n",
      "westside westpark truck traffic tollway stall shoulder right rd outbound moved ly http heavy fondren bit\n",
      "traffic toll stop stall sam right pkwy nb mins lane hwy houston eastside delay brg blocks\n",
      "york westside traffic tollway toll stop sam plz nb little left lanes hwy houston blocked accident\n",
      "westside traffic tollway stop sam rd nb ly left lane http houston blocks bit approaching accident\n",
      "vehicle tollway stop sam reported nwside nw ly lane inbound hwy http houston fwy disabled center bit\n",
      "traffic tollway toll southside se sam plz ly left lanes http houston eb blocked bit approaching accident\n",
      "wb stop shoulder sam right pkwy northside ly lanes http houston ella center blvd blocks bit accident\n",
      "york truck traffic tollway toll stall sam right plz nb ly little lane http houston heavy blocks bit\n",
      "wb truck toll stop stall sam right plz pkwy northside memorial ly lane http houston heavy blocks bit\n",
      "\n",
      "\n",
      "\n",
      "==== for topic 1 ====\n",
      "week real rain pray houston floods continue byt\n",
      "texas missouri ll let drop city\n",
      "texas snack sea houston foodie food\n",
      "texas miles live houston glad enjoy away\n",
      "travel texas sunday houston foodporn food eat\n",
      "texas sis lunch lots look houston bro\n",
      "theater music midtown match htown houston hiphop center arts\n",
      "texas strong shop scene sale houston fashion\n",
      "texas money lord las houston hour hands city\n",
      "upper texas sofa shopapttherapy posts modern marketplace kirby houston greenway apartmenttherapy\n",
      "upper texas sofa shopapttherapy posts marketplace kirby houston greenway brand apartmenttherapy\n",
      "upper texas shopapttherapy set posts marketplace kitchen kirby houston greenway apartmenttherapy\n",
      "upper texas style sofa shopapttherapy posts mid marketplace kirby houston greenway century apartmenttherapy\n",
      "upper texas shopapttherapy posts modern mid marketplace kirby houston greenway century apartmenttherapy\n",
      "upper texas sofa shopapttherapy posts orange modern mid marketplace kirby houston greenway century apartmenttherapy apartment\n",
      "upper texas sofa shopapttherapy posts modern mid marketplace kirby houston greenway century apartmenttherapy\n",
      "upper texas shopapttherapy posts modern mid marketplace kirby houston greenway century apartmenttherapy apartment\n",
      "upper texas style sofa shopapttherapy posts mid marketplace kirby houston greenway century brand apartmenttherapy\n",
      "upper texas sofa shopapttherapy posts modern mid marketplace kirby houston greenway century apartmenttherapy apartment\n",
      "upper texas sofa shopapttherapy posts modern mid marketplace line kirby houston greenway century apartmenttherapy\n",
      "\n",
      "\n",
      "\n",
      "==== for topic 2 ====\n",
      "son reverbnation open_graph http ft fa crowd check byclean\n",
      "waterdata uv usgs tx stage sit nwis http houston gov flood e_no buffalo bayou\n",
      "tx st san porte la jacinto http bubly beds bath\n",
      "sheila medicare medicaid lee jackson http congresswoman celebratesnd bubly anniversary\n",
      "waterdata uv usgs tx stage sit nwis nr hwy http houston greens gov flood e_no bayou\n",
      "wild son reverbnation open_graph http ft fa crowd clean check byclean\n",
      "waterdata uv usgs tx sit rain nwis minutes http hr houston heavy gov e_no bayou\n",
      "waterdata uv usgs tx sit rd rain nwis minutes http hr houston heavy gov e_no\n",
      "waterdata uv usgs tx sit rain nwis minutes http hr houston heavy gov e_no dr buffalo bayou\n",
      "waterdata uv usgs tx sit nwis http houston height gov flow e_no buffalo bayou acfs\n",
      "waterdata uv usgs tx sit nwis http houston height gov flow e_no cfs buffalo bayou\n",
      "waterdata uv usgs tx sit nwis nr hwy http houston height greens gov flow e_no cfs bayou\n",
      "waterdata uv usgs tx sit rd rain nwis nr minutes http hr houston heavy gov e_no bayou\n",
      "waterdata uv usgs tx sit nwis nr http houston height greens gov flow e_no bayou acfs\n",
      "waterdata uv usgs tx sit nwis nr http houston height greens gov flow e_no cfs bayou\n",
      "waterdata uv usgs tx sit rd nwis http houston height greens gov flow e_no cfs bayou\n",
      "waterdata uv usgs tx sit nwis nr http houston height greens gov ft flow e_no cfs bayou\n",
      "waterdata uv usgs tx sit sheldon san nwis nr jacinto http height gov flow e_no acfs\n",
      "waterdata uv usgs tx sit point piney nwis http height gov flow e_no cfs buffalo bayou\n",
      "waterdata uv usgs tx sit point piney nwis http height gov ft flow e_no cfs buffalo bayou\n",
      "\n",
      "\n",
      "\n",
      "==== for topic 3 ====\n",
      "untp saucer ipa http flying emporium drinking draught beer\n",
      "untp share really photo http drinking beer anniversary ale\n",
      "untp saintarnold pub ipa http drinking car beer art\n",
      "untp saintarnold ipa http drinking conservatoryhtx car beer art\n",
      "untp saintarnold new ipa http drinking car beer art\n",
      "untp tree public photo http house drinking cam brewery beer\n",
      "untp tasty realalebrewing photo http dry drinking blonde beer ale\n",
      "untp spot photo mini http eurekaheights drinking conservatoryhtx boss beer\n",
      "untp tree stout photo http house drinking chocolate cam beer\n",
      "untp stout pretty photo huge http good drinking conservatoryhtx beer\n",
      "wfmbrewing untp summer skies photo http foods drinking brewing beer\n",
      "untp saucer realalebrewing photo http flying emporium drinking draught beer\n",
      "untp saucer photo http flying emporium drinking draught beer ale\n",
      "untp spindletap saucer http hop flying emporium drinking draught beer\n",
      "untp say saucer photo need http flying emporium dude drinking draught beer\n",
      "untp saucer realalebrewing photo ipa http flying emporium drinking draught beer\n",
      "white untp saucer photo ipa http flying emporium drinking draught beer\n",
      "untp taste photo orange ipa http hops good drinking damn blood beer\n",
      "untp texas support saucer photo local ipa http flying emporium drinking draught brewery beer\n",
      "ve untp sure stay red photo making http got fans drinking brewing brashbeer brash beer\n",
      "\n",
      "\n",
      "\n",
      "==== for topic 4 ====\n",
      "tx twitter swarmapp stadium pic labor houston day compass classic bbva\n",
      "tx swarmapp intercontinental houston george finally bush airport\n",
      "tx twitter swarmapp pic intercontinental houston george bush\n",
      "tx swarmapp sugar saucer land flying emporium draught\n",
      "worry vanish tx twitter swarmapp rist pretty pixel pic houston forest\n",
      "tx time swarmapp stop quick intercontinental houston george bush airport\n",
      "whataburger ubercheckin uber swarmapp http checkin checked automatically app\n",
      "ubercheckin uber swarmapp http church checkin checked automatically app\n",
      "ubercheckin uber tx swarmapp pearland kroger http checkin checked automatically app\n",
      "ubercheckin uber tx swarmapp http houston checkin checked automatically app\n",
      "heights fries cheese bus burger berniesheights berniesburgers bernie\n",
      "usa tx time swarmapp intercontinental houston george bush airport\n",
      "tx time swarmapp intercontinental iah houston george bush airport\n",
      "tx time swarmapp intercontinental houston george fly bush airport\n",
      "ubercheckin uber swarmapp kitchen http checkin checked cajun automatically app\n",
      "trip time swarmapp intercontinental home george complete bush airport\n",
      "ubercheckin uber tx swarmapp kroger http houston checkin checked automatically app\n",
      "tx twitter swarmapp pic intercontinental iah houston george bush airport\n",
      "wine tx twitter swarmapp snack pizza pic nice houston having cheese\n",
      "united tx twitter thanks swarmapp pic intercontinental houston george bush airport\n",
      "\n",
      "\n",
      "\n",
      "==== for topic 5 ====\n",
      "tx twitter tour realestate pic love listing http houston home drive circlepix\n",
      "virtual twitter tour street pic newest listings http home circlepix\n",
      "tx twitter tour retweet pic listed just http home drive circlepix\n",
      "virtual tx twitter tour street pic newest listings jackson http houston home circlepix\n",
      "virtual twitter tour terrace pic newest listings http houston home drive circlepix\n",
      "twitter pick pic like know harden game did bc\n",
      "virtual tx twitter tour run pic newest listings humble http home circlepix\n",
      "tx twitter tour retweet pic martin listed just http houston home drive circlepix\n",
      "tx twitter tour retweet pic listed just http houston home drive circlepix antoine\n",
      "tx twitter tower tour realestate pic love listing humble http home court circlepix\n",
      "virtual twitter tour point pic newest listings http houston home drive circlepix\n",
      "virtual tx twitter tower tour realestate pic listing humble http home court circlepix\n",
      "tx twitter tower tour realestate pic looking humble http home court circlepix buyer\n",
      "wind virtual tx twitter tour place pic newest listing humble http home court circlepix\n",
      "woman white wanna twitter statu play oh got called bc\n",
      "watching ve twitter tickets texan stat sold season mind definitely\n",
      "yes wrong twitter story st said player know hell harden didn bc atus\n",
      "twitter tour think tell realestate pic newest listing http houston home circlepix check\n",
      "word twitter tears status racist people let hell guys eyes brings begin\n",
      "twitter tour think tell realestate pic newest listing humble http home circlepix check\n",
      "\n",
      "\n",
      "\n",
      "==== for topic 6 ====\n",
      "stadium posted photo nrg just\n",
      "video tacos posted la just\n",
      "video stadium posted nrg just\n",
      "video posted just galleria area\n",
      "video school posted just high\n",
      "weekend la del casa cabrito\n",
      "la del dannyboy casa byt\n",
      "youtube video subscribe soon new dropping channel\n",
      "posted photo just ft dbr clothing\n",
      "village used store rice moving http clothing bubly\n",
      "saloon posted photo outlaw just johnny\n",
      "video posted just end east barber\n",
      "video school posted just high alief\n",
      "la high del dannyboy crew casa\n",
      "st posted photo just church charles catholic borromeo\n",
      "video st posted just church charles catholic borromeo\n",
      "village school posted photo just jersey high\n",
      "posted photo la just del casa cabrito\n",
      "video posted la just del dannyboy casa\n",
      "posted photo la just del casa cabrito bzj\n",
      "\n",
      "\n",
      "\n",
      "==== for topic 7 ====\n",
      "tx tonight sun sugar storm septh pm patchy monday lo land hi forecast fog chance\n",
      "tx tonight sugar storm septh saturday pm patchy lo land hi fri forecast fog chance\n",
      "tx tuesday tonight sugar storm pm partly mon lo land hi forecast cloudy chance augth\n",
      "tx tonight sunday storm sat pm patchy lo houston hi forecast fog chance\n",
      "tx tuesday tonight storms storm pm mon lo houston hi forecast chance augth\n",
      "tx tonight storm pm partly lo houston hi friday forecast cloudy chance augth\n",
      "tx tonight sharpstown saturday pm partly lo hi fri forecast cloudy augth\n",
      "tx tonight sun storm pm patchy lo labor houston hi forecast fog day chance\n",
      "tx tonight sunday storm septh sat pm patchy lo houston hi forecast fog chance\n",
      "tx tonight storm septh saturday pm patchy lo houston hi fri forecast fog chance\n",
      "tx tonight sun storm septh pm patchy monday lo houston hi forecast fog chance\n",
      "tx tuesday tonight storm pm partly mon lo houston hi forecast cloudy chance augth\n",
      "tx tonight sunday storm sharpstown sat pm patchy lo hi forecast fog chance\n",
      "tx tuesday tonight storms storm sharpstown pm mon lo hi forecast chance augth\n",
      "tx tonight storm sharpstown pm partly lo hi friday forecast cloudy chance augth\n",
      "tx tonight sun storm sharpstown pm patchy lo labor hi forecast fog day chance\n",
      "tx tonight storm sharpstown septh saturday pm patchy lo hi fri forecast fog chance\n",
      "tx tonight sunday storm sharpstown septh sat pm patchy lo hi forecast fog chance\n",
      "tx tonight sun storm sharpstown septh pm patchy monday lo hi forecast fog chance\n",
      "tx tuesday tonight storm sharpstown pm partly mon lo hi forecast cloudy chance augth\n",
      "\n",
      "\n",
      "\n",
      "==== for topic 8 ====\n",
      "west way park minute maid champs astros al\n",
      "vs start park mlb minute maid http home game checked astros\n",
      "win twitter snap rangers pic http dlvr astros\n",
      "vs social service park mlb minute maid http game checked athletics astros\n",
      "twitter pic number magic http dlvr dallas astros\n",
      "tx swarmapp park mlb minute maid houston game boys astros\n",
      "vs tx swarmapp park mlb minute maid houston athletics astros\n",
      "west park minute maid division champs al\n",
      "twitter pic park minute maid http good dog dlvr day brings astros\n",
      "vs park mlb minute maid http game checked astros\n",
      "park minute maid league division champs astros american\n",
      "west park minute maid division champs astros al\n",
      "west park minute maid league division champs american\n",
      "vs park mlb minute mets maid http game checked astros\n",
      "twitter return pic park minute makes maid http dlvr blue\n",
      "vs park mlb minute maid htx http gostros game earnit checked astros\n",
      "vs park mlb minute maid http game checked athletics astros\n",
      "west park minute maid houstonstrong division champs astros al\n",
      "vs twitter tonight swarmapp pic park mlb minute maid houston game blue astros\n",
      "west park minute maid houstonstrong great game division champs astros al\n",
      "\n",
      "\n",
      "\n",
      "==== for topic 9 ====\n",
      "texas te que houston esta es el\n",
      "se por las houston en el\n",
      "texasstrong strong relief recovery link houstonstrong houston bio\n",
      "que mi lo ha esta es ella\n",
      "wants repost houston help get_repost anybody\n",
      "residents repost recovery harvey get_repost displaced\n",
      "traeabn square repost people need help\n",
      "repost numbers hurricaneharvey htx get_repost contact\n",
      "showing repost people hope help get_repost\n",
      "una la hoy esta es en\n",
      "safe repost prayforhouston hurricaneharvey houstontx houstonstrong\n",
      "que por para es en el area\n",
      "por la hurricaneharvey houston en el drone\n",
      "stay southwest let hurricane houston harvey aftermath\n",
      "rescue rain people need houston help area\n",
      "una por mas las la hoy houston en\n",
      "upper repost prayforhouston hurricaneharvey greenway donate cause\n",
      "vida una se repost que get_repost en\n",
      "yoga una te que para los las\n",
      "stay southwest let hurricane houstonstrong houston harvey aftermath\n",
      "\n",
      "\n",
      "\n"
     ]
    }
   ],
   "source": [
    "for i in range(n_components):\n",
    "    top_indices = np.argsort(topic_distributions[:,i])[-20:]\n",
    "    sentences = tfidf_vectorizer.inverse_transform(tfidf[top_indices])\n",
    "    print \"==== for topic %d ====\" % i\n",
    "    for sentence in sentences:\n",
    "        print \" \".join(sentence)\n",
    "    print \"\\n\\n\""
   ]
  },
  {
   "cell_type": "code",
   "execution_count": null,
   "metadata": {
    "collapsed": true
   },
   "outputs": [],
   "source": []
  }
 ],
 "metadata": {
  "kernelspec": {
   "display_name": "Python 2",
   "language": "python",
   "name": "python2"
  },
  "language_info": {
   "codemirror_mode": {
    "name": "ipython",
    "version": 2
   },
   "file_extension": ".py",
   "mimetype": "text/x-python",
   "name": "python",
   "nbconvert_exporter": "python",
   "pygments_lexer": "ipython2",
   "version": "2.7.13"
  }
 },
 "nbformat": 4,
 "nbformat_minor": 2
}
