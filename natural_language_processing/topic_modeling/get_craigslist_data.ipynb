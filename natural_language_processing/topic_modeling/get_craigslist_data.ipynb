{
 "cells": [
  {
   "cell_type": "code",
   "execution_count": 2,
   "metadata": {
    "collapsed": true
   },
   "outputs": [],
   "source": [
    "# sudo pip install python-craigslist\n",
    "import craigslist"
   ]
  },
  {
   "cell_type": "code",
   "execution_count": 3,
   "metadata": {
    "collapsed": false
   },
   "outputs": [
    {
     "name": "stdout",
     "output_type": "stream",
     "text": [
      "Base filters:\n",
      "* posted_today = True/False\n",
      "* query = ...\n",
      "* search_titles = True/False\n",
      "* has_image = True/False\n",
      "Section specific filters:\n",
      "* is_internship = True/False\n",
      "* is_telecommuting = True/False\n",
      "* is_contract = True/False\n",
      "* is_parttime = True/False\n",
      "* is_nonprofit = True/False\n"
     ]
    }
   ],
   "source": [
    "craigslist.CraigslistJobs.show_filters()"
   ]
  },
  {
   "cell_type": "code",
   "execution_count": 24,
   "metadata": {
    "collapsed": false
   },
   "outputs": [
    {
     "name": "stdout",
     "output_type": "stream",
     "text": [
      "{'name': u'Uber Lyft Drivers Needed to Test New App', 'has_image': True, 'url': u'http://sfbay.craigslist.org/sfc/lab/5999774758.html', 'has_map': True, 'price': None, 'geotag': (37.7058, -122.4619), 'where': u'SF Bay Area', 'id': u'5999774758', 'datetime': u'2017-02-11 15:26'}\n"
     ]
    }
   ],
   "source": [
    "res = craigslist.CraigslistJobs(site='sfbay', area='sfc', filters={'posted_today': True})\n",
    "\n",
    "url = None\n",
    "for result in res.get_results(sort_by='newest', geotagged=True):\n",
    "    print result\n",
    "    name = result['name']\n",
    "    url = result['url']\n",
    "    break"
   ]
  },
  {
   "cell_type": "code",
   "execution_count": 23,
   "metadata": {
    "collapsed": false
   },
   "outputs": [
    {
     "data": {
      "text/plain": [
       "u' qr code link to this post be a part of the magic that happens when you place an order on amazon we re hiring part time seasonal amazonians in south san francisco ca late evening and early morning shifts available hourly pay rate weekly pay schedule apply online no job interview required amazon is an equal opportunity affirmative action employer minority female disability veteran gender identity sexual orientation '"
      ]
     },
     "execution_count": 23,
     "metadata": {},
     "output_type": "execute_result"
    }
   ],
   "source": [
    "url = \"https://sfbay.craigslist.org/sfc/lab/5999662407.html\"\n",
    "\n",
    "from bs4 import BeautifulSoup\n",
    "import requests\n",
    "\n",
    "response = requests.get(url)\n",
    "soup = BeautifulSoup(response.content, 'html.parser')\n",
    "text = soup.find_all('section', {'id': \"postingbody\"})[0].getText()\n",
    "\n",
    "import re\n",
    "text = re.sub(\"[^a-zA-Z]+\", \" \", text)\n",
    "text.lower()"
   ]
  },
  {
   "cell_type": "code",
   "execution_count": 39,
   "metadata": {
    "collapsed": false
   },
   "outputs": [
    {
     "name": "stdout",
     "output_type": "stream",
     "text": [
      "0\n",
      "10\n",
      "20\n",
      "30\n",
      "40\n",
      "50\n",
      "60\n",
      "70\n",
      "80\n",
      "90\n",
      "100\n",
      "110\n",
      "120\n",
      "130\n",
      "140\n",
      "150\n"
     ]
    }
   ],
   "source": [
    "results = []\n",
    "for i, result in enumerate(res.get_results(sort_by='newest', geotagged=True)):\n",
    "    if i % 10 == 0:\n",
    "        print i\n",
    "    if i == 1000:\n",
    "        break\n",
    "    name = result['name']\n",
    "    url = result['url']\n",
    "    response = requests.get(url)\n",
    "    soup = BeautifulSoup(response.content, 'html.parser')\n",
    "    text = soup.find_all('section', {'id': \"postingbody\"})[0].getText()\n",
    "    text = re.sub(\"[^a-zA-Z]+\", \" \", text)\n",
    "    results += [text.lower()]"
   ]
  },
  {
   "cell_type": "code",
   "execution_count": 42,
   "metadata": {
    "collapsed": false
   },
   "outputs": [
    {
     "data": {
      "text/plain": [
       "u' qr code link to this post sign up to deliver with uber and get paid every week in san francisco delivering with uber works just like driving with uber you sign up take requests to deliver packages whenever it works for you and you get paid every week how does it work when a store or restaurant requests a delivery the request is matched to a delivery partner like yourself on the uber app you then drive or ride to the business location pick up an item and deliver it to the customer it s simple and easy when you deliver with a car you must be at least years oldhave a valid driver s licensehave vehicle registration and insurancehave at least year of driving experience when you deliver with a bicycle you must be at least years oldhave a bicyclefeel comfortable riding your bike around the city this opportunity is for an independent contractor stated earnings in fares are based on median local earnings of partners in the past month in the united states all earnings quoted are in fares and based on actual partner earnings data per city actual earnings may vary depending on time of day location and other factors driving with uber is perfect for a those looking for seasonal work temporary work part time work part time work or for those looking for a flexible full time opportunity hours are completely flexible no previous experience as a transportation driver truck driver taxi driver courier driver or delivery driver is necessary we welcome those who have driven with other peer to peer ridesharing networks such as lyft sidecar munchery sprig caviar instacart shyp washio door dash luxe zirx seamless grubhub doordash eat amazon flex homer relay juno or via our driving partners come from all backgrounds and industries ranging from traditional driving and transportation industries to more customer service and creative industries if you are a server host hostess busser busboy busser waiter expo food runner foodrunner designer actor nurse valet cleaner college student messenger chauffeur customer service agent barista maid teacher retail associate delivery driver salesperson limo driver private hire driver cab driver admin sales person contract worker or intern who is looking for a flexible part time or seasonal job you should try driving with uber uberx or uberblack to supplement your income mendocino county merced modesto monterey bay san luis obispo santa barbara santa maria siskiyou county stockton susanville ventura county visalia tulare yuba sutter click to drive with uber '"
      ]
     },
     "execution_count": 42,
     "metadata": {},
     "output_type": "execute_result"
    }
   ],
   "source": [
    "results[10]"
   ]
  },
  {
   "cell_type": "code",
   "execution_count": 43,
   "metadata": {
    "collapsed": false
   },
   "outputs": [],
   "source": [
    "f = open(\"mycraigslist.txt\", 'w')\n",
    "for mytext in results:\n",
    "    f.write(\"%s\\n\" % mytext)"
   ]
  },
  {
   "cell_type": "code",
   "execution_count": null,
   "metadata": {
    "collapsed": true
   },
   "outputs": [],
   "source": []
  }
 ],
 "metadata": {
  "kernelspec": {
   "display_name": "Python 2",
   "language": "python",
   "name": "python2"
  },
  "language_info": {
   "codemirror_mode": {
    "name": "ipython",
    "version": 2
   },
   "file_extension": ".py",
   "mimetype": "text/x-python",
   "name": "python",
   "nbconvert_exporter": "python",
   "pygments_lexer": "ipython2",
   "version": "2.7.12"
  }
 },
 "nbformat": 4,
 "nbformat_minor": 2
}
