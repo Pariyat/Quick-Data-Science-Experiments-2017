{
 "cells": [
  {
   "cell_type": "markdown",
   "metadata": {},
   "source": [
    "[src](https://arxiv.org/pdf/1509.00685v2.pdf)"
   ]
  },
  {
   "cell_type": "markdown",
   "metadata": {},
   "source": [
    "#### types of summarization\n",
    "* extractive (stitch together existing)\n",
    "* abstractive (bottom-up summary that might not appear in the original text)\n",
    "\n",
    "### prob formulation\n",
    "* $log p(y | x, \\theta) = \\sum_i^{N-1} log p(y_{i+1} | x, y_c; \\theta)$\n",
    "    * $y_c$ is the previous c words\n",
    "    * y is the summary, x is the original\n",
    "\n",
    "### neural language model\n",
    "* $p(y_{i+1} | y_c, x, \\theta) = exp(Vh + W enc(x, y_c))$\n",
    "* $y_c = [Ey_{i-c+1}, ..., Ey_i]$\n",
    "* $h = tanh (Uy_c)$\n",
    "\n",
    "### long story short, basically uses seq2seq to do summarization"
   ]
  },
  {
   "cell_type": "markdown",
   "metadata": {},
   "source": []
  },
  {
   "cell_type": "markdown",
   "metadata": {},
   "source": []
  },
  {
   "cell_type": "markdown",
   "metadata": {},
   "source": []
  },
  {
   "cell_type": "markdown",
   "metadata": {},
   "source": []
  },
  {
   "cell_type": "markdown",
   "metadata": {},
   "source": []
  },
  {
   "cell_type": "markdown",
   "metadata": {},
   "source": []
  }
 ],
 "metadata": {
  "kernelspec": {
   "display_name": "Python 2",
   "language": "python",
   "name": "python2"
  },
  "language_info": {
   "codemirror_mode": {
    "name": "ipython",
    "version": 2
   },
   "file_extension": ".py",
   "mimetype": "text/x-python",
   "name": "python",
   "nbconvert_exporter": "python",
   "pygments_lexer": "ipython2",
   "version": "2.7.13"
  }
 },
 "nbformat": 4,
 "nbformat_minor": 2
}
