{
 "cells": [
  {
   "cell_type": "markdown",
   "metadata": {},
   "source": [
    "[src](https://openreview.net/pdf?id=SyK00v5xx)"
   ]
  },
  {
   "cell_type": "markdown",
   "metadata": {},
   "source": [
    "### method - simple embedding\n",
    "* compute the weighted avg of word vectors in a sentence, then remove the projections of the average vectors on their first principal component\n",
    "* the words are weighted via $\\frac{a}{a + p(w)}$, can be shown to have theoretical ties to the MLE of a random walk sentence embedding\n",
    "* algorihtm:\n",
    "    1. compute $v_s$ for each $s \\in S$\n",
    "    2. compute first principal component u of $v_s$\n",
    "    3. compute $v_s = v_s - uu^T v_s$"
   ]
  },
  {
   "cell_type": "markdown",
   "metadata": {},
   "source": [
    "### random walk for generating text\n",
    "* a discourse vector $c_t$ does a slow random walk ($c_{t+1} = c_t + \\epsilon_t$)\n",
    "    * represents what is being talked about\n",
    "* $Pr[\\text{w emitted at time t} | c_t] \\propto exp(<c_t, v_w>)$ \n",
    "* this paper motivates the weighting scheme $\\frac{a}{a + p(w)}$ via the random walk model, where \n",
    "    * $Pr[\\text{w emitted at time t} | c_t] = \\alpha p(w) + (1 - a) \\frac{exp(<c_t, v_w>)}{\\sum_j exp(<c_t, v_j>)}$\n",
    "    * this allows for jumps for large p(w) like \"the\", \"a\", \"and\""
   ]
  },
  {
   "cell_type": "markdown",
   "metadata": {},
   "source": [
    "### likelihood\n",
    "* $p[s | c_s] = \\prod_{w \\in s} p(w | c_s) = \\prod_{w \\in s} [\\alpha p(w) + (1 - \\alpha)\\frac{exp(<v_w, c_s>)}{Z}]$\n",
    "* let $f_w(c_s) = [...]$ \n",
    "* $f_w(c_s) = f_w(0) + \\nabla f_w(0)^T c_s$ via taylor expansion\n",
    "    * recall $f(x) = f(a) + f'(a)(x-a) + \\frac{f''(a)}{2}(x-a)^2$"
   ]
  },
  {
   "cell_type": "markdown",
   "metadata": {},
   "source": [
    "### connection to cbow\n",
    "* popular belief is that cbow is a simple avg, but it's not\n",
    "* because negative sampling happens where a word is sampled wrt $\\sqrt{p(w)}$, which has a connection with the weighting scheme of this paper"
   ]
  },
  {
   "cell_type": "markdown",
   "metadata": {},
   "source": []
  },
  {
   "cell_type": "markdown",
   "metadata": {},
   "source": []
  }
 ],
 "metadata": {
  "kernelspec": {
   "display_name": "Python 2",
   "language": "python",
   "name": "python2"
  },
  "language_info": {
   "codemirror_mode": {
    "name": "ipython",
    "version": 2
   },
   "file_extension": ".py",
   "mimetype": "text/x-python",
   "name": "python",
   "nbconvert_exporter": "python",
   "pygments_lexer": "ipython2",
   "version": "2.7.12"
  }
 },
 "nbformat": 4,
 "nbformat_minor": 2
}
