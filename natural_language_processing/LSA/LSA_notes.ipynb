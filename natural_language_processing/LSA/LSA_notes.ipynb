{
 "cells": [
  {
   "cell_type": "markdown",
   "metadata": {},
   "source": [
    "[src](http://www.engr.uvic.ca/~seng474/svd.pdf)"
   ]
  },
  {
   "cell_type": "markdown",
   "metadata": {},
   "source": [
    "### problem setup\n",
    "* A is a mxn matrix, with m words and n docs\n",
    "* $B = A^T A$ is the doc-doc matrix, where $B_{ij}$ is the # of words in common\n",
    "* $C = AA^T$ is the word-word matrix\n",
    "    * This is powerful, because this means that we never need to construct B or C explicitly!!!!\n",
    "* svd: $A = S\\Sigma U^T$, then $B = U\\Sigma^T S^T S\\Sigma U^T = U\\Sigma^T \\Sigma U^T$, and similarly $C = S^T \\Sigma^T \\Sigma S$\n",
    "* so words are $S_k \\Sigma_k$ (mxk) and docs are $\\Sigma_k U_k^T$"
   ]
  },
  {
   "cell_type": "markdown",
   "metadata": {},
   "source": [
    "### Application\n",
    "* given query of words, get most similar docs (see example on pg6)"
   ]
  },
  {
   "cell_type": "markdown",
   "metadata": {},
   "source": []
  },
  {
   "cell_type": "markdown",
   "metadata": {},
   "source": []
  }
 ],
 "metadata": {
  "kernelspec": {
   "display_name": "Python 2",
   "language": "python",
   "name": "python2"
  },
  "language_info": {
   "codemirror_mode": {
    "name": "ipython",
    "version": 2
   },
   "file_extension": ".py",
   "mimetype": "text/x-python",
   "name": "python",
   "nbconvert_exporter": "python",
   "pygments_lexer": "ipython2",
   "version": "2.7.12"
  }
 },
 "nbformat": 4,
 "nbformat_minor": 2
}
