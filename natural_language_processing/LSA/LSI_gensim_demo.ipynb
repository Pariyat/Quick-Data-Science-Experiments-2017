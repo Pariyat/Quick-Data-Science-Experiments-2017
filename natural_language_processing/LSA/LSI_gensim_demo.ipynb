{
 "cells": [
  {
   "cell_type": "code",
   "execution_count": 1,
   "metadata": {
    "collapsed": true
   },
   "outputs": [],
   "source": [
    "import logging\n",
    "logging.basicConfig(format='%(asctime)s : %(levelname)s : %(message)s', level=logging.INFO)"
   ]
  },
  {
   "cell_type": "code",
   "execution_count": 4,
   "metadata": {},
   "outputs": [
    {
     "name": "stderr",
     "output_type": "stream",
     "text": [
      "2017-05-18 14:00:38,859 : INFO : adding document #0 to Dictionary(0 unique tokens: [])\n",
      "2017-05-18 14:00:38,861 : INFO : built Dictionary(12 unique tokens: [u'minors', u'graph', u'system', u'trees', u'eps']...) from 9 documents (total 29 corpus positions)\n",
      "2017-05-18 14:00:38,862 : INFO : saving Dictionary object under /tmp/deerwester.dict, separately None\n",
      "2017-05-18 14:00:38,870 : INFO : saved /tmp/deerwester.dict\n",
      "2017-05-18 14:00:38,873 : INFO : storing corpus in Matrix Market format to /tmp/deerwester.mm\n",
      "2017-05-18 14:00:38,874 : INFO : saving sparse matrix to /tmp/deerwester.mm\n",
      "2017-05-18 14:00:38,875 : INFO : PROGRESS: saving document #0\n",
      "2017-05-18 14:00:38,877 : INFO : saved 9x12 matrix, density=25.926% (28/108)\n",
      "2017-05-18 14:00:38,886 : INFO : saving MmCorpus index to /tmp/deerwester.mm.index\n"
     ]
    }
   ],
   "source": [
    "from gensim import corpora\n",
    "\n",
    "documents = [\"Human machine interface for lab abc computer applications\",\n",
    "             \"A survey of user opinion of computer system response time\",\n",
    "             \"The EPS user interface management system\",\n",
    "             \"System and human system engineering testing of EPS\",\n",
    "             \"Relation of user perceived response time to error measurement\",\n",
    "             \"The generation of random binary unordered trees\",\n",
    "             \"The intersection graph of paths in trees\",\n",
    "             \"Graph minors IV Widths of trees and well quasi ordering\",\n",
    "             \"Graph minors A survey\"]\n",
    "\n",
    "stoplist = set('for a of the and to in'.split())\n",
    "texts = [[word for word in document.lower().split() if word not in stoplist]\n",
    "        for document in documents]\n",
    "\n",
    "from collections import defaultdict\n",
    "frequency = defaultdict(int)\n",
    "for text in texts:\n",
    "    for token in text:\n",
    "        frequency[token] += 1\n",
    "        \n",
    "texts = [[token for token in text if frequency[token] > 1]\n",
    "         for text in texts]\n",
    "\n",
    "dictionary = corpora.Dictionary(texts)\n",
    "dictionary.save('/tmp/deerwester.dict')  # store the dictionary, for future reference\n",
    "corpus = [dictionary.doc2bow(text) for text in texts]\n",
    "corpora.MmCorpus.serialize('/tmp/deerwester.mm', corpus)"
   ]
  },
  {
   "cell_type": "code",
   "execution_count": 5,
   "metadata": {
    "collapsed": true
   },
   "outputs": [],
   "source": [
    "from gensim import corpora, models, similarities"
   ]
  },
  {
   "cell_type": "code",
   "execution_count": 8,
   "metadata": {},
   "outputs": [
    {
     "name": "stderr",
     "output_type": "stream",
     "text": [
      "2017-05-18 14:01:44,381 : INFO : collecting document frequencies\n",
      "2017-05-18 14:01:44,382 : INFO : PROGRESS: processing document #0\n",
      "2017-05-18 14:01:44,383 : INFO : calculating IDF weights for 9 documents and 11 features (28 matrix non-zeros)\n"
     ]
    }
   ],
   "source": [
    "tfidf = models.TfidfModel(corpus)\n",
    "corpus_tfidf = tfidf[corpus]"
   ]
  },
  {
   "cell_type": "code",
   "execution_count": 9,
   "metadata": {},
   "outputs": [
    {
     "name": "stderr",
     "output_type": "stream",
     "text": [
      "2017-05-18 14:01:45,674 : INFO : using serial LSI version on this node\n",
      "2017-05-18 14:01:45,675 : INFO : updating model with new documents\n",
      "2017-05-18 14:01:45,676 : INFO : preparing a new chunk of documents\n",
      "2017-05-18 14:01:45,678 : INFO : using 100 extra samples and 2 power iterations\n",
      "2017-05-18 14:01:45,679 : INFO : 1st phase: constructing (12, 102) action matrix\n",
      "2017-05-18 14:01:45,682 : INFO : orthonormalizing (12, 102) action matrix\n",
      "2017-05-18 14:01:45,690 : INFO : 2nd phase: running dense svd on (12, 9) matrix\n",
      "2017-05-18 14:01:45,694 : INFO : computing the final decomposition\n",
      "2017-05-18 14:01:45,695 : INFO : keeping 2 factors (discarding 47.565% of energy spectrum)\n",
      "2017-05-18 14:01:45,696 : INFO : processed documents up to #9\n",
      "2017-05-18 14:01:45,698 : INFO : topic #0(1.594): 0.703*\"trees\" + 0.538*\"graph\" + 0.402*\"minors\" + 0.187*\"survey\" + 0.061*\"system\" + 0.060*\"time\" + 0.060*\"response\" + 0.058*\"user\" + 0.049*\"computer\" + 0.035*\"interface\"\n",
      "2017-05-18 14:01:45,699 : INFO : topic #1(1.476): -0.460*\"system\" + -0.373*\"user\" + -0.332*\"eps\" + -0.328*\"interface\" + -0.320*\"time\" + -0.320*\"response\" + -0.293*\"computer\" + -0.280*\"human\" + -0.171*\"survey\" + 0.161*\"trees\"\n"
     ]
    }
   ],
   "source": [
    "lsi = models.LsiModel(corpus_tfidf, id2word=dictionary, num_topics=2) # initialize an LSI transformation\n",
    "corpus_lsi = lsi[corpus_tfidf]"
   ]
  },
  {
   "cell_type": "code",
   "execution_count": 10,
   "metadata": {},
   "outputs": [
    {
     "name": "stderr",
     "output_type": "stream",
     "text": [
      "2017-05-18 14:02:01,516 : INFO : topic #0(1.594): 0.703*\"trees\" + 0.538*\"graph\" + 0.402*\"minors\" + 0.187*\"survey\" + 0.061*\"system\" + 0.060*\"time\" + 0.060*\"response\" + 0.058*\"user\" + 0.049*\"computer\" + 0.035*\"interface\"\n",
      "2017-05-18 14:02:01,517 : INFO : topic #1(1.476): -0.460*\"system\" + -0.373*\"user\" + -0.332*\"eps\" + -0.328*\"interface\" + -0.320*\"time\" + -0.320*\"response\" + -0.293*\"computer\" + -0.280*\"human\" + -0.171*\"survey\" + 0.161*\"trees\"\n"
     ]
    },
    {
     "data": {
      "text/plain": [
       "[(0,\n",
       "  u'0.703*\"trees\" + 0.538*\"graph\" + 0.402*\"minors\" + 0.187*\"survey\" + 0.061*\"system\" + 0.060*\"time\" + 0.060*\"response\" + 0.058*\"user\" + 0.049*\"computer\" + 0.035*\"interface\"'),\n",
       " (1,\n",
       "  u'-0.460*\"system\" + -0.373*\"user\" + -0.332*\"eps\" + -0.328*\"interface\" + -0.320*\"time\" + -0.320*\"response\" + -0.293*\"computer\" + -0.280*\"human\" + -0.171*\"survey\" + 0.161*\"trees\"')]"
      ]
     },
     "execution_count": 10,
     "metadata": {},
     "output_type": "execute_result"
    }
   ],
   "source": [
    "lsi.print_topics(2)"
   ]
  },
  {
   "cell_type": "code",
   "execution_count": 11,
   "metadata": {},
   "outputs": [
    {
     "name": "stdout",
     "output_type": "stream",
     "text": [
      "[(0, 0.066007833960901346), (1, -0.52007033063618502)]\n",
      "[(0, 0.19667592859142263), (1, -0.76095631677000541)]\n",
      "[(0, 0.089926399724461425), (1, -0.72418606267525132)]\n",
      "[(0, 0.075858476521778906), (1, -0.63205515860034334)]\n",
      "[(0, 0.10150299184979988), (1, -0.57373084830029608)]\n",
      "[(0, 0.70321089393783187), (1, 0.16115180214025573)]\n",
      "[(0, 0.87747876731198415), (1, 0.16758906864659137)]\n",
      "[(0, 0.9098624686818586), (1, 0.14086553628718729)]\n",
      "[(0, 0.61658253505692817), (1, -0.053929075663895709)]\n"
     ]
    }
   ],
   "source": [
    "for doc in corpus_lsi: # both bow->tfidf and tfidf->lsi transformations are actually executed here, on the fly\n",
    "    print(doc)"
   ]
  },
  {
   "cell_type": "markdown",
   "metadata": {},
   "source": [
    "### thought experiment\n",
    "* say we have 5 docs and 12 words, the DW matrix is 5x12\n",
    "* LSI with 2 latent topics creates a 5x2 doc matrix and 2x12 word matrix\n",
    "* 5x2 is the topic distribution of the 5 topics"
   ]
  },
  {
   "cell_type": "code",
   "execution_count": null,
   "metadata": {
    "collapsed": true
   },
   "outputs": [],
   "source": []
  }
 ],
 "metadata": {
  "kernelspec": {
   "display_name": "Python 2",
   "language": "python",
   "name": "python2"
  },
  "language_info": {
   "codemirror_mode": {
    "name": "ipython",
    "version": 2
   },
   "file_extension": ".py",
   "mimetype": "text/x-python",
   "name": "python",
   "nbconvert_exporter": "python",
   "pygments_lexer": "ipython2",
   "version": "2.7.13"
  }
 },
 "nbformat": 4,
 "nbformat_minor": 2
}
