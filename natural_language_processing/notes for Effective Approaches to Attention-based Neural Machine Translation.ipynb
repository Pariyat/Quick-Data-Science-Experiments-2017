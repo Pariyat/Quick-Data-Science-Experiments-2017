{
 "cells": [
  {
   "cell_type": "markdown",
   "metadata": {},
   "source": [
    "[src](https://nlp.stanford.edu/pubs/emnlp15_attn.pdf)"
   ]
  },
  {
   "cell_type": "markdown",
   "metadata": {},
   "source": [
    "### Neural Machine Translation\n",
    "* decoder $log p(y|x) = \\sum_{j=1}^m log p(y_j | y<j, s)$\n",
    "* $p(y_j | y<j, s) = softmax(g(h_j))$\n",
    "\n",
    "### attention based mechanisms\n",
    "* instead of a normal hidden state $h_t$, have $\\tilde{h_t}$ that is an attentional hidden state\n",
    "* derive a context vector $c_t$\n",
    "* concate the context vector to generate a new hidden state $tanh(W_c [c_t: h_t])$, then fed to make $p(y_t|y_{<t}, x) = softmax(W_s h_t)$\n",
    "\n",
    "### global attention\n",
    "* consider all hidden states of the encoder when deriving the context vector $c_t$\n",
    "* variable length alignment vector, $a_t(s) = align(h_t, \\bar{h}_s)$\n",
    "    * size is the number of steps on the source side\n",
    "    * where $h_t$ is the hidden state at time t in the DECODER, with each ENCODER hidden state $\\bar{h_s}$\n",
    "    * $= \\frac{exp(score(h_t, \\bar{h_s}))}{\\sum_{s'} exp(score(h_t, \\bar{h_s'}))}$\n",
    "* score has various alternatives\n",
    "    * $h_t^T \\bar{h_s}$\n",
    "    * $h_t^T W_a \\bar{h_s}$\n",
    "    * $v_a^T tanh (W_a[h_t: \\bar{h_s}])$\n",
    "* note: $h_t$ is in the decoder, and $\\bar{h_s}$ is the source\n",
    "* $\\alpha_t$ is then turned into $c_t$ via a weighted avg of the source hidden states $\\bar{h_s}$\n",
    "\n",
    "### local attention\n",
    "* The global attention has to attend to all words on the src, which makes it impractical for long sequences\n",
    "* a local attentional mechanism that chooses to focus only on a small subset of the source positions\n",
    "* the model first generates an aligned position $p_t$ for each target word at time t\n",
    "* 2 models of alignment:\n",
    "    * monotonic alignment (local-m) - $p_t = t$ by assuming that src and target are pretty much aligned\n",
    "    * predictive alignment (local-p) - predicts\n",
    "        * $p_t = S * sigmoid (v_p^T tanh(W_p h_t) )$, where $v$ and $W$ are learned weights\n",
    "        \n",
    "### Input-feeding approach\n",
    "* proposes a new framework which takes account of past attention, so that attenion at time t isn't made independently"
   ]
  },
  {
   "cell_type": "markdown",
   "metadata": {},
   "source": []
  },
  {
   "cell_type": "markdown",
   "metadata": {},
   "source": []
  }
 ],
 "metadata": {
  "kernelspec": {
   "display_name": "Python 2",
   "language": "python",
   "name": "python2"
  },
  "language_info": {
   "codemirror_mode": {
    "name": "ipython",
    "version": 2
   },
   "file_extension": ".py",
   "mimetype": "text/x-python",
   "name": "python",
   "nbconvert_exporter": "python",
   "pygments_lexer": "ipython2",
   "version": "2.7.13"
  }
 },
 "nbformat": 4,
 "nbformat_minor": 2
}
