{
 "cells": [
  {
   "cell_type": "markdown",
   "metadata": {},
   "source": [
    "* [slides](https://www.mimuw.edu.pl/~son/datamining/DM/6-rules.pdf)\n",
    "\n",
    "* [vid](https://www.youtube.com/watch?v=PNF2eUiZAn0)"
   ]
  },
  {
   "cell_type": "markdown",
   "metadata": {},
   "source": [
    "* C5.0 can construct classifiers expressed as decision trees or as sets of rules\n",
    "* generates a decision tree\n",
    "* the tree can be decomposed into a series of rules"
   ]
  },
  {
   "cell_type": "code",
   "execution_count": 1,
   "metadata": {
    "collapsed": false
   },
   "outputs": [
    {
     "data": {
      "text/plain": [
       "'\\nif paper type = super then band\\n\\telse\\n\\tif paper type = uncoated then\\n\\t   if ink type = cover then band\\n\\t   else\\n\\t   if ink type = coated then\\n\\t      if viscosity < 40 then band\\n\\t      else\\n\\t      . . . .\\n\\tif paper type = coated then\\n\\t   if current density < 37 then noband\\n\\t   else\\n\\t   . . . .\\n'"
      ]
     },
     "execution_count": 1,
     "metadata": {},
     "output_type": "execute_result"
    }
   ],
   "source": [
    "'''\n",
    "if paper type = super then band\n",
    "\telse\n",
    "\tif paper type = uncoated then\n",
    "\t   if ink type = cover then band\n",
    "\t   else\n",
    "\t   if ink type = coated then\n",
    "\t      if viscosity < 40 then band\n",
    "\t      else\n",
    "\t      . . . .\n",
    "\tif paper type = coated then\n",
    "\t   if current density < 37 then noband\n",
    "\t   else\n",
    "\t   . . . .\n",
    "'''"
   ]
  },
  {
   "cell_type": "code",
   "execution_count": 2,
   "metadata": {
    "collapsed": false
   },
   "outputs": [
    {
     "data": {
      "text/plain": [
       "'\\n\\tRule 1: (cover 17)\\n\\t    \\tink type = uncoated\\n\\t    \\tblade pressure > 25\\n\\t\\t->  class band  [0.947]\\n\\n\\tRule 2: (cover 10)\\n\\t    \\tink type = uncoated\\n\\t    \\tproof cut > 42.5\\n\\t    \\tproof cut <= 55\\n\\t    \\tESA Voltage > 0\\n\\t\\t->  class band  [0.917]\\n\\n\\tRule 3: (cover 9)\\n\\t    \\tpaper type = super\\n\\t\\t->  class band  [0.909]\\n\\n\\tRule 4: (cover 9)\\n\\t    \\tpaper type = coated\\n\\t    \\tproof cut <= 45\\n\\t    \\tviscosity <= 55\\n\\t    \\thardener <= 0.8\\n\\t    \\tcurrent density > 37\\n\\t\\t->  class band  [0.818]\\n\\n\\tRule 5: (cover 3)\\n\\t    \\tpaper type = coated\\n\\t    \\ttype on cylinder = no\\n\\t    \\tviscosity <= 55\\n\\t    \\tcurrent density > 37\\n\\t    \\tchrome content > 95\\n\\t\\t->  class band  [0.800]\\n\\n\\tRule 6: (cover 2)\\n\\t    \\tpaper type = uncoated\\n\\t    \\tink type = coated\\n\\t    \\tviscosity <= 40\\n\\t\\t->  class band  [0.750]\\n\\n\\tRule 7: (cover 1)\\n\\t    \\tink type = cover\\n\\t\\t->  class band  [0.667]\\n\\n\\tRule 8: (cover 17)\\n\\t    \\tink type = uncoated\\n\\t    \\tblade pressure <= 25\\n\\t    \\tESA Voltage <= 0\\n\\t\\t->  class noband  [0.895]\\n\\n\\tRule 9: (cover 17)\\n\\t    \\tpaper type = uncoated\\n\\t    \\tink type = coated\\n\\t    \\tviscosity > 40\\n\\t\\t->  class noband  [0.895]\\n\\n\\tRule 10: (cover 6)\\n\\t    \\tproof cut > 55\\n\\t    \\tblade pressure <= 25\\n\\t\\t->  class noband  [0.875]\\n\\n\\tRule 11: (cover 14)\\n\\t    \\tpaper type = uncoated\\n\\t    \\tproof cut <= 42.5\\n\\t    \\tblade pressure <= 25\\n\\t\\t->  class noband  [0.875]\\n\\n\\tRule 12: (cover 68)\\n\\t    \\tpaper type = coated\\n\\t\\t->  class noband  [0.757]\\n\\n\\tDefault class: noband\\n'"
      ]
     },
     "execution_count": 2,
     "metadata": {},
     "output_type": "execute_result"
    }
   ],
   "source": [
    "'''\n",
    "\tRule 1: (cover 17)\n",
    "\t    \tink type = uncoated\n",
    "\t    \tblade pressure > 25\n",
    "\t\t->  class band  [0.947]\n",
    "\n",
    "\tRule 2: (cover 10)\n",
    "\t    \tink type = uncoated\n",
    "\t    \tproof cut > 42.5\n",
    "\t    \tproof cut <= 55\n",
    "\t    \tESA Voltage > 0\n",
    "\t\t->  class band  [0.917]\n",
    "\n",
    "\tRule 3: (cover 9)\n",
    "\t    \tpaper type = super\n",
    "\t\t->  class band  [0.909]\n",
    "\n",
    "\tRule 4: (cover 9)\n",
    "\t    \tpaper type = coated\n",
    "\t    \tproof cut <= 45\n",
    "\t    \tviscosity <= 55\n",
    "\t    \thardener <= 0.8\n",
    "\t    \tcurrent density > 37\n",
    "\t\t->  class band  [0.818]\n",
    "\n",
    "\tRule 5: (cover 3)\n",
    "\t    \tpaper type = coated\n",
    "\t    \ttype on cylinder = no\n",
    "\t    \tviscosity <= 55\n",
    "\t    \tcurrent density > 37\n",
    "\t    \tchrome content > 95\n",
    "\t\t->  class band  [0.800]\n",
    "\n",
    "\tRule 6: (cover 2)\n",
    "\t    \tpaper type = uncoated\n",
    "\t    \tink type = coated\n",
    "\t    \tviscosity <= 40\n",
    "\t\t->  class band  [0.750]\n",
    "\n",
    "\tRule 7: (cover 1)\n",
    "\t    \tink type = cover\n",
    "\t\t->  class band  [0.667]\n",
    "\n",
    "\tRule 8: (cover 17)\n",
    "\t    \tink type = uncoated\n",
    "\t    \tblade pressure <= 25\n",
    "\t    \tESA Voltage <= 0\n",
    "\t\t->  class noband  [0.895]\n",
    "\n",
    "\tRule 9: (cover 17)\n",
    "\t    \tpaper type = uncoated\n",
    "\t    \tink type = coated\n",
    "\t    \tviscosity > 40\n",
    "\t\t->  class noband  [0.895]\n",
    "\n",
    "\tRule 10: (cover 6)\n",
    "\t    \tproof cut > 55\n",
    "\t    \tblade pressure <= 25\n",
    "\t\t->  class noband  [0.875]\n",
    "\n",
    "\tRule 11: (cover 14)\n",
    "\t    \tpaper type = uncoated\n",
    "\t    \tproof cut <= 42.5\n",
    "\t    \tblade pressure <= 25\n",
    "\t\t->  class noband  [0.875]\n",
    "\n",
    "\tRule 12: (cover 68)\n",
    "\t    \tpaper type = coated\n",
    "\t\t->  class noband  [0.757]\n",
    "\n",
    "\tDefault class: noband\n",
    "'''"
   ]
  },
  {
   "cell_type": "markdown",
   "metadata": {},
   "source": [
    "# From trees to rules"
   ]
  },
  {
   "cell_type": "markdown",
   "metadata": {},
   "source": [
    "* simplest way - one rule per leaf - figure out path from leaf to root\n",
    "\n",
    "* sometimes rules can be pruned\n",
    "\n",
    "### imagine this list of rules:\n",
    "* if y <= 0.6, A\n",
    "* if y > 0.6 and x <= 0.1, B\n",
    "* if y > 0.6 and x > 0.1 and z < 0.1, C\n",
    "\n",
    "### can be simplified to:\n",
    "* if y <= 0.6, A\n",
    "* if x <= 0.1, B\n",
    "* if z < 0.1, C\n"
   ]
  },
  {
   "cell_type": "code",
   "execution_count": 1,
   "metadata": {
    "collapsed": false
   },
   "outputs": [
    {
     "name": "stderr",
     "output_type": "stream",
     "text": [
      "/Users/jason.xie/anaconda/lib/python2.7/site-packages/pandas/computation/__init__.py:19: UserWarning: The installed version of numexpr 2.4.4 is not supported in pandas and will be not be used\n",
      "\n",
      "  UserWarning)\n"
     ]
    },
    {
     "data": {
      "text/plain": [
       "DecisionTreeClassifier(class_weight=None, criterion='gini', max_depth=5,\n",
       "            max_features=None, max_leaf_nodes=None,\n",
       "            min_impurity_split=1e-07, min_samples_leaf=1,\n",
       "            min_samples_split=2, min_weight_fraction_leaf=0.0,\n",
       "            presort=False, random_state=None, splitter='best')"
      ]
     },
     "execution_count": 1,
     "metadata": {},
     "output_type": "execute_result"
    }
   ],
   "source": [
    "import pandas as pd\n",
    "import numpy as np\n",
    "from sklearn.tree import DecisionTreeClassifier\n",
    "\n",
    "# dummy data:\n",
    "df = pd.DataFrame({'col1':[0,1,2,3],'col2':[3,4,5,6],'dv':[0,1,0,1]})\n",
    "\n",
    "# create decision tree\n",
    "dt = DecisionTreeClassifier(max_depth=5, min_samples_leaf=1)\n",
    "dt.fit(df.ix[:,:2], df.dv)"
   ]
  },
  {
   "cell_type": "code",
   "execution_count": 16,
   "metadata": {
    "collapsed": false
   },
   "outputs": [
    {
     "data": {
      "image/png": "[encoded data removed]",
      "text/plain": [
       "<IPython.core.display.Image object>"
      ]
     },
     "execution_count": 16,
     "metadata": {},
     "output_type": "execute_result"
    }
   ],
   "source": [
    "from sklearn.externals.six import StringIO  \n",
    "import pydot \n",
    "from sklearn.tree import export_graphviz\n",
    "from IPython.display import Image\n",
    "\n",
    "dot_data = StringIO()  \n",
    "export_graphviz(dt, out_file=dot_data, feature_names=df.columns)  \n",
    "graph = pydot.graph_from_dot_data(dot_data.getvalue())  \n",
    "# graph[0]\n",
    "Image(graph[0].create_png()) \n"
   ]
  },
  {
   "cell_type": "code",
   "execution_count": 4,
   "metadata": {
    "collapsed": true
   },
   "outputs": [],
   "source": [
    "def get_lineage(tree, feature_names):\n",
    "    left      = tree.tree_.children_left\n",
    "    right     = tree.tree_.children_right\n",
    "    threshold = tree.tree_.threshold\n",
    "    features  = [feature_names[i] for i in tree.tree_.feature]\n",
    "\n",
    "     # get ids of child nodes\n",
    "    idx = np.argwhere(left == -1)[:,0]     \n",
    "\n",
    "    def recurse(left, right, child, lineage=None):          \n",
    "        if lineage is None:\n",
    "            lineage = [child]\n",
    "        if child in left:\n",
    "            parent = np.where(left == child)[0].item()\n",
    "            split = 'l'\n",
    "        else:\n",
    "            parent = np.where(right == child)[0].item()\n",
    "            split = 'r'\n",
    "\n",
    "        lineage.append((parent, split, threshold[parent], features[parent]))\n",
    "\n",
    "        if parent == 0:\n",
    "            lineage.reverse()\n",
    "            return lineage\n",
    "        else:\n",
    "            return recurse(left, right, parent, lineage)\n",
    "\n",
    "    for child in idx:\n",
    "        for node in recurse(left, right, child):\n",
    "            print node"
   ]
  },
  {
   "cell_type": "code",
   "execution_count": 5,
   "metadata": {
    "collapsed": false
   },
   "outputs": [
    {
     "name": "stdout",
     "output_type": "stream",
     "text": [
      "(0, 'l', 3.5, 'col2')\n",
      "1\n",
      "(0, 'r', 3.5, 'col2')\n",
      "(2, 'l', 1.5, 'col1')\n",
      "3\n",
      "(0, 'r', 3.5, 'col2')\n",
      "(2, 'r', 1.5, 'col1')\n",
      "(4, 'l', 2.5, 'col1')\n",
      "5\n",
      "(0, 'r', 3.5, 'col2')\n",
      "(2, 'r', 1.5, 'col1')\n",
      "(4, 'r', 2.5, 'col1')\n",
      "6\n"
     ]
    }
   ],
   "source": [
    "get_lineage(dt, df.columns)"
   ]
  },
  {
   "cell_type": "code",
   "execution_count": null,
   "metadata": {
    "collapsed": true
   },
   "outputs": [],
   "source": []
  }
 ],
 "metadata": {
  "kernelspec": {
   "display_name": "Python 2",
   "language": "python",
   "name": "python2"
  },
  "language_info": {
   "codemirror_mode": {
    "name": "ipython",
    "version": 2
   },
   "file_extension": ".py",
   "mimetype": "text/x-python",
   "name": "python",
   "nbconvert_exporter": "python",
   "pygments_lexer": "ipython2",
   "version": "2.7.12"
  }
 },
 "nbformat": 4,
 "nbformat_minor": 2
}
