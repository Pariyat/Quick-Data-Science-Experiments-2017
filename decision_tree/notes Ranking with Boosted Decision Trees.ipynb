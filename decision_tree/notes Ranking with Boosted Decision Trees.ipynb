{
 "cells": [
  {
   "cell_type": "markdown",
   "metadata": {},
   "source": [
    "[src](http://www.ccs.neu.edu/home/vip/teach/MLcourse/4_boosting/materials/Schamoni_boosteddecisiontrees.pdf)"
   ]
  },
  {
   "cell_type": "markdown",
   "metadata": {},
   "source": [
    "### model types for inforation retrieval\n",
    "* set-theoretec model \n",
    "    * boolean models???\n",
    "* algebraic model\n",
    "    * LSA \n",
    "* probabilitistc mdoel\n",
    "    * probabilistic relevance\n",
    "    * language mdoels\n",
    "\n",
    "### what is IR\n",
    "* IR generates a score describing the rleationship between a query and a webpage\n",
    "* sample measure\n",
    "    * term frequency\n",
    "    * document frequency\n",
    "    * inverse doc freq\n",
    "    * cosine sim\n",
    "    * retrieval status model\n",
    "* features\n",
    "    * docuemnt features e.g. page rank\n",
    "    * query-doc features e.g. cosine sim\n",
    "    * query features e.g. number of words in query"
   ]
  },
  {
   "cell_type": "markdown",
   "metadata": {},
   "source": [
    "### definition of a decvision tree\n",
    "* $T(x;\\theta) = \\sum_i^K \\gamma_k 1(x \\in R_k) $\n",
    "* boosted tree - $(\\beta_m, a_m) = argmin_{\\beta, \\alpha} \\sum_i^N L(y_i, F_{m-1}(x_i) + \\beta h(x_i, a)$"
   ]
  },
  {
   "cell_type": "markdown",
   "metadata": {},
   "source": [
    "## ranking\n",
    "### RankNet\n",
    "* go to pg 40"
   ]
  },
  {
   "cell_type": "code",
   "execution_count": 1,
   "metadata": {},
   "outputs": [
    {
     "name": "stderr",
     "output_type": "stream",
     "text": [
      "IOPub data rate exceeded.\n",
      "The notebook server will temporarily stop sending output\n",
      "to the client in order to avoid crashing it.\n",
      "To change this limit, set the config variable\n",
      "`--NotebookApp.iopub_data_rate_limit`.\n"
     ]
    }
   ],
   "source": [
    "from IPython.display import Image\n",
    "Image(filename='img/ranking_notes.jpg') "
   ]
  },
  {
   "cell_type": "code",
   "execution_count": null,
   "metadata": {
    "collapsed": true
   },
   "outputs": [],
   "source": []
  },
  {
   "cell_type": "code",
   "execution_count": null,
   "metadata": {
    "collapsed": true
   },
   "outputs": [],
   "source": []
  }
 ],
 "metadata": {
  "kernelspec": {
   "display_name": "Python 2",
   "language": "python",
   "name": "python2"
  },
  "language_info": {
   "codemirror_mode": {
    "name": "ipython",
    "version": 2
   },
   "file_extension": ".py",
   "mimetype": "text/x-python",
   "name": "python",
   "nbconvert_exporter": "python",
   "pygments_lexer": "ipython2",
   "version": "2.7.13"
  }
 },
 "nbformat": 4,
 "nbformat_minor": 2
}
