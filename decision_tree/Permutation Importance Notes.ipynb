{
 "cells": [
  {
   "cell_type": "markdown",
   "metadata": {},
   "source": [
    "### Permutation Importance"
   ]
  },
  {
   "cell_type": "markdown",
   "metadata": {},
   "source": [
    "[paper](https://oup.silverchair-cdn.com/oup/backfile/Content_public/Journal/bioinformatics/26/10/10.1093/bioinformatics/btq134/2/btq134.pdf?Expires=1486941635&Signature=Fz2F8XMpv51A5I0biWTzxn38fSK0LkNH2Hs5p05MhO3JWySeskXJ4k4A-98hYtGYp4BsiVwia33gEOcXOw04EfQg5pHEZ1r7ULmgMFOtwDgPWq8HyYT3yIcerVcnHgbjaLULATc03U54bvH0CP9b~MyR3Z0K3rZLfybkw~OJEwGpnlhLpaze4lLKlAEzjvmyri1xyH16w5GJDu3EAQXv04qw4QvsPaEhy7ZILCcKXIxbA2ajTZ7~DHv222oNSaGKggTm0o56pkQC-VHjgSSTRhHTOHf1Y3NWhNuYBMak-chN7Giz-OzVC1L5TbmUlEXyh4EfAqGIsAQSlh1Q3Ah82Q__&Key-Pair-Id=APKAIUCZBIA4LVPAVW3Q)\n",
    "\n",
    "[blog post explanation](https://blogs.technet.microsoft.com/machinelearning/2015/04/14/permutation-feature-importance/)\n",
    "\n",
    "[r implementation](https://github.com/imbs-hl/ranger/blob/master/ranger-r-package/ranger/R/importance.R#L114)"
   ]
  },
  {
   "cell_type": "markdown",
   "metadata": {},
   "source": [
    "#### paper summary\n",
    "\n",
    "* RF has 2 estimates for feature importance, Gini Importance and Variable Importance (only looks at Gini)\n",
    "* GI is biased, the bias comes from the use of bootstrap and Gini split criterion during CART training\n",
    "* Permutation Importance (PIMP) measures the bias \n",
    "\n",
    "TBC"
   ]
  },
  {
   "cell_type": "markdown",
   "metadata": {},
   "source": [
    "#### blog\n",
    "\n",
    "* the blog seems to be wrong... need to 2x check"
   ]
  },
  {
   "cell_type": "markdown",
   "metadata": {},
   "source": [
    "#### R Imp\n",
    "\n",
    "* it speaks for itself\n",
    "* notice how the y (dependent variable) is sampled"
   ]
  },
  {
   "cell_type": "code",
   "execution_count": null,
   "metadata": {
    "collapsed": true
   },
   "outputs": [],
   "source": []
  }
 ],
 "metadata": {
  "kernelspec": {
   "display_name": "Python 2",
   "language": "python",
   "name": "python2"
  },
  "language_info": {
   "codemirror_mode": {
    "name": "ipython",
    "version": 2
   },
   "file_extension": ".py",
   "mimetype": "text/x-python",
   "name": "python",
   "nbconvert_exporter": "python",
   "pygments_lexer": "ipython2",
   "version": "2.7.12"
  }
 },
 "nbformat": 4,
 "nbformat_minor": 2
}
