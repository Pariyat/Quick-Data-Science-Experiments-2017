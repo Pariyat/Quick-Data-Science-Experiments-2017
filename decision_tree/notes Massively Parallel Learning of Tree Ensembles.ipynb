{
 "cells": [
  {
   "cell_type": "markdown",
   "metadata": {},
   "source": [
    "[src](http://www.vldb.org/pvldb/2/vldb09-537.pdf)"
   ]
  },
  {
   "cell_type": "markdown",
   "metadata": {},
   "source": [
    "* tree induction?\n",
    "* maximize $I(D) - (I(D_L) + I(D_R))$, information gain\n",
    "* PLANET splits on variance instead of metrics like Gini"
   ]
  },
  {
   "cell_type": "markdown",
   "metadata": {},
   "source": [
    "### FindBestSplit\n",
    "* maximizes $|D| * var(D) - (|D_L| * var(D_L) + |D_R| * var(D_R))$\n",
    "* there are 2 queues, MRQ and InMemoryQ, InMemoryQ just builds the tree\n",
    "    * MRQ processes splits with records more than memory\n",
    "* Master has the current model M, and grows it iteratively\n",
    "* 2 critical mapreduces that handle splitting nodes and growing subtrees"
   ]
  },
  {
   "cell_type": "markdown",
   "metadata": {},
   "source": [
    "### MR_ExpandNodes: Expanding a single node\n",
    "* given D(dataset), M(model) and N(set of nodes to grow)\n",
    "* every mapreduce scans the entire training dataset applying a Map to every training record\n",
    "* chooses $var(D)$ because the values can be aggregated $var(y) = (\\sum y)^2 - \\sum y^2$\n",
    "* reducer aggregates the split statistics and output how good, {n (node), X (attribute), s (split)} is "
   ]
  },
  {
   "cell_type": "markdown",
   "metadata": {},
   "source": []
  },
  {
   "cell_type": "markdown",
   "metadata": {},
   "source": []
  },
  {
   "cell_type": "markdown",
   "metadata": {},
   "source": []
  }
 ],
 "metadata": {
  "kernelspec": {
   "display_name": "Python 2",
   "language": "python",
   "name": "python2"
  },
  "language_info": {
   "codemirror_mode": {
    "name": "ipython",
    "version": 2
   },
   "file_extension": ".py",
   "mimetype": "text/x-python",
   "name": "python",
   "nbconvert_exporter": "python",
   "pygments_lexer": "ipython2",
   "version": "2.7.13"
  }
 },
 "nbformat": 4,
 "nbformat_minor": 2
}
