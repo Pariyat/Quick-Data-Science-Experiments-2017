{
 "cells": [
  {
   "cell_type": "code",
   "execution_count": 136,
   "metadata": {
    "collapsed": true
   },
   "outputs": [],
   "source": [
    "import numpy as np\n",
    "from sklearn.datasets import load_breast_cancer\n",
    "from scipy.stats import entropy\n",
    "import sys\n",
    "from sklearn.metrics import accuracy_score\n",
    "from sklearn.model_selection import train_test_split"
   ]
  },
  {
   "cell_type": "code",
   "execution_count": 138,
   "metadata": {
    "collapsed": false
   },
   "outputs": [],
   "source": [
    "data = load_breast_cancer()\n",
    "X = data['data']\n",
    "y = data['target']\n",
    "features = data['feature_names']\n",
    "X_train, X_test, y_train, y_test = train_test_split(X, y, test_size=0.33, random_state=42)"
   ]
  },
  {
   "cell_type": "code",
   "execution_count": 140,
   "metadata": {
    "collapsed": false
   },
   "outputs": [],
   "source": [
    "class Tree:\n",
    "    def __init__(self, parent, X, y, isRegression=False):\n",
    "        self.isRegression = isRegression\n",
    "        self.parent = parent\n",
    "        self.X = X\n",
    "        self.y = y\n",
    "        self.size = len(self.X)\n",
    "        self.prediction = np.mean(y) # the mean works for both classification & regression\n",
    "        self.fitness = self._getFitness()\n",
    "        self.leftChild, self.rightChild = None, None\n",
    "#         print self.__repr__()\n",
    "    \n",
    "    def __repr__(self):\n",
    "        return \"size: %d, prediction: %.2f, fitness: %.2f\" % (self.size, self.prediction, self.fitness)\n",
    "    \n",
    "    ''' called by the Tree fn to get its own fitness '''\n",
    "    def _getFitness(self, y=None):\n",
    "        if y is None:\n",
    "            y = self.y\n",
    "        if not self.isRegression:\n",
    "            pos = np.mean(y)\n",
    "            enpy = entropy([pos, 1 - pos]) # val between [0, 0.693), corresponding to H([0, 1]) & H([0.5, 0.5])\n",
    "            return enpy\n",
    "        else:\n",
    "            return np.var(y) # variance of y(s) in a split        \n",
    "\n",
    "    ''' figure out how good a potential split is '''\n",
    "    def _getSplitFitness(self, splitIndex, splitVal):\n",
    "        leftIndices, rightIndices = self.X[:,splitIndex] <= splitVal, self.X[:,splitIndex] > splitVal\n",
    "        leftVal = self._getFitness(self.y[leftIndices]) \n",
    "        rightVal = self._getFitness(self.y[rightIndices])\n",
    "        return leftVal + rightVal, leftIndices, rightIndices\n",
    "\n",
    "    def split(self): # given the X and y, find split\n",
    "        if self.fitness < 0.001 or self.size <= 20: # pseudo-recursion base case\n",
    "            return\n",
    "\n",
    "        potentialSplits = range(self.X.shape[1])\n",
    "        bestFitness = sys.maxint\n",
    "        bestSplitIndex, bestSplitVal, bestLeftIndices, bestRightIndices = None, None, None, None\n",
    "        for splitIndex in potentialSplits: # loop through all features\n",
    "            splitVals = np.unique(self.X[:,splitIndex])\n",
    "            for splitVal in splitVals: # loop through all vals for the feature\n",
    "                fitness, leftIndices, rightIndices = self._getSplitFitness(splitIndex, splitVal)\n",
    "                if np.sum(leftIndices) <= 5 or np.sum(rightIndices) <= 5: # min_size for leaf\n",
    "                    continue \n",
    "                if fitness < bestFitness: # small = good, for entropy or variance\n",
    "                    bestFitness, bestSplitIndex, bestSplitVal = fitness, splitIndex, splitVal\n",
    "                    bestLeftIndices, bestRightIndices = leftIndices, rightIndices\n",
    "        if bestFitness is None or bestFitness == sys.maxint: return\n",
    "        \n",
    "        self.splitFitness, self.splitIndex, self.splitVal = bestFitness, bestSplitIndex, bestSplitVal\n",
    "        \n",
    "        leftChild = Tree(self, self.X[bestLeftIndices], self.y[bestLeftIndices], self.isRegression)\n",
    "        rightChild = Tree(self, self.X[bestRightIndices], self.y[bestRightIndices], self.isRegression)\n",
    "        self.leftChild, self.rightChild = leftChild, rightChild\n",
    "        self.leftChild.split()\n",
    "        self.rightChild.split()\n",
    "    \n",
    "    def predict(self, x):\n",
    "        if self.leftChild is None and self.rightChild is None:\n",
    "            return self.prediction\n",
    "        if x[self.splitIndex] <= self.splitVal:\n",
    "            return self.leftChild.predict(x)\n",
    "        else:\n",
    "            return self.rightChild.predict(x)\n",
    "        \n",
    "\n",
    "class DecisionTree:\n",
    "    def __init__(self, isRegression=False):\n",
    "        self.isRegression = isRegression\n",
    "    \n",
    "    def fit(self, X, y):\n",
    "        tree = Tree(None, X, y, self.isRegression)\n",
    "        tree.split()\n",
    "        self.tree = tree\n",
    "        \n",
    "    def predict(self, X):\n",
    "        return np.array([self.tree.predict(X[i]) for i in range(X.shape[0])])"
   ]
  },
  {
   "cell_type": "code",
   "execution_count": 141,
   "metadata": {
    "collapsed": false
   },
   "outputs": [],
   "source": [
    "clf = DecisionTree()\n",
    "clf.fit(X_train, y_train)"
   ]
  },
  {
   "cell_type": "code",
   "execution_count": 142,
   "metadata": {
    "collapsed": false
   },
   "outputs": [
    {
     "name": "stdout",
     "output_type": "stream",
     "text": [
      "size: 381, prediction: 0.62, fitness: 0.66\n",
      "\n",
      "\n",
      "\n",
      "size: 279, prediction: 0.85, fitness: 0.43\n",
      "size: 102, prediction: 0.00, fitness: 0.00\n"
     ]
    }
   ],
   "source": [
    "# example of how these trees look like\n",
    "\n",
    "print clf.tree\n",
    "print \"\\n\\n\"\n",
    "print clf.tree.leftChild\n",
    "print clf.tree.rightChild"
   ]
  },
  {
   "cell_type": "code",
   "execution_count": 143,
   "metadata": {
    "collapsed": false
   },
   "outputs": [
    {
     "name": "stdout",
     "output_type": "stream",
     "text": [
      "train acc: 0.98\n",
      "test acc: 0.95\n"
     ]
    }
   ],
   "source": [
    "print \"train acc: %.2f\" % (accuracy_score(y_train, (clf.predict(X_train) > 0.5) * 1))\n",
    "print \"test acc: %.2f\" % (accuracy_score(y_test, (clf.predict(X_test) > 0.5) * 1))"
   ]
  },
  {
   "cell_type": "code",
   "execution_count": null,
   "metadata": {
    "collapsed": true
   },
   "outputs": [],
   "source": []
  }
 ],
 "metadata": {
  "kernelspec": {
   "display_name": "Python 2",
   "language": "python",
   "name": "python2"
  },
  "language_info": {
   "codemirror_mode": {
    "name": "ipython",
    "version": 2
   },
   "file_extension": ".py",
   "mimetype": "text/x-python",
   "name": "python",
   "nbconvert_exporter": "python",
   "pygments_lexer": "ipython2",
   "version": "2.7.12"
  }
 },
 "nbformat": 4,
 "nbformat_minor": 2
}
