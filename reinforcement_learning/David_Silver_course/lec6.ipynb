{
 "cells": [
  {
   "cell_type": "markdown",
   "metadata": {},
   "source": [
    "[src](http://www0.cs.ucl.ac.uk/staff/d.silver/web/Teaching_files/FA.pdf)"
   ]
  },
  {
   "cell_type": "markdown",
   "metadata": {},
   "source": [
    "### value fn approximation\n",
    "* so far, represented value fn with a lookup table\n",
    "    * every state s has an entry V(s)\n",
    "    * Q(s,a) - every state-action pair\n",
    "* too many to store in memory!!!\n",
    "* soln - do fn approxmation\n",
    "    * $v(s,w) = v_\\pi(s)$\n",
    "    * or $q(s, a, w) = q_\\pi (s,a)$\n",
    "* approximate via functions where $\\frac{dv}{dw}$ is differentiable"
   ]
  },
  {
   "cell_type": "markdown",
   "metadata": {},
   "source": [
    "### gradient descent\n",
    "* $J(w) = E_\\pi [(V_\\pi (S) - \\hat V(S, w))^2]$\n",
    "\n",
    "### incremental prediction algo\n",
    "* we previously assumed that $V(S)$ was given\n",
    "* we substitue for $V_\\pi(S)$\n",
    "    * mc - $G_t$\n",
    "    * TD(0) - $R_{t+1} + \\gamma \\hat{v}(S_{t+1}, w)$\n",
    "    * $TD(\\lambda)$ - $G_t^\\lambda$"
   ]
  },
  {
   "cell_type": "markdown",
   "metadata": {},
   "source": [
    "### Monte-Carlo with Value Fn Approx\n",
    "* return $G_t$ is unbiased\n",
    "* $<S1, G1>, <S2, G2>, ...$\n",
    "\n",
    "### TD($\\lambda$)\n",
    "* $\\delta_t = R_{t+1} + \\gamma \\hat{v}(S_{t+1},w) - \\hat{v}(S_t, w)$\n",
    "* $E_t = \\gamma \\lambda E_{t-1} + x(S_t)$\n",
    "    * $x(s_t)$ are features of S"
   ]
  },
  {
   "cell_type": "markdown",
   "metadata": {},
   "source": [
    "* gradient TD"
   ]
  },
  {
   "cell_type": "code",
   "execution_count": null,
   "metadata": {
    "collapsed": true
   },
   "outputs": [],
   "source": []
  }
 ],
 "metadata": {
  "kernelspec": {
   "display_name": "Python 2",
   "language": "python",
   "name": "python2"
  },
  "language_info": {
   "codemirror_mode": {
    "name": "ipython",
    "version": 2
   },
   "file_extension": ".py",
   "mimetype": "text/x-python",
   "name": "python",
   "nbconvert_exporter": "python",
   "pygments_lexer": "ipython2",
   "version": "2.7.13"
  }
 },
 "nbformat": 4,
 "nbformat_minor": 2
}
