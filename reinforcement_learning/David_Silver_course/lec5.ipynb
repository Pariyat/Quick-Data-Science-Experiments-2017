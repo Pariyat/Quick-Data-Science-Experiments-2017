{
 "cells": [
  {
   "cell_type": "markdown",
   "metadata": {},
   "source": [
    "[src](http://www0.cs.ucl.ac.uk/staff/d.silver/web/Teaching_files/control.pdf)"
   ]
  },
  {
   "cell_type": "markdown",
   "metadata": {},
   "source": [
    "### Model Free Control\n",
    "* On Policy MC Control\n",
    "* On Policy Temporal Difference Learning\n",
    "* Off Policy learning"
   ]
  },
  {
   "cell_type": "markdown",
   "metadata": {},
   "source": [
    "## On Policy MC \n",
    "* learning on the job\n",
    "* learn about policy $\\pi$ from experience sampled from $\\pi$\n",
    "* whereas off policy - \"look over someone's shoulder\" \n",
    "* generalized policy iteration = policy eval + policy improvement\n",
    "\n",
    "### $\\epsilon$ greedy exploration\n",
    "* $\\pi(a|s) = \\epsilon / m $ otherwise\n",
    "\n",
    "### $\\epsilon$ greedy policy improvement\n",
    "* $q_\\pi (s, \\pi'(s)) = \\sum_{a \\in A} \\pi'(a|s) q_\\pi (s,a)$\n",
    "* $= \\epsilon / m \\sum_a q_\\pi (s,a) + (1 - \\epsilon) max_a q_\\pi (s,a)$\n",
    "\n",
    "### MC Control\n",
    "* instead of exploring the full space, explore just the MC episode\n",
    "* "
   ]
  },
  {
   "cell_type": "markdown",
   "metadata": {},
   "source": []
  },
  {
   "cell_type": "markdown",
   "metadata": {},
   "source": []
  },
  {
   "cell_type": "markdown",
   "metadata": {},
   "source": []
  }
 ],
 "metadata": {
  "kernelspec": {
   "display_name": "Python 2",
   "language": "python",
   "name": "python2"
  },
  "language_info": {
   "codemirror_mode": {
    "name": "ipython",
    "version": 2
   },
   "file_extension": ".py",
   "mimetype": "text/x-python",
   "name": "python",
   "nbconvert_exporter": "python",
   "pygments_lexer": "ipython2",
   "version": "2.7.13"
  }
 },
 "nbformat": 4,
 "nbformat_minor": 2
}
