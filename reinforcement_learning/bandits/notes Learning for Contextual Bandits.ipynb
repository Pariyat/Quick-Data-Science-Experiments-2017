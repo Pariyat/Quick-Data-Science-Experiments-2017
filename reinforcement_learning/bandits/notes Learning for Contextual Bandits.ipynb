{
 "cells": [
  {
   "cell_type": "markdown",
   "metadata": {},
   "source": [
    "[src](http://hunch.net/~exploration_learning/main.pdf)"
   ]
  },
  {
   "cell_type": "markdown",
   "metadata": {},
   "source": [
    "### contextual bandit\n",
    "* for i in 1..T:\n",
    "    * world produces context $x_t \\in X$\n",
    "    * learner chooses action $a_t \\in K$\n",
    "    * world reacts with reward $r_t(a_t) \\in [0, 1]$\n",
    "* want to learn a policy for choosing good actions\n",
    "* if there are $\\Pi$ policies\n",
    "    * $regret = max_{\\pi \\in \\Pi} \\sum_t r_t(\\pi(x_t)) - \\sum_t r_t(a_t)$"
   ]
  },
  {
   "cell_type": "markdown",
   "metadata": {},
   "source": [
    "### CB vs Bandit\n",
    "* bandit tries to figure out from a set of constant actions\n",
    "* CB needs to learn a function that generalizes across x\n",
    "\n",
    "### not a supervised learning problem\n",
    "* don't know the rewards of action not taken\n",
    "* exploration is required"
   ]
  },
  {
   "cell_type": "markdown",
   "metadata": {},
   "source": [
    "# Online Stochastic\n",
    "### follow the leader\n",
    "* \n",
    "\n"
   ]
  },
  {
   "cell_type": "markdown",
   "metadata": {},
   "source": []
  },
  {
   "cell_type": "markdown",
   "metadata": {},
   "source": []
  }
 ],
 "metadata": {
  "kernelspec": {
   "display_name": "Python 2",
   "language": "python",
   "name": "python2"
  },
  "language_info": {
   "codemirror_mode": {
    "name": "ipython",
    "version": 2
   },
   "file_extension": ".py",
   "mimetype": "text/x-python",
   "name": "python",
   "nbconvert_exporter": "python",
   "pygments_lexer": "ipython2",
   "version": "2.7.13"
  }
 },
 "nbformat": 4,
 "nbformat_minor": 2
}
