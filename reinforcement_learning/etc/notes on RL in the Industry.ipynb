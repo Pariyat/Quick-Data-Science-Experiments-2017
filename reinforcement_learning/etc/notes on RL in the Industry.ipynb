{
 "cells": [
  {
   "cell_type": "markdown",
   "metadata": {},
   "source": [
    "[src](https://drive.google.com/file/d/0BzUSSMdMszk6bEprTUpCaHRrQ28/view)"
   ]
  },
  {
   "cell_type": "markdown",
   "metadata": {},
   "source": [
    "* two components in RL\n",
    "    * multi-step episodes\n",
    "    * reward evaluation and maximization\n",
    "* retargeting\n",
    "    * user lands on a web page\n",
    "    * website contacts ad exchange\n",
    "    * ad exchange contacts retargeter\n",
    "* finding a bidding strategy\n",
    "* naively builds a classifier\n",
    "    * doesn't always match real performance\n",
    "    * 2 implicit assumptions\n",
    "        * logloss is a good proxy for revenue\n",
    "        * input distribution is the same\n"
   ]
  },
  {
   "cell_type": "markdown",
   "metadata": {},
   "source": [
    "### RL\n",
    "* counterfactual question\n",
    "    * current distribution $p(a|s)$\n",
    "    * expected value of new distribution $q(a|s)$?\n",
    "    * $G(q) = \\int_s \\int_a p(s) q(a|s) r(a,s) da ds$\n",
    "    * $= \\int_s \\int_a p(s) \\frac{q(a|s)}{p(a|s)} p(a|s) r(a,s) dads$\n",
    "    * $= \\frac{1}{N} \\sum_i \\frac{q(a_i|s_i))}{p(a_i |s_i)} r_i$\n",
    "* essentially off-policy evaluation"
   ]
  },
  {
   "cell_type": "markdown",
   "metadata": {},
   "source": []
  },
  {
   "cell_type": "markdown",
   "metadata": {},
   "source": []
  },
  {
   "cell_type": "markdown",
   "metadata": {},
   "source": []
  },
  {
   "cell_type": "markdown",
   "metadata": {},
   "source": []
  },
  {
   "cell_type": "markdown",
   "metadata": {},
   "source": []
  }
 ],
 "metadata": {
  "kernelspec": {
   "display_name": "Python 2",
   "language": "python",
   "name": "python2"
  },
  "language_info": {
   "codemirror_mode": {
    "name": "ipython",
    "version": 2
   },
   "file_extension": ".py",
   "mimetype": "text/x-python",
   "name": "python",
   "nbconvert_exporter": "python",
   "pygments_lexer": "ipython2",
   "version": "2.7.13"
  }
 },
 "nbformat": 4,
 "nbformat_minor": 2
}
