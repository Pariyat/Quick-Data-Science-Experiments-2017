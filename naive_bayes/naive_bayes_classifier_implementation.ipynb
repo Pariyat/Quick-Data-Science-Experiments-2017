{
 "cells": [
  {
   "cell_type": "code",
   "execution_count": 1,
   "metadata": {
    "collapsed": false
   },
   "outputs": [
    {
     "name": "stderr",
     "output_type": "stream",
     "text": [
      "/Users/jason.xie/anaconda/lib/python2.7/site-packages/pandas/computation/__init__.py:19: UserWarning: The installed version of numexpr 2.4.4 is not supported in pandas and will be not be used\n",
      "\n",
      "  UserWarning)\n"
     ]
    }
   ],
   "source": [
    "from load_sms_dataset import *"
   ]
  },
  {
   "cell_type": "code",
   "execution_count": 4,
   "metadata": {
    "collapsed": true
   },
   "outputs": [],
   "source": [
    "X_train, X_test, y_train, y_test, vectorizer = load_spam_dataset(\"~/Downloads/smsspamcollection/SMSSpamCollection\")"
   ]
  },
  {
   "cell_type": "code",
   "execution_count": 82,
   "metadata": {
    "collapsed": true
   },
   "outputs": [],
   "source": [
    "class NaiveBayesClassifier:\n",
    "    '''\n",
    "        A binary classifier - P(y | x) = P(x | y) * P(y) / P(x)\n",
    "    '''\n",
    "   \n",
    "    def fit(self, X, y, vocab=None):\n",
    "        self.vocab = vocab\n",
    "        self.priors = np.array([1 - np.mean(y), np.mean(y)])\n",
    "        \n",
    "        self.likelihood = np.zeros((X.shape[1], 2)) # P(x | y)\n",
    "        for i in range(X.shape[1]): # go over every word\n",
    "            arr = X[:,i].todense()\n",
    "            for label in [0, 1]:\n",
    "                arr_l = arr[y == label]\n",
    "                self.likelihood[i, label] = np.mean(arr_l >= 1) # wow this is so efficient\n",
    "    \n",
    "    def predict(self, X):\n",
    "        print X[0]\n",
    "        print X[0].shape\n"
   ]
  },
  {
   "cell_type": "code",
   "execution_count": 81,
   "metadata": {
    "collapsed": false
   },
   "outputs": [
    {
     "name": "stdout",
     "output_type": "stream",
     "text": [
      "[[ 0.          0.01174168]\n",
      " [ 0.          0.03913894]\n",
      " [ 0.00031037  0.        ]\n",
      " [ 0.          0.00195695]\n",
      " [ 0.          0.00195695]\n",
      " [ 0.          0.00195695]\n",
      " [ 0.          0.00195695]\n",
      " [ 0.          0.00195695]\n",
      " [ 0.          0.        ]\n",
      " [ 0.          0.01369863]]\n"
     ]
    }
   ],
   "source": [
    "clf = NaiveBayesClassifier()\n",
    "clf.fit(X_train, y_train, vocab=vectorizer.vocabulary_inverted)"
   ]
  },
  {
   "cell_type": "code",
   "execution_count": null,
   "metadata": {
    "collapsed": true
   },
   "outputs": [],
   "source": []
  }
 ],
 "metadata": {
  "kernelspec": {
   "display_name": "Python 2",
   "language": "python",
   "name": "python2"
  },
  "language_info": {
   "codemirror_mode": {
    "name": "ipython",
    "version": 2
   },
   "file_extension": ".py",
   "mimetype": "text/x-python",
   "name": "python",
   "nbconvert_exporter": "python",
   "pygments_lexer": "ipython2",
   "version": "2.7.12"
  }
 },
 "nbformat": 4,
 "nbformat_minor": 2
}
