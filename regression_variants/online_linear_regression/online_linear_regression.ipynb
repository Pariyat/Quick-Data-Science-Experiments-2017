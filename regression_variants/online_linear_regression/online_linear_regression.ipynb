{
 "cells": [
  {
   "cell_type": "code",
   "execution_count": 6,
   "metadata": {
    "collapsed": false
   },
   "outputs": [],
   "source": [
    "%matplotlib inline\n",
    "import numpy as np\n",
    "import matplotlib.pyplot as plt"
   ]
  },
  {
   "cell_type": "code",
   "execution_count": 3,
   "metadata": {
    "collapsed": true
   },
   "outputs": [],
   "source": [
    "class OnlineCovariance:\n",
    "    def __init__(self):\n",
    "        self.N = 0.0\n",
    "        self.mean_x = 0.0\n",
    "        self.mean_y = 0.0\n",
    "        self.sum_of_squares = 0.0\n",
    "        self.cov = 0.0\n",
    "    \n",
    "    def process(self, X_N_plus_1, Y_N_plus_1):\n",
    "        self.mean_x = (self.N * self.mean_x + X_N_plus_1) / (self.N + 1)        \n",
    "        self.mean_y = (self.N * self.mean_y + Y_N_plus_1) / (self.N + 1)\n",
    "        self.N += 1\n",
    "        self.sum_of_squares += X_N_plus_1 * Y_N_plus_1\n",
    "        self.cov = self.sum_of_squares / self.N - self.mean_x * self.mean_y\n",
    "        return self.cov"
   ]
  },
  {
   "cell_type": "code",
   "execution_count": 5,
   "metadata": {
    "collapsed": true
   },
   "outputs": [],
   "source": [
    "class OnlineLR:\n",
    "    def __init__(self):\n",
    "        self.cov_x_y = OnlineCovariance()\n",
    "        self.var_x = OnlineCovariance()\n",
    "    \n",
    "    def process(self, x, y):\n",
    "        self.cov_x_y.process(x, y)\n",
    "        self.var_x.process(x, x)\n",
    "    \n",
    "    def getSlope(self):\n",
    "        return self.cov_x_y.cov / self.var_x.cov"
   ]
  },
  {
   "cell_type": "code",
   "execution_count": 7,
   "metadata": {
    "collapsed": false
   },
   "outputs": [
    {
     "data": {
      "text/plain": [
       "<matplotlib.collections.PathCollection at 0x1072b6f50>"
      ]
     },
     "execution_count": 7,
     "metadata": {},
     "output_type": "execute_result"
    },
    {
     "name": "stderr",
     "output_type": "stream",
     "text": [
      "/Users/jason.xie/anaconda/lib/python2.7/site-packages/matplotlib/collections.py:590: FutureWarning: elementwise comparison failed; returning scalar instead, but in the future will perform elementwise comparison\n",
      "  if self._edgecolors == str('face'):\n"
     ]
    },
    {
     "data": {
      "image/png": "[encoded data removed]",
      "text/plain": [
       "<matplotlib.figure.Figure at 0x1072532d0>"
      ]
     },
     "metadata": {},
     "output_type": "display_data"
    }
   ],
   "source": [
    "x = np.array([1,3,5,7,9,14])\n",
    "y = np.array([9,4,5,7,11,24])\n",
    "\n",
    "plt.scatter(x, y)"
   ]
  },
  {
   "cell_type": "code",
   "execution_count": 8,
   "metadata": {
    "collapsed": false
   },
   "outputs": [
    {
     "name": "stdout",
     "output_type": "stream",
     "text": [
      "1.3023255814\n"
     ]
    }
   ],
   "source": [
    "t = OnlineLR()\n",
    "\n",
    "for my_x, my_y in zip(x, y):\n",
    "    t.process(my_x, my_y)\n",
    "\n",
    "print t.getSlope()"
   ]
  },
  {
   "cell_type": "code",
   "execution_count": null,
   "metadata": {
    "collapsed": true
   },
   "outputs": [],
   "source": []
  }
 ],
 "metadata": {
  "kernelspec": {
   "display_name": "Python 2",
   "language": "python",
   "name": "python2"
  },
  "language_info": {
   "codemirror_mode": {
    "name": "ipython",
    "version": 2
   },
   "file_extension": ".py",
   "mimetype": "text/x-python",
   "name": "python",
   "nbconvert_exporter": "python",
   "pygments_lexer": "ipython2",
   "version": "2.7.12"
  }
 },
 "nbformat": 4,
 "nbformat_minor": 2
}
