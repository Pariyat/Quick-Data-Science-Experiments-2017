{
 "cells": [
  {
   "cell_type": "markdown",
   "metadata": {},
   "source": [
    "[blog](http://rebcabin.github.io/blog/2013/01/22/covariance-matrices/)"
   ]
  },
  {
   "cell_type": "code",
   "execution_count": 1,
   "metadata": {
    "collapsed": true
   },
   "outputs": [],
   "source": [
    "%matplotlib inline\n",
    "import numpy as np"
   ]
  },
  {
   "cell_type": "markdown",
   "metadata": {},
   "source": [
    "### Online Mean\n",
    "\n",
    "$\\bar{x}_{N + 1} = \\frac{N * \\bar{x}_N + x_{N + 1}}{N + 1}$\n",
    "\n",
    "### Online Variance\n",
    "\n",
    "Note that:\n",
    "\n",
    "$S^2_N = \\frac{1}{N} (\\vec{x} - \\bar{x} \\vec{1})^T (\\vec{x} - \\bar{x} \\vec{1})$\n",
    "\n",
    "$ = \\vec{x}^T \\vec{x} / N - \\bar{x}^2_N$ \n",
    "\n",
    "Therefore, the online formula: \n",
    "\n",
    "$S^2_{N+1} = \\frac{\\vec{x}^T \\vec{x} + x^2_{N+1}}{N + 1} - \\bar{x}^2_{N + 1} $\n"
   ]
  },
  {
   "cell_type": "code",
   "execution_count": 38,
   "metadata": {
    "collapsed": true
   },
   "outputs": [],
   "source": [
    "class OnlineVariance:\n",
    "    def __init__(self):\n",
    "        self.N = 0.0\n",
    "        self.mean = 0.0\n",
    "        self.sum_of_squares = 0.0\n",
    "        self.var = 0.0\n",
    "    \n",
    "    def process(self, X_N_plus_1):\n",
    "        self.mean = (self.N * self.mean + X_N_plus_1) / (self.N + 1)\n",
    "        self.N += 1\n",
    "        self.sum_of_squares += X_N_plus_1 * X_N_plus_1\n",
    "        self.var = self.sum_of_squares / self.N - self.mean * self.mean\n",
    "        return self.mean, self.var\n"
   ]
  },
  {
   "cell_type": "code",
   "execution_count": 39,
   "metadata": {
    "collapsed": false
   },
   "outputs": [
    {
     "data": {
      "text/plain": [
       "(1.75, 0.1875)"
      ]
     },
     "execution_count": 39,
     "metadata": {},
     "output_type": "execute_result"
    }
   ],
   "source": [
    "t = OnlineVariance()\n",
    "t.process(1)\n",
    "t.process(2)\n",
    "t.process(2)\n",
    "t.process(2)"
   ]
  },
  {
   "cell_type": "code",
   "execution_count": 40,
   "metadata": {
    "collapsed": false
   },
   "outputs": [
    {
     "name": "stdout",
     "output_type": "stream",
     "text": [
      "True\n",
      "True\n"
     ]
    }
   ],
   "source": [
    "num_lists = np.array([1,3,5,7,9, 14])\n",
    "desired_mean = np.mean(num_lists)\n",
    "desired_variance = np.var(num_lists)\n",
    "\n",
    "t = OnlineVariance()\n",
    "for i in num_lists:\n",
    "    mu, var = t.process(i)\n",
    "\n",
    "print np.isclose(mu, desired_mean)\n",
    "print np.isclose(var, desired_variance)"
   ]
  },
  {
   "cell_type": "code",
   "execution_count": null,
   "metadata": {
    "collapsed": true
   },
   "outputs": [],
   "source": []
  },
  {
   "cell_type": "markdown",
   "metadata": {},
   "source": [
    "### Online Covariance\n",
    "\n",
    "$\\sigma_{x,y}^N = \\frac{1}{N} \\vec{x}^T \\vec{y} - \\bar{x}_N \\bar{y}_N$ \n",
    "\n",
    "$\\sigma_{x,y}^{N+1} = \\frac{1}{N + 1} (\\vec{x}^T \\vec{y} + x_{N+1} y_{N+1}) - \\bar{x}_{N+1} \\bar{y}_{N+1}$"
   ]
  },
  {
   "cell_type": "code",
   "execution_count": 68,
   "metadata": {
    "collapsed": true
   },
   "outputs": [],
   "source": [
    "class OnlineCovariance:\n",
    "    def __init__(self):\n",
    "        self.N = 0.0\n",
    "        self.mean_x = 0.0\n",
    "        self.mean_y = 0.0\n",
    "        self.sum_of_squares = 0.0\n",
    "        self.cov = 0.0\n",
    "    \n",
    "    def process(self, X_N_plus_1, Y_N_plus_1):\n",
    "        self.mean_x = (self.N * self.mean_x + X_N_plus_1) / (self.N + 1)        \n",
    "        self.mean_y = (self.N * self.mean_y + Y_N_plus_1) / (self.N + 1)\n",
    "        self.N += 1\n",
    "        self.sum_of_squares += X_N_plus_1 * Y_N_plus_1\n",
    "        self.cov = self.sum_of_squares / self.N - self.mean_x * self.mean_y\n",
    "        return self.cov"
   ]
  },
  {
   "cell_type": "code",
   "execution_count": 70,
   "metadata": {
    "collapsed": false
   },
   "outputs": [
    {
     "name": "stdout",
     "output_type": "stream",
     "text": [
      "True 23.3333333333 23.3333333333\n"
     ]
    }
   ],
   "source": [
    "x = np.array([1,3,5,7,9,14])\n",
    "y = np.array([9,4,5,7,11,24])\n",
    "\n",
    "desired_cov = np.dot(x - np.mean(x), y - np.mean(y)) / x.shape[0]\n",
    "\n",
    "t = OnlineCovariance()\n",
    "for my_x, my_y in zip(x, y):\n",
    "    cov = t.process(my_x, my_y)\n",
    "\n",
    "print np.isclose(cov, desired_cov), cov, desired_cov"
   ]
  },
  {
   "cell_type": "code",
   "execution_count": null,
   "metadata": {
    "collapsed": true
   },
   "outputs": [],
   "source": []
  }
 ],
 "metadata": {
  "kernelspec": {
   "display_name": "Python 2",
   "language": "python",
   "name": "python2"
  },
  "language_info": {
   "codemirror_mode": {
    "name": "ipython",
    "version": 2
   },
   "file_extension": ".py",
   "mimetype": "text/x-python",
   "name": "python",
   "nbconvert_exporter": "python",
   "pygments_lexer": "ipython2",
   "version": "2.7.12"
  }
 },
 "nbformat": 4,
 "nbformat_minor": 2
}
