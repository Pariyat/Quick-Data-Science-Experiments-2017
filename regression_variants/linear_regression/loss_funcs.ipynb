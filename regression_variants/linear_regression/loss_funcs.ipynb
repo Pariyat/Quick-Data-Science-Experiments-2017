{
 "cells": [
  {
   "cell_type": "markdown",
   "metadata": {},
   "source": [
    "[src](https://tech.yandex.com/catboost/doc/dg/concepts/loss-functions-docpage/)"
   ]
  },
  {
   "cell_type": "markdown",
   "metadata": {},
   "source": [
    "### MAE \n",
    "* $\\frac{1}{N} \\sum_i |a_i - t_i |$\n",
    "\n",
    "### MAPercentageE\n",
    "* $\\frac{1}{N} \\sum_i |1 - \\frac{a_i}{t_i} |$\n",
    "\n",
    "### Poisson\n",
    "* $\\frac{1}{N} \\sum_i e^{a_i} - a_i t_i$\n",
    "* note for poisson: $\\lambda = e^{a_i}$\n",
    "* the loss derives from maximum likelihood of the poisson fn\n",
    "* $L(\\theta | X, Y) = \\prod_i \\frac{e^{}}{y_i !} = \\prod_i \\frac{e^{y_i a_i e^{-e^{a_i}}}}{y_i !}$\n",
    "* note $e^{a_i}$ is the mean of the poisson\n",
    "\n",
    "### Quantile loss\n",
    "* $\\rho_\\tau (X - m) = (X - m)(\\tau - 1_{(X-m)<0}) $\n",
    "* $\\tau$ is the quantile"
   ]
  },
  {
   "cell_type": "markdown",
   "metadata": {},
   "source": []
  },
  {
   "cell_type": "markdown",
   "metadata": {},
   "source": []
  },
  {
   "cell_type": "markdown",
   "metadata": {},
   "source": []
  }
 ],
 "metadata": {
  "kernelspec": {
   "display_name": "Python 2",
   "language": "python",
   "name": "python2"
  },
  "language_info": {
   "codemirror_mode": {
    "name": "ipython",
    "version": 2
   },
   "file_extension": ".py",
   "mimetype": "text/x-python",
   "name": "python",
   "nbconvert_exporter": "python",
   "pygments_lexer": "ipython2",
   "version": "2.7.13"
  }
 },
 "nbformat": 4,
 "nbformat_minor": 2
}
