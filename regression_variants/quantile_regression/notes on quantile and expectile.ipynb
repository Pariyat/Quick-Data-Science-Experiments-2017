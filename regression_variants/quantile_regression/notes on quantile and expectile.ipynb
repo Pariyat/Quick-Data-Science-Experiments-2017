{
 "cells": [
  {
   "cell_type": "markdown",
   "metadata": {},
   "source": [
    "[src](https://www.slideshare.net/charthur/quantile-and-expectile-regression)"
   ]
  },
  {
   "cell_type": "markdown",
   "metadata": {},
   "source": [
    "* median loss $\\sum_i \\frac{1}{2} | y_i - \\theta_i | $\n",
    "* quantile loss $\\sum_i r^Q_\\alpha (y_i - \\theta_i)$\n",
    "    * $r^Q_\\alpha (u) = |u| * |\\alpha - 1(u<0)|$\n",
    "    * if u = 0.5, $r = 0.5 * \\alpha$ - penalize by \\alpha if under\n",
    "    * if u = -0.5, $r = 0.5 * (1 - \\alpha)$ - penalize by 1 - \\alpha if over"
   ]
  },
  {
   "cell_type": "code",
   "execution_count": 9,
   "metadata": {},
   "outputs": [
    {
     "data": {
      "text/plain": [
       "[<matplotlib.lines.Line2D at 0x10f98a550>]"
      ]
     },
     "execution_count": 9,
     "metadata": {},
     "output_type": "execute_result"
    },
    {
     "data": {
      "image/png": "[encoded data removed]",
      "text/plain": [
       "<matplotlib.figure.Figure at 0x10f891450>"
      ]
     },
     "metadata": {},
     "output_type": "display_data"
    }
   ],
   "source": [
    "import numpy as np\n",
    "import matplotlib.pylab as plt\n",
    "%matplotlib inline\n",
    "\n",
    "alpha = 0.4\n",
    "theta = np.arange(0.0, 1.0, 0.01)\n",
    "loss = alpha * (1 - theta) + (1 - alpha) * theta\n",
    "\n",
    "plt.plot(theta, loss)"
   ]
  },
  {
   "cell_type": "code",
   "execution_count": null,
   "metadata": {
    "collapsed": true
   },
   "outputs": [],
   "source": [
    "import statsmodels.api as sm\n",
    "import statsmodels.formula.api as smf\n",
    "from statsmodels.regression.quantile_regression import QuantReg\n",
    "\n",
    "# X = np.arra\n",
    "\n",
    "# mod = QuantReg(y, X)\n",
    "# res = mod.fit(q=0.3)\n",
    "# print(res.summary())"
   ]
  },
  {
   "cell_type": "markdown",
   "metadata": {},
   "source": []
  }
 ],
 "metadata": {
  "kernelspec": {
   "display_name": "Python 2",
   "language": "python",
   "name": "python2"
  },
  "language_info": {
   "codemirror_mode": {
    "name": "ipython",
    "version": 2
   },
   "file_extension": ".py",
   "mimetype": "text/x-python",
   "name": "python",
   "nbconvert_exporter": "python",
   "pygments_lexer": "ipython2",
   "version": "2.7.13"
  }
 },
 "nbformat": 4,
 "nbformat_minor": 2
}
