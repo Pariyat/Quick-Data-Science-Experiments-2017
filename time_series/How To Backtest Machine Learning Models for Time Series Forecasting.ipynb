{
 "cells": [
  {
   "cell_type": "markdown",
   "metadata": {},
   "source": [
    "[src](http://machinelearningmastery.com/backtest-machine-learning-models-time-series-forecasting/)"
   ]
  },
  {
   "cell_type": "markdown",
   "metadata": {},
   "source": [
    "* can't use k-fold or CV because samples are not iid \n",
    "* backtesting: evaluation of models on historical data i"
   ]
  },
  {
   "cell_type": "markdown",
   "metadata": {},
   "source": [
    "### train-test split\n",
    "* split with respect to time e.g. 90-10 ordered split\n",
    "* checkout [scikit learn time series split](http://scikit-learn.org/stable/modules/generated/sklearn.model_selection.TimeSeriesSplit.html)\n",
    "\n",
    "### multiple train-test split\n",
    "* just repeat above many times with different splits...\n",
    "\n",
    "### Walk Forward Validation\n",
    "* give model opportunity to make prediction at every time step\n",
    "* need to determine:\n",
    "    * minimum number of obs\n",
    "    * sliding or expanding window (all the data or just most recent)"
   ]
  },
  {
   "cell_type": "code",
   "execution_count": null,
   "metadata": {
    "collapsed": true
   },
   "outputs": [],
   "source": []
  }
 ],
 "metadata": {
  "kernelspec": {
   "display_name": "Python 2",
   "language": "python",
   "name": "python2"
  },
  "language_info": {
   "codemirror_mode": {
    "name": "ipython",
    "version": 2
   },
   "file_extension": ".py",
   "mimetype": "text/x-python",
   "name": "python",
   "nbconvert_exporter": "python",
   "pygments_lexer": "ipython2",
   "version": "2.7.12"
  }
 },
 "nbformat": 4,
 "nbformat_minor": 2
}
