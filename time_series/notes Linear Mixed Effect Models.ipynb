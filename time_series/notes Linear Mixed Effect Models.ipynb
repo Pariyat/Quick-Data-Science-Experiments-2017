{
 "cells": [
  {
   "cell_type": "markdown",
   "metadata": {},
   "source": [
    "* w271 lec 13, basically [this](http://www.bodowinter.com/tutorial/bw_LME_tutorial2.pdf)\n",
    "* [src](http://ase.tufts.edu/gsc/gradresources/guidetomixedmodelsinr/mixed%20model%20guide.html)"
   ]
  },
  {
   "cell_type": "markdown",
   "metadata": {},
   "source": [
    "### different terminology from FE / RE\n",
    "* e.g. $pitch_i \\sim age_i + \\epsilon_i$\n",
    "* $age_i$ is called fixed effect, in the sense that this is something all people with the age shares\n",
    "* we add one or more random effect, which gives structure to the random term\n",
    "* an individual specific term is called the random effect\n",
    "* $pitch \\sim politness + sex + (1|subject) + (1|item) + \\epsilon$\n",
    "    * note: now we don't need to think about averaging...etc. this model with the dummies just takes care of it\n"
   ]
  },
  {
   "cell_type": "markdown",
   "metadata": {},
   "source": [
    "### LMER\n",
    "* summary of the model gives different discriptons\n",
    "* output of random effect\n",
    "    * cols: groups, var, std\n",
    "    * the variance gives us an understanding of how much variance our dummies are capturing\n",
    "* run coef to get the random effect intercepts"
   ]
  },
  {
   "cell_type": "markdown",
   "metadata": {},
   "source": [
    "### p-vals\n",
    "* no concensus, focusing on the likelihood ratio test to obtain p-vals\n",
    "* make 2 models, then run anova\n",
    "* gives a p-val on how different the models are"
   ]
  },
  {
   "cell_type": "markdown",
   "metadata": {},
   "source": [
    "### random slope\n",
    "* $freq \\sim attitude + gender + (1+attitude|subject) + (1+attitude|item) + \\epsilon$\n",
    "    * you tell the model to expect differing baseline-levels of frequency (the 1) as well as differing responses to the main factor in question\n",
    "* \n",
    "\n"
   ]
  },
  {
   "cell_type": "markdown",
   "metadata": {},
   "source": [
    "### random versus fixed effects\n",
    "* a random effect is generally something that can be expected to have a nonsystematic, idiosyncratic, unpredictable, or “random” influence on your data\n",
    "* fixed effects on the other hand are expected to have a systematic and predictable influence on your data\n",
    "* **fixed effects “exhaust the population of interest”**\n",
    "    * gender exhausts the population, because we included all the ones\n",
    "    * subject on the other hand didn't, because we just got a few subjects out of billions"
   ]
  },
  {
   "cell_type": "markdown",
   "metadata": {},
   "source": [
    "### w271 theory lec\n",
    "* $y_i = X_i B + Z_i b_i $, where B is for fixed effect, and $b_i$ is for each random effect\n",
    "* $b_i \\sim N(0, D)$ and $\\epsilon_i \\sim N(0, R)$\n",
    "* \n"
   ]
  },
  {
   "cell_type": "markdown",
   "metadata": {},
   "source": []
  }
 ],
 "metadata": {
  "kernelspec": {
   "display_name": "Python 2",
   "language": "python",
   "name": "python2"
  },
  "language_info": {
   "codemirror_mode": {
    "name": "ipython",
    "version": 2
   },
   "file_extension": ".py",
   "mimetype": "text/x-python",
   "name": "python",
   "nbconvert_exporter": "python",
   "pygments_lexer": "ipython2",
   "version": "2.7.12"
  }
 },
 "nbformat": 4,
 "nbformat_minor": 2
}
