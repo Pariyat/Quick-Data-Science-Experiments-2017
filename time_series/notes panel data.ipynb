{
 "cells": [
  {
   "cell_type": "markdown",
   "metadata": {},
   "source": [
    "from Intro to Econometrics, Wooldridge\n",
    "\n",
    "### 13.3 Two-Period Panel Data Analysis\n",
    "* **fixed effects** model - $y_{it} = \\beta_0 + \\delta_0d2_t + \\beta_1 x_{it} + \\alpha_i + u_{it} $\n",
    "* $\\alpha_i$ captures unobserved, time-constant factors that affect $y_{it}$\n",
    "* $u_{it}$ is called time-varying error\n",
    "* dis adv of **pooled** (there's no $\\beta_t$, only $\\beta$)\n",
    "    * to produce a consistent estimator, need to assume that $\\alpha_i$ is uncorrelated with $x_{it}$\n",
    "        * can see this by rewriting $y_{it} = \\beta_0 + \\delta_0 d2_t + \\beta_1 x_{it} + v_{it}$\n",
    "        * OLS must assume that $v_{it}$ is uncorrelated with $x_{it}$\n",
    "        * THEREFORE, pooled OLS doesn't solve omitted variable bias\n",
    "* if we want $\\alpha_i$ to be uncorrelated with $x_{it}$, we can **first-diff** it\n",
    "    * $y_{i2} - y_{i1} = \\delta_0 + \\beta_1 (x_{i2} - x_{i1}) + (u_{i2} - u_{i1})$\n",
    "    * requires $\\Delta x_i$ to have some variation across i\n",
    "    * now, as long as OLS assumptions hold, we can interpret coefficient SE\n"
   ]
  },
  {
   "cell_type": "markdown",
   "metadata": {},
   "source": [
    "### 14.1 Fixed effects estimation\n",
    "* $y_{it} = B_1 x_{it} + a_i + u_{it}$\n",
    "* $\\bar{y_i} = B_1 \\bar{x_i} + a_i + \\bar{u_i}$, $a_i$ is fixed over time\n",
    "* subtract the above eqns: $\\ddot{y_it} = B_1 \\ddot{x_{it}} + \\ddot{u_it}$ (time demeaned)\n",
    "* the residuals can be solved via pooled OLS\n",
    "* FE estimator should be unbiased, because $x_{it}$ should be uncorrelated with $u_{it}$\n",
    "    * any explanatory variable that is constant over time gets sweeped away with the fixed transformation\n",
    "* **can't use variables that are fixed across time e.g. gender** because then $\\ddot{x_{it}}$  is 0\n",
    "\n",
    "#### FE vs First Diff\n",
    "* when T = 2, both are equal\n",
    "* **read woodbridge for differences on pg 491**"
   ]
  },
  {
   "cell_type": "markdown",
   "metadata": {},
   "source": [
    "### 14.2 Random effects models\n",
    "* start with old unobserved effect model: $y_{it} = \\beta_0 + \\beta_1 x_{it} + a_i + u_{it}$\n",
    "* however, if we think that $a_i$ is uncorrelated with $x_{it}$  ($cov(x_{it}, a_i) = 0$), we should use RE\n",
    "* if this is the case, then $B_j$ can be consistently estimated in a single cross section (no need for panel data)\n",
    "    * however disregards all the data in other panels\n",
    "* running pooled OLS will result in a [consistent](http://astro.temple.edu/~buck/notes/estimators/estimators.HTM) estimator under the RE assumptions\n",
    "    * however there are serial correlation define $v_{it} = a_i + u_{it}$\n",
    "    * $y_{it} = B_0 + B_1 x_{it} + v_{it}$\n",
    "    * $cov(v_{it}, v_{is}) = \\frac{\\sigma_a^2}{\\sigma_a^2 + \\sigma_u^2}$\n",
    "* we then use a transofrmation (quasi-demeaned) to eliminate serial correlation\n",
    "    * $\\lambda = 1 - [\\sigma_u^2 / (\\sigma_u^2 + T \\sigma_a^2)]^{\\frac{1}{2}}$, a val between 0 and 1\n",
    "    * $y_{it} - \\lambda \\bar{y_i} = B_0 (1 - \\lambda) + B_1 (x_{it} - \\lambda \\bar{x_i}) + (v_{it} - \\lambda \\bar{v_i})$\n",
    "* allow variables that are constant over time\n",
    "    * because with the RE assumption, the variables are not correlated w/ unobserved effect\n",
    "* note: $v_{it} - \\lambda \\bar{v_i} = (1 - \\lambda) a_i + u_{it} - \\lambda \\bar{u_i}$\n",
    "    * as $\\lambda -> 1$, RE estimator tends to FE estimator\n",
    "    \n",
    "#### FE vs RE\n",
    "* FE allows arbitrart correlation between $a_i$ and $x_{it}$\n",
    "* RE allows variable constant over time\n",
    "* see a **summary of assumptions** on pg507"
   ]
  },
  {
   "cell_type": "code",
   "execution_count": null,
   "metadata": {
    "collapsed": true
   },
   "outputs": [],
   "source": []
  }
 ],
 "metadata": {
  "kernelspec": {
   "display_name": "Python 2",
   "language": "python",
   "name": "python2"
  },
  "language_info": {
   "codemirror_mode": {
    "name": "ipython",
    "version": 2
   },
   "file_extension": ".py",
   "mimetype": "text/x-python",
   "name": "python",
   "nbconvert_exporter": "python",
   "pygments_lexer": "ipython2",
   "version": "2.7.12"
  }
 },
 "nbformat": 4,
 "nbformat_minor": 0
}
