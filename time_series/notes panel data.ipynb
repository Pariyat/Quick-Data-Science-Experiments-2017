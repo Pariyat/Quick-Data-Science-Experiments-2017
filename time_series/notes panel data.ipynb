{
 "cells": [
  {
   "cell_type": "markdown",
   "metadata": {},
   "source": [
    "from Intro to Econometrics, Wooldridge\n",
    "\n",
    "### 13.3 Two-Period Panel Data Analysis\n",
    "* **fixed effects** model - $y_{it} = \\beta_0 + \\delta_0d2_t + \\beta_1 x_{it} + \\alpha_i + u_{it} $\n",
    "* $\\alpha_i$ captures unobserved, time-constant factors that affect $y_{it}$\n",
    "* $u_{it}$ is called time-varying error\n",
    "* dis adv of **pooled** (there's no $\\beta_t$, only $\\beta$)\n",
    "    * to produce a consistent estimator, need to assume that $\\alpha_i$ is uncorrelated with $x_{it}$\n",
    "        * can see this by rewriting $y_{it} = \\beta_0 + \\delta_0 d2_t + \\beta_1 x_{it} + v_{it}$\n",
    "        * OLS must assume that $v_{it}$ is uncorrelated with $x_{it}$\n",
    "        * THEREFORE, pooled OLS doesn't solve omitted variable bias\n",
    "* if we want $\\alpha_i$ to be uncorrelated with $x_{it}$, we can **first-diff** it\n",
    "    * $y_{i2} - y_{i1} = \\delta_0 + \\beta_1 (x_{i2} - x_{i1}) + (u_{i2} - u_{i1})$\n",
    "    * requires $\\Delta x_i$ to have some variation across i\n",
    "    * now, as long as OLS assumptions hold, we can interpret coefficient SE\n"
   ]
  },
  {
   "cell_type": "markdown",
   "metadata": {},
   "source": []
  },
  {
   "cell_type": "markdown",
   "metadata": {},
   "source": []
  },
  {
   "cell_type": "markdown",
   "metadata": {},
   "source": []
  },
  {
   "cell_type": "markdown",
   "metadata": {},
   "source": []
  },
  {
   "cell_type": "markdown",
   "metadata": {},
   "source": []
  },
  {
   "cell_type": "markdown",
   "metadata": {},
   "source": []
  }
 ],
 "metadata": {
  "kernelspec": {
   "display_name": "Python 2",
   "language": "python",
   "name": "python2"
  },
  "language_info": {
   "codemirror_mode": {
    "name": "ipython",
    "version": 2
   },
   "file_extension": ".py",
   "mimetype": "text/x-python",
   "name": "python",
   "nbconvert_exporter": "python",
   "pygments_lexer": "ipython2",
   "version": "2.7.5"
  }
 },
 "nbformat": 4,
 "nbformat_minor": 0
}
