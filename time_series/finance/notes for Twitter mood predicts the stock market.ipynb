{
 "cells": [
  {
   "cell_type": "markdown",
   "metadata": {},
   "source": [
    "[src](https://arxiv.org/pdf/1010.3003.pdf)"
   ]
  },
  {
   "cell_type": "markdown",
   "metadata": {},
   "source": [
    "### abstract\n",
    "* investigates public mood vs stock market\n",
    "* uses twitter sentiment to predict daily ups and downs"
   ]
  },
  {
   "cell_type": "markdown",
   "metadata": {},
   "source": [
    "### Introduction\n",
    "* traditional research based on Random Walk + Efficient Market Hypothesis (says that can't be right more than 50%)\n",
    "* problems with EMH:\n",
    "    * 1. stock market prices do not follow a random walk and can be predicted to some degrees\n",
    "    * 2. news may be unpredictable, but content can be extracted to be good indicators"
   ]
  },
  {
   "cell_type": "markdown",
   "metadata": {},
   "source": [
    "### data\n",
    "* To quantitatively determine the relations between GPOMS’s mood dimensions and the OF mood trends, we test the correlation between the trend obtained from OpinionFinder\n",
    "    * OF ~ GPOM_happy + GPOM_sure + GPOM_kind...etc., 0.68 adj R2\n",
    "\n",
    "### Bivariate Granger Causality Analysis of Mood vs. DJIA prices\n",
    "* Granger causality analysis rests on the assumption that if a variable X causes Y then changes in X will systematically occur before changes in Y\n",
    "* We will thus find that the lagged values of X will exhibit a statistically significant correlation with Y . Correlation however does not prove causation\n",
    "* L1: $D_t = \\alpha + \\sum_1^n \\beta_i D_{t-i} + \\epsilon_t$\n",
    "* L2: $D_t = \\alpha + \\sum_1^n \\beta_i D_{t-i} + \\sum_i^n \\gamma_i X_{t-i} + \\epsilon_t$, where $D_t$ is the daily change and $X_t$ is the GPOM vars\n",
    "* results of the causality test is that some vars are significant\n",
    "    * can reject the null hypothesis that the mood time series do not predict DJIA values\n",
    "* **note**: this test is linear!"
   ]
  },
  {
   "cell_type": "markdown",
   "metadata": {},
   "source": [
    "### SOFNN \n",
    "* since granger causality is linear, use a SOFNN to model the lienar relationship. \n",
    "* if the performance is good, then suggest that DJIA can be predicted via historical sentiments\n",
    "* uses historical DJIA and GPOM values to predict stock prices\n",
    "* can predict direction of movement with up to 86% acc"
   ]
  },
  {
   "cell_type": "markdown",
   "metadata": {},
   "source": []
  }
 ],
 "metadata": {
  "kernelspec": {
   "display_name": "Python 2",
   "language": "python",
   "name": "python2"
  },
  "language_info": {
   "codemirror_mode": {
    "name": "ipython",
    "version": 2
   },
   "file_extension": ".py",
   "mimetype": "text/x-python",
   "name": "python",
   "nbconvert_exporter": "python",
   "pygments_lexer": "ipython2",
   "version": "2.7.12"
  }
 },
 "nbformat": 4,
 "nbformat_minor": 2
}
