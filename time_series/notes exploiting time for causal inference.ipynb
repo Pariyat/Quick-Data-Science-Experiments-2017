{
 "cells": [
  {
   "cell_type": "markdown",
   "metadata": {},
   "source": [
    "[src](https://dsaber.com/2017/04/02/time-keeps-on-slipping-exploiting-time-for-causal-inference-with-difference-in-differences-and-panel-methods/)"
   ]
  },
  {
   "cell_type": "markdown",
   "metadata": {},
   "source": [
    "* incorporate  difference-in-differences regression and panel data techniques\n",
    "* can interpret causally even when you can’t randomly assign your subjects into treatment and control groups\n",
    "\n",
    "### incorporating improvement experiment\n",
    "* can simply do $S_{pre} - S_{post}$ to see improvement\n",
    "* however, won't know if something happened in the time period that caused the difference (e.g. new season)\n",
    "* so, have a control group that doesn't incorporate the change, to interpret the effects\n",
    "* we can just subtract the changes, between control and experiemnt groups, called **difference in differences**\n"
   ]
  },
  {
   "cell_type": "markdown",
   "metadata": {},
   "source": [
    "### Difference in Differences\n",
    "* $S_{control diff} - S_{exp diff}$\n",
    "* analysis is called \"parallel trend\"\n",
    "* scroll to see their difference in differences graph =)\n",
    "* regression: *lm(score ~ dummy_post_launch + dummy_had_exp + dummy_post_launch:dummy_had_exp)*\n",
    "    * will have 4 coefs: intercept, dummy_post_launch, dummy_had_exp, intersection\n",
    "* con: can't interpret SE, because we don't know how series it is"
   ]
  },
  {
   "cell_type": "markdown",
   "metadata": {},
   "source": []
  },
  {
   "cell_type": "markdown",
   "metadata": {},
   "source": []
  },
  {
   "cell_type": "markdown",
   "metadata": {},
   "source": []
  },
  {
   "cell_type": "markdown",
   "metadata": {},
   "source": []
  },
  {
   "cell_type": "markdown",
   "metadata": {},
   "source": []
  },
  {
   "cell_type": "markdown",
   "metadata": {},
   "source": []
  }
 ],
 "metadata": {
  "kernelspec": {
   "display_name": "Python 2",
   "language": "python",
   "name": "python2"
  },
  "language_info": {
   "codemirror_mode": {
    "name": "ipython",
    "version": 2
   },
   "file_extension": ".py",
   "mimetype": "text/x-python",
   "name": "python",
   "nbconvert_exporter": "python",
   "pygments_lexer": "ipython2",
   "version": "2.7.12"
  }
 },
 "nbformat": 4,
 "nbformat_minor": 2
}
