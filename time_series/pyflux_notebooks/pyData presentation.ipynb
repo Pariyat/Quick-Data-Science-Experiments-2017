{
 "cells": [
  {
   "cell_type": "markdown",
   "metadata": {},
   "source": [
    "[slides](https://github.com/RJT1990/PyData2016-SanFrancisco/blob/master/presentation_final.pdf)"
   ]
  },
  {
   "cell_type": "markdown",
   "metadata": {},
   "source": [
    "## Introduction\n",
    "\n",
    "why is TS different: \n",
    "* sequential observations \n",
    "* latent dependency structure (trends, seasonality, cycles)\n",
    "* dynamic behavior - regime shifts (abrupt) or local levels (gradual)\n",
    "\n",
    "Box's loop:\n",
    "* inference (Maximum likelihood, MCMC, Variational Inference)"
   ]
  },
  {
   "cell_type": "markdown",
   "metadata": {},
   "source": [
    "## Box-Jenkins TS\n",
    "\n",
    "#### ARIMA\n",
    "* $y_t = \\sum_i^p \\phi_i y_{t-i} + \\sum_j^q \\theta_j \\epsilon_{t-j} + \\epsilon_t$ (example of ARMA model)\n",
    "* linear and gaussian \n",
    "* autocorrelation via AR and MA terms\n",
    "* lag order chosen via CV or information criteria\n",
    "\n",
    "#### ARIMA inference\n",
    "* ML is usually sufficient\n",
    "\n",
    "#### Cons:\n",
    "* ARIMA and VAR can go a long way, but ... \n",
    "* no decomposition of latent processes driving the data\n",
    "* many problems are non-gaussian\n",
    "* many problems are non-linear"
   ]
  },
  {
   "cell_type": "markdown",
   "metadata": {},
   "source": [
    "## Structural TS\n",
    "\n",
    "#### State space form\n",
    "* $y_t = Z_t \\alpha_t + \\epsilon_t$\n",
    "* $\\alpha_t = T_t \\alpha_{t-1} + \\eta_t$\n",
    "* $\\epsilon_t \\sim N(0, \\Sigma_{\\epsilon})$\n",
    "* $\\eta_t \\sim N(0, \\Sigma_{\\eta})$\n",
    "* we observe $y_t$, but $\\alpha_t$ is latent\n",
    "* need to distinguish $Z_t \\alpha_t $ from $\\epsilon_t$\n",
    "\n",
    "#### Kalman  filter\n",
    "* $\\alpha_{t+1} = \\alpha_{t} + K_t (y_t - Z_t \\alpha_t)$\n",
    "* $P_{t+1} = (I - K_t H_t) P_t $\n",
    "* $y - Z_t$ is prediction error\n",
    "* $K_t$ is the Kalman gain determining signal / noise ratio\n",
    "\n",
    "#### Local level model\n",
    "* simplest structural model for changing mean\n",
    "* $y_t = \\mu_t + \\epsilon_t$\n",
    "* $\\mu_t = \\mu_{t-1} + \\eta_t $\n",
    "* $\\epsilon_t \\sim (0, \\sigma_{\\epsilon}^2)$ and $\\eta_t \\sim (0, \\sigma_{\\eta}^2)$\n",
    "\n",
    "#### Dynamic regression model\n",
    "* model $\\beta_t$ as a random walk\n",
    "* $y_t = x_t^{'} \\beta_t + \\epsilon_t$ \n",
    "* $\\beta_t = \\beta_{t-1} + \\eta_t$\n",
    "* $\\epsilon_t \\sim N(0, \\sigma^2_{\\epsilon})$ and $\\eta_t \\sim N(0, \\Sigma_{\\eta})$\n",
    "\n"
   ]
  },
  {
   "cell_type": "markdown",
   "metadata": {},
   "source": [
    "## Score-Driven TS\n",
    "\n",
    "* consider these 2:\n",
    "    * $\\alpha_{t+1} = \\alpha_t + K_t(y_t - Z_t \\alpha_t)$ kalman state filtering eqn\n",
    "    * $y_{t+1} = \\phi y_t + \\theta (y_t - \\mu_t) $ ARMA(1,1)\n",
    "* both depends on linear prediction error \n",
    "* [NEED TO FINISH THIS...]"
   ]
  },
  {
   "cell_type": "markdown",
   "metadata": {},
   "source": []
  },
  {
   "cell_type": "markdown",
   "metadata": {},
   "source": []
  },
  {
   "cell_type": "markdown",
   "metadata": {},
   "source": []
  }
 ],
 "metadata": {
  "kernelspec": {
   "display_name": "Python 2",
   "language": "python",
   "name": "python2"
  },
  "language_info": {
   "codemirror_mode": {
    "name": "ipython",
    "version": 2
   },
   "file_extension": ".py",
   "mimetype": "text/x-python",
   "name": "python",
   "nbconvert_exporter": "python",
   "pygments_lexer": "ipython2",
   "version": "2.7.12"
  }
 },
 "nbformat": 4,
 "nbformat_minor": 2
}
