{
 "cells": [
  {
   "cell_type": "markdown",
   "metadata": {},
   "source": [
    "[src](https://arxiv.org/pdf/1401.3973.pdf)"
   ]
  },
  {
   "cell_type": "markdown",
   "metadata": {},
   "source": [
    "### Intro\n",
    "* similarity for TS is good for time series clustering and classification\n",
    "* hard to derive similarity measure\n",
    "* can think of TS as multidimensional data\n",
    "* Specifically, dynamic time warping (DTW; Berndt and Clifford, 1994) is found to be consistently superior to the other studied measures\n",
    "* evaluate similarity measure via classification accuracy\n",
    "* found DTW and EDR to be the best"
   ]
  },
  {
   "cell_type": "markdown",
   "metadata": {},
   "source": [
    "### TS Similarity Measures\n",
    "* random measure (random between 0-1)\n",
    "* Euclidean distance\n",
    "    * $(\\sum_i^M (x_i - y_i)^n)^{\\frac{1}{n}}$\n",
    "    * M is the length of TS\n",
    "* fourier coefficients\n",
    "    * $(\\sum_i^{\\theta} (\\hat{x}_i - \\hat{y}_i)^2)^{\\frac{1}{2}}$\n",
    "    * $\\hat{x}$ and $\\hat{y}$ are complex value pairs denoting the i-th Fourier coefficient\n",
    "    * $\\theta$ is the actual number of considered pairs\n",
    "* autoregressive models\n",
    "    * learn a model of the two time series and then use its parameters for computing a similarity value\n",
    "    * the dissimilarity between two time series can be calculated, for instance, using the Euclidean distance between their estimated coefficients\n",
    "* dynamic time warping\n",
    "    * DTW works by optimally aligning (or ‘warping’) the time series in the temporal domain so that the accumulated cost of this alignment is minimal\n",
    "    * dynamic programming $D_{i,j} = f(x_i, y_j) + min(D_{i, j-1}, D_{i-1,j}, D_{i-1,j-1}) $\n",
    "    * f is the cost function, e.g. squared error\n",
    "* edit distance on real sequenes\n",
    "    * EDR \n",
    "* ..."
   ]
  },
  {
   "cell_type": "markdown",
   "metadata": {},
   "source": [
    "### Classification scheme\n",
    "* 1NN - on the similarity / distance measures\n",
    "* Wilcoxon signed-rank test, [more here](http://vassarstats.net/textbook/ch12a.html)"
   ]
  },
  {
   "cell_type": "markdown",
   "metadata": {},
   "source": []
  }
 ],
 "metadata": {
  "kernelspec": {
   "display_name": "Python 2",
   "language": "python",
   "name": "python2"
  },
  "language_info": {
   "codemirror_mode": {
    "name": "ipython",
    "version": 2
   },
   "file_extension": ".py",
   "mimetype": "text/x-python",
   "name": "python",
   "nbconvert_exporter": "python",
   "pygments_lexer": "ipython2",
   "version": "2.7.13"
  }
 },
 "nbformat": 4,
 "nbformat_minor": 2
}
