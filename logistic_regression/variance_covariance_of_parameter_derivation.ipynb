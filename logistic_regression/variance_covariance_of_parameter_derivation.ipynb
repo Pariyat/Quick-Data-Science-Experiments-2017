{
 "cells": [
  {
   "cell_type": "markdown",
   "metadata": {},
   "source": [
    "http://czep.net/stat/mlelr.pdf pg 5-6"
   ]
  },
  {
   "cell_type": "markdown",
   "metadata": {},
   "source": [
    "$$ l(\\beta) = \\sum_{i=1}^{N} y_i (\\sum_{k=0}^K x_{ik} \\hat \\beta_k) - log(1 + e^{\\sum_{k=0}^K x_{ik} \\hat  \\beta_k}) $$"
   ]
  },
  {
   "cell_type": "markdown",
   "metadata": {},
   "source": [
    "### We are interested in $cov(\\hat \\beta)$\n",
    "\n",
    "$$ cov(\\hat \\beta) = -E(H)^{-1} $$ per BL2015 appendix B\n",
    "$$ H = \\frac{d^2 l(\\hat \\beta)}{d B_j d B_k} $$"
   ]
  },
  {
   "cell_type": "markdown",
   "metadata": {},
   "source": [
    "### Note some special properties \n",
    "\n",
    "#### (1)\n",
    "$$ \\frac{d}{d B_j} (\\sum_{k=0}^K x_{ik} \\hat \\beta_k ) = x_j $$\n",
    "\n",
    "#### (2)\n",
    "$$ \\frac{e^{\\sum_{k=0}^K x_{ik} \\hat \\beta_k}}{1 + e^{\\sum_{k=0}^K x_{ik} \\hat \\beta_k}} = \\pi_i $$\n",
    "\n",
    "#### (3)\n",
    "$$ \\frac{d}{dx} logit(x) = logit(x) (1 - logit(x)) $$"
   ]
  },
  {
   "cell_type": "markdown",
   "metadata": {},
   "source": [
    "### Step 1, find the first derivative\n",
    "\n",
    "#### via the chain rule \n",
    "$$ \\frac{d l(\\hat \\beta)}{d B_j} = \\sum_i y_i x_{ij} - \\frac{1}{1 + e^{\\sum_{k} x_{ik} \\hat \\beta_k}} \\cdot \n",
    "e^{\\sum_{k} x_{ik} \\hat \\beta_k} \\cdot x_{ij}\n",
    "$$ \n",
    "\n",
    "#### sub (2)\n",
    "$$ = \\sum_i y_i x_{ij} - \\pi_i x_{ij} $$\n"
   ]
  },
  {
   "cell_type": "markdown",
   "metadata": {},
   "source": [
    "### Step 2, find the hessian\n",
    "\n",
    "$$ \\frac{d^2 l(\\hat \\beta)}{d B_j d B_k} = \\frac{d}{d B_k} ( \\sum_i y_i x_{ij} - \\pi_i x_{ij} ) $$\n",
    "\n",
    "$$ = \\frac{d}{d B_k} \\sum_i - x_{ij} \\pi_i $$\n",
    "\n",
    "$$ = \\sum_i - x_{ij} \\frac{d}{d B_k} \\pi_i $$\n",
    "\n",
    "#### using property (3) \n",
    "\n",
    "$$ = \\sum_i - x_{ij} \\pi_i (1 - \\pi_i) \\frac{d}{d B_k} (\\sum_{k} x_{ik} \\hat \\beta_k) $$\n",
    "\n",
    "$$ = \\sum_i - x_{ij} \\pi_i (1 - \\pi_i) x_{ik} $$\n",
    "\n",
    "$$ = - \\mathbf{X}^T V \\mathbf{X} $$\n",
    "\n",
    "where V is a diag matrix where $v_{ii} = \\pi_i (1 - \\pi_i)$"
   ]
  },
  {
   "cell_type": "markdown",
   "metadata": {},
   "source": [
    "### Therefore...\n",
    "\n",
    "$$ cov(\\hat \\beta) = -E(- \\mathbf{X}^T V \\mathbf{X} )^{-1} $$\n",
    "$$ = (\\mathbf{X}^T V \\mathbf{X})^{-1} $$"
   ]
  },
  {
   "cell_type": "code",
   "execution_count": null,
   "metadata": {
    "collapsed": true
   },
   "outputs": [],
   "source": []
  }
 ],
 "metadata": {
  "kernelspec": {
   "display_name": "Python 2",
   "language": "python",
   "name": "python2"
  },
  "language_info": {
   "codemirror_mode": {
    "name": "ipython",
    "version": 2
   },
   "file_extension": ".py",
   "mimetype": "text/x-python",
   "name": "python",
   "nbconvert_exporter": "python",
   "pygments_lexer": "ipython2",
   "version": "2.7.12"
  }
 },
 "nbformat": 4,
 "nbformat_minor": 2
}
