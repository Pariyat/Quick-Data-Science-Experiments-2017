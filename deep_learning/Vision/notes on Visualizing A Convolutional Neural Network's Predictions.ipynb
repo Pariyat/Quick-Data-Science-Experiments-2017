{
 "cells": [
  {
   "cell_type": "markdown",
   "metadata": {},
   "source": [
    "[src](https://rajpurkar.github.io/mlx/visualizing-cnns/)"
   ]
  },
  {
   "cell_type": "markdown",
   "metadata": {},
   "source": [
    "### class model visualization\n",
    "* generate an image that best represents a category\n",
    "* $argmax_I S_c(I)$\n",
    "* *what's an image that's most like a spaceship?*\n",
    "* start off with an image, then do gradient descent \n",
    "* normally $\\frac{dJ}{dw}$, now $\\frac{dJ}{dI}$, which finds an image I that minimizes the loss\n",
    "\n",
    "### class saliency on image\n",
    "* find the pixels of an image which contribute most towards a particular classification\n",
    "* $\\frac{dS}{dI}$ to maximize $S$??"
   ]
  },
  {
   "cell_type": "markdown",
   "metadata": {
    "collapsed": true
   },
   "source": []
  },
  {
   "cell_type": "markdown",
   "metadata": {
    "collapsed": true
   },
   "source": []
  },
  {
   "cell_type": "code",
   "execution_count": null,
   "metadata": {
    "collapsed": true
   },
   "outputs": [],
   "source": []
  },
  {
   "cell_type": "code",
   "execution_count": null,
   "metadata": {
    "collapsed": true
   },
   "outputs": [],
   "source": []
  },
  {
   "cell_type": "code",
   "execution_count": null,
   "metadata": {
    "collapsed": true
   },
   "outputs": [],
   "source": []
  }
 ],
 "metadata": {
  "kernelspec": {
   "display_name": "Python 2",
   "language": "python",
   "name": "python2"
  },
  "language_info": {
   "codemirror_mode": {
    "name": "ipython",
    "version": 2
   },
   "file_extension": ".py",
   "mimetype": "text/x-python",
   "name": "python",
   "nbconvert_exporter": "python",
   "pygments_lexer": "ipython2",
   "version": "2.7.13"
  }
 },
 "nbformat": 4,
 "nbformat_minor": 2
}
