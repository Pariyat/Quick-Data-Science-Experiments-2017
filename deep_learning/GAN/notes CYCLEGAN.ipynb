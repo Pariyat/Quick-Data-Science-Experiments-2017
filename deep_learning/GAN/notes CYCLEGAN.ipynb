{
 "cells": [
  {
   "cell_type": "markdown",
   "metadata": {},
   "source": [
    "[src](https://arxiv.org/pdf/1703.10593.pdf)"
   ]
  },
  {
   "cell_type": "markdown",
   "metadata": {},
   "source": [
    "## Abstract\n",
    "* image to image translation requires paired images, cyclegan does not\n",
    "* enforce $F(G(X)) = X$"
   ]
  },
  {
   "cell_type": "markdown",
   "metadata": {},
   "source": [
    "## Formulation\n",
    "* $x \\sim p_{data}(x)$\n",
    "* $y \\sim p_{data}(y)$\n",
    "* model:\n",
    "    * G: X -> Y\n",
    "    * F: Y -> X\n",
    "    * associated adversarial discriminator: $D_x$, $D_y$\n",
    "    * $D_Y$ encourages $G$ to translate X into something like Y\n",
    "    * 2 cycle consistency losses:\n",
    "        1. forward cycle consistency loss $x -> G(x) -> F(G(x)) = x$\n",
    "        2. backward cycle consistency loss $y -> F(y) -> G(F(y)) = y$\n",
    "\n",
    "### Adversarial loss\n",
    "* $L_{gan} (G, D_Y, X, Y) = E_{y \\sim p_{data}(y)} [log D_Y(y)] + E_{x \\sim p_{data}(x)} [log (1 - D_Y(G(X)))]$\n",
    "* $min_G max_{D_Y} L_{GAN}(G, D_Y, X, Y)$\n",
    "\n",
    "### Cycle consistency loss\n",
    "* adversarial loss in theory can just memorize inputs, so we can't guarantee that it learns a good mapping\n",
    "* cycle consistency loss: $L_{cyc} (G,F) = E_{x \\sim p_{data}(x)} [\\| F(G(x)) - x \\|_1] + E_{y \\sim p_{data} (y) [\\| G(F(y)) - y \\|_1]}$\n",
    "* l1 loss worked just as well as adversarial loss (compare X to F(G(x)))\n",
    "\n",
    "### Full objective\n",
    "* $L(G, F, D_x, D_y) = L_{GAN}(G, D_Y, X, Y) + L_{GAN}(F, D_X, Y, X) + \\lambda L_{cyc}(G,F)$\n",
    "* aims to solve $G^*, F^* = arg min_{G,F} max_{D_x, D_y} L(G, F, D_x, D_y)$"
   ]
  },
  {
   "cell_type": "markdown",
   "metadata": {},
   "source": []
  },
  {
   "cell_type": "markdown",
   "metadata": {},
   "source": []
  },
  {
   "cell_type": "markdown",
   "metadata": {},
   "source": []
  }
 ],
 "metadata": {
  "kernelspec": {
   "display_name": "Python 2",
   "language": "python",
   "name": "python2"
  },
  "language_info": {
   "codemirror_mode": {
    "name": "ipython",
    "version": 2
   },
   "file_extension": ".py",
   "mimetype": "text/x-python",
   "name": "python",
   "nbconvert_exporter": "python",
   "pygments_lexer": "ipython2",
   "version": "2.7.13"
  }
 },
 "nbformat": 4,
 "nbformat_minor": 2
}
