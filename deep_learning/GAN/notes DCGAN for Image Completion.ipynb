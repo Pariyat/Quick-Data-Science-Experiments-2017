{
 "cells": [
  {
   "cell_type": "markdown",
   "metadata": {},
   "source": [
    "* [src](http://bamos.github.io/2016/08/09/deep-completion/#introduction)\n",
    "* [paper](https://arxiv.org/abs/1607.07539)"
   ]
  },
  {
   "cell_type": "markdown",
   "metadata": {},
   "source": [
    "* if image is [64x64], define a binary mask also [64x64] of 0 or 1, where 0 is the missing part\n",
    "* do elementwide product, or hadamard product\n",
    "* $x_{reconstructed} = M x y + (1 - M) x G(\\hat{z})$\n",
    "* divide up loss function into 2: 1. contextual 2. perceptual"
   ]
  },
  {
   "cell_type": "markdown",
   "metadata": {},
   "source": [
    "### contextual loss\n",
    "* $L_{contextual}(z) = \\| MxG(z) - Mxy \\|$\n",
    "* We need to penalize G(z)G(z) for not creating a similar image for the pixels that we know about\n"
   ]
  },
  {
   "cell_type": "markdown",
   "metadata": {},
   "source": [
    "### perceptual loss\n",
    "* make sure the discriminator is properly convinced that the image looks real. We’ll do this with the same criterion used in training the DCGAN\n",
    "* $L_{perceptual} = log(1 - D(g(z)))$\n",
    "* combining the 2 losses $L = L_{perceptual} + \\lambda L_{contextual}$\n",
    "* find the z that minimizes $L$\n"
   ]
  },
  {
   "cell_type": "markdown",
   "metadata": {},
   "source": [
    "### optimization to find z\n",
    "* basically $\\frac{dL}{dz}$"
   ]
  },
  {
   "cell_type": "code",
   "execution_count": null,
   "metadata": {
    "collapsed": true
   },
   "outputs": [],
   "source": []
  }
 ],
 "metadata": {
  "kernelspec": {
   "display_name": "Python 2",
   "language": "python",
   "name": "python2"
  },
  "language_info": {
   "codemirror_mode": {
    "name": "ipython",
    "version": 2
   },
   "file_extension": ".py",
   "mimetype": "text/x-python",
   "name": "python",
   "nbconvert_exporter": "python",
   "pygments_lexer": "ipython2",
   "version": "2.7.13"
  }
 },
 "nbformat": 4,
 "nbformat_minor": 2
}
