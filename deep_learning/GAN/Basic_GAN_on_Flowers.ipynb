{
 "cells": [
  {
   "cell_type": "markdown",
   "metadata": {},
   "source": [
    "### Implementation of a GAN (not DCGAN...)"
   ]
  },
  {
   "cell_type": "code",
   "execution_count": 1,
   "metadata": {
    "collapsed": true
   },
   "outputs": [],
   "source": [
    "import tflearn.datasets.oxflower17 as oxflower17\n",
    "X, Y = oxflower17.load_data(one_hot=True, resize_pics=(15, 15))"
   ]
  },
  {
   "cell_type": "code",
   "execution_count": 2,
   "metadata": {},
   "outputs": [
    {
     "name": "stdout",
     "output_type": "stream",
     "text": [
      "(1360, 15, 15, 3)\n"
     ]
    },
    {
     "data": {
      "text/plain": [
       "<matplotlib.image.AxesImage at 0x116c67490>"
      ]
     },
     "execution_count": 2,
     "metadata": {},
     "output_type": "execute_result"
    },
    {
     "data": {
      "image/png": "[encoded data removed]",
      "text/plain": [
       "<matplotlib.figure.Figure at 0x106b23a50>"
      ]
     },
     "metadata": {},
     "output_type": "display_data"
    }
   ],
   "source": [
    "print X.shape # 30x30 img\n",
    "\n",
    "import matplotlib.pylab as plt\n",
    "%matplotlib inline\n",
    "import numpy as np\n",
    "\n",
    "plt.imshow(X[18])"
   ]
  },
  {
   "cell_type": "code",
   "execution_count": 3,
   "metadata": {
    "collapsed": true
   },
   "outputs": [],
   "source": [
    "def batch_iter(data, batch_size, num_epochs, shuffle=True):\n",
    "    \"\"\"\n",
    "    Generates a batch iterator for a dataset.\n",
    "    \"\"\"\n",
    "    data = np.array(data)\n",
    "    data_size = len(data)\n",
    "    num_batches_per_epoch = int((len(data)-1)/batch_size) + 1\n",
    "    for epoch in range(num_epochs):\n",
    "        # Shuffle the data at each epoch\n",
    "        if shuffle:\n",
    "            shuffle_indices = np.random.permutation(np.arange(data_size))\n",
    "            shuffled_data = data[shuffle_indices]\n",
    "        else:\n",
    "            shuffled_data = data\n",
    "        for batch_num in range(num_batches_per_epoch):\n",
    "            start_index = batch_num * batch_size\n",
    "            end_index = min((batch_num + 1) * batch_size, data_size)\n",
    "            yield shuffled_data[start_index:end_index]"
   ]
  },
  {
   "cell_type": "code",
   "execution_count": null,
   "metadata": {
    "collapsed": true
   },
   "outputs": [],
   "source": []
  },
  {
   "cell_type": "markdown",
   "metadata": {},
   "source": [
    "## Setup"
   ]
  },
  {
   "cell_type": "code",
   "execution_count": 4,
   "metadata": {
    "collapsed": true
   },
   "outputs": [],
   "source": [
    "import tensorflow as tf\n",
    "\n",
    "tf.flags.DEFINE_float(\"learning_rate\",  0.0002, \"LR\")\n",
    "tf.flags.DEFINE_integer(\"training_iters\", 5000, \"Training iterations\")\n",
    "tf.flags.DEFINE_integer(\"batch_size\", 128, \"Batch Size\")\n",
    "tf.flags.DEFINE_integer(\"image_size\", 15, \"Image length or height\")\n",
    "\n",
    "tf.flags.DEFINE_integer(\"z_noise_dim\", 100, \"length of Z\")\n",
    "tf.flags.DEFINE_integer(\"gen_hidden_dim\", 512, \"gen dim\")\n",
    "tf.flags.DEFINE_integer(\"disc_hidden_dim\", 512, \"disc dim\")\n",
    "\n",
    "FLAGS = tf.flags.FLAGS"
   ]
  },
  {
   "cell_type": "markdown",
   "metadata": {},
   "source": [
    "## GAN"
   ]
  },
  {
   "cell_type": "code",
   "execution_count": 5,
   "metadata": {
    "collapsed": true
   },
   "outputs": [],
   "source": [
    "## Slightly better than Xavior initialization\n",
    "## See: http://proceedings.mlr.press/v9/glorot10a/glorot10a.pdf\n",
    "def glorot_init(shape):\n",
    "    return tf.random_normal(shape=shape, stddev=1. / tf.sqrt(shape[0] / 2.))\n",
    "\n",
    "class GAN():\n",
    "    def __init__(self, lr=0.0002):\n",
    "        ## 30x30x3\n",
    "        self.gen_input = tf.placeholder(tf.float32, shape=[None, FLAGS.z_noise_dim], name='input_noise')\n",
    "        self.disc_input = tf.placeholder(tf.float32, shape=[None, FLAGS.image_size, FLAGS.image_size, 3],\\\n",
    "                                         name='disc_input')\n",
    "#         self.disc_input_grayscale = tf.contrib.layers.flatten(tf.image.rgb_to_grayscale(self.disc_input))\n",
    "        self.disc_input_grayscale = tf.contrib.layers.flatten(self.disc_input)\n",
    "        \n",
    "        ## Generator: Z -> fake image\n",
    "        ## Variables\n",
    "        self.gen_hidden_w = tf.Variable(glorot_init([FLAGS.z_noise_dim, FLAGS.gen_hidden_dim]))\n",
    "        self.gen_hidden_b = tf.Variable(tf.zeros([FLAGS.gen_hidden_dim]))\n",
    "        self.gen_out_w = tf.Variable(glorot_init([FLAGS.gen_hidden_dim, FLAGS.image_size * FLAGS.image_size * 3]))\n",
    "        self.gen_out_b = tf.Variable(tf.zeros([FLAGS.image_size * FLAGS.image_size * 3]))\n",
    "        ## Net\n",
    "        self.gen_layer1 = tf.nn.relu(tf.matmul(self.gen_input, self.gen_hidden_w) + self.gen_hidden_b)\n",
    "        self.gen_out = tf.nn.sigmoid(tf.matmul(self.gen_layer1, self.gen_out_w) + self.gen_out_b)\n",
    "        \n",
    "        ## Discriminator: fake / real image -> P(real)\n",
    "        ## Variables\n",
    "        self.disc_hidden_w = tf.Variable(glorot_init([FLAGS.image_size * FLAGS.image_size * 3, FLAGS.disc_hidden_dim]))\n",
    "        self.disc_hidden_b = tf.Variable(tf.zeros([FLAGS.disc_hidden_dim]))\n",
    "        self.disc_out_w = tf.Variable(glorot_init([FLAGS.disc_hidden_dim, 1]))\n",
    "        self.disc_out_b = tf.Variable(tf.zeros([1]))\n",
    "        ## Net\n",
    "        def disc_net(disc_input):\n",
    "            disc_layer1 = tf.nn.relu(tf.matmul(disc_input, self.disc_hidden_w) + self.disc_hidden_b)\n",
    "            return tf.nn.sigmoid(tf.matmul(disc_layer1, self.disc_out_w) + self.disc_out_b)\n",
    "        self.disc_fake = disc_net(self.gen_out)\n",
    "        self.disc_real = disc_net(self.disc_input_grayscale)\n",
    "        \n",
    "        \n",
    "        ## Losses (https://arxiv.org/pdf/1406.2661.pdf)\n",
    "        self.gen_loss = -tf.reduce_mean(tf.log(self.disc_fake)) # max gen prob\n",
    "        self.disc_loss = -tf.reduce_mean(tf.log(self.disc_real) + tf.log(1. - self.disc_fake)) # max real prob\n",
    "        \n",
    "        self.optimizer_gen = tf.train.AdamOptimizer(learning_rate=lr, beta1=0.5, beta2=0.999)\n",
    "        self.optimizer_disc = tf.train.AdamOptimizer(learning_rate=lr, beta1=0.5, beta2=0.999)\n",
    "\n",
    "        self.train_gen = self.optimizer_gen.minimize(self.gen_loss, var_list=[self.gen_hidden_w, self.gen_hidden_b, self.gen_out_w, self.gen_out_b])\n",
    "        self.train_disc = self.optimizer_disc.minimize(self.disc_loss, var_list=[self.disc_hidden_w, self.disc_hidden_b, self.disc_out_w, self.disc_out_b])"
   ]
  },
  {
   "cell_type": "code",
   "execution_count": 6,
   "metadata": {},
   "outputs": [
    {
     "name": "stdout",
     "output_type": "stream",
     "text": [
      "WARNING:tensorflow:From <ipython-input-6-a0150737b83b>:7: initialize_all_variables (from tensorflow.python.ops.variables) is deprecated and will be removed after 2017-03-02.\n",
      "Instructions for updating:\n",
      "Use `tf.global_variables_initializer` instead.\n"
     ]
    }
   ],
   "source": [
    "tf.reset_default_graph()\n",
    "\n",
    "gan = GAN(lr=0.0005)\n",
    "global_step = tf.Variable(0, name=\"global_step\", trainable=False)\n",
    "incr_global_step_op = tf.assign(global_step, global_step+1)\n",
    "\n",
    "init = tf.initialize_all_variables()\n",
    "sess = tf.Session()\n",
    "sess.run(init)"
   ]
  },
  {
   "cell_type": "markdown",
   "metadata": {},
   "source": [
    "## Training"
   ]
  },
  {
   "cell_type": "code",
   "execution_count": 7,
   "metadata": {},
   "outputs": [
    {
     "name": "stdout",
     "output_type": "stream",
     "text": [
      "Step 1: Generator Loss: 0.334246, Discriminator Loss: 1.726627\n",
      "Step 1000: Generator Loss: 0.746104, Discriminator Loss: 0.992585\n",
      "Step 2000: Generator Loss: 0.507801, Discriminator Loss: 1.247784\n",
      "Step 3000: Generator Loss: 0.776356, Discriminator Loss: 1.134777\n",
      "Step 4000: Generator Loss: 1.042915, Discriminator Loss: 1.288679\n",
      "Step 5000: Generator Loss: 0.818857, Discriminator Loss: 1.253268\n",
      "Step 6000: Generator Loss: 1.652357, Discriminator Loss: 1.353202\n",
      "Step 7000: Generator Loss: 0.404705, Discriminator Loss: 1.454035\n",
      "Step 8000: Generator Loss: 0.871068, Discriminator Loss: 1.208857\n",
      "Step 9000: Generator Loss: 0.765808, Discriminator Loss: 1.223829\n",
      "Step 10000: Generator Loss: 1.165213, Discriminator Loss: 1.333593\n",
      "Step 11000: Generator Loss: 1.484334, Discriminator Loss: 1.523936\n",
      "Step 12000: Generator Loss: 1.082872, Discriminator Loss: 1.382571\n",
      "Step 13000: Generator Loss: 0.962016, Discriminator Loss: 1.287053\n",
      "Step 14000: Generator Loss: 0.487741, Discriminator Loss: 1.429711\n",
      "Step 15000: Generator Loss: 0.816732, Discriminator Loss: 1.381343\n",
      "Step 16000: Generator Loss: 1.544138, Discriminator Loss: 1.683587\n",
      "Step 17000: Generator Loss: 0.968657, Discriminator Loss: 1.288200\n",
      "Step 18000: Generator Loss: 1.298816, Discriminator Loss: 1.334485\n",
      "Step 19000: Generator Loss: 0.496982, Discriminator Loss: 1.426625\n",
      "Step 20000: Generator Loss: 0.891716, Discriminator Loss: 1.229525\n",
      "Step 21000: Generator Loss: 0.527225, Discriminator Loss: 1.375739\n",
      "Step 22000: Generator Loss: 0.628873, Discriminator Loss: 1.366076\n",
      "Step 23000: Generator Loss: 0.514741, Discriminator Loss: 1.390645\n",
      "Step 24000: Generator Loss: 1.395613, Discriminator Loss: 1.402375\n",
      "Step 25000: Generator Loss: 0.610785, Discriminator Loss: 1.395084\n",
      "Step 26000: Generator Loss: 0.778919, Discriminator Loss: 1.382152\n",
      "Step 27000: Generator Loss: 0.494555, Discriminator Loss: 1.436215\n",
      "Step 28000: Generator Loss: 1.060760, Discriminator Loss: 1.286217\n",
      "Step 29000: Generator Loss: 1.068352, Discriminator Loss: 1.425887\n",
      "Step 30000: Generator Loss: 1.129396, Discriminator Loss: 1.413708\n",
      "Step 31000: Generator Loss: 0.271163, Discriminator Loss: 1.772524\n",
      "Step 32000: Generator Loss: 0.780352, Discriminator Loss: 1.299971\n",
      "Step 33000: Generator Loss: 0.872948, Discriminator Loss: 1.315085\n",
      "Step 34000: Generator Loss: 0.946096, Discriminator Loss: 1.329149\n",
      "Step 35000: Generator Loss: 1.478168, Discriminator Loss: 1.614799\n",
      "Step 36000: Generator Loss: 0.636593, Discriminator Loss: 1.370170\n",
      "Step 37000: Generator Loss: 0.495779, Discriminator Loss: 1.391274\n",
      "Step 38000: Generator Loss: 1.243436, Discriminator Loss: 1.334694\n",
      "Step 39000: Generator Loss: 0.824991, Discriminator Loss: 1.271303\n",
      "Step 40000: Generator Loss: 0.932414, Discriminator Loss: 1.300538\n",
      "Step 41000: Generator Loss: 1.333203, Discriminator Loss: 1.489365\n",
      "Step 42000: Generator Loss: 1.002386, Discriminator Loss: 1.303040\n",
      "Step 43000: Generator Loss: 0.789734, Discriminator Loss: 1.363894\n",
      "Step 44000: Generator Loss: 0.958419, Discriminator Loss: 1.459238\n",
      "Step 45000: Generator Loss: 0.737343, Discriminator Loss: 1.283422\n",
      "Step 46000: Generator Loss: 0.688354, Discriminator Loss: 1.350057\n",
      "Step 47000: Generator Loss: 0.782231, Discriminator Loss: 1.261992\n",
      "Step 48000: Generator Loss: 0.866080, Discriminator Loss: 1.356647\n",
      "Step 49000: Generator Loss: 0.929760, Discriminator Loss: 1.387933\n",
      "Step 50000: Generator Loss: 0.600275, Discriminator Loss: 1.349074\n",
      "Step 51000: Generator Loss: 0.840986, Discriminator Loss: 1.272429\n",
      "Step 52000: Generator Loss: 0.935418, Discriminator Loss: 1.376183\n",
      "Step 53000: Generator Loss: 0.767210, Discriminator Loss: 1.395411\n",
      "Step 54000: Generator Loss: 0.701487, Discriminator Loss: 1.265292\n",
      "Step 55000: Generator Loss: 0.864463, Discriminator Loss: 1.307017\n"
     ]
    }
   ],
   "source": [
    "batches = batch_iter(X, FLAGS.batch_size, FLAGS.training_iters)\n",
    "\n",
    "for batch in batches:\n",
    "    z = np.random.uniform(-1., 1., size=[batch.shape[0], FLAGS.z_noise_dim])\n",
    "    feed_dict = {gan.disc_input: batch, gan.gen_input: z}\n",
    "    _, _, gl, dl, i = sess.run([gan.train_gen, gan.train_disc, gan.gen_loss, gan.disc_loss, incr_global_step_op],\n",
    "                            feed_dict=feed_dict)\n",
    "    \n",
    "    if i % 1000 == 0 or i == 1:\n",
    "        print('Step %i: Generator Loss: %f, Discriminator Loss: %f' % (i, gl, dl))"
   ]
  },
  {
   "cell_type": "code",
   "execution_count": null,
   "metadata": {
    "collapsed": true
   },
   "outputs": [],
   "source": []
  },
  {
   "cell_type": "code",
   "execution_count": 13,
   "metadata": {},
   "outputs": [
    {
     "data": {
      "image/png": "[encoded data removed]",
      "text/plain": [
       "<matplotlib.figure.Figure at 0x119ff2f50>"
      ]
     },
     "metadata": {},
     "output_type": "display_data"
    }
   ],
   "source": [
    "def generate_a_flower():\n",
    "    z = np.random.uniform(-1., 1., size=[1, 100])\n",
    "    g = sess.run(gan.gen_out, feed_dict={gan.gen_input: z})\n",
    "    return g.reshape(15, 15, 3)\n",
    "\n",
    "n = 4\n",
    "f, axarr = plt.subplots(n,n)\n",
    "for i in range(n):\n",
    "    for j in range(n):\n",
    "        axarr[i,j].imshow(generate_a_flower())\n",
    "\n",
    "# plt.imshow(generate_a_flower())"
   ]
  },
  {
   "cell_type": "code",
   "execution_count": null,
   "metadata": {
    "collapsed": true
   },
   "outputs": [],
   "source": []
  }
 ],
 "metadata": {
  "kernelspec": {
   "display_name": "Python 2",
   "language": "python",
   "name": "python2"
  },
  "language_info": {
   "codemirror_mode": {
    "name": "ipython",
    "version": 2
   },
   "file_extension": ".py",
   "mimetype": "text/x-python",
   "name": "python",
   "nbconvert_exporter": "python",
   "pygments_lexer": "ipython2",
   "version": "2.7.13"
  }
 },
 "nbformat": 4,
 "nbformat_minor": 2
}
