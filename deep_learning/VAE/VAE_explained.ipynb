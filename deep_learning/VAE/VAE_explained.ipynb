{
 "cells": [
  {
   "cell_type": "markdown",
   "metadata": {},
   "source": [
    "[src](http://kvfrans.com/variational-autoencoders-explained/)"
   ]
  },
  {
   "cell_type": "markdown",
   "metadata": {},
   "source": [
    "motivation for why VAE, not GAN:\n",
    "1. images are generated from noise, no idea which noise produces what\n",
    "2. GAN can only discriminate real from fake, can just learn a background with no cat"
   ]
  },
  {
   "cell_type": "markdown",
   "metadata": {},
   "source": [
    "### start with an autoencoder\n",
    "* image -> encode -> embedding -> decode -> image -> RMSE / gradient descent\n",
    "* however, not generative, this AE is just a fuzzy data structure that memorize images"
   ]
  },
  {
   "cell_type": "markdown",
   "metadata": {},
   "source": [
    "### constraint on the encoding network\n",
    "* forces encoder to generate latent vectors that roughly follow a unit gaussian distribution\n",
    "* all we need to do is sample a latent vector from the unit gaussian and pass it into the decoder\n",
    "* (?? can we use a different distributon than gaussian? e.g. beta)\n",
    "* in practice, \"unit\" constraint might be too much, we therefore let the network decide on the variance of the latent vec"
   ]
  },
  {
   "cell_type": "markdown",
   "metadata": {},
   "source": [
    "### loss\n",
    "* generative loss + latent loss\n",
    "* generative loss = RMSE / reconstruction error\n",
    "* latent loss = KL divergence for how closely a latent vector match a unit gaussian"
   ]
  },
  {
   "cell_type": "markdown",
   "metadata": {},
   "source": [
    "### optimizing KL div\n",
    "* a simple reparameterization trick: instead of the encoder generating a vector of real values, it will generate a vector of means and a vector of standard deviation\n",
    "* ```latent_loss = 0.5 * tf.reduce_sum(tf.square(z_mean) + tf.square(z_stddev) - tf.log(tf.square(z_stddev)) - 1,1)```\n",
    "* then in the decoder, we just sample\n",
    "    * ``` samples = tf.random_normal([batchsize,n_z],0,1,dtype=tf.float32)  \n",
    "sampled_z = z_mean + (z_stddev * samples)   ```"
   ]
  },
  {
   "cell_type": "code",
   "execution_count": null,
   "metadata": {
    "collapsed": true
   },
   "outputs": [],
   "source": []
  }
 ],
 "metadata": {
  "kernelspec": {
   "display_name": "Python 2",
   "language": "python",
   "name": "python2"
  },
  "language_info": {
   "codemirror_mode": {
    "name": "ipython",
    "version": 2
   },
   "file_extension": ".py",
   "mimetype": "text/x-python",
   "name": "python",
   "nbconvert_exporter": "python",
   "pygments_lexer": "ipython2",
   "version": "2.7.12"
  }
 },
 "nbformat": 4,
 "nbformat_minor": 2
}
