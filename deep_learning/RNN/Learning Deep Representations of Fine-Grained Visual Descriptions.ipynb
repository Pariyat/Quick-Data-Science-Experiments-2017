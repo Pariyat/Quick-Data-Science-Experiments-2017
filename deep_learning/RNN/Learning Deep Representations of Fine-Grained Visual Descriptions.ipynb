{
 "cells": [
  {
   "cell_type": "markdown",
   "metadata": {},
   "source": [
    "[src](https://arxiv.org/pdf/1605.05395.pdf)"
   ]
  },
  {
   "cell_type": "markdown",
   "metadata": {},
   "source": [
    "### contributions\n",
    "* provided a fine grained description of flowers and birds datasets\n",
    "* a novel extension of structured joint embedding\n",
    "* novel hybrids of convolutional and recurrent networks for text modeling"
   ]
  },
  {
   "cell_type": "markdown",
   "metadata": {},
   "source": [
    "## Deep Structured Joint Embedding\n",
    "* instead of bilinear compatibility function, use inner product of features generated\n",
    "* objective:\n",
    "    * given $v_i, t_i, y_i$ which are visual, text and class \n",
    "    * learn $f_v : V -> Y$ and $f_t : T -> Y$\n",
    "    * $\\min \\Delta (y_n, f_v(v_n)) + \\Delta (y_n, f_t(t_n))$, where $\\Delta$ is the accuracy\n",
    "        * deep symmetric structured joint embedding (DS-SJE).\n",
    "    * objective is symmetric with respect to images and text\n",
    "    \n",
    "* inference / compatibility fn $F : V x T -> R$:\n",
    "    * $F(v,t) = \\theta(v)^T \\phi(t)$\n",
    "    * $f_v(v) = \\max_{y \\in Y} E_{t \\sim T(y)} [F(v,t)]$\n",
    "    * $f_t(t) = \\max_{y \\in Y} E_{t \\sim V(y)} [F(v,t)]$\n",
    "    * where $t \\sim T(y)$ is the subset of T from class y\n",
    "* learning\n",
    "    * $l_v(v_n, t_n, y_n) + l_t(v_n, t_n, y_n)$\n",
    "    * $l_v(v_n, t_n, y_n) = \\max_y (0, \\Delta(y_n, y) + E_{t \\sim T(y)} [F(v_n, t) - F(v_n, t_n)])$\n",
    "        * note: $\\Delta$ is just the existing gradient for the minibatch...\n",
    "    * $l_t(v_n, t_n, y_n) = \\max_y (0, \\Delta(y_n, y) + E_{v \\sim V(y)} [F(v, t_n) - F(v_n, t_n)])$\n",
    "    * RMSProp, learn new word embedding, use LeNet"
   ]
  },
  {
   "cell_type": "markdown",
   "metadata": {},
   "source": [
    "### Code\n",
    "* https://github.com/reedscot/cvpr2016/blob/master/train_sje_hybrid.lua#L117\n",
    "    * score for class = dot product of text and image embedding - https://github.com/reedscot/cvpr2016/blob/master/train_sje_hybrid.lua#L128\n",
    "    * min (mismatched class score - correct class score) https://github.com/reedscot/cvpr2016/blob/master/train_sje_hybrid.lua#L134\n",
    "    * applying gradient for the dot product manually because torch doesn't do autograd... https://github.com/reedscot/cvpr2016/blob/master/train_sje_hybrid.lua#L138"
   ]
  }
 ],
 "metadata": {
  "kernelspec": {
   "display_name": "Python 2",
   "language": "python",
   "name": "python2"
  },
  "language_info": {
   "codemirror_mode": {
    "name": "ipython",
    "version": 2
   },
   "file_extension": ".py",
   "mimetype": "text/x-python",
   "name": "python",
   "nbconvert_exporter": "python",
   "pygments_lexer": "ipython2",
   "version": "2.7.13"
  }
 },
 "nbformat": 4,
 "nbformat_minor": 2
}
