{
 "cells": [
  {
   "cell_type": "markdown",
   "metadata": {},
   "source": [
    "[src](https://arxiv.org/pdf/1409.8403.pdf)"
   ]
  },
  {
   "cell_type": "markdown",
   "metadata": {},
   "source": [
    "### Contribution\n",
    "* shows that compelling classification performance can be achieved without labeled training data\n",
    "* given image and class embeddings, we learn a compatibility function such that matching embeddings are assigned a higher score than mismatching ones\n",
    "* the compatibility formulation can be applied to any problem where there are 2 or more types of info e.g. image + text"
   ]
  },
  {
   "cell_type": "markdown",
   "metadata": {},
   "source": [
    "### Structured Joint Embedding\n",
    "* compatibility fn $F : X x Y -> R$\n",
    "* $f(x;w) = \\max_y F(x, y; w) $\n",
    "    * $W$ is a DxE matrix, where D - input embedding dim, E - output embedding dim\n",
    "* $F(x, y; w) = \\theta(x)^T W \\phi(y) $\n",
    "* L - objective, uses SVM multiclass formulation $\\max \\{0, l(x_n, y_n, y)\\}$\n",
    "    * $l(x_n, y_n, y) = \\Delta(y_n, y) + \\theta(x_n)^T W \\phi(y) - \\theta(x_n)^T W \\phi(y_n)$"
   ]
  },
  {
   "cell_type": "markdown",
   "metadata": {},
   "source": [
    "### Output embedding\n",
    "* 3 types: \n",
    "    * human annotation\n",
    "    * unsupervised word embeddings from text\n",
    "    * WordNet (no idea what this is..., not important)"
   ]
  },
  {
   "cell_type": "markdown",
   "metadata": {},
   "source": []
  },
  {
   "cell_type": "markdown",
   "metadata": {},
   "source": []
  }
 ],
 "metadata": {
  "kernelspec": {
   "display_name": "Python 2",
   "language": "python",
   "name": "python2"
  },
  "language_info": {
   "codemirror_mode": {
    "name": "ipython",
    "version": 2
   },
   "file_extension": ".py",
   "mimetype": "text/x-python",
   "name": "python",
   "nbconvert_exporter": "python",
   "pygments_lexer": "ipython2",
   "version": "2.7.13"
  }
 },
 "nbformat": 4,
 "nbformat_minor": 2
}
