{
 "cells": [
  {
   "cell_type": "markdown",
   "metadata": {},
   "source": [
    "[src](https://www.quora.com/How-is-the-hidden-state-h-different-from-the-memory-c-in-an-LSTM-cell)"
   ]
  },
  {
   "cell_type": "markdown",
   "metadata": {},
   "source": [
    "* RNN has vanishing gradient problem\n",
    "    * after so many direct multiplications, it's easy for the gradient to explode\n",
    "    * if we expand it out, $\\frac{dF}{dh_2} = \\frac{dF}{d cost_2} \\frac{d cost_2}{dp_2} \\frac{dp_2}{dh_2} + \\frac{dF}{d cost_3} \\frac{d cost_3}{dp_3} \\frac{dp_3}{dh_3} \\frac{dh_3}{dh_2} + ...etc.$\n",
    "    * LSTM tries to solve this problem to make it harder to change the cell state\n"
   ]
  },
  {
   "cell_type": "markdown",
   "metadata": {},
   "source": [
    "### LSTM\n",
    "* What if we somehow device a strategy to still carry historical information through time, but based on variable which contributes to the Loss function gradient in a additive manner. That way the gradient of a current time state variable wrt to gradient of previous time state variable will always remain a constant (i.e. 1). This will alleviate the problem of vanishing/exploding gradients.\n",
    "* Instead of using h as both the carrier of information in a particular time instant as well as the proponent of that information between time instances, we formulate another variable called cell states (c). They perform a similar task as h used to in an RNN only, their recursive equation has a different form\n",
    "* **note**: h is the output, c is the memory"
   ]
  },
  {
   "cell_type": "markdown",
   "metadata": {},
   "source": [
    "## todo:\n",
    "* https://github.com/oxford-cs-deepnlp-2017/lectures/blob/master/Lecture%204%20-%20Language%20Modelling%20and%20RNNs%20Part%202.pdf"
   ]
  },
  {
   "cell_type": "markdown",
   "metadata": {},
   "source": []
  }
 ],
 "metadata": {
  "kernelspec": {
   "display_name": "Python 2",
   "language": "python",
   "name": "python2"
  },
  "language_info": {
   "codemirror_mode": {
    "name": "ipython",
    "version": 2
   },
   "file_extension": ".py",
   "mimetype": "text/x-python",
   "name": "python",
   "nbconvert_exporter": "python",
   "pygments_lexer": "ipython2",
   "version": "2.7.13"
  }
 },
 "nbformat": 4,
 "nbformat_minor": 2
}
