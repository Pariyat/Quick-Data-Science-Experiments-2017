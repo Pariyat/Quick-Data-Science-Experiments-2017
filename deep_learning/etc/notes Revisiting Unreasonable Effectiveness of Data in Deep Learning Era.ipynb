{
 "cells": [
  {
   "cell_type": "markdown",
   "metadata": {},
   "source": [
    "[src](https://arxiv.org/pdf/1707.02968.pdf)"
   ]
  },
  {
   "cell_type": "markdown",
   "metadata": {},
   "source": [
    "### intro\n",
    "1. the performance on vision tasks still increases linearly with orders of magnitude of training data\n",
    "2. representation learning (or pretraining) still holds a lot of promise\n",
    "\n",
    "### findings\n",
    "* better representation learning helps (better pretraining)\n",
    "* performance increases linearly with # data points\n",
    "* capacity is crucial (gotta have more representation power)\n",
    "* training with long tail "
   ]
  },
  {
   "cell_type": "markdown",
   "metadata": {},
   "source": []
  },
  {
   "cell_type": "markdown",
   "metadata": {},
   "source": []
  },
  {
   "cell_type": "markdown",
   "metadata": {},
   "source": []
  },
  {
   "cell_type": "markdown",
   "metadata": {},
   "source": []
  }
 ],
 "metadata": {
  "kernelspec": {
   "display_name": "Python 2",
   "language": "python",
   "name": "python2"
  },
  "language_info": {
   "codemirror_mode": {
    "name": "ipython",
    "version": 2
   },
   "file_extension": ".py",
   "mimetype": "text/x-python",
   "name": "python",
   "nbconvert_exporter": "python",
   "pygments_lexer": "ipython2",
   "version": "2.7.13"
  }
 },
 "nbformat": 4,
 "nbformat_minor": 2
}
