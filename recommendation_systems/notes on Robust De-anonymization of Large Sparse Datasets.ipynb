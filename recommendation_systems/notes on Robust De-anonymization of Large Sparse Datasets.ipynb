{
 "cells": [
  {
   "cell_type": "markdown",
   "metadata": {},
   "source": [
    "[src](https://www.cs.utexas.edu/~shmat/shmat_oak08netflix.pdf)"
   ]
  },
  {
   "cell_type": "markdown",
   "metadata": {},
   "source": [
    "* support - means common attribute\n",
    "* sim - similarity between 2 users\n",
    "\n",
    "## 3 main components of De-anonymization algorithm\n",
    "* scoring function (sim score for users from 2 data sources)\n",
    "* matching criterion (algorithm to determine if there's a match)\n",
    "* record selection (selects the best guess)"
   ]
  },
  {
   "cell_type": "markdown",
   "metadata": {},
   "source": [
    "## Algorithm Scoreboard\n",
    "* $Score(aux, r') = min_{i \\in supp(aux)} Sim(aux_i, r^{'}_i)$\n",
    "* matching set: $D' = \\{r' \\in \\hat{D}: Score(aux, r_i^{'}) > \\alpha \\}$, where $\\alpha$ is a constant\n",
    "\n",
    "## Algorithm Scoreboard RH\n",
    "* gives higher weight to statistically rare attributes (e.g. specific book is more informative than Harry Potter)\n",
    "* the matching criterion requires that the top score be significantly above the second-best score\n",
    "* $Score(aux, r') = \\sum_{i \\in supp(aux)} wt(i) Sim(aux_i, r_i^{'})$, where $wt(i) = \\frac{1}{log |supp(i)|}$\n",
    "* matching, if $\\frac{max_1 - max_2}{\\sigma} < \\phi$, then no match, where $\\phi$ is called eccentricity\n"
   ]
  },
  {
   "cell_type": "code",
   "execution_count": null,
   "metadata": {
    "collapsed": true
   },
   "outputs": [],
   "source": []
  }
 ],
 "metadata": {
  "kernelspec": {
   "display_name": "Python 2",
   "language": "python",
   "name": "python2"
  },
  "language_info": {
   "codemirror_mode": {
    "name": "ipython",
    "version": 2
   },
   "file_extension": ".py",
   "mimetype": "text/x-python",
   "name": "python",
   "nbconvert_exporter": "python",
   "pygments_lexer": "ipython2",
   "version": "2.7.12"
  }
 },
 "nbformat": 4,
 "nbformat_minor": 2
}
