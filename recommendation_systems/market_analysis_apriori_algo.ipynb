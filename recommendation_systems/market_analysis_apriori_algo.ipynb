{
 "cells": [
  {
   "cell_type": "markdown",
   "metadata": {},
   "source": [
    "[market basket notebook](https://github.com/amitkaps/machine-learning/blob/master/cf_mba/notebook/2.%20Market%20Basket%20Analysis.ipynb)\n",
    "\n",
    "[apriori explanation](https://www.slideshare.net/INSOFE/apriori-algorithm-36054672)"
   ]
  },
  {
   "cell_type": "markdown",
   "metadata": {},
   "source": [
    "### Market basket\n",
    "* basically affinity analysis\n",
    "* if you go to a market, you'd buy things together \n",
    "    * \"This information can then be used for purposes of cross-selling and up-selling, in addition to influencing sales promotions, loyalty programs, store design, and discount plans\"\n",
    "* the input dataset is much like word2vec\n",
    "    * e.g. u1 - [\"i1\", \"i2\"], u2 - [\"i1\", \"i2\", \"i3\"], u3 - [\"i3\"]"
   ]
  },
  {
   "cell_type": "markdown",
   "metadata": {},
   "source": [
    "### Apriori explanation\n",
    "* [for specific algorithm]( https://www.youtube.com/watch?v=C4buBGUohvQ)\n",
    "* [for implementation](https://github.com/asaini/Apriori/blob/master/apriori.py)\n",
    "* essentially a data-mining / counting based method \n",
    "* apriori property: any subset of frequent itemset must be frequent\n",
    "* e.g. [2, 3, 5] means [2,3], [2,5] and [3,5] are frequent as well"
   ]
  },
  {
   "cell_type": "markdown",
   "metadata": {},
   "source": [
    "### Market basket notebook example continued\n",
    "* runs Apriori to get sets of 3 items (thresholding on min_support, basically a % occurrence)\n",
    "* generates rules based on [association rule](https://en.wikipedia.org/wiki/Association_rule_learning)\n",
    "\n",
    "* |C1| = 170\n",
    "* |L1| = 88\n",
    "* |C2| = 3781\n",
    "* |L2| = 207\n",
    "* |C3| = 548\n",
    "* |L3| = 31 **see how the filtering works**\n",
    "\n",
    "### concepts:\n",
    "#### support\n",
    "* how frequently items appear together\n",
    "* $supp(X) = \\frac{|t  \\text{given} X \\in t|}{|T|}$\n",
    "#### confidence\n",
    "* Confidence is an indication of how often the rule has been found to be true.\n",
    "* $conf(X -> Y) = \\frac{supp(X + Y)}{supp(X)}$\n",
    "#### lift\n",
    "* the ratio of the observed support to that expected if X and Y were independent\n",
    "* $lift(X -> Y) = \\frac{supp(X + Y)}{supp(X) * supp(Y)}$\n",
    "#### conviction\n",
    "* see the association rule wiki page, too lazy atm"
   ]
  },
  {
   "cell_type": "markdown",
   "metadata": {},
   "source": [
    "### rule generation\n",
    "* e.g. {butter_milk} -> {whole_milk}, conf = 0.41, lift = 1.62, conv = 1.27\n",
    "* basically get sets, and filter based on min_val\n",
    "\n",
    "### summary\n",
    "* word2vec - P(w1 | w2)\n",
    "* apriori + association rule - {get important items, called frequent item set} --> {get sets with high cooccurence} \n",
    "\n",
    "* in essence...\n",
    "* w2v gets similar items; while apriori gets popular cooccurences amongst frequent itemset"
   ]
  },
  {
   "cell_type": "code",
   "execution_count": null,
   "metadata": {
    "collapsed": true
   },
   "outputs": [],
   "source": []
  }
 ],
 "metadata": {
  "kernelspec": {
   "display_name": "Python 2",
   "language": "python",
   "name": "python2"
  },
  "language_info": {
   "codemirror_mode": {
    "name": "ipython",
    "version": 2
   },
   "file_extension": ".py",
   "mimetype": "text/x-python",
   "name": "python",
   "nbconvert_exporter": "python",
   "pygments_lexer": "ipython2",
   "version": "2.7.12"
  }
 },
 "nbformat": 4,
 "nbformat_minor": 2
}
