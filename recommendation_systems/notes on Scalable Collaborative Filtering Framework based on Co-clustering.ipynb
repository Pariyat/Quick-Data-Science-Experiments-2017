{
 "cells": [
  {
   "cell_type": "markdown",
   "metadata": {},
   "source": [
    "[src](http://citeseerx.ist.psu.edu/viewdoc/download?doi=10.1.1.113.6458&rep=rep1&type=pdf)"
   ]
  },
  {
   "cell_type": "markdown",
   "metadata": {},
   "source": [
    "### Motivation\n",
    "* SVD and other CF methods are done offline\n",
    "* need a way to do things dynamically online\n",
    "\n",
    "* **weighted co-clustering algorithm that involves simultaneous clustering of users and items**\n",
    "* to simultaneously obtain user and item neighborhoods via coclustering and generate predictions based on the average ratings of the co-clusters (user-item neighborhoods) while taking into account the individual biases of the users and items"
   ]
  },
  {
   "cell_type": "markdown",
   "metadata": {},
   "source": [
    "### existing work\n",
    "* correlation methods: similarity metrics to find similar user / items e.g. cosine, pearson\n",
    "    * con: can't detect item synnomety\n",
    "* matrix fact\n",
    "* this paper is based on a special case of the weighted Bregman co-clustering algorithm\n",
    "    * the formulation of the co-clustering problem as a matrix approximation problem with non-uniform weights on the input matrix elements\n",
    "* paper vs correlation methods:\n",
    "    * similar: neighborhoods are employed for prediction\n",
    "    * different: both users and items are clustered so that item synonymy ceases to be a problem\n",
    "* paper vs matrix fact:\n",
    "    * similar: optimizes the approximation error of a low parameter reconstruction of the ratings matrix\n",
    "    * different: , the effects of changesin the ratings matrix are localized which makes it possible to have efficient incremental updates"
   ]
  },
  {
   "cell_type": "markdown",
   "metadata": {},
   "source": [
    "### prob formulation\n",
    "* $A_{ij}$ is the rating matrix, $W_{ij}$ is the confidence of the ratings in A\n",
    "* coclustering, let $\\rho \\{1 .. m\\} -> \\{1 .. k\\} $, $\\gamma \\{ 1 .. n \\} -> \\{ 1 .. l \\}$\n",
    "* naive prediction: the one where each missing rating is approximated by the average value in the corresponding co-cluster\n",
    "    * kl parameters\n",
    "* $\\hat{A}_{ij} = A_{gh}^{COC} + (A_i^R - A_g^{RC}) + (A_j^C - A_h^{CC})$\n",
    "    * $A_i^R, A_j^C$ are user and item averages\n",
    "* then poses coclustering problem via a minimization of the RSS of the loss \n",
    "    * $min_{\\rho, \\gamma} \\sum_i^m \\sum_j^n W_{ij} (A_{ij} - \\hat{A_{ij}})^2$\n",
    "* in a real time system, keep $\\rho, \\gamma$ fixed, and only update the weights"
   ]
  },
  {
   "cell_type": "markdown",
   "metadata": {},
   "source": [
    "### CF via CoClustering\n",
    "##### 3 main components\n",
    "* static training\n",
    "* predction\n",
    "* incremental training\n",
    "\n",
    "#### 1. Static training\n",
    "* sort of like EM, first update averages, then update clustering...\n",
    "* [read this when you have time](http://www.jmlr.org/papers/volume6/banerjee05b/banerjee05b.pdf)"
   ]
  },
  {
   "cell_type": "markdown",
   "metadata": {},
   "source": []
  },
  {
   "cell_type": "code",
   "execution_count": null,
   "metadata": {
    "collapsed": true
   },
   "outputs": [],
   "source": []
  }
 ],
 "metadata": {
  "kernelspec": {
   "display_name": "Python 2",
   "language": "python",
   "name": "python2"
  },
  "language_info": {
   "codemirror_mode": {
    "name": "ipython",
    "version": 2
   },
   "file_extension": ".py",
   "mimetype": "text/x-python",
   "name": "python",
   "nbconvert_exporter": "python",
   "pygments_lexer": "ipython2",
   "version": "2.7.12"
  }
 },
 "nbformat": 4,
 "nbformat_minor": 2
}
