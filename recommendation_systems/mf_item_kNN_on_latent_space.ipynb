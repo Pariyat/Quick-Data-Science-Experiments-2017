{
 "cells": [
  {
   "cell_type": "code",
   "execution_count": null,
   "metadata": {
    "collapsed": true
   },
   "outputs": [],
   "source": []
  },
  {
   "cell_type": "code",
   "execution_count": 18,
   "metadata": {
    "collapsed": true
   },
   "outputs": [],
   "source": [
    "%matplotlib inline\n",
    "from surprise import SVD, NMF\n",
    "from surprise import Dataset\n",
    "from surprise import evaluate, print_perf"
   ]
  },
  {
   "cell_type": "code",
   "execution_count": 2,
   "metadata": {
    "collapsed": true
   },
   "outputs": [],
   "source": [
    "data = Dataset.load_builtin('ml-100k')"
   ]
  },
  {
   "cell_type": "code",
   "execution_count": 19,
   "metadata": {
    "collapsed": false
   },
   "outputs": [
    {
     "name": "stdout",
     "output_type": "stream",
     "text": [
      "Evaluating RMSE, MAE of algorithm NMF.\n",
      "\n",
      "------------\n",
      "Fold 1\n",
      "RMSE: 0.9785\n",
      "MAE:  0.7685\n",
      "------------\n",
      "Fold 2\n",
      "RMSE: 0.9783\n",
      "MAE:  0.7685\n",
      "------------\n",
      "Fold 3\n",
      "RMSE: 0.9709\n",
      "MAE:  0.7627\n",
      "------------\n",
      "------------\n",
      "Mean RMSE: 0.9759\n",
      "Mean MAE : 0.7665\n",
      "------------\n",
      "------------\n"
     ]
    }
   ],
   "source": [
    "data.split(n_folds=3)\n",
    "algo = NMF() # choosing NMF to avoid the item and user constants\n",
    "perf = evaluate(algo, data, measures=['RMSE', 'MAE'])"
   ]
  },
  {
   "cell_type": "code",
   "execution_count": 20,
   "metadata": {
    "collapsed": false
   },
   "outputs": [
    {
     "name": "stdout",
     "output_type": "stream",
     "text": [
      "['__doc__', '__init__', '__module__', '__qualname__', 'bi', 'biased', 'bsl_options', 'bu', 'compute_baselines', 'compute_similarities', 'estimate', 'init_high', 'init_low', 'lr_bi', 'lr_bu', 'n_epochs', 'n_factors', 'predict', 'pu', 'qi', 'reg_bi', 'reg_bu', 'reg_pu', 'reg_qi', 'sgd', 'sim_options', 'test', 'train', 'trainset', 'verbose']\n"
     ]
    }
   ],
   "source": [
    "print dir(algo)"
   ]
  },
  {
   "cell_type": "code",
   "execution_count": 21,
   "metadata": {
    "collapsed": false
   },
   "outputs": [
    {
     "name": "stdout",
     "output_type": "stream",
     "text": [
      "(943, 15)\n",
      "(1621, 15)\n"
     ]
    }
   ],
   "source": [
    "# here are the embeddings, latent space is 100 \n",
    "print algo.pu.shape\n",
    "print algo.qi.shape"
   ]
  },
  {
   "cell_type": "code",
   "execution_count": 25,
   "metadata": {
    "collapsed": false
   },
   "outputs": [
    {
     "name": "stdout",
     "output_type": "stream",
     "text": [
      "[ 0.  0.  0. ...,  0.  0.  0.]\n"
     ]
    }
   ],
   "source": [
    "print algo.bi # see? these are 0"
   ]
  },
  {
   "cell_type": "code",
   "execution_count": 29,
   "metadata": {
    "collapsed": false
   },
   "outputs": [],
   "source": [
    "from sklearn.neighbors import NearestNeighbors\n",
    "\n",
    "knn = NearestNeighbors().fit(algo.qi)"
   ]
  },
  {
   "cell_type": "code",
   "execution_count": 31,
   "metadata": {
    "collapsed": false
   },
   "outputs": [
    {
     "name": "stderr",
     "output_type": "stream",
     "text": [
      "/Users/jason.xie/anaconda/lib/python2.7/site-packages/sklearn/utils/validation.py:395: DeprecationWarning: Passing 1d arrays as data is deprecated in 0.17 and will raise ValueError in 0.19. Reshape your data either using X.reshape(-1, 1) if your data has a single feature or X.reshape(1, -1) if it contains a single sample.\n",
      "  DeprecationWarning)\n"
     ]
    },
    {
     "data": {
      "text/plain": [
       "(array([[ 0.        ,  0.68334682,  0.7057187 ,  0.71108312,  0.73866049,\n",
       "          0.76997029,  0.77467778,  0.77644937,  0.78222856,  0.78389407,\n",
       "          0.79127346,  0.79383526,  0.79950855,  0.80043774,  0.80439798,\n",
       "          0.81578297,  0.81673221,  0.82012649,  0.82332016,  0.82361993,\n",
       "          0.82610259,  0.82841126,  0.83689283,  0.83703213,  0.8427349 ,\n",
       "          0.84336999,  0.85003409,  0.85174054,  0.85322114,  0.85332202,\n",
       "          0.86665847,  0.87172128,  0.87339457,  0.87340813,  0.87515729,\n",
       "          0.87849042,  0.87899556,  0.87919862,  0.88012548,  0.88041608,\n",
       "          0.882713  ,  0.88687175,  0.88701022,  0.88705498,  0.88981126,\n",
       "          0.89051063,  0.89140133,  0.8948215 ,  0.89915682,  0.90039313,\n",
       "          0.90545415,  0.90573273,  0.90942796,  0.91021296,  0.9125423 ,\n",
       "          0.91635383,  0.9164762 ,  0.91683516,  0.92529717,  0.92533198,\n",
       "          0.92588379,  0.9286023 ,  0.92946722,  0.93215291,  0.93638317,\n",
       "          0.93800074,  0.93899869,  0.94185152,  0.94193554,  0.94237591,\n",
       "          0.94473665,  0.94871923,  0.95026059,  0.95081337,  0.95144364,\n",
       "          0.95228255,  0.95292326,  0.95496171,  0.95647445,  0.95812056,\n",
       "          0.95945795,  0.96077484,  0.96116328,  0.96149331,  0.96173293,\n",
       "          0.96325261,  0.96388666,  0.96468137,  0.96529958,  0.96607357,\n",
       "          0.96630281,  0.96631426,  0.96829992,  0.96886587,  0.97033285,\n",
       "          0.97037833,  0.97141325,  0.97184008,  0.97213372,  0.97263099]]),\n",
       " array([[  13,  222,  504,  803, 1585,  527,   39, 1240,  903,  593,  976,\n",
       "           33,  204, 1521,  966, 1278, 1608,  219, 1503, 1516,  287,  667,\n",
       "         1464,  503, 1557, 1169,  609, 1601,   51,  542,   18,  530,   30,\n",
       "          193,  171,   86, 1504,  228,  479,  156,  393,  491,  440, 1378,\n",
       "          688,  383, 1190,  430, 1018,  152,  600,  283, 1085, 1191,  256,\n",
       "          209, 1377,  105,  939, 1296,  124,   62,  350,  765,  499, 1449,\n",
       "          488,  969,  167,  691,  716,  118,  861,    1, 1600,  413,  166,\n",
       "          990,  580,  183,  595,  498, 1214,  129,  533,  144, 1024,   37,\n",
       "          224,  220,  110,  191,  107, 1049,   71, 1562,  112, 1293,  512,\n",
       "          923]]))"
      ]
     },
     "execution_count": 31,
     "metadata": {},
     "output_type": "execute_result"
    }
   ],
   "source": [
    "knn.kneighbors(algo.qi[13], n_neighbors=100) \n",
    "# distances and indices "
   ]
  },
  {
   "cell_type": "code",
   "execution_count": null,
   "metadata": {
    "collapsed": true
   },
   "outputs": [],
   "source": []
  }
 ],
 "metadata": {
  "kernelspec": {
   "display_name": "Python 2",
   "language": "python",
   "name": "python2"
  },
  "language_info": {
   "codemirror_mode": {
    "name": "ipython",
    "version": 2
   },
   "file_extension": ".py",
   "mimetype": "text/x-python",
   "name": "python",
   "nbconvert_exporter": "python",
   "pygments_lexer": "ipython2",
   "version": "2.7.12"
  }
 },
 "nbformat": 4,
 "nbformat_minor": 2
}
