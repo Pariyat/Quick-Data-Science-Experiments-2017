{
 "cells": [
  {
   "cell_type": "markdown",
   "metadata": {},
   "source": [
    "[src](http://courses.ischool.berkeley.edu/i290-dm/s11/SECURE/p89-koren.pdf)"
   ]
  },
  {
   "cell_type": "markdown",
   "metadata": {},
   "source": []
  },
  {
   "cell_type": "markdown",
   "metadata": {},
   "source": [
    "### 4. Time Aware Factor Model\n",
    "\n",
    "#### Anatomy of a factor model\n",
    "* matrix factorization characterizes item and users into a joint latent factor space\n",
    "* ratings are modeled as inner space  or interactions between user and item latent spaces\n",
    "* svd matrix fact isnt' feasible because high portion of missing values, carelessly filling those values lead to easy overfitting\n",
    "* typically solves a regularized model via SGD\n",
    "* much of the observed ratings are due to facts specific to items or users, not their interaction, this is best modeld via a bias\n",
    "    * intuition is that some items are just perceived as better by everyone\n",
    "* encapsulate those effects, which do not involve user–item interaction, within the baseline predictors\n",
    "* $b_{ui} = \\mu + b_u + b_i$\n",
    "* $\\hat{r_{ui}} = \\mu + b_u + b_i + q_i^T p_u $\n",
    "* temporal aspects in separation:\n",
    "    * user biases change over time\n",
    "    * item biases change over time\n",
    "    * user preferences $p_u$ change over time\n",
    "    * NOTE: item preferences $q_i$ should prob not change over time\n",
    "\n",
    "#### time changing baseline predictors\n",
    "* $b_{ui} = \\mu + b_u (t_{ui}) + b_i (t_{ui})$\n",
    "* $b_u(\\dot)$ and $b_i(\\dot)$ are real valued functions that change over time\n",
    "* literally dividing everything into bins and taking the avg...\n",
    "* $b_i(t) = b_i + b_{i,bin(t)}$\n",
    "* the same thing can be done for user, but via a spline since user data is a lot more inconsistent\n",
    "\n",
    "#### time changing factor model\n",
    "* see eq.12 very (not) elegant\n",
    "\n",
    "#### results are marginal for the effort..."
   ]
  },
  {
   "cell_type": "markdown",
   "metadata": {},
   "source": [
    "### 5. Temporal Dynamics at Neighborhood Models\n",
    "\n"
   ]
  },
  {
   "cell_type": "markdown",
   "metadata": {},
   "source": []
  },
  {
   "cell_type": "code",
   "execution_count": null,
   "metadata": {
    "collapsed": true
   },
   "outputs": [],
   "source": []
  }
 ],
 "metadata": {
  "kernelspec": {
   "display_name": "Python 2",
   "language": "python",
   "name": "python2"
  },
  "language_info": {
   "codemirror_mode": {
    "name": "ipython",
    "version": 2
   },
   "file_extension": ".py",
   "mimetype": "text/x-python",
   "name": "python",
   "nbconvert_exporter": "python",
   "pygments_lexer": "ipython2",
   "version": "2.7.12"
  }
 },
 "nbformat": 4,
 "nbformat_minor": 2
}
